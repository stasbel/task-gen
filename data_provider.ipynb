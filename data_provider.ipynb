{
 "cells": [
  {
   "cell_type": "markdown",
   "metadata": {},
   "source": [
    "# Data provider"
   ]
  },
  {
   "cell_type": "markdown",
   "metadata": {},
   "source": [
    "## Init"
   ]
  },
  {
   "cell_type": "code",
   "execution_count": 1,
   "metadata": {},
   "outputs": [],
   "source": [
    "%reload_ext autoreload\n",
    "%autoreload 2"
   ]
  },
  {
   "cell_type": "code",
   "execution_count": 8,
   "metadata": {},
   "outputs": [],
   "source": [
    "import pandas as pd\n",
    "import seaborn as sns\n",
    "\n",
    "from utils import examine_df\n",
    "from sklearn.datasets.lfw import Bunch"
   ]
  },
  {
   "cell_type": "code",
   "execution_count": 9,
   "metadata": {},
   "outputs": [],
   "source": [
    "%matplotlib inline\n",
    "sns.set_style('darkgrid')"
   ]
  },
  {
   "cell_type": "code",
   "execution_count": 3,
   "metadata": {},
   "outputs": [],
   "source": [
    "args = Bunch()"
   ]
  },
  {
   "cell_type": "markdown",
   "metadata": {},
   "source": [
    "## Main"
   ]
  },
  {
   "cell_type": "code",
   "execution_count": 6,
   "metadata": {},
   "outputs": [
    {
     "name": "stdout",
     "output_type": "stream",
     "text": [
      "shape=(892713, 4)\n"
     ]
    },
    {
     "data": {
      "text/html": [
       "<div>\n",
       "<style scoped>\n",
       "    .dataframe tbody tr th:only-of-type {\n",
       "        vertical-align: middle;\n",
       "    }\n",
       "\n",
       "    .dataframe tbody tr th {\n",
       "        vertical-align: top;\n",
       "    }\n",
       "\n",
       "    .dataframe thead tr th {\n",
       "        text-align: left;\n",
       "    }\n",
       "</style>\n",
       "<table border=\"1\" class=\"dataframe\">\n",
       "  <thead>\n",
       "    <tr>\n",
       "      <th></th>\n",
       "      <th>name</th>\n",
       "      <th>text</th>\n",
       "      <th>tags</th>\n",
       "      <th>stags</th>\n",
       "      <th>source</th>\n",
       "    </tr>\n",
       "    <tr>\n",
       "      <th></th>\n",
       "      <th>pos</th>\n",
       "      <th>0</th>\n",
       "      <th>1</th>\n",
       "      <th>2</th>\n",
       "      <th>3</th>\n",
       "    </tr>\n",
       "  </thead>\n",
       "  <tbody>\n",
       "    <tr>\n",
       "      <th rowspan=\"5\" valign=\"top\">head</th>\n",
       "      <th>0</th>\n",
       "      <td>python forloop accessing GPIO pins DCNL I'm ne...</td>\n",
       "      <td>gpio python raspbian</td>\n",
       "      <td>code</td>\n",
       "      <td>stackoverflow</td>\n",
       "    </tr>\n",
       "    <tr>\n",
       "      <th>1</th>\n",
       "      <td>Configure the twisted mainloop to be run insid...</td>\n",
       "      <td>NaN</td>\n",
       "      <td></td>\n",
       "      <td>docstring</td>\n",
       "    </tr>\n",
       "    <tr>\n",
       "      <th>2</th>\n",
       "      <td>Analyzes the context that a completion is made...</td>\n",
       "      <td>NaN</td>\n",
       "      <td></td>\n",
       "      <td>docstring</td>\n",
       "    </tr>\n",
       "    <tr>\n",
       "      <th>3</th>\n",
       "      <td>Remember a single drawable tuple to paint later.</td>\n",
       "      <td>NaN</td>\n",
       "      <td></td>\n",
       "      <td>docstring</td>\n",
       "    </tr>\n",
       "    <tr>\n",
       "      <th>4</th>\n",
       "      <td>Using Scipy.optimize method='SLSQP' returns in...</td>\n",
       "      <td>numpy optimization python scipy</td>\n",
       "      <td></td>\n",
       "      <td>stackoverflow</td>\n",
       "    </tr>\n",
       "    <tr>\n",
       "      <th rowspan=\"5\" valign=\"top\">tail</th>\n",
       "      <th>892708</th>\n",
       "      <td>Regular expression forums in python with examp...</td>\n",
       "      <td>forums python regex</td>\n",
       "      <td>regular-expressions</td>\n",
       "      <td>stackoverflow</td>\n",
       "    </tr>\n",
       "    <tr>\n",
       "      <th>892709</th>\n",
       "      <td>KNN with TF-IDF Throwing \"Reshape your data\" W...</td>\n",
       "      <td>knn python</td>\n",
       "      <td>following-error</td>\n",
       "      <td>stackoverflow</td>\n",
       "    </tr>\n",
       "    <tr>\n",
       "      <th>892710</th>\n",
       "      <td>Legacy initialization method. DCNL Parameters ...</td>\n",
       "      <td>NaN</td>\n",
       "      <td></td>\n",
       "      <td>docstring</td>\n",
       "    </tr>\n",
       "    <tr>\n",
       "      <th>892711</th>\n",
       "      <td>Display Base Layers folder in the Map\\'s Layer...</td>\n",
       "      <td>NaN</td>\n",
       "      <td></td>\n",
       "      <td>docstring</td>\n",
       "    </tr>\n",
       "    <tr>\n",
       "      <th>892712</th>\n",
       "      <td>SQLAlchemy query filter behavior confusing in ...</td>\n",
       "      <td>mysql python sqlalchemy</td>\n",
       "      <td>query</td>\n",
       "      <td>stackoverflow</td>\n",
       "    </tr>\n",
       "    <tr>\n",
       "      <th rowspan=\"2\" valign=\"top\">meta</th>\n",
       "      <th>type</th>\n",
       "      <td>object</td>\n",
       "      <td>object</td>\n",
       "      <td>object</td>\n",
       "      <td>object</td>\n",
       "    </tr>\n",
       "    <tr>\n",
       "      <th>has_null</th>\n",
       "      <td>False</td>\n",
       "      <td>False</td>\n",
       "      <td>False</td>\n",
       "      <td>False</td>\n",
       "    </tr>\n",
       "    <tr>\n",
       "      <th rowspan=\"4\" valign=\"top\">math</th>\n",
       "      <th>count</th>\n",
       "      <td>892713</td>\n",
       "      <td>892713</td>\n",
       "      <td>892713</td>\n",
       "      <td>892713</td>\n",
       "    </tr>\n",
       "    <tr>\n",
       "      <th>unique</th>\n",
       "      <td>892699</td>\n",
       "      <td>134098</td>\n",
       "      <td>196178</td>\n",
       "      <td>3</td>\n",
       "    </tr>\n",
       "    <tr>\n",
       "      <th>top</th>\n",
       "      <td>KBEngine method. DCNL globalData NASC</td>\n",
       "      <td>NaN</td>\n",
       "      <td></td>\n",
       "      <td>stackoverflow</td>\n",
       "    </tr>\n",
       "    <tr>\n",
       "      <th>freq</th>\n",
       "      <td>4</td>\n",
       "      <td>308573</td>\n",
       "      <td>362515</td>\n",
       "      <td>584137</td>\n",
       "    </tr>\n",
       "  </tbody>\n",
       "</table>\n",
       "</div>"
      ],
      "text/plain": [
       "name                                                        text  \\\n",
       "pos                                                            0   \n",
       "head 0         python forloop accessing GPIO pins DCNL I'm ne...   \n",
       "     1         Configure the twisted mainloop to be run insid...   \n",
       "     2         Analyzes the context that a completion is made...   \n",
       "     3          Remember a single drawable tuple to paint later.   \n",
       "     4         Using Scipy.optimize method='SLSQP' returns in...   \n",
       "tail 892708    Regular expression forums in python with examp...   \n",
       "     892709    KNN with TF-IDF Throwing \"Reshape your data\" W...   \n",
       "     892710    Legacy initialization method. DCNL Parameters ...   \n",
       "     892711    Display Base Layers folder in the Map\\'s Layer...   \n",
       "     892712    SQLAlchemy query filter behavior confusing in ...   \n",
       "meta type                                                 object   \n",
       "     has_null                                              False   \n",
       "math count                                                892713   \n",
       "     unique                                               892699   \n",
       "     top                   KBEngine method. DCNL globalData NASC   \n",
       "     freq                                                      4   \n",
       "\n",
       "name                                      tags                stags  \\\n",
       "pos                                          1                    2   \n",
       "head 0                    gpio python raspbian                 code   \n",
       "     1                                     NaN                        \n",
       "     2                                     NaN                        \n",
       "     3                                     NaN                        \n",
       "     4         numpy optimization python scipy                        \n",
       "tail 892708                forums python regex  regular-expressions   \n",
       "     892709                         knn python      following-error   \n",
       "     892710                                NaN                        \n",
       "     892711                                NaN                        \n",
       "     892712            mysql python sqlalchemy                query   \n",
       "meta type                               object               object   \n",
       "     has_null                            False                False   \n",
       "math count                              892713               892713   \n",
       "     unique                             134098               196178   \n",
       "     top                                   NaN                        \n",
       "     freq                               308573               362515   \n",
       "\n",
       "name                  source  \n",
       "pos                        3  \n",
       "head 0         stackoverflow  \n",
       "     1             docstring  \n",
       "     2             docstring  \n",
       "     3             docstring  \n",
       "     4         stackoverflow  \n",
       "tail 892708    stackoverflow  \n",
       "     892709    stackoverflow  \n",
       "     892710        docstring  \n",
       "     892711        docstring  \n",
       "     892712    stackoverflow  \n",
       "meta type             object  \n",
       "     has_null          False  \n",
       "math count            892713  \n",
       "     unique                3  \n",
       "     top       stackoverflow  \n",
       "     freq             584137  "
      ]
     },
     "metadata": {},
     "output_type": "display_data"
    }
   ],
   "source": [
    "df = pd.read_hdf('data-nbs/data.hdf5.zip')\n",
    "examine_df(df)"
   ]
  },
  {
   "cell_type": "code",
   "execution_count": 33,
   "metadata": {},
   "outputs": [
    {
     "data": {
      "image/png": "[encoded data removed]",
      "text/plain": [
       "<matplotlib.figure.Figure at 0x2b219a43aac8>"
      ]
     },
     "metadata": {},
     "output_type": "display_data"
    }
   ],
   "source": [
    "df.stags.map(len).hist(bins=10);"
   ]
  },
  {
   "cell_type": "code",
   "execution_count": 25,
   "metadata": {},
   "outputs": [
    {
     "data": {
      "image/png": "[encoded data removed]",
      "text/plain": [
       "<matplotlib.figure.Figure at 0x2b21972ea240>"
      ]
     },
     "metadata": {},
     "output_type": "display_data"
    }
   ],
   "source": [
    "df.text.map(len).hist(bins=150, figsize=(17, 7));"
   ]
  },
  {
   "cell_type": "code",
   "execution_count": 42,
   "metadata": {},
   "outputs": [
    {
     "data": {
      "text/plain": [
       "\"Matplotlib create surface plot (x,y,z,color) given csv data - getting wrong colors DCNL How can I read in four columns of data to create a surface plot which is colored by the fourth variable? In my case, the data was generated using four nested for loops, so the rightmost columns change most frequently while the leftmost columns change least frequently. DCNL Here is what I've tried so far. It is creating a solid colored graph but the coloring is wrong. DCNL CODE DCNL (coloring is wrong, should be the same as elevation value with continuous gradient)\""
      ]
     },
     "execution_count": 42,
     "metadata": {},
     "output_type": "execute_result"
    }
   ],
   "source": [
    "df.text.sample().iloc[0]"
   ]
  },
  {
   "cell_type": "code",
   "execution_count": 29,
   "metadata": {},
   "outputs": [
    {
     "data": {
      "text/plain": [
       "'How do I force a namespace prefix on an attibute in a SOAP request created using suds DCNL I am using python suds (version: 0.3.9 GA build: R659-20100219) to interact with a SOAP service with the following structure: DCNL Service ( DPWSService ) tns=\"http://ejb.revitalization.services.ndg/\" DCNL Prefixes (1) DCNL ns0 = \"http://ejb.revitalization.services.ndg/\" DCNL Ports (1): DCNL (DPWSPort) DCNL Methods (13): DCNL addTimer(request request, ) DCNL deleteProvider(request request, ) DCNL deleteTimer(request request, ) DCNL doHarvest(request request, ) DCNL doIngest(request request, ) DCNL doNewUpdateProvider(request request, ) DCNL getHarvestHistory(GetHistoryRequest request, ) DCNL getIngestHistory(GetHistoryRequest request, ) DCNL getList(GetListType request, ) DCNL getListNames() DCNL getProviderDetails(request request, ) DCNL getProviderStatistic(request request, ) DCNL getStatusProcess(request request, ) DCNL Types (63): DCNL AddTimerResponse DCNL CSWProviderDetailsType DCNL ConfirmationType DCNL ContactType DCNL DataRangeType DCNL DeleteProviderResponse DCNL DeleteTimerResponse DCNL DoHarvestResponse DCNL DoIngestResponse DCNL DoNewUpdateProviderResponse DCNL EmailContactType DCNL GetHarvestHistoryResponse DCNL GetHistoryRequest DCNL GetIngestHistoryResponse DCNL GetListNamesResponse DCNL GetListResponse DCNL GetListType DCNL GetProcessStatusResponse DCNL GetProviderDetailsResponse DCNL GetProviderStatisticResponse DCNL HarvestHistoryType DCNL HarvestProviderType DCNL HarvestType DCNL IngestHistoryType DCNL ListNames DCNL OAIProviderDetailsType DCNL ProcessIDType DCNL ProviderCommonType DCNL ProviderContactType DCNL ProviderDetail DCNL ProviderDetailsType DCNL ProviderIDType DCNL ProviderStatistic DCNL ResponseType DCNL TimerInfoCommonType DCNL TimerInfoDetail DCNL TimerInfoLogDetail DCNL addTimer DCNL addTimerResponse DCNL deleteProvider DCNL deleteProviderResponse DCNL deleteTimer DCNL deleteTimerResponse DCNL doHarvest DCNL doHarvestResponse DCNL doIngest DCNL doIngestResponse DCNL doNewUpdateProvider DCNL doNewUpdateProviderResponse DCNL getHarvestHistory DCNL getHarvestHistoryResponse DCNL getIngestHistory DCNL getIngestHistoryResponse DCNL getList DCNL getListNames DCNL getListNamesResponse DCNL getListResponse DCNL getProviderDetails DCNL getProviderDetailsResponse DCNL getProviderStatistic DCNL getProviderStatisticResponse DCNL getStatusProcess DCNL getStatusProcessResponse DCNL I need to send a SOAP request with a structure like below: DCNL CODE DCNL That is, I need to append the target namespace in front of the id attribute. If I don\\'t the request fails :( DCNL I have tried several ways to create my doIngest request object, but I can only create a request like below: DCNL CODE DCNL That is, without the target namespace prefix on the id attribute. DCNL I have tried variants of: DCNL CODE DCNL and: DCNL CODE DCNL and: DCNL CODE DCNL but I get the same SOAP request DCNL The WSDL tells me: DCNL CODE DCNL and DCNL CODE DCNL which shows that the id does want the namespace prefix. DCNL The question is therefore, how do I force the namespace prefix onto my id attibute? DCNL Thanks to Gandi DCNL Solution was therefore: DCNL Update Suds to 0.4 (as MessagePlugin was not available in version: 0.3.9) DCNL then: DCNL CODE'"
      ]
     },
     "execution_count": 29,
     "metadata": {},
     "output_type": "execute_result"
    }
   ],
   "source": [
    "str(df.text[df.text.map(len).max() == df.text.map(len)].iloc[0])"
   ]
  },
  {
   "cell_type": "code",
   "execution_count": 17,
   "metadata": {},
   "outputs": [
    {
     "data": {
      "text/plain": [
       "False"
      ]
     },
     "execution_count": 17,
     "metadata": {},
     "output_type": "execute_result"
    }
   ],
   "source": [
    "(df.text.map(len) == 24).any()"
   ]
  },
  {
   "cell_type": "code",
   "execution_count": 1,
   "metadata": {},
   "outputs": [],
   "source": [
    "class DataProvider:\n",
    "    pass"
   ]
  }
 ],
 "metadata": {
  "kernelspec": {
   "display_name": "Python 3",
   "language": "python",
   "name": "python3"
  },
  "language_info": {
   "codemirror_mode": {
    "name": "ipython",
    "version": 3
   },
   "file_extension": ".py",
   "mimetype": "text/x-python",
   "name": "python",
   "nbconvert_exporter": "python",
   "pygments_lexer": "ipython3",
   "version": "3.6.4"
  }
 },
 "nbformat": 4,
 "nbformat_minor": 2
}
