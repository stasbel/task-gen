{
 "cells": [
  {
   "cell_type": "markdown",
   "metadata": {},
   "source": [
    "# Char-RNN"
   ]
  },
  {
   "cell_type": "code",
   "execution_count": 28,
   "metadata": {},
   "outputs": [],
   "source": [
    "import random\n",
    "\n",
    "from itertools import chain\n",
    "from keras.models import Sequential\n",
    "from keras.layers import LSTM, CuDNNLSTM\n",
    "from keras.preprocessing.text import text_to_word_sequence, one_hot"
   ]
  },
  {
   "cell_type": "markdown",
   "metadata": {},
   "source": [
    "## Args"
   ]
  },
  {
   "cell_type": "code",
   "execution_count": 30,
   "metadata": {},
   "outputs": [],
   "source": [
    "GPU_ACTIVE = False"
   ]
  },
  {
   "cell_type": "markdown",
   "metadata": {},
   "source": [
    "## Load"
   ]
  },
  {
   "cell_type": "code",
   "execution_count": 17,
   "metadata": {},
   "outputs": [
    {
     "data": {
      "text/plain": [
       "171161"
      ]
     },
     "execution_count": 17,
     "metadata": {},
     "output_type": "execute_result"
    }
   ],
   "source": [
    "%store -r descs\n",
    "len(descs)"
   ]
  },
  {
   "cell_type": "code",
   "execution_count": 18,
   "metadata": {},
   "outputs": [
    {
     "data": {
      "text/plain": [
       "['Get the options for a plugin. DCNL IMPORTANT NOTE: This method only returns the options for a plugin DCNL that was previously configured using set_plugin_options. If you want DCNL to get the default options for a plugin, get a plugin instance and DCNL perform a plugin.get_options() DCNL :return: An OptionList with the plugin options.',\n",
       " 'Merge this guy with another SimAbstractMemory instance',\n",
       " 'Computes the mean squared error. DCNL This function computes the mean squared error between two lists DCNL of numbers. DCNL Parameters DCNL actual : list of numbers, numpy array DCNL The ground truth value DCNL predicted : same type as actual DCNL The predicted value DCNL Returns DCNL score : double DCNL The mean squared error between actual and predicted',\n",
       " 'Get standard_stats: only for displayed processes. DCNL Stats grabbed inside this method: DCNL * nice and memory_info',\n",
       " 'If a specific interface is passed into DCNL L{SSHProtocolChecker.registerChecker}, that interface should be DCNL registered instead of what the checker specifies in DCNL credentialIntefaces.',\n",
       " 'simulate standard garch DCNL scale : float DCNL scale/standard deviation of innovation process in GARCH process',\n",
       " 'True if this class is actually needed. If false, then the output DCNL stream will not be affected, nor will win32 calls be issued, so DCNL wrapping stdout is not actually required. This will generally be DCNL False on non-Windows platforms, unless optional functionality like DCNL autoreset has been requested using kwargs to init()',\n",
       " 'get the alerts to display on the order form',\n",
       " 'Obfuscate the logical volume. DCNL :param path: logical volume path',\n",
       " 'Retrieve the output of a SQL query characted by character taking DCNL advantage of an blind SQL injection vulnerability on the affected DCNL parameter through a bisection algorithm.']"
      ]
     },
     "execution_count": 18,
     "metadata": {},
     "output_type": "execute_result"
    }
   ],
   "source": [
    "random.sample(descs, 10)"
   ]
  },
  {
   "cell_type": "code",
   "execution_count": 22,
   "metadata": {},
   "outputs": [],
   "source": [
    "SEQ_LEN = max(len(desc) for desc in descs)"
   ]
  },
  {
   "cell_type": "markdown",
   "metadata": {},
   "source": [
    "## Preprocessing"
   ]
  },
  {
   "cell_type": "code",
   "execution_count": 19,
   "metadata": {},
   "outputs": [],
   "source": [
    "def chars_split(descs):\n",
    "    chars = list(set(chain.from_iterable(desc for desc in descs)))\n",
    "    char_ix = {char:ix for ix, char in enumerate(chars)}\n",
    "    ix_char = {ix:char for ix, char in enumerate(chars)}\n",
    "    descs = [[char_ix[char] for char in desc] for desc in descs]\n",
    "    return descs, char_ix, ix_char"
   ]
  },
  {
   "cell_type": "code",
   "execution_count": 20,
   "metadata": {},
   "outputs": [
    {
     "name": "stdout",
     "output_type": "stream",
     "text": [
      "CPU times: user 1.94 s, sys: 12 ms, total: 1.95 s\n",
      "Wall time: 1.96 s\n"
     ]
    }
   ],
   "source": [
    "%time descs, dir_map, rev_map = chars_split(descs)"
   ]
  },
  {
   "cell_type": "markdown",
   "metadata": {},
   "source": [
    "## TT prepare"
   ]
  },
  {
   "cell_type": "code",
   "execution_count": null,
   "metadata": {},
   "outputs": [],
   "source": []
  },
  {
   "cell_type": "markdown",
   "metadata": {},
   "source": [
    "## Model"
   ]
  },
  {
   "cell_type": "code",
   "execution_count": 31,
   "metadata": {},
   "outputs": [],
   "source": [
    "HIDDEN_DIM = 300\n",
    "LSTM_CLASS = LSTM if not GPU_ACTIVE else CuDNNLSTM"
   ]
  },
  {
   "cell_type": "code",
   "execution_count": 24,
   "metadata": {},
   "outputs": [],
   "source": [
    "model = Sequential()"
   ]
  },
  {
   "cell_type": "code",
   "execution_count": null,
   "metadata": {},
   "outputs": [],
   "source": [
    "model.add(LSTM_CLASS(HIDDEN_DIM, return_sequences=True))"
   ]
  }
 ],
 "metadata": {
  "kernelspec": {
   "display_name": "Python 3",
   "language": "python",
   "name": "python3"
  },
  "language_info": {
   "codemirror_mode": {
    "name": "ipython",
    "version": 3
   },
   "file_extension": ".py",
   "mimetype": "text/x-python",
   "name": "python",
   "nbconvert_exporter": "python",
   "pygments_lexer": "ipython3",
   "version": "3.6.4"
  }
 },
 "nbformat": 4,
 "nbformat_minor": 2
}
