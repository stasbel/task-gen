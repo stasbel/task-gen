{
 "cells": [
  {
   "cell_type": "markdown",
   "metadata": {},
   "source": [
    "# Char-RNN"
   ]
  },
  {
   "cell_type": "code",
   "execution_count": 1,
   "metadata": {},
   "outputs": [
    {
     "name": "stderr",
     "output_type": "stream",
     "text": [
      "Using TensorFlow backend.\n"
     ]
    }
   ],
   "source": [
    "from itertools import chain\n",
    "from keras.models import Sequential"
   ]
  },
  {
   "cell_type": "markdown",
   "metadata": {},
   "source": [
    "## Load"
   ]
  },
  {
   "cell_type": "code",
   "execution_count": 2,
   "metadata": {},
   "outputs": [
    {
     "data": {
      "text/plain": [
       "171146"
      ]
     },
     "execution_count": 2,
     "metadata": {},
     "output_type": "execute_result"
    }
   ],
   "source": [
    "%store -r descs\n",
    "len(descs)"
   ]
  },
  {
   "cell_type": "markdown",
   "metadata": {},
   "source": [
    "## Preprocessing"
   ]
  },
  {
   "cell_type": "code",
   "execution_count": 12,
   "metadata": {},
   "outputs": [
    {
     "name": "stdout",
     "output_type": "stream",
     "text": [
      "CPU times: user 280 ms, sys: 0 ns, total: 280 ms\n",
      "Wall time: 278 ms\n"
     ]
    },
    {
     "data": {
      "text/plain": [
       "97"
      ]
     },
     "execution_count": 12,
     "metadata": {},
     "output_type": "execute_result"
    }
   ],
   "source": [
    "%time chars = list(set(chain.from_iterable(desc for desc in descs)))\n",
    "len(chars)"
   ]
  },
  {
   "cell_type": "code",
   "execution_count": 15,
   "metadata": {},
   "outputs": [
    {
     "data": {
      "text/plain": [
       "7"
      ]
     },
     "execution_count": 15,
     "metadata": {},
     "output_type": "execute_result"
    }
   ],
   "source": [
    "ord('\\x07')"
   ]
  },
  {
   "cell_type": "code",
   "execution_count": 33,
   "metadata": {},
   "outputs": [
    {
     "data": {
      "text/plain": [
       "'\\x1f'"
      ]
     },
     "execution_count": 33,
     "metadata": {},
     "output_type": "execute_result"
    }
   ],
   "source": [
    "chr(31)"
   ]
  },
  {
   "cell_type": "code",
   "execution_count": 36,
   "metadata": {},
   "outputs": [
    {
     "data": {
      "text/plain": [
       "'\\x1f'"
      ]
     },
     "execution_count": 36,
     "metadata": {},
     "output_type": "execute_result"
    }
   ],
   "source": [
    "chr(31)"
   ]
  },
  {
   "cell_type": "code",
   "execution_count": 35,
   "metadata": {},
   "outputs": [
    {
     "name": "stdout",
     "output_type": "stream",
     "text": [
      "'\\x00'\n",
      "'\\x01'\n",
      "'\\x02'\n",
      "'\\x03'\n",
      "'\\x04'\n",
      "'\\x05'\n",
      "'\\x06'\n",
      "'\\x07'\n",
      "'\\x08'\n",
      "'\\t'\n",
      "'\\n'\n",
      "'\\x0b'\n",
      "'\\x0c'\n",
      "'\\r'\n",
      "'\\x0e'\n",
      "'\\x0f'\n",
      "'\\x10'\n",
      "'\\x11'\n",
      "'\\x12'\n",
      "'\\x13'\n",
      "'\\x14'\n",
      "'\\x15'\n",
      "'\\x16'\n",
      "'\\x17'\n",
      "'\\x18'\n",
      "'\\x19'\n",
      "'\\x1a'\n",
      "'\\x1b'\n",
      "'\\x1c'\n",
      "'\\x1d'\n",
      "'\\x1e'\n",
      "'\\x1f'\n"
     ]
    }
   ],
   "source": [
    "for i in range(32):\n",
    "    print(repr(chr(i)))"
   ]
  },
  {
   "cell_type": "code",
   "execution_count": 13,
   "metadata": {},
   "outputs": [
    {
     "data": {
      "text/plain": [
       "['\\x00',\n",
       " 'w',\n",
       " '>',\n",
       " '_',\n",
       " '=',\n",
       " 'P',\n",
       " ']',\n",
       " '!',\n",
       " 'A',\n",
       " 'E',\n",
       " 'm',\n",
       " 'u',\n",
       " 'e',\n",
       " 'W',\n",
       " 'Y',\n",
       " '+',\n",
       " '9',\n",
       " 'J',\n",
       " 'o',\n",
       " 'C',\n",
       " '&',\n",
       " '5',\n",
       " '6',\n",
       " '(',\n",
       " 'O',\n",
       " '?',\n",
       " 'Q',\n",
       " 'N',\n",
       " 'c',\n",
       " 'G',\n",
       " 'D',\n",
       " 'X',\n",
       " '.',\n",
       " '{',\n",
       " 't',\n",
       " '\"',\n",
       " '1',\n",
       " 'H',\n",
       " '/',\n",
       " '-',\n",
       " 'V',\n",
       " 'k',\n",
       " 'h',\n",
       " '`',\n",
       " 'F',\n",
       " '#',\n",
       " 'x',\n",
       " '}',\n",
       " 'g',\n",
       " '|',\n",
       " 'S',\n",
       " '\\\\',\n",
       " '7',\n",
       " '@',\n",
       " 'v',\n",
       " '3',\n",
       " 'i',\n",
       " \"'\",\n",
       " 'd',\n",
       " '\\x07',\n",
       " '$',\n",
       " 'I',\n",
       " 'K',\n",
       " '8',\n",
       " '~',\n",
       " ':',\n",
       " '4',\n",
       " 'y',\n",
       " '0',\n",
       " 'B',\n",
       " 'a',\n",
       " 'f',\n",
       " ';',\n",
       " '[',\n",
       " 'n',\n",
       " '<',\n",
       " 'T',\n",
       " 's',\n",
       " ')',\n",
       " '*',\n",
       " 'b',\n",
       " 'z',\n",
       " 'r',\n",
       " 'q',\n",
       " 'R',\n",
       " 'U',\n",
       " 'j',\n",
       " 'p',\n",
       " '%',\n",
       " 'l',\n",
       " '^',\n",
       " '2',\n",
       " 'Z',\n",
       " ',',\n",
       " ' ',\n",
       " 'M',\n",
       " 'L']"
      ]
     },
     "execution_count": 13,
     "metadata": {},
     "output_type": "execute_result"
    }
   ],
   "source": [
    "chars"
   ]
  }
 ],
 "metadata": {
  "kernelspec": {
   "display_name": "Python 3",
   "language": "python",
   "name": "python3"
  },
  "language_info": {
   "codemirror_mode": {
    "name": "ipython",
    "version": 3
   },
   "file_extension": ".py",
   "mimetype": "text/x-python",
   "name": "python",
   "nbconvert_exporter": "python",
   "pygments_lexer": "ipython3",
   "version": "3.6.4"
  }
 },
 "nbformat": 4,
 "nbformat_minor": 2
}
