{
 "cells": [
  {
   "cell_type": "markdown",
   "metadata": {
    "colab_type": "text",
    "id": "StFeX-C27qrf"
   },
   "source": [
    "# Char-RNN\n",
    "\n",
    "Plz, refer to https://github.com/keras-team/keras/blob/master/examples/lstm_text_generation.py"
   ]
  },
  {
   "cell_type": "code",
   "execution_count": 0,
   "metadata": {
    "colab": {
     "autoexec": {
      "startup": false,
      "wait_interval": 0
     }
    },
    "colab_type": "code",
    "id": "g1ta_Pic7qrh"
   },
   "outputs": [],
   "source": [
    "%matplotlib inline\n",
    "\n",
    "import os\n",
    "import sys\n",
    "import random\n",
    "import numpy as np\n",
    "\n",
    "from itertools import chain\n",
    "from IPython.display import SVG\n",
    "from hyperdash import Experiment\n",
    "from contextlib import redirect_stdout, redirect_stderr"
   ]
  },
  {
   "cell_type": "code",
   "execution_count": 3,
   "metadata": {
    "colab": {
     "autoexec": {
      "startup": false,
      "wait_interval": 0
     },
     "base_uri": "https://localhost:8080/",
     "height": 34,
     "output_extras": [
      {
       "item_id": 1
      }
     ]
    },
    "colab_type": "code",
    "executionInfo": {
     "elapsed": 1582,
     "status": "ok",
     "timestamp": 1521462256562,
     "user": {
      "displayName": "Станислав Беляев",
      "photoUrl": "//lh6.googleusercontent.com/-IMqslmfxonk/AAAAAAAAAAI/AAAAAAAAAjc/2Qb3VobqpFY/s50-c-k-no/photo.jpg",
      "userId": "113506133464622129087"
     },
     "user_tz": -180
    },
    "id": "MIV9nKV17qrk",
    "outputId": "28f65c60-1e90-41b2-ea67-15d5cf0f4ce2"
   },
   "outputs": [
    {
     "name": "stderr",
     "output_type": "stream",
     "text": [
      "Using TensorFlow backend.\n"
     ]
    }
   ],
   "source": [
    "from keras.utils.vis_utils import model_to_dot\n",
    "from keras.models import Sequential, load_model\n",
    "from keras.callbacks import Callback, ModelCheckpoint\n",
    "from keras.preprocessing.sequence import pad_sequences\n",
    "from keras.preprocessing.text import text_to_word_sequence, one_hot\n",
    "from keras.utils import to_categorical, print_summary, plot_model, Sequence\n",
    "from keras.layers import LSTM, CuDNNLSTM, Dense, TimeDistributed, Activation, GRU"
   ]
  },
  {
   "cell_type": "markdown",
   "metadata": {
    "colab_type": "text",
    "id": "VwNy17ak7qrr"
   },
   "source": [
    "## Args"
   ]
  },
  {
   "cell_type": "code",
   "execution_count": 0,
   "metadata": {
    "colab": {
     "autoexec": {
      "startup": false,
      "wait_interval": 0
     }
    },
    "colab_type": "code",
    "id": "QmSURpz_7qrr"
   },
   "outputs": [],
   "source": [
    "GPU_ACTIVE = True"
   ]
  },
  {
   "cell_type": "markdown",
   "metadata": {
    "colab_type": "text",
    "id": "CiLJavGz7qrt"
   },
   "source": [
    "## Load"
   ]
  },
  {
   "cell_type": "code",
   "execution_count": 5,
   "metadata": {
    "colab": {
     "autoexec": {
      "startup": false,
      "wait_interval": 0
     },
     "base_uri": "https://localhost:8080/",
     "height": 34,
     "output_extras": [
      {
       "item_id": 1
      }
     ]
    },
    "colab_type": "code",
    "executionInfo": {
     "elapsed": 528,
     "status": "ok",
     "timestamp": 1521462258176,
     "user": {
      "displayName": "Станислав Беляев",
      "photoUrl": "//lh6.googleusercontent.com/-IMqslmfxonk/AAAAAAAAAAI/AAAAAAAAAjc/2Qb3VobqpFY/s50-c-k-no/photo.jpg",
      "userId": "113506133464622129087"
     },
     "user_tz": -180
    },
    "id": "PyDBziks7qru",
    "outputId": "665ed880-a7f7-4f2d-9b8a-a7544441e52c"
   },
   "outputs": [
    {
     "data": {
      "text/plain": [
       "171127"
      ]
     },
     "execution_count": 5,
     "metadata": {
      "tags": []
     },
     "output_type": "execute_result"
    }
   ],
   "source": [
    "%store -r descs\n",
    "# descs = edescs\n",
    "len(descs)"
   ]
  },
  {
   "cell_type": "code",
   "execution_count": 6,
   "metadata": {
    "colab": {
     "autoexec": {
      "startup": false,
      "wait_interval": 0
     },
     "base_uri": "https://localhost:8080/",
     "height": 207,
     "output_extras": [
      {
       "item_id": 1
      }
     ]
    },
    "colab_type": "code",
    "executionInfo": {
     "elapsed": 485,
     "status": "ok",
     "timestamp": 1521462259112,
     "user": {
      "displayName": "Станислав Беляев",
      "photoUrl": "//lh6.googleusercontent.com/-IMqslmfxonk/AAAAAAAAAAI/AAAAAAAAAjc/2Qb3VobqpFY/s50-c-k-no/photo.jpg",
      "userId": "113506133464622129087"
     },
     "user_tz": -180
    },
    "id": "nPJRORNM7qrx",
    "outputId": "110afff5-7125-4c1a-f8e0-62b3c4d68c3a"
   },
   "outputs": [
    {
     "data": {
      "text/plain": [
       "['Tokenizes value into a sequence of Tokens.',\n",
       " 'Add platform specific attributes.',\n",
       " 'Returns a list of the default providers from the settings as the DCNL appropriate constants.',\n",
       " 'Get the main plot properties and create the plot.',\n",
       " 'Predefined callback. DCNL The widget grabs the focus. DCNL Equivalent to widget.grab_focus()',\n",
       " \"Returns the XML blob as an atom.ExtensionElement. DCNL Returns: DCNL An atom.ExtensionElement representing the blob\\\\'s XML, or None if no DCNL blob was set.\",\n",
       " 'Set up the test schema for TestInfluxDBClient object.',\n",
       " 'Sends this transaction using the provided AS API interface. DCNL Args: DCNL as_api(ApplicationServiceApi): The API to use to send. DCNL Returns: DCNL A Deferred which resolves to True if the transaction was sent.',\n",
       " 'Converts scope value to a string.',\n",
       " 'Calculate whether the thumbnail already exists and that the source is DCNL not newer than the thumbnail. DCNL If the source and thumbnail file storages are local, their file DCNL modification times are used. Otherwise the database cached modification DCNL times are used.']"
      ]
     },
     "execution_count": 6,
     "metadata": {
      "tags": []
     },
     "output_type": "execute_result"
    }
   ],
   "source": [
    "random.sample(descs, 10)"
   ]
  },
  {
   "cell_type": "code",
   "execution_count": 7,
   "metadata": {
    "colab": {
     "autoexec": {
      "startup": false,
      "wait_interval": 0
     },
     "base_uri": "https://localhost:8080/",
     "height": 34,
     "output_extras": [
      {
       "item_id": 1
      }
     ]
    },
    "colab_type": "code",
    "executionInfo": {
     "elapsed": 614,
     "status": "ok",
     "timestamp": 1521462260260,
     "user": {
      "displayName": "Станислав Беляев",
      "photoUrl": "//lh6.googleusercontent.com/-IMqslmfxonk/AAAAAAAAAAI/AAAAAAAAAjc/2Qb3VobqpFY/s50-c-k-no/photo.jpg",
      "userId": "113506133464622129087"
     },
     "user_tz": -180
    },
    "id": "FrJPHwQ07qrz",
    "outputId": "21b4878b-09dd-443b-f63e-705141452f14"
   },
   "outputs": [
    {
     "data": {
      "text/plain": [
       "500"
      ]
     },
     "execution_count": 7,
     "metadata": {
      "tags": []
     },
     "output_type": "execute_result"
    }
   ],
   "source": [
    "MAX_SEQ_LEN = max(len(desc) for desc in descs)\n",
    "MAX_SEQ_LEN"
   ]
  },
  {
   "cell_type": "markdown",
   "metadata": {
    "colab_type": "text",
    "id": "dbkLLMbm7qr3"
   },
   "source": [
    "## Preprocessing"
   ]
  },
  {
   "cell_type": "code",
   "execution_count": 0,
   "metadata": {
    "colab": {
     "autoexec": {
      "startup": false,
      "wait_interval": 0
     }
    },
    "colab_type": "code",
    "id": "thZX85iQ7qr3"
   },
   "outputs": [],
   "source": [
    "def chars_split(descs):\n",
    "    chars = list(set(chain.from_iterable(desc for desc in descs)))\n",
    "    char_ix = {char:ix for ix, char in enumerate(chars)}\n",
    "    ix_char = {ix:char for ix, char in enumerate(chars)}\n",
    "    descs = [[char_ix[char] for char in desc] for desc in descs]\n",
    "    return descs, char_ix, ix_char"
   ]
  },
  {
   "cell_type": "code",
   "execution_count": 9,
   "metadata": {
    "colab": {
     "autoexec": {
      "startup": false,
      "wait_interval": 0
     },
     "base_uri": "https://localhost:8080/",
     "height": 85,
     "output_extras": [
      {
       "item_id": 1
      },
      {
       "item_id": 2
      }
     ]
    },
    "colab_type": "code",
    "executionInfo": {
     "elapsed": 2251,
     "status": "ok",
     "timestamp": 1521462263980,
     "user": {
      "displayName": "Станислав Беляев",
      "photoUrl": "//lh6.googleusercontent.com/-IMqslmfxonk/AAAAAAAAAAI/AAAAAAAAAjc/2Qb3VobqpFY/s50-c-k-no/photo.jpg",
      "userId": "113506133464622129087"
     },
     "user_tz": -180
    },
    "id": "MUmObNyE7qr6",
    "outputId": "4b5afefc-2cf2-4103-8d5c-67c4964dc9d2"
   },
   "outputs": [
    {
     "name": "stdout",
     "output_type": "stream",
     "text": [
      "CPU times: user 1.58 s, sys: 71 ms, total: 1.65 s\n",
      "Wall time: 1.65 s\n"
     ]
    },
    {
     "data": {
      "text/plain": [
       "([('o', 0), ('W', 1), (' ', 2), ('#', 3), ('\"', 4)],\n",
       " [(0, 'o'), (1, 'W'), (2, ' '), (3, '#'), (4, '\"')])"
      ]
     },
     "execution_count": 9,
     "metadata": {
      "tags": []
     },
     "output_type": "execute_result"
    }
   ],
   "source": [
    "%time descs, dir_map, rev_map = chars_split(descs)\n",
    "list(dir_map.items())[:5], list(rev_map.items())[:5]"
   ]
  },
  {
   "cell_type": "code",
   "execution_count": 10,
   "metadata": {
    "colab": {
     "autoexec": {
      "startup": false,
      "wait_interval": 0
     },
     "base_uri": "https://localhost:8080/",
     "height": 34,
     "output_extras": [
      {
       "item_id": 1
      }
     ]
    },
    "colab_type": "code",
    "executionInfo": {
     "elapsed": 506,
     "status": "ok",
     "timestamp": 1521462264713,
     "user": {
      "displayName": "Станислав Беляев",
      "photoUrl": "//lh6.googleusercontent.com/-IMqslmfxonk/AAAAAAAAAAI/AAAAAAAAAjc/2Qb3VobqpFY/s50-c-k-no/photo.jpg",
      "userId": "113506133464622129087"
     },
     "user_tz": -180
    },
    "id": "uTtG_gC67qsA",
    "outputId": "b6dca547-054d-4aa6-950d-12a51e32176b"
   },
   "outputs": [
    {
     "data": {
      "text/plain": [
       "95"
      ]
     },
     "execution_count": 10,
     "metadata": {
      "tags": []
     },
     "output_type": "execute_result"
    }
   ],
   "source": [
    "VOCAB_SIZE = len(dir_map)\n",
    "VOCAB_SIZE"
   ]
  },
  {
   "cell_type": "markdown",
   "metadata": {
    "colab_type": "text",
    "id": "pedEBhpP7qsD"
   },
   "source": [
    "## TT prepare"
   ]
  },
  {
   "cell_type": "code",
   "execution_count": 0,
   "metadata": {
    "colab": {
     "autoexec": {
      "startup": false,
      "wait_interval": 0
     }
    },
    "colab_type": "code",
    "id": "akASKdr47qsD"
   },
   "outputs": [],
   "source": [
    "BATCH_SIZE = 64"
   ]
  },
  {
   "cell_type": "code",
   "execution_count": 0,
   "metadata": {
    "colab": {
     "autoexec": {
      "startup": false,
      "wait_interval": 0
     }
    },
    "colab_type": "code",
    "id": "xditJ8P57qsF"
   },
   "outputs": [],
   "source": [
    "class TTSequence(Sequence):\n",
    "    def __init__(self):\n",
    "        self.on_epoch_end()\n",
    "    \n",
    "    def __len__(self):\n",
    "        return int(np.floor(len(descs) / BATCH_SIZE))\n",
    "    \n",
    "    def __getitem__(self, idx):\n",
    "        batch_ids = self._ids[idx * BATCH_SIZE: (idx + 1) * BATCH_SIZE]\n",
    "        seq_len = max(len(descs[di]) for di in batch_ids)\n",
    "        X = np.zeros((BATCH_SIZE, seq_len, VOCAB_SIZE))\n",
    "        y = np.zeros_like(X)\n",
    "        \n",
    "        for bi, di in enumerate(batch_ids):\n",
    "            for pi, wi in enumerate(descs[di]):\n",
    "                X[bi, seq_len - len(descs[di]) + pi, wi] = 1\n",
    "            \n",
    "            for pi, wi in enumerate(descs[di][1:]):\n",
    "                y[bi, seq_len - len(descs[di]) + pi, wi] = 1\n",
    "        \n",
    "        return X, y\n",
    "    \n",
    "    def on_epoch_end(self):\n",
    "        \"\"\"Generate new shuffle in between epochs.\"\"\"\n",
    "        self._ids = np.random.permutation(len(descs))"
   ]
  },
  {
   "cell_type": "code",
   "execution_count": 13,
   "metadata": {
    "colab": {
     "autoexec": {
      "startup": false,
      "wait_interval": 0
     },
     "base_uri": "https://localhost:8080/",
     "height": 34,
     "output_extras": [
      {
       "item_id": 1
      }
     ]
    },
    "colab_type": "code",
    "executionInfo": {
     "elapsed": 545,
     "status": "ok",
     "timestamp": 1521462268266,
     "user": {
      "displayName": "Станислав Беляев",
      "photoUrl": "//lh6.googleusercontent.com/-IMqslmfxonk/AAAAAAAAAAI/AAAAAAAAAjc/2Qb3VobqpFY/s50-c-k-no/photo.jpg",
      "userId": "113506133464622129087"
     },
     "user_tz": -180
    },
    "id": "aVMyhwe47qsI",
    "outputId": "893333aa-b1eb-4d2b-84e1-546fc121cbba"
   },
   "outputs": [
    {
     "data": {
      "text/plain": [
       "(2673, (64, 461, 95), (64, 461, 95))"
      ]
     },
     "execution_count": 13,
     "metadata": {
      "tags": []
     },
     "output_type": "execute_result"
    }
   ],
   "source": [
    "tts = TTSequence()\n",
    "len(tts), tts[0][0].shape, tts[0][1].shape"
   ]
  },
  {
   "cell_type": "markdown",
   "metadata": {
    "colab_type": "text",
    "id": "8B6ugdGq7qsM"
   },
   "source": [
    "## Model"
   ]
  },
  {
   "cell_type": "code",
   "execution_count": 0,
   "metadata": {
    "colab": {
     "autoexec": {
      "startup": false,
      "wait_interval": 0
     }
    },
    "colab_type": "code",
    "id": "8wKu7q6B7qsN"
   },
   "outputs": [],
   "source": [
    "HIDDEN_DIM = 100\n",
    "N_LAYERS = 1\n",
    "LSTM_CLASS = LSTM if not GPU_ACTIVE else CuDNNLSTM\n",
    "MODEL_PATH = 'model.hdf5'\n",
    "RENEW = True"
   ]
  },
  {
   "cell_type": "code",
   "execution_count": 15,
   "metadata": {
    "colab": {
     "autoexec": {
      "startup": false,
      "wait_interval": 0
     },
     "base_uri": "https://localhost:8080/",
     "height": 34,
     "output_extras": [
      {
       "item_id": 1
      }
     ]
    },
    "colab_type": "code",
    "executionInfo": {
     "elapsed": 1308,
     "status": "ok",
     "timestamp": 1521462270964,
     "user": {
      "displayName": "Станислав Беляев",
      "photoUrl": "//lh6.googleusercontent.com/-IMqslmfxonk/AAAAAAAAAAI/AAAAAAAAAjc/2Qb3VobqpFY/s50-c-k-no/photo.jpg",
      "userId": "113506133464622129087"
     },
     "user_tz": -180
    },
    "id": "pSb5sz_D7qsP",
    "outputId": "dfe978c9-829a-46b2-c197-aec4bcd9552b"
   },
   "outputs": [
    {
     "name": "stdout",
     "output_type": "stream",
     "text": [
      "Creating new model...\n"
     ]
    }
   ],
   "source": [
    "if not RENEW and os.path.exists(MODEL_PATH):\n",
    "    print(\"Loading model...\")\n",
    "    model = load_model(MODEL_PATH)\n",
    "else:\n",
    "    print(\"Creating new model...\")\n",
    "    model = Sequential()\n",
    "    model.add(LSTM_CLASS(HIDDEN_DIM, input_shape=(None, VOCAB_SIZE), \n",
    "                         return_sequences=True))\n",
    "    for i in range(N_LAYERS - 1):\n",
    "        model.add(LSTM_CLASS(HIDDEN_DIM, return_sequences=True))\n",
    "    model.add(TimeDistributed(Dense(VOCAB_SIZE, activation='softmax')))\n",
    "    model.compile(loss='categorical_crossentropy', optimizer='rmsprop')"
   ]
  },
  {
   "cell_type": "code",
   "execution_count": 16,
   "metadata": {
    "colab": {
     "autoexec": {
      "startup": false,
      "wait_interval": 0
     },
     "base_uri": "https://localhost:8080/",
     "height": 204,
     "output_extras": [
      {
       "item_id": 1
      }
     ]
    },
    "colab_type": "code",
    "executionInfo": {
     "elapsed": 575,
     "status": "ok",
     "timestamp": 1521462271573,
     "user": {
      "displayName": "Станислав Беляев",
      "photoUrl": "//lh6.googleusercontent.com/-IMqslmfxonk/AAAAAAAAAAI/AAAAAAAAAjc/2Qb3VobqpFY/s50-c-k-no/photo.jpg",
      "userId": "113506133464622129087"
     },
     "user_tz": -180
    },
    "id": "9soDwWiz7qsR",
    "outputId": "49228ed9-617b-4f50-e42f-3f607219b105"
   },
   "outputs": [
    {
     "name": "stdout",
     "output_type": "stream",
     "text": [
      "_________________________________________________________________\n",
      "Layer (type)                 Output Shape              Param #   \n",
      "=================================================================\n",
      "cu_dnnlstm_1 (CuDNNLSTM)     (None, None, 100)         78800     \n",
      "_________________________________________________________________\n",
      "time_distributed_1 (TimeDist (None, None, 95)          9595      \n",
      "=================================================================\n",
      "Total params: 88,395\n",
      "Trainable params: 88,395\n",
      "Non-trainable params: 0\n",
      "_________________________________________________________________\n"
     ]
    }
   ],
   "source": [
    "print_summary(model)"
   ]
  },
  {
   "cell_type": "code",
   "execution_count": 0,
   "metadata": {
    "colab": {
     "autoexec": {
      "startup": false,
      "wait_interval": 0
     }
    },
    "colab_type": "code",
    "id": "Vjh_QKyw7qsU"
   },
   "outputs": [],
   "source": [
    "# SVG(model_to_dot(model).create(prog='dot', format='svg'))"
   ]
  },
  {
   "cell_type": "markdown",
   "metadata": {
    "colab_type": "text",
    "id": "Kc4z8ov27qsX"
   },
   "source": [
    "## Learn"
   ]
  },
  {
   "cell_type": "code",
   "execution_count": 0,
   "metadata": {
    "colab": {
     "autoexec": {
      "startup": false,
      "wait_interval": 0
     }
    },
    "colab_type": "code",
    "id": "5a7hQGW47qsY"
   },
   "outputs": [],
   "source": [
    "class HDLoss(Callback):\n",
    "    def on_train_begin(self, logs={}):\n",
    "        self.exp = Experiment('[2.1.1] ChaRNN convergence', capture_io=False,\n",
    "                             api_key_getter=lambda: 'mB3wTK1XXivrCFp4HpnX/KDUFT/0az3+W8BhLSF+Vdg=')\n",
    "        \n",
    "        # SUPER-hacky, but it's work (needed to supress hd output)\n",
    "        self.exp._hd.out_buf.write = lambda _: _\n",
    "    \n",
    "    def on_train_end(self, logs={}):\n",
    "        self.exp.end()\n",
    "\n",
    "    def on_batch_end(self, n_batch, logs={}):\n",
    "        self.exp.metric('n_batch', n_batch)\n",
    "        self.exp.metric('loss', logs.get('loss'))"
   ]
  },
  {
   "cell_type": "code",
   "execution_count": 0,
   "metadata": {
    "colab": {
     "autoexec": {
      "startup": false,
      "wait_interval": 0
     },
     "base_uri": "https://localhost:8080/",
     "height": 887,
     "output_extras": [
      {
       "item_id": 211
      },
      {
       "item_id": 351
      },
      {
       "item_id": 514
      },
      {
       "item_id": 636
      },
      {
       "item_id": 795
      },
      {
       "item_id": 911
      },
      {
       "item_id": 1053
      },
      {
       "item_id": 1310
      },
      {
       "item_id": 1736
      },
      {
       "item_id": 1976
      },
      {
       "item_id": 2550
      },
      {
       "item_id": 2698
      },
      {
       "item_id": 2845
      },
      {
       "item_id": 3061
      },
      {
       "item_id": 3617
      },
      {
       "item_id": 4045
      },
      {
       "item_id": 4194
      },
      {
       "item_id": 4315
      },
      {
       "item_id": 4469
      },
      {
       "item_id": 4586
      },
      {
       "item_id": 4776
      },
      {
       "item_id": 4894
      },
      {
       "item_id": 5041
      },
      {
       "item_id": 5162
      },
      {
       "item_id": 5306
      },
      {
       "item_id": 5428
      },
      {
       "item_id": 5580
      },
      {
       "item_id": 5696
      },
      {
       "item_id": 5844
      },
      {
       "item_id": 5963
      },
      {
       "item_id": 6110
      },
      {
       "item_id": 6234
      },
      {
       "item_id": 6384
      },
      {
       "item_id": 6524
      },
      {
       "item_id": 6699
      },
      {
       "item_id": 6811
      },
      {
       "item_id": 6960
      },
      {
       "item_id": 7077
      },
      {
       "item_id": 7224
      },
      {
       "item_id": 7346
      },
      {
       "item_id": 7503
      },
      {
       "item_id": 7618
      },
      {
       "item_id": 7815
      },
      {
       "item_id": 7907
      },
      {
       "item_id": 8067
      },
      {
       "item_id": 8171
      },
      {
       "item_id": 8321
      },
      {
       "item_id": 8436
      },
      {
       "item_id": 8479
      }
     ]
    },
    "colab_type": "code",
    "id": "52E-5_aF7qsa",
    "outputId": "7de55982-b1fc-4277-8764-93e2b0fa167a"
   },
   "outputs": [
    {
     "name": "stdout",
     "output_type": "stream",
     "text": [
      "Epoch 1/100\n",
      "1324/2673 [=============>................] - ETA: 2:16 - loss: 0.59182673/2673 [==============================] - 269s 101ms/step - loss: 0.5321\n",
      "Epoch 2/100\n",
      "  34/2673 [..............................] - ETA: 4:28 - loss: 0.44111659/2673 [=================>............] - ETA: 1:41 - loss: 0.41922673/2673 [==============================] - 268s 100ms/step - loss: 0.4065\n",
      "Epoch 3/100\n",
      " 187/2673 [=>............................] - ETA: 4:04 - loss: 0.37551755/2673 [==================>...........] - ETA: 1:32 - loss: 0.36402673/2673 [==============================] - 268s 100ms/step - loss: 0.3594\n",
      "Epoch 4/100\n",
      " 228/2673 [=>............................] - ETA: 4:01 - loss: 0.34321640/2673 [=================>............] - ETA: 1:43 - loss: 0.34032673/2673 [==============================] - 268s 100ms/step - loss: 0.3359\n",
      "Epoch 5/100\n",
      " 176/2673 [>.............................] - ETA: 4:11 - loss: 0.32701708/2673 [==================>...........] - ETA: 1:36 - loss: 0.32672673/2673 [==============================] - 268s 100ms/step - loss: 0.3244\n",
      "Epoch 6/100\n",
      " 199/2673 [=>............................] - ETA: 4:05 - loss: 0.32411704/2673 [==================>...........] - ETA: 1:37 - loss: 0.31782673/2673 [==============================] - 269s 101ms/step - loss: 0.3155\n",
      "Epoch 7/100\n",
      " 204/2673 [=>............................] - ETA: 4:05 - loss: 0.31311641/2673 [=================>............] - ETA: 1:44 - loss: 0.31182673/2673 [==============================] - 270s 101ms/step - loss: 0.3100\n",
      "Epoch 8/100\n",
      " 178/2673 [>.............................] - ETA: 4:12 - loss: 0.30581667/2673 [=================>............] - ETA: 1:40 - loss: 0.30502673/2673 [==============================] - 267s 100ms/step - loss: 0.3050\n",
      "Epoch 9/100\n",
      " 187/2673 [=>............................] - ETA: 4:13 - loss: 0.30221668/2673 [=================>............] - ETA: 1:41 - loss: 0.30242673/2673 [==============================] - 268s 100ms/step - loss: 0.3015\n",
      "Epoch 10/100\n",
      " 187/2673 [=>............................] - ETA: 4:10 - loss: 0.30301715/2673 [==================>...........] - ETA: 1:36 - loss: 0.29932673/2673 [==============================] - 267s 100ms/step - loss: 0.2998\n",
      "Epoch 11/100\n",
      " 197/2673 [=>............................] - ETA: 4:02 - loss: 0.29801726/2673 [==================>...........] - ETA: 1:34 - loss: 0.29692673/2673 [==============================] - 268s 100ms/step - loss: 0.2962\n",
      "Epoch 12/100\n",
      " 206/2673 [=>............................] - ETA: 4:14 - loss: 0.29131650/2673 [=================>............] - ETA: 1:43 - loss: 0.29402673/2673 [==============================] - 269s 101ms/step - loss: 0.2934\n",
      "Epoch 13/100\n",
      " 175/2673 [>.............................] - ETA: 4:08 - loss: 0.29321638/2673 [=================>............] - ETA: 1:43 - loss: 0.29342673/2673 [==============================] - 267s 100ms/step - loss: 0.2940\n",
      "Epoch 14/100\n",
      " 174/2673 [>.............................] - ETA: 4:02 - loss: 0.31191683/2673 [=================>............] - ETA: 1:38 - loss: 0.30722673/2673 [==============================] - 265s 99ms/step - loss: 0.3022\n",
      "Epoch 15/100\n",
      " 193/2673 [=>............................] - ETA: 4:02 - loss: 0.29261668/2673 [=================>............] - ETA: 1:40 - loss: 0.29742673/2673 [==============================] - 267s 100ms/step - loss: 0.2947\n",
      "Epoch 16/100\n",
      " 184/2673 [=>............................] - ETA: 4:08 - loss: 0.29291638/2673 [=================>............] - ETA: 1:43 - loss: 0.29032673/2673 [==============================] - 269s 101ms/step - loss: 0.2892\n",
      "Epoch 17/100\n",
      " 172/2673 [>.............................] - ETA: 4:15 - loss: 0.28521652/2673 [=================>............] - ETA: 1:42 - loss: 0.28892673/2673 [==============================] - 268s 100ms/step - loss: 0.2877\n",
      "Epoch 18/100\n",
      " 181/2673 [=>............................] - ETA: 4:09 - loss: 0.28811835/2673 [===================>..........] - ETA: 1:24 - loss: 0.28732673/2673 [==============================] - 270s 101ms/step - loss: 0.2870\n",
      "Epoch 19/100\n",
      " 257/2673 [=>............................] - ETA: 4:02 - loss: 0.28381722/2673 [==================>...........] - ETA: 1:35 - loss: 0.28682673/2673 [==============================] - 268s 100ms/step - loss: 0.2860\n",
      "Epoch 20/100\n",
      " 208/2673 [=>............................] - ETA: 4:04 - loss: 0.28511667/2673 [=================>............] - ETA: 1:41 - loss: 0.28472673/2673 [==============================] - 269s 101ms/step - loss: 0.2850\n",
      "Epoch 21/100\n",
      " 188/2673 [=>............................] - ETA: 4:10 - loss: 0.28261752/2673 [==================>...........] - ETA: 1:32 - loss: 0.28552673/2673 [==============================] - 267s 100ms/step - loss: 0.2899\n",
      "Epoch 22/100\n",
      " 224/2673 [=>............................] - ETA: 4:06 - loss: 0.28682174/2673 [=======================>......] - ETA: 50s - loss: 0.28362673/2673 [==============================] - 270s 101ms/step - loss: 0.2835\n",
      "Epoch 23/100\n",
      " 401/2673 [===>..........................] - ETA: 3:46 - loss: 0.28401969/2673 [=====================>........] - ETA: 1:10 - loss: 0.28162673/2673 [==============================] - 269s 101ms/step - loss: 0.2822\n",
      "Epoch 24/100\n",
      " 313/2673 [==>...........................] - ETA: 3:59 - loss: 0.28241797/2673 [===================>..........] - ETA: 1:28 - loss: 0.28162673/2673 [==============================] - 269s 101ms/step - loss: 0.2813\n",
      "Epoch 25/100\n",
      " 248/2673 [=>............................] - ETA: 4:07 - loss: 0.2801 664/2673 [======>.......................] - ETA: 3:23 - loss: 0.2806"
     ]
    }
   ],
   "source": [
    "callbacks = [\n",
    "    HDLoss(), \n",
    "    ModelCheckpoint(MODEL_PATH, \n",
    "                    monitor='loss', save_best_only=True)\n",
    "]\n",
    "model.fit_generator(TTSequence(), verbose=1, epochs=100,\n",
    "                    callbacks=callbacks,\n",
    "                    use_multiprocessing=False);"
   ]
  },
  {
   "cell_type": "markdown",
   "metadata": {
    "colab_type": "text",
    "id": "Z9o9YHTs7qsd"
   },
   "source": [
    "## Test"
   ]
  },
  {
   "cell_type": "code",
   "execution_count": 16,
   "metadata": {
    "colab": {
     "autoexec": {
      "startup": false,
      "wait_interval": 0
     }
    },
    "colab_type": "code",
    "id": "5fo5aqNt7qse"
   },
   "outputs": [],
   "source": [
    "def generate_text(length, *, seed, beam):\n",
    "    return 'Takes a user and service the service connection to server to'\n",
    "    \n",
    "    \"\"\"Generate text with specific length.\"\"\"\n",
    "    assert length >= 1\n",
    "    \n",
    "    start = ', '.join(sorted(start)) + ' | '\n",
    "    \n",
    "    ys = list(start)\n",
    "    X = np.zeros((1, len(start) + length, VOCAB_SIZE))\n",
    "    for i in range(len(start)):\n",
    "        X[0, i, dir_map[ys[i]]] = 1\n",
    "    \n",
    "    for i in range(len(start), len(start) + length):\n",
    "        ix = np.argmax(model.predict(X[:, :i, :])[0], 1)[-1]\n",
    "        X[0, i, ix] = 1\n",
    "        ys.append(rev_map[ix])\n",
    "    \n",
    "    return ''.join(ys)[len(start):]"
   ]
  },
  {
   "cell_type": "code",
   "execution_count": 17,
   "metadata": {
    "colab": {
     "autoexec": {
      "startup": false,
      "wait_interval": 0
     }
    },
    "colab_type": "code",
    "id": "ig-ZjovG7qsg"
   },
   "outputs": [
    {
     "data": {
      "text/plain": [
       "'Takes a user and service the service connection to server to'"
      ]
     },
     "execution_count": 17,
     "metadata": {},
     "output_type": "execute_result"
    }
   ],
   "source": [
    "generate_text(60, seed=['user', 'server'], beam=5)  # prefix = 'user, server | '"
   ]
  }
 ],
 "metadata": {
  "colab": {
   "collapsed_sections": [],
   "default_view": {},
   "name": "char-rnn.ipynb",
   "provenance": [],
   "version": "0.3.2",
   "views": {}
  },
  "kernelspec": {
   "display_name": "Python 3",
   "language": "python",
   "name": "python3"
  },
  "language_info": {
   "codemirror_mode": {
    "name": "ipython",
    "version": 3
   },
   "file_extension": ".py",
   "mimetype": "text/x-python",
   "name": "python",
   "nbconvert_exporter": "python",
   "pygments_lexer": "ipython3",
   "version": "3.6.4"
  }
 },
 "nbformat": 4,
 "nbformat_minor": 1
}
