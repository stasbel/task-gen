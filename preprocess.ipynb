{
 "cells": [
  {
   "cell_type": "markdown",
   "metadata": {},
   "source": [
    "# Preprocess"
   ]
  },
  {
   "cell_type": "code",
   "execution_count": 1,
   "metadata": {},
   "outputs": [],
   "source": [
    "%matplotlib inline\n",
    "\n",
    "import random\n",
    "import seaborn as sns\n",
    "\n",
    "from itertools import chain\n",
    "from tqdm import tqdm_notebook\n",
    "from hyperdash import Experiment\n",
    "from string import ascii_lowercase\n",
    "from langdetect import detect as detect_lang, detect_langs"
   ]
  },
  {
   "cell_type": "markdown",
   "metadata": {},
   "source": [
    "## Args"
   ]
  },
  {
   "cell_type": "code",
   "execution_count": 2,
   "metadata": {},
   "outputs": [],
   "source": [
    "TOPLEVELFUNCS_DESC_PATH = 'code-docstring-corpus/V2/parallel/parallel_desc'\n",
    "METHODS_DESC_PATH = 'code-docstring-corpus/V2/parallel/parallel_methods_desc'\n",
    "DESC_PATHS = [\n",
    "    TOPLEVELFUNCS_DESC_PATH,\n",
    "    METHODS_DESC_PATH\n",
    "]\n",
    "MAX_READ = 1000000"
   ]
  },
  {
   "cell_type": "markdown",
   "metadata": {},
   "source": [
    "## Read"
   ]
  },
  {
   "cell_type": "code",
   "execution_count": 3,
   "metadata": {},
   "outputs": [],
   "source": [
    "def read_desc_gen(file_path):\n",
    "    with open(file_path, 'r', errors='ignore') as f:\n",
    "        for line in f:\n",
    "            yield line.strip()[1:-1]\n",
    "            \n",
    "            \n",
    "def read_all():\n",
    "    all_gen = (read_desc_gen(desc_path) for desc_path in DESC_PATHS)\n",
    "    return list(set(chain.from_iterable(all_gen)))"
   ]
  },
  {
   "cell_type": "code",
   "execution_count": 4,
   "metadata": {},
   "outputs": [
    {
     "name": "stdout",
     "output_type": "stream",
     "text": [
      "CPU times: user 688 ms, sys: 92 ms, total: 780 ms\n",
      "Wall time: 784 ms\n"
     ]
    },
    {
     "data": {
      "text/plain": [
       "357220"
      ]
     },
     "execution_count": 4,
     "metadata": {},
     "output_type": "execute_result"
    }
   ],
   "source": [
    "%time descs = read_all()[:MAX_READ]\n",
    "len(descs)"
   ]
  },
  {
   "cell_type": "markdown",
   "metadata": {},
   "source": [
    "## Filtering"
   ]
  },
  {
   "cell_type": "code",
   "execution_count": 5,
   "metadata": {},
   "outputs": [],
   "source": [
    "LEN_LB, LEN_UP = 25, 500\n",
    "LOG_STEP = 10000\n",
    "CHARS_TRESHOLD = 0.8"
   ]
  },
  {
   "cell_type": "code",
   "execution_count": 6,
   "metadata": {},
   "outputs": [],
   "source": [
    "def is_english_detect(text):\n",
    "    try:\n",
    "        return detect_lang(text) == 'en'\n",
    "    except:\n",
    "        return False\n",
    "\n",
    "\n",
    "def is_chinise(text):\n",
    "    for c in text:\n",
    "        if 0x4e00 <= ord(c) <= 0x9fff:\n",
    "            return True\n",
    "    return False\n",
    "\n",
    "\n",
    "def is_ascii(text):\n",
    "    return all(31 < ord(c) < 128 for c in text)\n",
    "\n",
    "    \n",
    "def is_plausible_chars(text):\n",
    "    m = sum(bool(c in ascii_lowercase) for c in text.lower()) \n",
    "    n = len(text)\n",
    "    return m / n >= CHARS_TRESHOLD and is_ascii(text)\n",
    "\n",
    "\n",
    "def is_sensible(text):\n",
    "    return is_english_detect(text) and is_plausible_chars(text)\n",
    "\n",
    "\n",
    "def is_valid(desc):\n",
    "    return LEN_LB <= len(desc) <= LEN_UP and is_sensible(desc)"
   ]
  },
  {
   "cell_type": "code",
   "execution_count": null,
   "metadata": {},
   "outputs": [],
   "source": [
    "def english_sorting(descs):\n",
    "    exp = Experiment('1.1.1: Preprocessing english sorting', capture_io=False)\n",
    "    new_descs = []\n",
    "    for i, desc in enumerate(tqdm_notebook(descs)):\n",
    "        if is_valid(desc):\n",
    "            new_descs.append(desc)\n",
    "        if i % LOG_STEP == 0 or i == len(descs) - 1:\n",
    "            exp.metric('step', i)\n",
    "            exp.metric('current len', len(new_descs))\n",
    "    exp.end()\n",
    "    return new_descs"
   ]
  },
  {
   "cell_type": "code",
   "execution_count": null,
   "metadata": {},
   "outputs": [
    {
     "data": {
      "application/vnd.jupyter.widget-view+json": {
       "model_id": "6d56dce6a6cd4a75b41864278d587f75",
       "version_major": 2,
       "version_minor": 0
      },
      "text/html": [
       "<p>Failed to display Jupyter Widget of type <code>HBox</code>.</p>\n",
       "<p>\n",
       "  If you're reading this message in the Jupyter Notebook or JupyterLab Notebook, it may mean\n",
       "  that the widgets JavaScript is still loading. If this message persists, it\n",
       "  likely means that the widgets JavaScript library is either not installed or\n",
       "  not enabled. See the <a href=\"https://ipywidgets.readthedocs.io/en/stable/user_install.html\">Jupyter\n",
       "  Widgets Documentation</a> for setup instructions.\n",
       "</p>\n",
       "<p>\n",
       "  If you're reading this message in another frontend (for example, a static\n",
       "  rendering on GitHub or <a href=\"https://nbviewer.jupyter.org/\">NBViewer</a>),\n",
       "  it may mean that your frontend doesn't currently support widgets.\n",
       "</p>\n"
      ],
      "text/plain": [
       "HBox(children=(IntProgress(value=0, max=357220), HTML(value='')))"
      ]
     },
     "metadata": {},
     "output_type": "display_data"
    },
    {
     "name": "stdout",
     "output_type": "stream",
     "text": [
      "| step:   0.000000 |\n",
      "| current len:   0.000000 |\n"
     ]
    }
   ],
   "source": [
    "%time descs = english_sorting(descs)\n",
    "len(descs)"
   ]
  },
  {
   "cell_type": "markdown",
   "metadata": {},
   "source": [
    "## Analysis"
   ]
  },
  {
   "cell_type": "code",
   "execution_count": null,
   "metadata": {},
   "outputs": [],
   "source": [
    "sns.distplot([len(desc) for desc in descs]);"
   ]
  },
  {
   "cell_type": "code",
   "execution_count": null,
   "metadata": {},
   "outputs": [],
   "source": [
    "random.sample(descs, 10)"
   ]
  },
  {
   "cell_type": "markdown",
   "metadata": {},
   "source": [
    "## Save"
   ]
  },
  {
   "cell_type": "code",
   "execution_count": null,
   "metadata": {},
   "outputs": [],
   "source": [
    "%store descs"
   ]
  }
 ],
 "metadata": {
  "kernelspec": {
   "display_name": "Python 3",
   "language": "python",
   "name": "python3"
  },
  "language_info": {
   "codemirror_mode": {
    "name": "ipython",
    "version": 3
   },
   "file_extension": ".py",
   "mimetype": "text/x-python",
   "name": "python",
   "nbconvert_exporter": "python",
   "pygments_lexer": "ipython3",
   "version": "3.6.4"
  }
 },
 "nbformat": 4,
 "nbformat_minor": 2
}
