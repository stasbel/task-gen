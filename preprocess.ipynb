{
 "cells": [
  {
   "cell_type": "markdown",
   "metadata": {},
   "source": [
    "# Preprocess"
   ]
  },
  {
   "cell_type": "code",
   "execution_count": 1,
   "metadata": {},
   "outputs": [],
   "source": [
    "%matplotlib inline\n",
    "\n",
    "import random\n",
    "import seaborn as sns\n",
    "\n",
    "from itertools import chain\n",
    "from tqdm import tqdm_notebook\n",
    "from hyperdash import Experiment\n",
    "from string import ascii_lowercase\n",
    "from langdetect import detect as detect_lang, detect_langs"
   ]
  },
  {
   "cell_type": "markdown",
   "metadata": {},
   "source": [
    "## Args"
   ]
  },
  {
   "cell_type": "code",
   "execution_count": 2,
   "metadata": {},
   "outputs": [],
   "source": [
    "TOPLEVELFUNCS_DESC_PATH = 'code-docstring-corpus/V2/parallel/parallel_desc'\n",
    "METHODS_DESC_PATH = 'code-docstring-corpus/V2/parallel/parallel_methods_desc'\n",
    "DESC_PATHS = [\n",
    "    TOPLEVELFUNCS_DESC_PATH,\n",
    "    METHODS_DESC_PATH\n",
    "]\n",
    "MAX_READ = 1000000"
   ]
  },
  {
   "cell_type": "markdown",
   "metadata": {},
   "source": [
    "## Read"
   ]
  },
  {
   "cell_type": "code",
   "execution_count": 3,
   "metadata": {},
   "outputs": [],
   "source": [
    "def read_desc_gen(file_path):\n",
    "    with open(file_path, 'r', errors='ignore') as f:\n",
    "        for line in f:\n",
    "            yield line.strip()[1:-1]\n",
    "            \n",
    "            \n",
    "def read_all():\n",
    "    all_gen = (read_desc_gen(desc_path) for desc_path in DESC_PATHS)\n",
    "    return list(set(chain.from_iterable(all_gen)))"
   ]
  },
  {
   "cell_type": "code",
   "execution_count": 4,
   "metadata": {},
   "outputs": [
    {
     "name": "stdout",
     "output_type": "stream",
     "text": [
      "CPU times: user 688 ms, sys: 92 ms, total: 780 ms\n",
      "Wall time: 784 ms\n"
     ]
    },
    {
     "data": {
      "text/plain": [
       "357220"
      ]
     },
     "execution_count": 4,
     "metadata": {},
     "output_type": "execute_result"
    }
   ],
   "source": [
    "%time descs = read_all()[:MAX_READ]\n",
    "len(descs)"
   ]
  },
  {
   "cell_type": "markdown",
   "metadata": {},
   "source": [
    "## Filtering"
   ]
  },
  {
   "cell_type": "code",
   "execution_count": 5,
   "metadata": {},
   "outputs": [],
   "source": [
    "LEN_LB, LEN_UP = 25, 500\n",
    "LOG_STEP = 10000\n",
    "CHARS_TRESHOLD = 0.8"
   ]
  },
  {
   "cell_type": "code",
   "execution_count": 6,
   "metadata": {},
   "outputs": [],
   "source": [
    "def is_english_detect(text):\n",
    "    try:\n",
    "        return detect_lang(text) == 'en'\n",
    "    except:\n",
    "        return False\n",
    "\n",
    "\n",
    "def is_chinise(text):\n",
    "    for c in text:\n",
    "        if 0x4e00 <= ord(c) <= 0x9fff:\n",
    "            return True\n",
    "    return False\n",
    "\n",
    "\n",
    "def is_ascii(text):\n",
    "    return all(31 < ord(c) < 128 for c in text)\n",
    "\n",
    "    \n",
    "def is_plausible_chars(text):\n",
    "    m = sum(bool(c in ascii_lowercase) for c in text.lower()) \n",
    "    n = len(text)\n",
    "    return m / n >= CHARS_TRESHOLD and is_ascii(text)\n",
    "\n",
    "\n",
    "def is_sensible(text):\n",
    "    return is_english_detect(text) and is_plausible_chars(text)\n",
    "\n",
    "\n",
    "def is_valid(desc):\n",
    "    return LEN_LB <= len(desc) <= LEN_UP and is_sensible(desc)"
   ]
  },
  {
   "cell_type": "code",
   "execution_count": 7,
   "metadata": {},
   "outputs": [],
   "source": [
    "def english_sorting(descs):\n",
    "    exp = Experiment('1.1.1: Preprocessing english sorting', capture_io=False)\n",
    "    new_descs = []\n",
    "    for i, desc in enumerate(tqdm_notebook(descs)):\n",
    "        if is_valid(desc):\n",
    "            new_descs.append(desc)\n",
    "        if i % LOG_STEP == 0 or i == len(descs) - 1:\n",
    "            exp.metric('step', i)\n",
    "            exp.metric('current len', len(new_descs))\n",
    "    exp.end()\n",
    "    return new_descs"
   ]
  },
  {
   "cell_type": "code",
   "execution_count": 8,
   "metadata": {},
   "outputs": [
    {
     "data": {
      "application/vnd.jupyter.widget-view+json": {
       "model_id": "6d56dce6a6cd4a75b41864278d587f75",
       "version_major": 2,
       "version_minor": 0
      },
      "text/html": [
       "<p>Failed to display Jupyter Widget of type <code>HBox</code>.</p>\n",
       "<p>\n",
       "  If you're reading this message in the Jupyter Notebook or JupyterLab Notebook, it may mean\n",
       "  that the widgets JavaScript is still loading. If this message persists, it\n",
       "  likely means that the widgets JavaScript library is either not installed or\n",
       "  not enabled. See the <a href=\"https://ipywidgets.readthedocs.io/en/stable/user_install.html\">Jupyter\n",
       "  Widgets Documentation</a> for setup instructions.\n",
       "</p>\n",
       "<p>\n",
       "  If you're reading this message in another frontend (for example, a static\n",
       "  rendering on GitHub or <a href=\"https://nbviewer.jupyter.org/\">NBViewer</a>),\n",
       "  it may mean that your frontend doesn't currently support widgets.\n",
       "</p>\n"
      ],
      "text/plain": [
       "HBox(children=(IntProgress(value=0, max=357220), HTML(value='')))"
      ]
     },
     "metadata": {},
     "output_type": "display_data"
    },
    {
     "name": "stdout",
     "output_type": "stream",
     "text": [
      "| step:   0.000000 |\n",
      "| current len:   0.000000 |\n",
      "| step: 10000.000000 |\n",
      "| current len: 4784.000000 |\n",
      "| step: 20000.000000 |\n",
      "| current len: 9535.000000 |\n",
      "| step: 30000.000000 |\n",
      "| current len: 14386.000000 |\n",
      "| step: 40000.000000 |\n",
      "| current len: 19156.000000 |\n",
      "| step: 50000.000000 |\n",
      "| current len: 23942.000000 |\n",
      "| step: 60000.000000 |\n",
      "| current len: 28693.000000 |\n",
      "| step: 70000.000000 |\n",
      "| current len: 33497.000000 |\n",
      "| step: 80000.000000 |\n",
      "| current len: 38331.000000 |\n",
      "| step: 90000.000000 |\n",
      "| current len: 43154.000000 |\n",
      "| step: 100000.000000 |\n",
      "| current len: 47935.000000 |\n",
      "| step: 110000.000000 |\n",
      "| current len: 52806.000000 |\n",
      "| step: 120000.000000 |\n",
      "| current len: 57506.000000 |\n",
      "| step: 130000.000000 |\n",
      "| current len: 62330.000000 |\n",
      "| step: 140000.000000 |\n",
      "| current len: 67181.000000 |\n",
      "| step: 150000.000000 |\n",
      "| current len: 72018.000000 |\n",
      "| step: 160000.000000 |\n",
      "| current len: 76790.000000 |\n",
      "| step: 170000.000000 |\n",
      "| current len: 81614.000000 |\n",
      "| step: 180000.000000 |\n",
      "| current len: 86369.000000 |\n",
      "| step: 190000.000000 |\n",
      "| current len: 91042.000000 |\n",
      "| step: 200000.000000 |\n",
      "| current len: 95866.000000 |\n",
      "| step: 210000.000000 |\n",
      "| current len: 100732.000000 |\n",
      "| step: 220000.000000 |\n",
      "| current len: 105481.000000 |\n",
      "| step: 230000.000000 |\n",
      "| current len: 110216.000000 |\n",
      "| step: 240000.000000 |\n",
      "| current len: 114956.000000 |\n",
      "| step: 250000.000000 |\n",
      "| current len: 119782.000000 |\n",
      "| step: 260000.000000 |\n",
      "| current len: 124496.000000 |\n",
      "| step: 270000.000000 |\n",
      "| current len: 129311.000000 |\n",
      "| step: 280000.000000 |\n",
      "| current len: 134038.000000 |\n",
      "| step: 290000.000000 |\n",
      "| current len: 138763.000000 |\n",
      "| step: 300000.000000 |\n",
      "| current len: 143515.000000 |\n",
      "| step: 310000.000000 |\n",
      "| current len: 148441.000000 |\n",
      "| step: 320000.000000 |\n",
      "| current len: 153187.000000 |\n",
      "| step: 330000.000000 |\n",
      "| current len: 157973.000000 |\n",
      "| step: 340000.000000 |\n",
      "| current len: 162816.000000 |\n",
      "| step: 350000.000000 |\n",
      "| current len: 167620.000000 |\n",
      "| step: 357219.000000 |\n",
      "| current len: 171161.000000 |\n",
      "\n",
      "This run of 1.1.1: Preprocessing english sorting ran for 0:43:37 and logs are available locally at: /home/s_belyaev/.hyperdash/logs/1-1-1-preprocessing-english-sorting/1-1-1-preprocessing-english-sorting_2018-03-07t15-04-26-896670.log\n",
      "CPU times: user 43min 7s, sys: 37.7 s, total: 43min 45s\n",
      "Wall time: 43min 38s\n"
     ]
    },
    {
     "data": {
      "text/plain": [
       "171161"
      ]
     },
     "execution_count": 8,
     "metadata": {},
     "output_type": "execute_result"
    }
   ],
   "source": [
    "%time descs = english_sorting(descs)\n",
    "len(descs)"
   ]
  },
  {
   "cell_type": "markdown",
   "metadata": {},
   "source": [
    "## Analysis"
   ]
  },
  {
   "cell_type": "code",
   "execution_count": 9,
   "metadata": {},
   "outputs": [
    {
     "data": {
      "image/png": "[encoded data removed]",
      "text/plain": [
       "<matplotlib.figure.Figure at 0x2b8097043358>"
      ]
     },
     "metadata": {},
     "output_type": "display_data"
    }
   ],
   "source": [
    "sns.distplot([len(desc) for desc in descs]);"
   ]
  },
  {
   "cell_type": "code",
   "execution_count": 10,
   "metadata": {},
   "outputs": [
    {
     "data": {
      "text/plain": [
       "['Override the default one to avoid duplicate dump.',\n",
       " 'Read information about an image. DCNL Returns an empty dictionary if there is no info, just the field value if DCNL a field is requested, or the entire dictionary otherwise.',\n",
       " 'Wrapper around the logger',\n",
       " 'Mark schema modified. Call this first so user can abort if necessary.',\n",
       " 'Check whether program cards are present.',\n",
       " 'Instead of the classic form view, redirect to the post on the website directly',\n",
       " 'The view that returns the map composer opened to DCNL the map with the given official site url.',\n",
       " 'Calculate the percentage match for two db records DCNL @todo: parameter description? DCNL @status: currently unused',\n",
       " 'Get the interior overhang support angle in degrees.',\n",
       " '@param str p: the stringified packet DCNL @param str pay: the stringified payload DCNL @return str: the stringified packet and payload, with the packet length field \"patched\" DCNL @raise AssertionError']"
      ]
     },
     "execution_count": 10,
     "metadata": {},
     "output_type": "execute_result"
    }
   ],
   "source": [
    "random.sample(descs, 10)"
   ]
  },
  {
   "cell_type": "markdown",
   "metadata": {},
   "source": [
    "## Save"
   ]
  },
  {
   "cell_type": "code",
   "execution_count": 11,
   "metadata": {},
   "outputs": [
    {
     "name": "stdout",
     "output_type": "stream",
     "text": [
      "Stored 'descs' (list)\n"
     ]
    }
   ],
   "source": [
    "%store descs"
   ]
  }
 ],
 "metadata": {
  "kernelspec": {
   "display_name": "Python 3",
   "language": "python",
   "name": "python3"
  },
  "language_info": {
   "codemirror_mode": {
    "name": "ipython",
    "version": 3
   },
   "file_extension": ".py",
   "mimetype": "text/x-python",
   "name": "python",
   "nbconvert_exporter": "python",
   "pygments_lexer": "ipython3",
   "version": "3.6.4"
  }
 },
 "nbformat": 4,
 "nbformat_minor": 2
}
