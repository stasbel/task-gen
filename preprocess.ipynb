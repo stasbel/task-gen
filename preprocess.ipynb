{
 "cells": [
  {
   "cell_type": "markdown",
   "metadata": {
    "colab_type": "text",
    "id": "SXcHo4VN5eC5"
   },
   "source": [
    "# Preprocess"
   ]
  },
  {
   "cell_type": "code",
   "execution_count": 1,
   "metadata": {
    "colab": {
     "autoexec": {
      "startup": false,
      "wait_interval": 0
     }
    },
    "colab_type": "code",
    "id": "fosarMHB5eC8"
   },
   "outputs": [],
   "source": [
    "%matplotlib inline\n",
    "\n",
    "import os\n",
    "import random\n",
    "import pandas as pd\n",
    "import seaborn as sns\n",
    "\n",
    "from tqdm import tqdm\n",
    "from utils import monitor\n",
    "from itertools import chain\n",
    "from string import ascii_lowercase\n",
    "from sklearn.datasets.lfw import Bunch\n",
    "from more_itertools import unique_everseen, take\n",
    "from langdetect import detect as detect_lang, detect_langs"
   ]
  },
  {
   "cell_type": "markdown",
   "metadata": {
    "colab_type": "text",
    "id": "4ka0sXbi5eDH"
   },
   "source": [
    "## Args"
   ]
  },
  {
   "cell_type": "code",
   "execution_count": 2,
   "metadata": {},
   "outputs": [],
   "source": [
    "args = Bunch()"
   ]
  },
  {
   "cell_type": "markdown",
   "metadata": {},
   "source": [
    "## Main `df`"
   ]
  },
  {
   "cell_type": "code",
   "execution_count": 3,
   "metadata": {},
   "outputs": [
    {
     "data": {
      "text/plain": [
       "0"
      ]
     },
     "execution_count": 3,
     "metadata": {},
     "output_type": "execute_result"
    }
   ],
   "source": [
    "df = pd.DataFrame(columns=['desc'])\n",
    "len(df)"
   ]
  },
  {
   "cell_type": "markdown",
   "metadata": {},
   "source": [
    "## Docstring corpus"
   ]
  },
  {
   "cell_type": "markdown",
   "metadata": {},
   "source": [
    "### Read"
   ]
  },
  {
   "cell_type": "code",
   "execution_count": 4,
   "metadata": {},
   "outputs": [],
   "source": [
    "_data_base_path = './code-docstring-corpus/V2/parallel'\n",
    "args.toplevelfuncs_desc_path = os.path.join(_data_base_path, 'parallel_desc')\n",
    "args.methods_desc_path = os.path.join(_data_base_path, 'parallel_methods_desc')\n",
    "args.desc_paths = [args.toplevelfuncs_desc_path, args.methods_desc_path]\n",
    "args.max_descs = 1000000"
   ]
  },
  {
   "cell_type": "code",
   "execution_count": 5,
   "metadata": {},
   "outputs": [],
   "source": [
    "def read_desc_gen(file_path):\n",
    "    with open(file_path, 'r', errors='ignore') as f:\n",
    "        for line in f:\n",
    "            yield line.strip()[1:-1]\n",
    "            \n",
    "            \n",
    "def read_all():\n",
    "    all_gen = (read_desc_gen(desc_path) for desc_path in args.desc_paths)\n",
    "    return list(take(args.max_descs, unique_everseen(chain.from_iterable(all_gen))))"
   ]
  },
  {
   "cell_type": "code",
   "execution_count": 6,
   "metadata": {},
   "outputs": [
    {
     "data": {
      "text/plain": [
       "357220"
      ]
     },
     "execution_count": 6,
     "metadata": {},
     "output_type": "execute_result"
    }
   ],
   "source": [
    "descs = read_all()\n",
    "len(descs)"
   ]
  },
  {
   "cell_type": "markdown",
   "metadata": {},
   "source": [
    "### Filtering"
   ]
  },
  {
   "cell_type": "code",
   "execution_count": 7,
   "metadata": {},
   "outputs": [],
   "source": [
    "args.len_lb, args.len_up = 25, 200\n",
    "args.log_step = 5000\n",
    "args.chars_threshold = 0.8"
   ]
  },
  {
   "cell_type": "code",
   "execution_count": 8,
   "metadata": {},
   "outputs": [],
   "source": [
    "def is_english_detect(text):\n",
    "    try:\n",
    "        return detect_lang(text) == 'en'\n",
    "    except:\n",
    "        return False\n",
    "\n",
    "\n",
    "def is_chinise(text):\n",
    "    for c in text:\n",
    "        if 0x4e00 <= ord(c) <= 0x9fff:\n",
    "            return True\n",
    "    return False\n",
    "\n",
    "\n",
    "def is_ascii(text):\n",
    "    return all(31 < ord(c) < 128 for c in text)\n",
    "\n",
    "    \n",
    "def is_plausible_chars(text):\n",
    "    m = sum(bool(c in ascii_lowercase) for c in text.lower()) \n",
    "    n = len(text)\n",
    "    return m / n >= args.chars_threshold and is_ascii(text)\n",
    "\n",
    "\n",
    "def is_sensible(text):\n",
    "    return is_english_detect(text) and is_plausible_chars(text)\n",
    "\n",
    "\n",
    "def is_valid(desc):\n",
    "    return args.len_lb <= len(desc) <= args.len_up and is_sensible(desc)"
   ]
  },
  {
   "cell_type": "code",
   "execution_count": null,
   "metadata": {},
   "outputs": [],
   "source": [
    "@monitor('[1.1.1] Preprocessing english sorting')\n",
    "def english_sorting(descs, *, exp):\n",
    "    new_descs = []\n",
    "    for i, desc in enumerate(tqdm(descs)):\n",
    "        if is_valid(desc):\n",
    "            new_descs.append(desc)\n",
    "        if i % args.log_step == 0 or i == len(descs) - 1:\n",
    "            exp.metric('step', i)\n",
    "            exp.metric('current len', len(new_descs))\n",
    "    return new_descs"
   ]
  },
  {
   "cell_type": "code",
   "execution_count": null,
   "metadata": {},
   "outputs": [
    {
     "name": "stderr",
     "output_type": "stream",
     "text": [
      "  3%|▎         | 10337/357220 [01:29<50:03, 115.48it/s]"
     ]
    }
   ],
   "source": [
    "%time descs = english_sorting(descs)\n",
    "len(descs)"
   ]
  },
  {
   "cell_type": "markdown",
   "metadata": {},
   "source": [
    "### Analysis"
   ]
  },
  {
   "cell_type": "code",
   "execution_count": null,
   "metadata": {},
   "outputs": [],
   "source": [
    "sns.distplot([len(desc) for desc in descs]);"
   ]
  },
  {
   "cell_type": "code",
   "execution_count": null,
   "metadata": {},
   "outputs": [],
   "source": [
    "random.sample(descs, 10)"
   ]
  },
  {
   "cell_type": "markdown",
   "metadata": {},
   "source": [
    "### Add"
   ]
  },
  {
   "cell_type": "code",
   "execution_count": null,
   "metadata": {},
   "outputs": [],
   "source": [
    "df = df.append(pd.DataFrame.from_dict({'desc': descs}), ignore_index=True)\n",
    "df.head()"
   ]
  },
  {
   "cell_type": "markdown",
   "metadata": {},
   "source": [
    "## Stepik data\n",
    "\n",
    "* Ask Timophey about this."
   ]
  },
  {
   "cell_type": "code",
   "execution_count": null,
   "metadata": {},
   "outputs": [],
   "source": [
    "..."
   ]
  },
  {
   "cell_type": "markdown",
   "metadata": {},
   "source": [
    "## Save"
   ]
  },
  {
   "cell_type": "code",
   "execution_count": null,
   "metadata": {},
   "outputs": [],
   "source": [
    "args.save_path = 'data.hdf5'"
   ]
  },
  {
   "cell_type": "code",
   "execution_count": null,
   "metadata": {},
   "outputs": [],
   "source": [
    "%time df.to_hdf(args.save_path, 'df', mode='w', format='t', complevel=9)"
   ]
  },
  {
   "cell_type": "code",
   "execution_count": null,
   "metadata": {},
   "outputs": [],
   "source": [
    "!du -sh $args.save_path"
   ]
  }
 ],
 "metadata": {
  "accelerator": "GPU",
  "colab": {
   "collapsed_sections": [],
   "default_view": {},
   "name": "preprocess.ipynb",
   "provenance": [],
   "version": "0.3.2",
   "views": {}
  },
  "kernelspec": {
   "display_name": "Python 3",
   "language": "python",
   "name": "python3"
  },
  "language_info": {
   "codemirror_mode": {
    "name": "ipython",
    "version": 3
   },
   "file_extension": ".py",
   "mimetype": "text/x-python",
   "name": "python",
   "nbconvert_exporter": "python",
   "pygments_lexer": "ipython3",
   "version": "3.6.4"
  }
 },
 "nbformat": 4,
 "nbformat_minor": 1
}
