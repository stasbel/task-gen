{
 "cells": [
  {
   "cell_type": "markdown",
   "metadata": {},
   "source": [
    "# Stackoverflow data"
   ]
  },
  {
   "cell_type": "code",
   "execution_count": null,
   "metadata": {},
   "outputs": [],
   "source": [
    "import random\n",
    "import numpy as np\n",
    "import pandas as pd\n",
    "\n",
    "from sklearn.datasets.lfw import Bunch"
   ]
  },
  {
   "cell_type": "markdown",
   "metadata": {},
   "source": [
    "## Args"
   ]
  },
  {
   "cell_type": "code",
   "execution_count": 12,
   "metadata": {},
   "outputs": [],
   "source": [
    "# !kaggle datasets download -d stackoverflow/pythonquestions"
   ]
  },
  {
   "cell_type": "code",
   "execution_count": 3,
   "metadata": {},
   "outputs": [],
   "source": [
    "df = pd.read_csv('~/.kaggle/datasets/stackoverflow/pythonquestions/Questions.csv', encoding='ISO-8859-1')"
   ]
  },
  {
   "cell_type": "code",
   "execution_count": 4,
   "metadata": {},
   "outputs": [
    {
     "data": {
      "text/html": [
       "<div>\n",
       "<style scoped>\n",
       "    .dataframe tbody tr th:only-of-type {\n",
       "        vertical-align: middle;\n",
       "    }\n",
       "\n",
       "    .dataframe tbody tr th {\n",
       "        vertical-align: top;\n",
       "    }\n",
       "\n",
       "    .dataframe thead th {\n",
       "        text-align: right;\n",
       "    }\n",
       "</style>\n",
       "<table border=\"1\" class=\"dataframe\">\n",
       "  <thead>\n",
       "    <tr style=\"text-align: right;\">\n",
       "      <th></th>\n",
       "      <th>Id</th>\n",
       "      <th>OwnerUserId</th>\n",
       "      <th>CreationDate</th>\n",
       "      <th>Score</th>\n",
       "      <th>Title</th>\n",
       "      <th>Body</th>\n",
       "    </tr>\n",
       "  </thead>\n",
       "  <tbody>\n",
       "    <tr>\n",
       "      <th>0</th>\n",
       "      <td>469</td>\n",
       "      <td>147.0</td>\n",
       "      <td>2008-08-02T15:11:16Z</td>\n",
       "      <td>21</td>\n",
       "      <td>How can I find the full path to a font from it...</td>\n",
       "      <td>&lt;p&gt;I am using the Photoshop's javascript API t...</td>\n",
       "    </tr>\n",
       "    <tr>\n",
       "      <th>1</th>\n",
       "      <td>502</td>\n",
       "      <td>147.0</td>\n",
       "      <td>2008-08-02T17:01:58Z</td>\n",
       "      <td>27</td>\n",
       "      <td>Get a preview JPEG of a PDF on Windows?</td>\n",
       "      <td>&lt;p&gt;I have a cross-platform (Python) applicatio...</td>\n",
       "    </tr>\n",
       "    <tr>\n",
       "      <th>2</th>\n",
       "      <td>535</td>\n",
       "      <td>154.0</td>\n",
       "      <td>2008-08-02T18:43:54Z</td>\n",
       "      <td>40</td>\n",
       "      <td>Continuous Integration System for a Python Cod...</td>\n",
       "      <td>&lt;p&gt;I'm starting work on a hobby project with a...</td>\n",
       "    </tr>\n",
       "    <tr>\n",
       "      <th>3</th>\n",
       "      <td>594</td>\n",
       "      <td>116.0</td>\n",
       "      <td>2008-08-03T01:15:08Z</td>\n",
       "      <td>25</td>\n",
       "      <td>cx_Oracle: How do I iterate over a result set?</td>\n",
       "      <td>&lt;p&gt;There are several ways to iterate over a re...</td>\n",
       "    </tr>\n",
       "    <tr>\n",
       "      <th>4</th>\n",
       "      <td>683</td>\n",
       "      <td>199.0</td>\n",
       "      <td>2008-08-03T13:19:16Z</td>\n",
       "      <td>28</td>\n",
       "      <td>Using 'in' to match an attribute of Python obj...</td>\n",
       "      <td>&lt;p&gt;I don't remember whether I was dreaming or ...</td>\n",
       "    </tr>\n",
       "  </tbody>\n",
       "</table>\n",
       "</div>"
      ],
      "text/plain": [
       "    Id  OwnerUserId          CreationDate  Score  \\\n",
       "0  469        147.0  2008-08-02T15:11:16Z     21   \n",
       "1  502        147.0  2008-08-02T17:01:58Z     27   \n",
       "2  535        154.0  2008-08-02T18:43:54Z     40   \n",
       "3  594        116.0  2008-08-03T01:15:08Z     25   \n",
       "4  683        199.0  2008-08-03T13:19:16Z     28   \n",
       "\n",
       "                                               Title  \\\n",
       "0  How can I find the full path to a font from it...   \n",
       "1            Get a preview JPEG of a PDF on Windows?   \n",
       "2  Continuous Integration System for a Python Cod...   \n",
       "3     cx_Oracle: How do I iterate over a result set?   \n",
       "4  Using 'in' to match an attribute of Python obj...   \n",
       "\n",
       "                                                Body  \n",
       "0  <p>I am using the Photoshop's javascript API t...  \n",
       "1  <p>I have a cross-platform (Python) applicatio...  \n",
       "2  <p>I'm starting work on a hobby project with a...  \n",
       "3  <p>There are several ways to iterate over a re...  \n",
       "4  <p>I don't remember whether I was dreaming or ...  "
      ]
     },
     "execution_count": 4,
     "metadata": {},
     "output_type": "execute_result"
    }
   ],
   "source": [
    "df.head()"
   ]
  },
  {
   "cell_type": "code",
   "execution_count": 5,
   "metadata": {},
   "outputs": [
    {
     "data": {
      "text/plain": [
       "607282"
      ]
     },
     "execution_count": 5,
     "metadata": {},
     "output_type": "execute_result"
    }
   ],
   "source": [
    "len(df)"
   ]
  },
  {
   "cell_type": "code",
   "execution_count": 8,
   "metadata": {},
   "outputs": [
    {
     "data": {
      "text/plain": [
       "172"
      ]
     },
     "execution_count": 8,
     "metadata": {},
     "output_type": "execute_result"
    }
   ],
   "source": [
    "df.Title.map(len).max()"
   ]
  },
  {
   "cell_type": "code",
   "execution_count": 11,
   "metadata": {},
   "outputs": [
    {
     "data": {
      "text/plain": [
       "['<p>I am running python 3.5 and I want to install pygame, the website only supports up to version 3.2. I have tried a few forums on this and other websites but they are all for python 3.4. Does anyone know were I can i find the install file for python 3.5 and how to install it?</p>\\n\\n<p>Thanks for your time</p>\\n',\n",
       " '<pre><code>def show_time(hour,min):\\n    hour = int(input())\\n    min = \\'\\'\\n    for hour in (hour,min):\\n        while 24 &gt;= hour &gt; 12:\\n            hour -= 12\\n            min == min\\n            return hour, \":\" min,\\'pm\\'\\n        if hour &lt; 12:\\n            if 0 &lt;= min &lt;= 59 \\n            hour == hour\\n            min == min\\n            return hour, \":\" min,\\'am\\'\\n</code></pre>\\n\\n<p>So this is my code so far.^^\\nWhen I run this code, i keep getting an infinite loop for one... another thing is.. I feel like i am totally off.   Btw.. I am trying to do this without importing anything and using the string formatting method.  Please HELP!\\nHere were my instructions...</p>\\n\\n<p>def show_time(hour,min): Accept integers    for the hour    (values from    0   to  23) and the minute<br>\\n(values from    0   to  59). Construct  the correct clock   representation, such    as  the examples    below.\\no you   must    use the format  method.\\no Examples:</p>\\n\\n<pre><code>! show_time(9,15) â\\x86\\x92 \"9:15am\"\\n! show_time(0,0) â\\x86\\x92 \"12:00am\"\\n! show_time(12,0) â\\x86\\x92 \"12:00pm\"\\n! show_time(22,5) â\\x86\\x92 \"10:05pm\"\\n</code></pre>\\n',\n",
       " '<pre><code>network={1:[2,3,4],2:[1,3,4], 3:[1,2], 4:[1,3,5], 5:[6,7,8], 6:[5,8],7:[5,6], 8:[5,6,7]}\\nstr1=\\'network.csv\\'\\noutput = open(str1,\\'w\\')\\nfor ii1 in network.keys():\\n    output.write(repr(ii1)+\":[\")\\n    for n in network[ii1]:\\n        output.write(\\' %s,\\'%(repr(n)))\\n    output.write(\\'\\\\b\\'+\\']\\\\n\\')\\noutput.close()\\n</code></pre>\\n\\n<p>What I expect is something like:</p>\\n\\n<pre><code>1:[ 2, 3, 4]\\n2:[ 1, 3, 4]\\n3:[ 1, 2]\\n4:[ 1, 3, 5]\\n5:[ 6, 7, 8]\\n6:[ 5, 8]\\n7:[ 5, 6]\\n8:[ 5, 6, 7]\\n</code></pre>\\n\\n<p>but what I get is:</p>\\n\\n<pre><code>1:[ 2, 3, 4,]\\n2:[ 1, 3, 4,]\\n3:[ 1, 2,]\\n4:[ 1, 3, 5,]\\n5:[ 6, 7, 8,]\\n6:[ 5, 8,]\\n7:[ 5, 6,]\\n8:[ 5, 6, 7,]\\n</code></pre>\\n\\n<p>I am a newbie....could someone please help?</p>\\n',\n",
       " '<p>Can job configuration be done to allow Large results using Synchronous big query ? </p>\\n',\n",
       " '<p><em>[Preamble: Whereas I realize there may be simpler ways to do this (i.e., just use Django built-in Admin, or use inlines to do all editing on one page, etc.), unfortunately, I am not in control of the designs, so I\\'m seeking help on how to work with what I\\'ve been tasked with implementing.]</em>  </p>\\n\\n<p>I have 2 models, Deck and Slide.  Slide has foreign key to Deck. (there is also an intermediate model--its a m2m relationship--but to simplify an already complex discussion, I\\'m going to pretend its a simpler many-to-one relationship.)</p>\\n\\n<p>The interface i am implementing displays a page with a form to enter or edit Deck fields which also includes an embedded list of Slides in the Deck, with some fields (which I\\'m in the process of making text inputs) and also with an \"edit\" and a \"remove\" anchor link for each Slide. (see img)  If you click an \"edit\" link, it takes you to a new page with a detailed form to input all the information representing the content for the corresponding slide.  If you click submit in that form, it takes you back to the page for the deck.  </p>\\n\\n<p><img src=\"http://i.stack.imgur.com/XNW8T.png\" alt=\"Screen shot\"></p>\\n\\n<p>As the title question proposes, I obviously don\\'t want to commit any Deck or Slides to the DB until a user clicks Submit for the entire Deck, i.e. they can add or edit many slides in the interim and may decide to cancel the whole process.  </p>\\n\\n<p>What is the best, cleanest way of doing this?</p>\\n\\n<p>I\\'ve looked at Django\\'s FormWizard class ( <a href=\"http://docs.djangoproject.com/en/dev/ref/contrib/formtools/form-wizard/\" rel=\"nofollow\">http://docs.djangoproject.com/en/dev/ref/contrib/formtools/form-wizard/</a> ), but seems to be geared towards a multi-step linear flow, not my situation.  </p>\\n\\n<p>I already had to implement this for a demo, and I\\'ve gotten most of the way there by creating an inline FormSet for the Slides and a Form for the Deck, and then writing subclasses for my Forms that hide the form and the formset as I pass back and forth between the two pages.  Here\\'s some code demonstrating how I use a hidden form for the deck in the slide page:  </p>\\n\\n<pre><code>class DeckForm(ModelForm):\\n    class Meta:\\n        #stuff here\\n\\nclass HiddenDeckForm(DeckForm):\\n    def __init__(self, *args, **kwargs):\\n        super(DeckHiddenForm, self).__init__(*args, **kwargs)\\n        for name, field in self.fields.iteritems():\\n            field.widget = field.hidden_widget()\\n            field.required = False\\n</code></pre>\\n\\n<p>So in my views, every time I go to the slide form page, I generate a HiddenDeckForm from the POST data and pass it in, and then in my view going back to the deck page, I regenerate the DeckForm (not hidden subclass) from the POST data.  Not going to post all my Slide form code, since I\\'m basically asking whether there is a better way of doing it, but similarly, I have a HiddenSlideForm class, and pass a formset of those between my templates to save the state. </p>\\n\\n<p>Then when the user clicks submit on the Deck page, the Deck form and Slides formset are all saved to the DB.  </p>\\n\\n<p>It works, but is this a good way to do it? Its been a good bit of code, and I\\'ve really had to dig into some Django internals--feel\\'s like I\\'m using things in a way they weren\\'t designed to be used.  Or is there already a more standard way of handling this scenario? </p>\\n\\n<p>I\\'ll post more code if its helpful. </p>\\n\\n<p>Thanks for the help! </p>\\n\\n<p><em>PS As you can see, I\\'m implementing it in a jquery colorbox and using ajax for the transitions between the forms, but I am just using normal template/form rendering in my views and passing the rendered html back to the page with an ajax call . . . guess I could do something with json, but strongly prefer to stick with passing a rendered template, as such an implementation could be used without ajax or javascript if desired.</em></p>\\n',\n",
       " '<p>How can you iterate through a list of multiple dictionaries?</p>\\n\\n<pre><code>list_country = [\\'dict_DAN\\', \\'dict_FRA\\']\\n\\ndict_DAN ={ \\'APPROVEDTXT\\':  \\'GODKENDT\\', \\'REVIEWTXT\\':  \\'KONTROLLERET AF\\'}\\ndict_FRA ={ \\'APPROVEDTXT\\':  \\'Aprov\\', \\'REVIEWTXT\\': \\'Controllier\\'}\\n\\nfor country in list_country:\\n    print country\\n\\n    for (key,item) in country.items:\\n            print key\\n            print item`\\n</code></pre>\\n\\n<blockquote>\\n  <p>this throws an error:\\n        File \"\", line 9, in \\n      AttributeError: \\'str\\' object has no attribute \\'items\\'</p>\\n</blockquote>\\n\\n<p>I want the code to use dict_DAN on the first iteration and dict_FRA on the second iteration. How can achieve this?</p>\\n',\n",
       " '<p>I recently published a working scrape to scrapyd.  I\\'m getting the error message below when I run the scrape.</p>\\n\\n<p>I reviewed this closed issue:  <a href=\"https://github.com/scrapy/scrapy/issues/86\" rel=\"nofollow\">https://github.com/scrapy/scrapy/issues/86</a> and implemented the recommended fix per the docs: <a href=\"http://scrapyd.readthedocs.org/en/latest/config.html\" rel=\"nofollow\">http://scrapyd.readthedocs.org/en/latest/config.html</a></p>\\n\\n<p>My config file lives here:  :/etc/scrapyd/conf.d/000-default</p>\\n\\n<p>I cannot seem to disable the Feedexporter extension by setting items_dir to none.  Is there a new way to disable feedexporter in scrapyd?</p>\\n\\n<p>Config file:</p>\\n\\n<pre><code>[scrapyd]\\nhttp_port  = 6800\\ndebug      = off\\n#max_proc  = 1\\neggs_dir   = /var/lib/scrapyd/eggs\\ndbs_dir    = /var/lib/scrapyd/dbs\\nitems_dir  =\\nlogs_dir   = /var/log/scrapyd\\n</code></pre>\\n\\n<p>Error Message:</p>\\n\\n<pre><code>2014-10-12 06:29:15-0500 [jsc] ERROR: Error caught on signal handler: &lt;bound method ?.item_scraped of &lt;scrapy.contrib.feedexport.FeedExporter object at 0x7fc879ff82d0&gt;&gt;\\nTraceback (most recent call last):\\n  File \"/usr/lib/python2.7/dist-packages/twisted/internet/defer.py\", line 577, in _runCallbacks\\n    current.result = callback(current.result, *args, **kw)\\n  File \"/usr/lib/pymodules/python2.7/scrapy/core/scraper.py\", line 215, in _itemproc_finished\\n    item=output, response=response, spider=spider)\\n  File \"/usr/lib/pymodules/python2.7/scrapy/signalmanager.py\", line 23, in send_catch_log_deferred\\n    return signal.send_catch_log_deferred(*a, **kw)\\n  File \"/usr/lib/pymodules/python2.7/scrapy/utils/signal.py\", line 53, in send_catch_log_deferred\\n    *arguments, **named)\\n--- &lt;exception caught here&gt; ---\\n  File \"/usr/lib/python2.7/dist-packages/twisted/internet/defer.py\", line 139, in maybeDeferred\\n    result = f(*args, **kw)\\n  File \"/usr/lib/pymodules/python2.7/scrapy/xlib/pydispatch/robustapply.py\", line 54, in robustApply\\n    return receiver(*arguments, **named)\\n  File \"/usr/lib/pymodules/python2.7/scrapy/contrib/feedexport.py\", line 190, in item_scraped\\n    slot.exporter.export_item(item)\\n  File \"/usr/lib/pymodules/python2.7/scrapy/contrib/exporter/__init__.py\", line 87, in export_item\\n    itemdict = dict(self._get_serialized_fields(item))\\n  File \"/usr/lib/pymodules/python2.7/scrapy/contrib/exporter/__init__.py\", line 71, in _get_serialized_fields\\n    field = item.fields[field_name]\\nexceptions.AttributeError: \\'dict\\' object has no attribute \\'fields\\'\\n</code></pre>\\n',\n",
       " '<pre><code>try:\\n        print (\"Started Running at:  \" + time.strftime(\"%c\"))\\n        pca = manifold.MDS(n_components=n_components, n_init=1, max_iter=100)\\nexcept MemoryError:\\n        print (\"Error at:  \" + time.strftime(\"%c\"))\\n</code></pre>\\n\\n<p>I did the above code. The line no 3 throws <code>MemoryError</code>. I tried catching it but am not able to do it.</p>\\n',\n",
       " '<p>I made a script to add floating point numbers from a file. Each number is separated on its own line.\\nMy result looks something like this...\\n412.2693\\n412.4593\\n419.9593\\nI would like to only display the 419.9593 number.</p>\\n\\n<p>This is the last part of what I wrote so far:</p>\\n\\n<pre><code>infile.close()\\nfor theitem in totallist:\\n#       print theitem\\n    a = float(theitem)\\n#       print a\\n        total = 0.0\\n        for item in totallist:\\n                x = float(item)\\n                total = total + x\\n                print total\\n</code></pre>\\n',\n",
       " '<p>How efficient are iterations over slice operations in Python? And if a copy is inevitable with slices, is there an alternative?</p>\\n\\n<p>I know that a slice operation over a list is O(k), where k is the size of the slice.</p>\\n\\n<pre><code>x[5 : 5+k]  # O(k) copy operation\\n</code></pre>\\n\\n<p>However, when iterating over a part of a list, I find that the cleanest (and most Pythonic?) way to do this (without having to resort to indices) is to do:</p>\\n\\n<pre><code>for elem in x[5 : 5+k]:\\n  print elem\\n</code></pre>\\n\\n<p>However my intuition is that this still results in an expensive copy of the sublist, rather than simply iterating over the existing list.</p>\\n']"
      ]
     },
     "execution_count": 11,
     "metadata": {},
     "output_type": "execute_result"
    }
   ],
   "source": [
    "random.sample(df.Body.tolist(), 10)"
   ]
  }
 ],
 "metadata": {
  "kernelspec": {
   "display_name": "Python 3",
   "language": "python",
   "name": "python3"
  },
  "language_info": {
   "codemirror_mode": {
    "name": "ipython",
    "version": 3
   },
   "file_extension": ".py",
   "mimetype": "text/x-python",
   "name": "python",
   "nbconvert_exporter": "python",
   "pygments_lexer": "ipython3",
   "version": "3.6.4"
  }
 },
 "nbformat": 4,
 "nbformat_minor": 2
}
