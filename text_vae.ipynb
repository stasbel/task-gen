{
 "cells": [
  {
   "cell_type": "code",
   "execution_count": 1,
   "metadata": {},
   "outputs": [],
   "source": [
    "%reload_ext autoreload\n",
    "%autoreload 2\n",
    "%matplotlib inline"
   ]
  },
  {
   "cell_type": "code",
   "execution_count": 2,
   "metadata": {},
   "outputs": [],
   "source": [
    "import math\n",
    "import tqdm\n",
    "import torch\n",
    "import numpy as np\n",
    "import torch.optim as optim\n",
    "import matplotlib.pyplot as plt\n",
    "\n",
    "from torch import nn\n",
    "from cupy.cuda import Device\n",
    "from text_vae.cvae import RnnVae\n",
    "from text_vae.corpus import SSTCorpus\n",
    "from text_vae.metrics import Evaluator\n",
    "from sklearn.datasets.lfw import Bunch\n",
    "from torch.nn.utils import clip_grad_norm_\n",
    "from collections import UserList, defaultdict\n",
    "from torch.optim.lr_scheduler import _LRScheduler\n",
    "from text_vae.misc import KLAnnealer, CosineAnnealingLRWithRestart, Logger, Plotter, reject_outliers"
   ]
  },
  {
   "cell_type": "code",
   "execution_count": 3,
   "metadata": {},
   "outputs": [],
   "source": [
    "path = Bunch(\n",
    "    save='vae.pt'\n",
    ")"
   ]
  },
  {
   "cell_type": "code",
   "execution_count": 4,
   "metadata": {},
   "outputs": [
    {
     "name": "stdout",
     "output_type": "stream",
     "text": [
      "Tue May 29 05:30:04 2018       \n",
      "+-----------------------------------------------------------------------------+\n",
      "| NVIDIA-SMI 384.130                Driver Version: 384.130                   |\n",
      "|-------------------------------+----------------------+----------------------+\n",
      "| GPU  Name        Persistence-M| Bus-Id        Disp.A | Volatile Uncorr. ECC |\n",
      "| Fan  Temp  Perf  Pwr:Usage/Cap|         Memory-Usage | GPU-Util  Compute M. |\n",
      "|===============================+======================+======================|\n",
      "|   0  GeForce GTX 108...  Off  | 00000000:09:00.0 Off |                  N/A |\n",
      "| 62%   75C    P2   220W / 250W |   8568MiB / 11172MiB |     94%      Default |\n",
      "+-------------------------------+----------------------+----------------------+\n",
      "|   1  GeForce GTX 108...  Off  | 00000000:0A:00.0 Off |                  N/A |\n",
      "| 50%   72C    P8    22W / 250W |     19MiB / 11172MiB |      0%      Default |\n",
      "+-------------------------------+----------------------+----------------------+\n",
      "|   2  GeForce GTX 108...  Off  | 00000000:42:00.0 Off |                  N/A |\n",
      "| 43%   64C    P8    21W / 250W |     19MiB / 11172MiB |      0%      Default |\n",
      "+-------------------------------+----------------------+----------------------+\n",
      "|   3  GeForce GTX 108...  Off  | 00000000:43:00.0 Off |                  N/A |\n",
      "| 40%   66C    P0    66W / 250W |     19MiB / 11170MiB |      0%      Default |\n",
      "+-------------------------------+----------------------+----------------------+\n",
      "                                                                               \n",
      "+-----------------------------------------------------------------------------+\n",
      "| Processes:                                                       GPU Memory |\n",
      "|  GPU       PID   Type   Process name                             Usage      |\n",
      "|=============================================================================|\n",
      "|    0      2417      G   /usr/lib/xorg/Xorg                             7MiB |\n",
      "|    0    126423      C   /home/ayutsukanova/anaconda3/bin/python     8549MiB |\n",
      "|    1      2417      G   /usr/lib/xorg/Xorg                             7MiB |\n",
      "|    2      2417      G   /usr/lib/xorg/Xorg                             7MiB |\n",
      "|    3      2417      G   /usr/lib/xorg/Xorg                             7MiB |\n",
      "+-----------------------------------------------------------------------------+\n"
     ]
    }
   ],
   "source": [
    "!nvidia-smi"
   ]
  },
  {
   "cell_type": "code",
   "execution_count": 5,
   "metadata": {},
   "outputs": [],
   "source": [
    "args = Bunch(\n",
    "    # Model\n",
    "    model=Bunch(\n",
    "        q=Bunch(\n",
    "            d_h=64,\n",
    "            n_layers=1,\n",
    "            s_dropout=0.0,\n",
    "            r_dropout=0.0\n",
    "        ),\n",
    "        g=Bunch(\n",
    "            n_layers=1,\n",
    "            s_dropout=0.0,\n",
    "            r_dropout=0.0\n",
    "        ),\n",
    "        d_z=64,\n",
    "        d_c=2,\n",
    "        n_len=15 + 2,  # + <bos> and <eos>\n",
    "        n_vocab=10000,  # 'up to' value\n",
    "        d_emb=50,\n",
    "        p_word_dropout=0.3,\n",
    "        freeze_embeddings=False,\n",
    "    ),\n",
    "    # Train\n",
    "    train=Bunch(\n",
    "        n_batch=64,\n",
    "        n_iter_per_epoch=1000,  # n_epoch will be calcaulated based on lr setting\n",
    "        grad_clipping=5,\n",
    "        kl=Bunch(\n",
    "            i_start=0,\n",
    "            w_start=0.01,\n",
    "            w_max=0.4\n",
    "        ),\n",
    "        bleu_val_hypot=100,\n",
    "        bleu_test_hypot=100,\n",
    "        lr=Bunch(\n",
    "            value=1e-2,\n",
    "            scheduler=Bunch(\n",
    "                n_period=5,\n",
    "                n_r=1,\n",
    "                n_mult=2,\n",
    "                lr_min=1e-3\n",
    "            )\n",
    "        )\n",
    "    ),\n",
    "    # Env\n",
    "    device_code=3\n",
    ")"
   ]
  },
  {
   "cell_type": "code",
   "execution_count": 6,
   "metadata": {},
   "outputs": [
    {
     "data": {
      "text/plain": [
       "device(type='cuda', index=3)"
      ]
     },
     "execution_count": 6,
     "metadata": {},
     "output_type": "execute_result"
    }
   ],
   "source": [
    "device = torch.device(\n",
    "    f'cuda:{args.device_code}' \n",
    "    if args.device_code >= 0 and torch.cuda.is_available()\n",
    "    else 'cpu'\n",
    ")\n",
    "Device(device.index).use()  # cupy for SRU to work\n",
    "device"
   ]
  },
  {
   "cell_type": "code",
   "execution_count": 7,
   "metadata": {},
   "outputs": [],
   "source": [
    "corpus = SSTCorpus(**args.model, n_batch=args.train.n_batch, device=device)"
   ]
  },
  {
   "cell_type": "code",
   "execution_count": 8,
   "metadata": {},
   "outputs": [
    {
     "data": {
      "text/plain": [
       "RnnVae(\n",
       "  (x_emb): Embedding(5894, 50, padding_idx=0)\n",
       "  (encoder_rnn): SRU(\n",
       "    (rnn_lst): ModuleList(\n",
       "      (0): SRUCell()\n",
       "    )\n",
       "  )\n",
       "  (q_mu): Linear(in_features=64, out_features=64, bias=True)\n",
       "  (q_logvar): Linear(in_features=64, out_features=64, bias=True)\n",
       "  (decoder_rnn): SRU(\n",
       "    (rnn_lst): ModuleList(\n",
       "      (0): SRUCell()\n",
       "    )\n",
       "  )\n",
       "  (decoder_a): SelfAttention(\n",
       "    (linear_in): Linear(in_features=66, out_features=66, bias=False)\n",
       "    (linear_out): Linear(in_features=132, out_features=66, bias=False)\n",
       "  )\n",
       "  (decoder_fc): Linear(in_features=66, out_features=5894, bias=True)\n",
       "  (conv3): Conv2d(1, 100, kernel_size=(3, 50), stride=(1, 1))\n",
       "  (conv4): Conv2d(1, 100, kernel_size=(4, 50), stride=(1, 1))\n",
       "  (conv5): Conv2d(1, 100, kernel_size=(5, 50), stride=(1, 1))\n",
       "  (disc_fc): Sequential(\n",
       "    (0): Dropout(p=0.5)\n",
       "    (1): Linear(in_features=300, out_features=2, bias=True)\n",
       "  )\n",
       "  (encoder): ModuleList(\n",
       "    (0): SRU(\n",
       "      (rnn_lst): ModuleList(\n",
       "        (0): SRUCell()\n",
       "      )\n",
       "    )\n",
       "    (1): Linear(in_features=64, out_features=64, bias=True)\n",
       "    (2): Linear(in_features=64, out_features=64, bias=True)\n",
       "  )\n",
       "  (decoder): ModuleList(\n",
       "    (0): SRU(\n",
       "      (rnn_lst): ModuleList(\n",
       "        (0): SRUCell()\n",
       "      )\n",
       "    )\n",
       "    (1): SelfAttention(\n",
       "      (linear_in): Linear(in_features=66, out_features=66, bias=False)\n",
       "      (linear_out): Linear(in_features=132, out_features=66, bias=False)\n",
       "    )\n",
       "    (2): Linear(in_features=66, out_features=5894, bias=True)\n",
       "  )\n",
       "  (vae): ModuleList(\n",
       "    (0): Embedding(5894, 50, padding_idx=0)\n",
       "    (1): ModuleList(\n",
       "      (0): SRU(\n",
       "        (rnn_lst): ModuleList(\n",
       "          (0): SRUCell()\n",
       "        )\n",
       "      )\n",
       "      (1): Linear(in_features=64, out_features=64, bias=True)\n",
       "      (2): Linear(in_features=64, out_features=64, bias=True)\n",
       "    )\n",
       "    (2): ModuleList(\n",
       "      (0): SRU(\n",
       "        (rnn_lst): ModuleList(\n",
       "          (0): SRUCell()\n",
       "        )\n",
       "      )\n",
       "      (1): SelfAttention(\n",
       "        (linear_in): Linear(in_features=66, out_features=66, bias=False)\n",
       "        (linear_out): Linear(in_features=132, out_features=66, bias=False)\n",
       "      )\n",
       "      (2): Linear(in_features=66, out_features=5894, bias=True)\n",
       "    )\n",
       "  )\n",
       "  (discriminator): ModuleList(\n",
       "    (0): Conv2d(1, 100, kernel_size=(3, 50), stride=(1, 1))\n",
       "    (1): Conv2d(1, 100, kernel_size=(4, 50), stride=(1, 1))\n",
       "    (2): Conv2d(1, 100, kernel_size=(5, 50), stride=(1, 1))\n",
       "    (3): Sequential(\n",
       "      (0): Dropout(p=0.5)\n",
       "      (1): Linear(in_features=300, out_features=2, bias=True)\n",
       "    )\n",
       "  )\n",
       ")"
      ]
     },
     "execution_count": 8,
     "metadata": {},
     "output_type": "execute_result"
    }
   ],
   "source": [
    "model = RnnVae(\n",
    "    **args.model, \n",
    "    x_vocab=corpus.vocab('x')\n",
    ").to(device)\n",
    "model"
   ]
  },
  {
   "cell_type": "code",
   "execution_count": 128,
   "metadata": {},
   "outputs": [
    {
     "data": {
      "text/plain": [
       "tensor([[    2,  1755,  1013,  3273,   366,  5114,  2475,  3524,  5539,\n",
       "          1320,  2307,  3022,  2214,  2669,  5088,  5030,  1242],\n",
       "        [    2,    72,  3490,  5513,  5197,  3079,  1393,  2730,  1633,\n",
       "          3603,  4979,  2932,   327,  1272,  3349,  2093,  3375],\n",
       "        [    2,  5692,  4994,  4586,   989,  4586,   341,  4559,  1019,\n",
       "          3262,  2484,  5755,  3259,  4845,  2974,  1422,  3891],\n",
       "        [    2,   611,  5435,  3747,  4876,   101,  4686,  5604,  2078,\n",
       "          3098,  3166,  1881,  1394,   461,   815,  1095,   387],\n",
       "        [    2,   248,  5466,  1628,    37,  1800,  1784,    37,  4531,\n",
       "           298,  2902,  3805,  5879,  5557,  3194,  1475,  5622],\n",
       "        [    2,   463,  4929,   200,  1217,  3296,  1375,  2682,   373,\n",
       "          5072,  5483,  5277,   300,  5393,  4119,  5891,  1102],\n",
       "        [    2,  1875,  5122,  1214,   563,  3265,  5873,  3500,   506,\n",
       "           572,   226,  4673,   229,  2323,  3458,  3066,  5285],\n",
       "        [    2,  3429,  4573,  5016,  1579,  5013,  4990,  1100,   854,\n",
       "          5331,  3119,  1290,   895,   856,  4196,  5678,  5024],\n",
       "        [    2,  3209,   962,  3866,  2616,  3531,  3199,  5700,  1354,\n",
       "          4662,   725,  5156,  2886,   405,  1876,  5531,  3924],\n",
       "        [    2,  1713,  2197,   501,  2437,  1135,  2166,  3591,    73,\n",
       "          1240,  1901,  3653,  1069,  5101,  4587,  1563,   158]], device='cuda:3')"
      ]
     },
     "execution_count": 128,
     "metadata": {},
     "output_type": "execute_result"
    }
   ],
   "source": [
    "model.sample_sentence2(10)[2]"
   ]
  },
  {
   "cell_type": "code",
   "execution_count": 32,
   "metadata": {},
   "outputs": [
    {
     "data": {
      "text/plain": [
       "'morvern built dressed tediously clumsy phenomenal words grateful fame willie kind schmidt mr stream thrill eerily'"
      ]
     },
     "execution_count": 32,
     "metadata": {},
     "output_type": "execute_result"
    }
   ],
   "source": [
    "corpus.reverse(model.sample_sentence(1)[2])[0]  # sanity check"
   ]
  },
  {
   "cell_type": "code",
   "execution_count": null,
   "metadata": {},
   "outputs": [],
   "source": [
    "evaluator = Evaluator(corpus)"
   ]
  },
  {
   "cell_type": "code",
   "execution_count": null,
   "metadata": {},
   "outputs": [],
   "source": [
    "n_epoch = sum(args.train.lr.scheduler.n_period * (args.train.lr.scheduler.n_mult ** i)\n",
    "              for i in range(args.train.lr.scheduler.n_r))\n",
    "kl_annealer = KLAnnealer(**args.train.kl, n_epoch=n_epoch)\n",
    "xs = np.linspace(0, n_epoch, num=n_epoch + 1)\n",
    "ts = np.array([kl_annealer(i) for i in xs])\n",
    "plt.figure(figsize=(7, 7))\n",
    "plt.ylabel('value')\n",
    "plt.xlabel('epoch')\n",
    "plt.title('kl weight')\n",
    "plt.plot(xs, ts);"
   ]
  },
  {
   "cell_type": "code",
   "execution_count": null,
   "metadata": {},
   "outputs": [],
   "source": [
    "get_params = lambda: (p for p in model.vae.parameters() if p.requires_grad)\n",
    "trainer = optim.Adam(get_params(), lr=args.train.lr.value)\n",
    "lr_scheduler = CosineAnnealingLRWithRestart(trainer, **args.train.lr.scheduler)"
   ]
  },
  {
   "cell_type": "code",
   "execution_count": 16,
   "metadata": {},
   "outputs": [
    {
     "data": {
      "application/vnd.jupyter.widget-view+json": {
       "model_id": "53ffd285baea4db799d93697f469a4b5",
       "version_major": 2,
       "version_minor": 0
      },
      "text/plain": [
       "HBox(children=(IntProgress(value=0, max=5), HTML(value='')))"
      ]
     },
     "metadata": {},
     "output_type": "display_data"
    },
    {
     "name": "stdout",
     "output_type": "stream",
     "text": [
      "\n"
     ]
    },
    {
     "ename": "KeyboardInterrupt",
     "evalue": "",
     "output_type": "error",
     "traceback": [
      "\u001b[0;31m---------------------------------------------------------------------------\u001b[0m",
      "\u001b[0;31mKeyboardInterrupt\u001b[0m                         Traceback (most recent call last)",
      "\u001b[0;32m<ipython-input-16-58fb2a27a56a>\u001b[0m in \u001b[0;36m<module>\u001b[0;34m()\u001b[0m\n\u001b[1;32m     17\u001b[0m         \u001b[0;31m# Backward\u001b[0m\u001b[0;34m\u001b[0m\u001b[0;34m\u001b[0m\u001b[0m\n\u001b[1;32m     18\u001b[0m         \u001b[0mtrainer\u001b[0m\u001b[0;34m.\u001b[0m\u001b[0mzero_grad\u001b[0m\u001b[0;34m(\u001b[0m\u001b[0;34m)\u001b[0m\u001b[0;34m\u001b[0m\u001b[0m\n\u001b[0;32m---> 19\u001b[0;31m         \u001b[0mloss\u001b[0m\u001b[0;34m.\u001b[0m\u001b[0mbackward\u001b[0m\u001b[0;34m(\u001b[0m\u001b[0;34m)\u001b[0m\u001b[0;34m\u001b[0m\u001b[0m\n\u001b[0m\u001b[1;32m     20\u001b[0m         \u001b[0mclip_grad_norm_\u001b[0m\u001b[0;34m(\u001b[0m\u001b[0mget_params\u001b[0m\u001b[0;34m(\u001b[0m\u001b[0;34m)\u001b[0m\u001b[0;34m,\u001b[0m \u001b[0margs\u001b[0m\u001b[0;34m.\u001b[0m\u001b[0mtrain\u001b[0m\u001b[0;34m.\u001b[0m\u001b[0mgrad_clipping\u001b[0m\u001b[0;34m)\u001b[0m\u001b[0;34m\u001b[0m\u001b[0m\n\u001b[1;32m     21\u001b[0m         \u001b[0mtrainer\u001b[0m\u001b[0;34m.\u001b[0m\u001b[0mstep\u001b[0m\u001b[0;34m(\u001b[0m\u001b[0;34m)\u001b[0m\u001b[0;34m\u001b[0m\u001b[0m\n",
      "\u001b[0;32m~/miniconda3/envs/text_gen/lib/python3.6/site-packages/torch/tensor.py\u001b[0m in \u001b[0;36mbackward\u001b[0;34m(self, gradient, retain_graph, create_graph)\u001b[0m\n\u001b[1;32m     91\u001b[0m                 \u001b[0mproducts\u001b[0m\u001b[0;34m.\u001b[0m \u001b[0mDefaults\u001b[0m \u001b[0mto\u001b[0m\u001b[0;31m \u001b[0m\u001b[0;31m`\u001b[0m\u001b[0;31m`\u001b[0m\u001b[0;32mFalse\u001b[0m\u001b[0;31m`\u001b[0m\u001b[0;31m`\u001b[0m\u001b[0;34m.\u001b[0m\u001b[0;34m\u001b[0m\u001b[0m\n\u001b[1;32m     92\u001b[0m         \"\"\"\n\u001b[0;32m---> 93\u001b[0;31m         \u001b[0mtorch\u001b[0m\u001b[0;34m.\u001b[0m\u001b[0mautograd\u001b[0m\u001b[0;34m.\u001b[0m\u001b[0mbackward\u001b[0m\u001b[0;34m(\u001b[0m\u001b[0mself\u001b[0m\u001b[0;34m,\u001b[0m \u001b[0mgradient\u001b[0m\u001b[0;34m,\u001b[0m \u001b[0mretain_graph\u001b[0m\u001b[0;34m,\u001b[0m \u001b[0mcreate_graph\u001b[0m\u001b[0;34m)\u001b[0m\u001b[0;34m\u001b[0m\u001b[0m\n\u001b[0m\u001b[1;32m     94\u001b[0m \u001b[0;34m\u001b[0m\u001b[0m\n\u001b[1;32m     95\u001b[0m     \u001b[0;32mdef\u001b[0m \u001b[0mregister_hook\u001b[0m\u001b[0;34m(\u001b[0m\u001b[0mself\u001b[0m\u001b[0;34m,\u001b[0m \u001b[0mhook\u001b[0m\u001b[0;34m)\u001b[0m\u001b[0;34m:\u001b[0m\u001b[0;34m\u001b[0m\u001b[0m\n",
      "\u001b[0;32m~/miniconda3/envs/text_gen/lib/python3.6/site-packages/torch/autograd/__init__.py\u001b[0m in \u001b[0;36mbackward\u001b[0;34m(tensors, grad_tensors, retain_graph, create_graph, grad_variables)\u001b[0m\n\u001b[1;32m     87\u001b[0m     Variable._execution_engine.run_backward(\n\u001b[1;32m     88\u001b[0m         \u001b[0mtensors\u001b[0m\u001b[0;34m,\u001b[0m \u001b[0mgrad_tensors\u001b[0m\u001b[0;34m,\u001b[0m \u001b[0mretain_graph\u001b[0m\u001b[0;34m,\u001b[0m \u001b[0mcreate_graph\u001b[0m\u001b[0;34m,\u001b[0m\u001b[0;34m\u001b[0m\u001b[0m\n\u001b[0;32m---> 89\u001b[0;31m         allow_unreachable=True)  # allow_unreachable flag\n\u001b[0m\u001b[1;32m     90\u001b[0m \u001b[0;34m\u001b[0m\u001b[0m\n\u001b[1;32m     91\u001b[0m \u001b[0;34m\u001b[0m\u001b[0m\n",
      "\u001b[0;31mKeyboardInterrupt\u001b[0m: "
     ]
    }
   ],
   "source": [
    "model.train()\n",
    "batcher = corpus.batcher('unlabeled', 'train')\n",
    "T = tqdm.tqdm_notebook(range(n_epoch))\n",
    "elog, ilog = Logger(), Logger()\n",
    "\n",
    "for epoch in T:\n",
    "    # Epoch start\n",
    "    kl_weight = kl_annealer(epoch)\n",
    "    \n",
    "    # Iters\n",
    "    for i in range(args.train.n_iter_per_epoch):\n",
    "        # Forward\n",
    "        x = next(batcher)\n",
    "        kl_loss, recon_loss = model(x)\n",
    "        loss = kl_weight * kl_loss + recon_loss\n",
    "        \n",
    "        # Backward\n",
    "        trainer.zero_grad()\n",
    "        loss.backward()\n",
    "        clip_grad_norm_(get_params(), args.train.grad_clipping)\n",
    "        trainer.step()\n",
    "        \n",
    "        # Log\n",
    "        lr = trainer.param_groups[0]['lr']\n",
    "        ilog.append({\n",
    "            'epoch': epoch,\n",
    "            'kl_loss': kl_loss.item(),\n",
    "            'recon_loss': recon_loss.item(),\n",
    "            'loss': loss.item(),\n",
    "            'kl_weight': kl_weight,\n",
    "            'lr': lr\n",
    "        })\n",
    "        \n",
    "        # Update T\n",
    "        kl_loss_value = np.mean(reject_outliers(ilog['kl_loss'][-args.train.n_iter_per_epoch:]))\n",
    "        recon_loss_value = np.mean(reject_outliers(ilog['recon_loss'][-args.train.n_iter_per_epoch:]))\n",
    "        loss_value = np.mean(reject_outliers(ilog['loss'][-args.train.n_iter_per_epoch:]))\n",
    "        postfix_strs = []\n",
    "        postfix_strs.append(f'i={i}/{args.train.n_iter_per_epoch}')\n",
    "        postfix_strs.append(f'kl_loss={kl_loss_value:.5f}')\n",
    "        postfix_strs.append(f'recon_loss={recon_loss_value:.5f}')\n",
    "        postfix_strs.append(f'loss={loss_value:.5f}')\n",
    "        postfix_strs.append(f'klw={kl_weight:.3f} lr={lr:.5f}')\n",
    "        T.set_postfix_str(' '.join(postfix_strs))\n",
    "        T.refresh()\n",
    "    \n",
    "    # Log\n",
    "    sent = corpus.reverse(model.sample_sentence(1)[-1])[0]\n",
    "    bleu = evaluator.bleu(model, args.train.bleu_val_hypot)\n",
    "    self_bleu = evaluator.self_bleu(model, args.train.bleu_val_hypot)\n",
    "    elog.append({\n",
    "        **{k: v for k, v in ilog[-1].items() if 'loss' not in k},\n",
    "        'kl_loss': kl_loss_value,\n",
    "        'recon_loss': recon_loss_value,\n",
    "        'loss': loss_value,\n",
    "        'sent': sent,\n",
    "        'bleu': bleu,\n",
    "        'self_bleu': self_bleu\n",
    "    })\n",
    "    \n",
    "    # Print result\n",
    "    bleu_5 = bleu['5-gram']\n",
    "    print(f\"[epoch={epoch}, bleu_5={bleu_5:.3f}]: '{sent}'\")\n",
    "    \n",
    "    # Epoch end\n",
    "    lr_scheduler.step()"
   ]
  },
  {
   "cell_type": "code",
   "execution_count": 14,
   "metadata": {},
   "outputs": [
    {
     "data": {
      "image/png": "[encoded data removed]",
      "text/plain": [
       "<Figure size 1080x1080 with 6 Axes>"
      ]
     },
     "metadata": {},
     "output_type": "display_data"
    }
   ],
   "source": [
    "plotter = Plotter(elog)\n",
    "plotter.grid([\n",
    "    'kl_loss', 'recon_loss',\n",
    "    'loss', 'lr',\n",
    "    'bleu', 'self_bleu'\n",
    "])"
   ]
  },
  {
   "cell_type": "code",
   "execution_count": 15,
   "metadata": {},
   "outputs": [
    {
     "name": "stdout",
     "output_type": "stream",
     "text": [
      "CPU times: user 1min 14s, sys: 10.7 ms, total: 1min 14s\n",
      "Wall time: 1min 14s\n"
     ]
    },
    {
     "data": {
      "text/plain": [
       "{'2-gram': 0.8919798105486515,\n",
       " '3-gram': 0.64413336843458535,\n",
       " '4-gram': 0.42511642478038519,\n",
       " '5-gram': 0.30481452024849104}"
      ]
     },
     "execution_count": 15,
     "metadata": {},
     "output_type": "execute_result"
    }
   ],
   "source": [
    "%time evaluator.bleu(model, args.train.bleu_test_hypot, 'train')"
   ]
  },
  {
   "cell_type": "code",
   "execution_count": 16,
   "metadata": {},
   "outputs": [
    {
     "name": "stdout",
     "output_type": "stream",
     "text": [
      "CPU times: user 20.2 s, sys: 11.2 ms, total: 20.2 s\n",
      "Wall time: 20.2 s\n"
     ]
    },
    {
     "data": {
      "text/plain": [
       "{'2-gram': 0.39064323157909875,\n",
       " '3-gram': 0.16188557971520123,\n",
       " '4-gram': 0.094443849645208744,\n",
       " '5-gram': 0.070593768046808489}"
      ]
     },
     "execution_count": 16,
     "metadata": {},
     "output_type": "execute_result"
    }
   ],
   "source": [
    "%time evaluator.bleu(model, args.train.bleu_test_hypot, 'test')"
   ]
  },
  {
   "cell_type": "code",
   "execution_count": 17,
   "metadata": {},
   "outputs": [
    {
     "data": {
      "text/plain": [
       "{'2-gram': 0.24585305159284021,\n",
       " '3-gram': 0.10708780487814559,\n",
       " '4-gram': 0.067093866153208795,\n",
       " '5-gram': 0.054102266164599809}"
      ]
     },
     "execution_count": 17,
     "metadata": {},
     "output_type": "execute_result"
    }
   ],
   "source": [
    "evaluator.self_bleu(model, args.train.bleu_test_hypot)"
   ]
  },
  {
   "cell_type": "code",
   "execution_count": 18,
   "metadata": {},
   "outputs": [],
   "source": [
    "torch.save((args, model), path.save)"
   ]
  },
  {
   "cell_type": "code",
   "execution_count": 19,
   "metadata": {},
   "outputs": [
    {
     "name": "stdout",
     "output_type": "stream",
     "text": [
      "3.2M\tvae.pt\r\n"
     ]
    }
   ],
   "source": [
    "!du -sh {path.save}"
   ]
  }
 ],
 "metadata": {
  "kernelspec": {
   "display_name": "Python 3",
   "language": "python",
   "name": "python3"
  },
  "language_info": {
   "codemirror_mode": {
    "name": "ipython",
    "version": 3
   },
   "file_extension": ".py",
   "mimetype": "text/x-python",
   "name": "python",
   "nbconvert_exporter": "python",
   "pygments_lexer": "ipython3",
   "version": "3.6.5"
  }
 },
 "nbformat": 4,
 "nbformat_minor": 2
}
