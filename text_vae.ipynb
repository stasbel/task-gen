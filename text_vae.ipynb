{
 "cells": [
  {
   "cell_type": "code",
   "execution_count": 1,
   "metadata": {},
   "outputs": [],
   "source": [
    "%reload_ext autoreload\n",
    "%autoreload 2\n",
    "%matplotlib inline"
   ]
  },
  {
   "cell_type": "code",
   "execution_count": 2,
   "metadata": {},
   "outputs": [
    {
     "name": "stdout",
     "output_type": "stream",
     "text": [
      "env: CUDA_LAUNCH_BLOCKING=1\n"
     ]
    }
   ],
   "source": [
    "%env CUDA_LAUNCH_BLOCKING=1"
   ]
  },
  {
   "cell_type": "code",
   "execution_count": 3,
   "metadata": {},
   "outputs": [],
   "source": [
    "import math\n",
    "import tqdm\n",
    "import torch\n",
    "import numpy as np\n",
    "import torch.optim as optim\n",
    "import matplotlib.pyplot as plt\n",
    "\n",
    "from torch import nn\n",
    "from cupy.cuda import Device\n",
    "from text_vae.cvae import RnnVae\n",
    "from text_vae.metrics import Evaluator\n",
    "from sklearn.datasets.lfw import Bunch\n",
    "from torch.nn.utils import clip_grad_norm_\n",
    "from collections import UserList, defaultdict\n",
    "from torch.optim.lr_scheduler import _LRScheduler\n",
    "from text_vae.corpus import SSTCorpus, WikiText2Corpus, IMDBCorpus\n",
    "from text_vae.misc import KLAnnealer, CosineAnnealingLRWithRestart, Logger, LogPlotter, reject_outliers, SamplePlotter"
   ]
  },
  {
   "cell_type": "code",
   "execution_count": 4,
   "metadata": {},
   "outputs": [],
   "source": [
    "path = Bunch(\n",
    "    save='vae.pt'\n",
    ")"
   ]
  },
  {
   "cell_type": "code",
   "execution_count": 5,
   "metadata": {},
   "outputs": [
    {
     "name": "stdout",
     "output_type": "stream",
     "text": [
      "Thu May 31 17:23:26 2018       \n",
      "+-----------------------------------------------------------------------------+\n",
      "| NVIDIA-SMI 384.130                Driver Version: 384.130                   |\n",
      "|-------------------------------+----------------------+----------------------+\n",
      "| GPU  Name        Persistence-M| Bus-Id        Disp.A | Volatile Uncorr. ECC |\n",
      "| Fan  Temp  Perf  Pwr:Usage/Cap|         Memory-Usage | GPU-Util  Compute M. |\n",
      "|===============================+======================+======================|\n",
      "|   0  GeForce GTX 108...  Off  | 00000000:09:00.0 Off |                  N/A |\n",
      "| 47%   67C    P2    66W / 250W |    696MiB / 11172MiB |     19%      Default |\n",
      "+-------------------------------+----------------------+----------------------+\n",
      "|   1  GeForce GTX 108...  Off  | 00000000:0A:00.0 Off |                  N/A |\n",
      "| 85%   90C    P2    74W / 250W |  10608MiB / 11172MiB |      0%      Default |\n",
      "+-------------------------------+----------------------+----------------------+\n",
      "|   2  GeForce GTX 108...  Off  | 00000000:42:00.0 Off |                  N/A |\n",
      "| 85%   90C    P2    89W / 250W |   9788MiB / 11172MiB |    100%      Default |\n",
      "+-------------------------------+----------------------+----------------------+\n",
      "|   3  GeForce GTX 108...  Off  | 00000000:43:00.0 Off |                  N/A |\n",
      "| 33%   61C    P8    22W / 250W |     19MiB / 11170MiB |      0%      Default |\n",
      "+-------------------------------+----------------------+----------------------+\n",
      "                                                                               \n",
      "+-----------------------------------------------------------------------------+\n",
      "| Processes:                                                       GPU Memory |\n",
      "|  GPU       PID   Type   Process name                             Usage      |\n",
      "|=============================================================================|\n",
      "|    0      2417      G   /usr/lib/xorg/Xorg                             7MiB |\n",
      "|    0     81239      C   python                                       677MiB |\n",
      "|    1      2417      G   /usr/lib/xorg/Xorg                             7MiB |\n",
      "|    1    123732      C   python                                     10589MiB |\n",
      "|    2      2417      G   /usr/lib/xorg/Xorg                             7MiB |\n",
      "|    2    123732      C   python                                      9769MiB |\n",
      "|    3      2417      G   /usr/lib/xorg/Xorg                             7MiB |\n",
      "+-----------------------------------------------------------------------------+\n"
     ]
    }
   ],
   "source": [
    "!nvidia-smi"
   ]
  },
  {
   "cell_type": "code",
   "execution_count": 6,
   "metadata": {},
   "outputs": [],
   "source": [
    "args = Bunch(\n",
    "    # Model\n",
    "    model=Bunch(\n",
    "        q=Bunch(\n",
    "            d_h=64,\n",
    "            n_layers=3,\n",
    "            s_dropout=0.0,\n",
    "            r_dropout=0.0\n",
    "        ),\n",
    "        g=Bunch(\n",
    "            n_layers=3,\n",
    "            s_dropout=0.0,\n",
    "            r_dropout=0.0\n",
    "        ),\n",
    "        d=Bunch(\n",
    "            n_filters=3\n",
    "        ),\n",
    "        d_z=64,\n",
    "        d_c=2,\n",
    "        n_len=15 + 2,  # + <bos> and <eos>\n",
    "        n_vocab=10000,  # 'up to' value\n",
    "        d_emb=50,\n",
    "        p_word_dropout=0.5,\n",
    "        freeze_embeddings=True,\n",
    "    ),\n",
    "    # Train\n",
    "    train=Bunch(\n",
    "        n_batch=64,\n",
    "        n_iter_per_epoch=3000,  # n_epoch will be calcaulated based on lr setting\n",
    "        grad_clipping=5,\n",
    "        kl=Bunch(\n",
    "            i_start=5,\n",
    "            w_start=0.01,\n",
    "            w_max=0.4\n",
    "        ),\n",
    "        lr=Bunch(\n",
    "            value=1e-2,\n",
    "            scheduler=Bunch(\n",
    "                n_period=10,\n",
    "                n_r=3,  # number of restarts in SGDR\n",
    "                n_mult=2,\n",
    "                lr_min=1e-3\n",
    "            )\n",
    "        )\n",
    "    ),\n",
    "    # Val\n",
    "    val=Bunch(\n",
    "        n_beam=5,\n",
    "        coverage_penalty=True,\n",
    "        n_hypot=100,\n",
    "        n_ref=500\n",
    "    ),\n",
    "    # Env\n",
    "    device_code=0\n",
    ")"
   ]
  },
  {
   "cell_type": "code",
   "execution_count": 7,
   "metadata": {},
   "outputs": [
    {
     "data": {
      "text/plain": [
       "device(type='cuda', index=0)"
      ]
     },
     "execution_count": 7,
     "metadata": {},
     "output_type": "execute_result"
    }
   ],
   "source": [
    "device = torch.device(\n",
    "    f'cuda:{args.device_code}' \n",
    "    if args.device_code >= 0 and torch.cuda.is_available()\n",
    "    else 'cpu'\n",
    ")\n",
    "Device(device.index).use()  # cupy for SRU to work\n",
    "device"
   ]
  },
  {
   "cell_type": "code",
   "execution_count": 8,
   "metadata": {},
   "outputs": [
    {
     "name": "stdout",
     "output_type": "stream",
     "text": [
      "CPU times: user 44 s, sys: 660 ms, total: 44.7 s\n",
      "Wall time: 44.7 s\n"
     ]
    },
    {
     "data": {
      "text/plain": [
       "(25000, 25000, 25000)"
      ]
     },
     "execution_count": 8,
     "metadata": {},
     "output_type": "execute_result"
    }
   ],
   "source": [
    "# Sents with targets\n",
    "# %time corpus = SSTCorpus(**args.model, n_batch=args.train.n_batch, device=device)\n",
    "# LM\n",
    "# %time corpus = WikiText2Corpus(**args.model, n_batch=args.train.n_batch, device=device)\n",
    "# Sents with targets, `val` same as `test` (so we overfit a bit), `unlabeled` xs same as `labeled` xs\n",
    "%time corpus = IMDBCorpus(**args.model, n_batch=args.train.n_batch, device=device)\n",
    "corpus.size('train'), corpus.size('val'), corpus.size('test')"
   ]
  },
  {
   "cell_type": "code",
   "execution_count": 9,
   "metadata": {},
   "outputs": [
    {
     "data": {
      "text/plain": [
       "RnnVae(\n",
       "  (x_emb): Embedding(10000, 50, padding_idx=0)\n",
       "  (encoder_rnn): SRU(\n",
       "    (rnn_lst): ModuleList(\n",
       "      (0): SRUCell()\n",
       "      (1): SRUCell()\n",
       "      (2): SRUCell()\n",
       "    )\n",
       "  )\n",
       "  (q_mu): Linear(in_features=64, out_features=64, bias=True)\n",
       "  (q_logvar): Linear(in_features=64, out_features=64, bias=True)\n",
       "  (decoder_rnn): SRU(\n",
       "    (rnn_lst): ModuleList(\n",
       "      (0): SRUCell()\n",
       "      (1): SRUCell()\n",
       "      (2): SRUCell()\n",
       "    )\n",
       "  )\n",
       "  (decoder_a): SelfAttention(\n",
       "    (linear_in): Linear(in_features=66, out_features=66, bias=False)\n",
       "    (linear_out): Linear(in_features=132, out_features=66, bias=False)\n",
       "  )\n",
       "  (decoder_fc): Linear(in_features=66, out_features=10000, bias=True)\n",
       "  (disc_cnn): CNNEncoder(\n",
       "    (_activation): ReLU()\n",
       "    (conv_layer_0): Conv1d(2, 3, kernel_size=(2,), stride=(1,))\n",
       "    (conv_layer_1): Conv1d(2, 3, kernel_size=(3,), stride=(1,))\n",
       "    (conv_layer_2): Conv1d(2, 3, kernel_size=(4,), stride=(1,))\n",
       "    (conv_layer_3): Conv1d(2, 3, kernel_size=(5,), stride=(1,))\n",
       "  )\n",
       "  (encoder): ModuleList(\n",
       "    (0): SRU(\n",
       "      (rnn_lst): ModuleList(\n",
       "        (0): SRUCell()\n",
       "        (1): SRUCell()\n",
       "        (2): SRUCell()\n",
       "      )\n",
       "    )\n",
       "    (1): Linear(in_features=64, out_features=64, bias=True)\n",
       "    (2): Linear(in_features=64, out_features=64, bias=True)\n",
       "  )\n",
       "  (decoder): ModuleList(\n",
       "    (0): SRU(\n",
       "      (rnn_lst): ModuleList(\n",
       "        (0): SRUCell()\n",
       "        (1): SRUCell()\n",
       "        (2): SRUCell()\n",
       "      )\n",
       "    )\n",
       "    (1): SelfAttention(\n",
       "      (linear_in): Linear(in_features=66, out_features=66, bias=False)\n",
       "      (linear_out): Linear(in_features=132, out_features=66, bias=False)\n",
       "    )\n",
       "    (2): Linear(in_features=66, out_features=10000, bias=True)\n",
       "  )\n",
       "  (vae): ModuleList(\n",
       "    (0): Embedding(10000, 50, padding_idx=0)\n",
       "    (1): ModuleList(\n",
       "      (0): SRU(\n",
       "        (rnn_lst): ModuleList(\n",
       "          (0): SRUCell()\n",
       "          (1): SRUCell()\n",
       "          (2): SRUCell()\n",
       "        )\n",
       "      )\n",
       "      (1): Linear(in_features=64, out_features=64, bias=True)\n",
       "      (2): Linear(in_features=64, out_features=64, bias=True)\n",
       "    )\n",
       "    (2): ModuleList(\n",
       "      (0): SRU(\n",
       "        (rnn_lst): ModuleList(\n",
       "          (0): SRUCell()\n",
       "          (1): SRUCell()\n",
       "          (2): SRUCell()\n",
       "        )\n",
       "      )\n",
       "      (1): SelfAttention(\n",
       "        (linear_in): Linear(in_features=66, out_features=66, bias=False)\n",
       "        (linear_out): Linear(in_features=132, out_features=66, bias=False)\n",
       "      )\n",
       "      (2): Linear(in_features=66, out_features=10000, bias=True)\n",
       "    )\n",
       "  )\n",
       "  (discriminator): ModuleList(\n",
       "    (0): CNNEncoder(\n",
       "      (_activation): ReLU()\n",
       "      (conv_layer_0): Conv1d(2, 3, kernel_size=(2,), stride=(1,))\n",
       "      (conv_layer_1): Conv1d(2, 3, kernel_size=(3,), stride=(1,))\n",
       "      (conv_layer_2): Conv1d(2, 3, kernel_size=(4,), stride=(1,))\n",
       "      (conv_layer_3): Conv1d(2, 3, kernel_size=(5,), stride=(1,))\n",
       "    )\n",
       "  )\n",
       ")"
      ]
     },
     "execution_count": 9,
     "metadata": {},
     "output_type": "execute_result"
    }
   ],
   "source": [
    "model = RnnVae(\n",
    "    **args.model, \n",
    "    x_vocab=corpus.vocab('x')\n",
    ").to(device)\n",
    "model"
   ]
  },
  {
   "cell_type": "code",
   "execution_count": 10,
   "metadata": {},
   "outputs": [
    {
     "data": {
      "text/plain": [
       "'sleep admirable’footsteps story hulk sings wayne punch thirties breakfast paint homage fascination baseball composed'"
      ]
     },
     "execution_count": 10,
     "metadata": {},
     "output_type": "execute_result"
    }
   ],
   "source": [
    "sample_params = dict(\n",
    "    n_beam=args.val.n_beam,\n",
    "    coverage_penalty=args.val.coverage_penalty\n",
    ")\n",
    "sampler = lambda s: corpus.reverse(model.sample_sentence(s, **sample_params)[2])\n",
    "evaluator = Evaluator(corpus, args.val.n_ref, sample_params=sample_params)\n",
    "sampler(1)[0]  # sanity check"
   ]
  },
  {
   "cell_type": "code",
   "execution_count": 11,
   "metadata": {},
   "outputs": [
    {
     "data": {
      "image/png": "[encoded data removed]",
      "text/plain": [
       "<Figure size 504x504 with 1 Axes>"
      ]
     },
     "metadata": {},
     "output_type": "display_data"
    }
   ],
   "source": [
    "n_epoch = sum(args.train.lr.scheduler.n_period * (args.train.lr.scheduler.n_mult ** i)\n",
    "              for i in range(args.train.lr.scheduler.n_r))\n",
    "kl_annealer = KLAnnealer(**args.train.kl, n_epoch=n_epoch)\n",
    "xs = np.linspace(0, n_epoch, num=n_epoch + 1)\n",
    "ts = np.array([kl_annealer(i) for i in xs])\n",
    "plt.figure(figsize=(7, 7))\n",
    "plt.ylabel('value')\n",
    "plt.xlabel('epoch')\n",
    "plt.title('kl weight')\n",
    "plt.plot(xs, ts);"
   ]
  },
  {
   "cell_type": "code",
   "execution_count": 12,
   "metadata": {},
   "outputs": [],
   "source": [
    "get_params = lambda: (p for p in model.vae.parameters() if p.requires_grad)\n",
    "trainer = optim.Adam(get_params(), lr=args.train.lr.value)\n",
    "lr_scheduler = CosineAnnealingLRWithRestart(trainer, **args.train.lr.scheduler)"
   ]
  },
  {
   "cell_type": "code",
   "execution_count": null,
   "metadata": {},
   "outputs": [
    {
     "data": {
      "application/vnd.jupyter.widget-view+json": {
       "model_id": "597293df7716416ead35f3368d9598bc",
       "version_major": 2,
       "version_minor": 0
      },
      "text/plain": [
       "HBox(children=(IntProgress(value=0, max=70), HTML(value='')))"
      ]
     },
     "metadata": {},
     "output_type": "display_data"
    },
    {
     "name": "stdout",
     "output_type": "stream",
     "text": [
      "[epoch=0, bleu_5=0.210 self_bleu_5=0.306 ppl=inf]: 'this \"doctor in the prison <unk> <unk> (california francisco francisco francisco francisco francisco <unk>'\n",
      "[epoch=1, bleu_5=0.067 self_bleu_5=0.256 ppl=inf]: 'pecker teach madison duke <unk> a crowded with a dangerous antics in'\n",
      "[epoch=2, bleu_5=0.046 self_bleu_5=0.239 ppl=inf]: 'vignettes estate estate estate estate soviet plant plant plant plant plant plant plant estate\") <unk>'\n",
      "[epoch=3, bleu_5=0.053 self_bleu_5=0.232 ppl=inf]: '_roger ebert affected * fido antwone affected * advantage claire laboratory laboratory laboratory laboratory <unk>'\n",
      "[epoch=4, bleu_5=0.053 self_bleu_5=0.204 ppl=inf]: 'rob brown > fist (<unk> <unk> <unk> corridors of cannes ridden glory mechanic'\n",
      "[epoch=5, bleu_5=0.037 self_bleu_5=0.204 ppl=inf]: 'i addiction structure advantage missile advantage field valentine field happy happy happy speechless speechless speechless speechless'\n",
      "[epoch=6, bleu_5=0.066 self_bleu_5=0.248 ppl=inf]: 'im not not <unk> bonnie <unk> showed welcome in and claire <unk> fortune\"...\"...<unk>'\n",
      "[epoch=7, bleu_5=0.063 self_bleu_5=0.281 ppl=inf]: 'pitch madison madison ape ape ape ape ape ape ape ape ape ape ape\"...\"...'\n"
     ]
    }
   ],
   "source": [
    "model.train()\n",
    "batcher = corpus.batcher('train', 'unlabeled')\n",
    "T = tqdm.tqdm_notebook(range(n_epoch))\n",
    "# n_iter = min(args.train.n_iter_per_epoch, corpus.size('train') // args.train.n_batch)\n",
    "n_iter = args.train.n_iter_per_epoch\n",
    "elog, ilog = Logger(), Logger()\n",
    "\n",
    "for epoch in T:\n",
    "    # Epoch start\n",
    "    kl_weight = kl_annealer(epoch)\n",
    "    \n",
    "    # Iters\n",
    "    for i in range(n_iter):\n",
    "        # Forward\n",
    "        x = next(batcher)\n",
    "        kl_loss, recon_loss = model(x, use_c_prior=True)\n",
    "        loss = kl_weight * kl_loss + recon_loss\n",
    "        \n",
    "        # Backward\n",
    "        trainer.zero_grad()\n",
    "        loss.backward()\n",
    "        clip_grad_norm_(get_params(), args.train.grad_clipping)\n",
    "        trainer.step()\n",
    "        \n",
    "        # Log\n",
    "        lr = trainer.param_groups[0]['lr']\n",
    "        ilog.append({\n",
    "            'epoch': epoch,\n",
    "            'kl_loss': kl_loss.item(),\n",
    "            'recon_loss': recon_loss.item(),\n",
    "            'loss': loss.item(),\n",
    "            'kl_weight': kl_weight,\n",
    "            'lr': lr\n",
    "        })\n",
    "        \n",
    "        # Update T\n",
    "        kl_loss_value = np.mean(reject_outliers(ilog['kl_loss'][-args.train.n_iter_per_epoch:]))\n",
    "        recon_loss_value = np.mean(reject_outliers(ilog['recon_loss'][-args.train.n_iter_per_epoch:]))\n",
    "        loss_value = np.mean(reject_outliers(ilog['loss'][-args.train.n_iter_per_epoch:]))\n",
    "        postfix_strs = []\n",
    "        postfix_strs.append(f'i={i}/{n_iter}')\n",
    "        postfix_strs.append(f'kl_loss={kl_loss_value:.5f}')\n",
    "        postfix_strs.append(f'recon_loss={recon_loss_value:.5f}')\n",
    "        postfix_strs.append(f'loss={loss_value:.5f}')\n",
    "        postfix_strs.append(f'klw={kl_weight:.3f} lr={lr:.5f}')\n",
    "        T.set_postfix_str(' '.join(postfix_strs))\n",
    "        T.refresh()\n",
    "    \n",
    "    # Log\n",
    "    sent = sampler(1)[0]\n",
    "    bleu = evaluator.bleu(model, args.val.n_hypot, 'val')\n",
    "    self_bleu = evaluator.self_bleu(model, args.val.n_hypot)\n",
    "    ppl = evaluator.perplexity(model, 'val')\n",
    "    elog.append({\n",
    "        **{k: v for k, v in ilog[-1].items() if 'loss' not in k},\n",
    "        'kl_loss': kl_loss_value,\n",
    "        'recon_loss': recon_loss_value,\n",
    "        'loss': loss_value,\n",
    "        'sent': sent,\n",
    "        'bleu': bleu,\n",
    "        'self_bleu': self_bleu,\n",
    "        'ppl': ppl\n",
    "    })\n",
    "    \n",
    "    # Print result\n",
    "    bleu_5, self_bleu_5 = bleu['5-gram'], self_bleu['5-gram']\n",
    "    print(f\"[epoch={epoch}, bleu_5={bleu_5:.3f} self_bleu_5={self_bleu_5:.3f} ppl={ppl:.3f}]: '{sent}'\")\n",
    "    \n",
    "    # Epoch end\n",
    "    lr_scheduler.step()"
   ]
  },
  {
   "cell_type": "code",
   "execution_count": null,
   "metadata": {},
   "outputs": [],
   "source": [
    "plotter = LogPlotter(elog)\n",
    "plotter.grid([\n",
    "    'kl_loss', 'recon_loss',\n",
    "    'loss', 'lr',\n",
    "    'bleu', 'self_bleu',\n",
    "    'epoch', 'ppl'\n",
    "])"
   ]
  },
  {
   "cell_type": "code",
   "execution_count": null,
   "metadata": {},
   "outputs": [],
   "source": [
    "splotter = SamplePlotter(corpus.vocab('x'), model)\n",
    "splotter.plot()"
   ]
  },
  {
   "cell_type": "code",
   "execution_count": null,
   "metadata": {},
   "outputs": [],
   "source": [
    "%time evaluator.bleu(model, args.val.n_hypot, 'train')"
   ]
  },
  {
   "cell_type": "code",
   "execution_count": null,
   "metadata": {},
   "outputs": [],
   "source": [
    "%time evaluator.bleu(model, args.val.n_hypot, 'test')"
   ]
  },
  {
   "cell_type": "code",
   "execution_count": null,
   "metadata": {},
   "outputs": [],
   "source": [
    "evaluator.self_bleu(model, args.val.n_hypot)"
   ]
  },
  {
   "cell_type": "code",
   "execution_count": null,
   "metadata": {},
   "outputs": [],
   "source": [
    "torch.save((args, model), path.save)"
   ]
  },
  {
   "cell_type": "code",
   "execution_count": null,
   "metadata": {},
   "outputs": [],
   "source": [
    "!du -sh {path.save}"
   ]
  }
 ],
 "metadata": {
  "kernelspec": {
   "display_name": "Python 3",
   "language": "python",
   "name": "python3"
  },
  "language_info": {
   "codemirror_mode": {
    "name": "ipython",
    "version": 3
   },
   "file_extension": ".py",
   "mimetype": "text/x-python",
   "name": "python",
   "nbconvert_exporter": "python",
   "pygments_lexer": "ipython3",
   "version": "3.6.5"
  }
 },
 "nbformat": 4,
 "nbformat_minor": 2
}
