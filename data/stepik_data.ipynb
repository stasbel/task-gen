{
 "cells": [
  {
   "cell_type": "markdown",
   "metadata": {},
   "source": [
    "# Stepik data\n",
    "\n",
    "Waiting for some good data..."
   ]
  },
  {
   "cell_type": "markdown",
   "metadata": {},
   "source": [
    "## Init"
   ]
  },
  {
   "cell_type": "code",
   "execution_count": 1,
   "metadata": {},
   "outputs": [],
   "source": [
    "import entity\n",
    "\n",
    "from sklearn.datasets.lfw import Bunch"
   ]
  },
  {
   "cell_type": "code",
   "execution_count": 2,
   "metadata": {},
   "outputs": [],
   "source": [
    "args = Bunch()"
   ]
  },
  {
   "cell_type": "markdown",
   "metadata": {},
   "source": [
    "## Make a few samples"
   ]
  },
  {
   "cell_type": "code",
   "execution_count": 3,
   "metadata": {},
   "outputs": [],
   "source": [
    "samples = [\n",
    "    {\n",
    "        'text': '''There are two horses on a chess board and four coordintes x1, y1, x2, y2 are typed in. Determine, whether they can hit each other or not. \n",
    "\n",
    "INPUT\n",
    "\n",
    "Four integer coordinates in the following sequence: x1,y1,x2,y2. The coordinates are not the same.\n",
    "\n",
    "OUTPUT\n",
    "\n",
    "\"YES\" (uppercase), if they hit each other and \"NO\" if they don't.''',\n",
    "        'tags': ['python', 'easy']\n",
    "    },\n",
    "    {\n",
    "        'text': '''Fizz Buzz is a classic programming problem. Here is its slightly modified version.\n",
    "\n",
    "Write a program that takes the input of two integers: the beginning and the end of the interval (both numbers belong to the interval).\n",
    "\n",
    "The program should output the numbers from this interval, but if the number is divisible by 3, you should output Fizz instead of it, if the number is divisible by 5 - output Buzz, and if it is divisible both by 3 and by 5 - output FizzBuzz.\n",
    "\n",
    "Output each number or the word on a separate line.''',\n",
    "        'tags': ['python', 'medium']\n",
    "    },\n",
    "    {\n",
    "        'text': '''Find the number of \"Ds\", \"Cs\", \"Bs\" and \"As\" for the last test on informatics in the class consisting of n students. The program gets number n as input, and then gets the grades themselves (one by one). The program should output four numbers in a single line - the number of \"D\", the number of \"C\", the number of \"B\" and the number of \"A\" grades.''',\n",
    "        'tags': ['python', 'hard']\n",
    "    },\n",
    "    {\n",
    "        'text': '''Sum all input numbers in one pass func.'''\n",
    "    }\n",
    "]"
   ]
  },
  {
   "cell_type": "code",
   "execution_count": 4,
   "metadata": {},
   "outputs": [
    {
     "data": {
      "text/plain": [
       "(4, 2)"
      ]
     },
     "execution_count": 4,
     "metadata": {},
     "output_type": "execute_result"
    }
   ],
   "source": [
    "df = entity.collect(samples)\n",
    "df.shape"
   ]
  },
  {
   "cell_type": "code",
   "execution_count": 5,
   "metadata": {},
   "outputs": [
    {
     "data": {
      "text/html": [
       "<div>\n",
       "<style scoped>\n",
       "    .dataframe tbody tr th:only-of-type {\n",
       "        vertical-align: middle;\n",
       "    }\n",
       "\n",
       "    .dataframe tbody tr th {\n",
       "        vertical-align: top;\n",
       "    }\n",
       "\n",
       "    .dataframe thead th {\n",
       "        text-align: right;\n",
       "    }\n",
       "</style>\n",
       "<table border=\"1\" class=\"dataframe\">\n",
       "  <thead>\n",
       "    <tr style=\"text-align: right;\">\n",
       "      <th></th>\n",
       "      <th>text</th>\n",
       "      <th>tags</th>\n",
       "    </tr>\n",
       "  </thead>\n",
       "  <tbody>\n",
       "    <tr>\n",
       "      <th>0</th>\n",
       "      <td>There are two horses on a chess board and four...</td>\n",
       "      <td>easy python</td>\n",
       "    </tr>\n",
       "    <tr>\n",
       "      <th>1</th>\n",
       "      <td>Fizz Buzz is a classic programming problem. He...</td>\n",
       "      <td>medium python</td>\n",
       "    </tr>\n",
       "    <tr>\n",
       "      <th>2</th>\n",
       "      <td>Find the number of \"Ds\", \"Cs\", \"Bs\" and \"As\" f...</td>\n",
       "      <td>hard python</td>\n",
       "    </tr>\n",
       "    <tr>\n",
       "      <th>3</th>\n",
       "      <td>Sum all input numbers in one pass func.</td>\n",
       "      <td>NaN</td>\n",
       "    </tr>\n",
       "  </tbody>\n",
       "</table>\n",
       "</div>"
      ],
      "text/plain": [
       "                                                text           tags\n",
       "0  There are two horses on a chess board and four...    easy python\n",
       "1  Fizz Buzz is a classic programming problem. He...  medium python\n",
       "2  Find the number of \"Ds\", \"Cs\", \"Bs\" and \"As\" f...    hard python\n",
       "3            Sum all input numbers in one pass func.            NaN"
      ]
     },
     "execution_count": 5,
     "metadata": {},
     "output_type": "execute_result"
    }
   ],
   "source": [
    "df.head()"
   ]
  },
  {
   "cell_type": "markdown",
   "metadata": {},
   "source": [
    "## Save"
   ]
  },
  {
   "cell_type": "code",
   "execution_count": 6,
   "metadata": {},
   "outputs": [],
   "source": [
    "args.save_path = 'stepik_data.hdf5'"
   ]
  },
  {
   "cell_type": "code",
   "execution_count": 7,
   "metadata": {},
   "outputs": [
    {
     "name": "stdout",
     "output_type": "stream",
     "text": [
      "CPU times: user 48 ms, sys: 28 ms, total: 76 ms\n",
      "Wall time: 88.9 ms\n"
     ]
    }
   ],
   "source": [
    "%time df.to_hdf(args.save_path, 'df', mode='w', format='f', complevel=9)"
   ]
  },
  {
   "cell_type": "code",
   "execution_count": 8,
   "metadata": {},
   "outputs": [
    {
     "name": "stdout",
     "output_type": "stream",
     "text": [
      "1.1M\tstepik_data.hdf5\r\n"
     ]
    }
   ],
   "source": [
    "!du -sh $args.save_path"
   ]
  },
  {
   "cell_type": "markdown",
   "metadata": {},
   "source": [
    "## End"
   ]
  },
  {
   "cell_type": "code",
   "execution_count": 9,
   "metadata": {},
   "outputs": [
    {
     "data": {
      "text/plain": [
       "{'save_path': 'stepik_data.hdf5'}"
      ]
     },
     "execution_count": 9,
     "metadata": {},
     "output_type": "execute_result"
    }
   ],
   "source": [
    "args"
   ]
  }
 ],
 "metadata": {
  "kernelspec": {
   "display_name": "Python 3",
   "language": "python",
   "name": "python3"
  },
  "language_info": {
   "codemirror_mode": {
    "name": "ipython",
    "version": 3
   },
   "file_extension": ".py",
   "mimetype": "text/x-python",
   "name": "python",
   "nbconvert_exporter": "python",
   "pygments_lexer": "ipython3",
   "version": "3.6.4"
  }
 },
 "nbformat": 4,
 "nbformat_minor": 2
}
