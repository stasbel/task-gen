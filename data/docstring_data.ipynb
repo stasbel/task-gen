{
 "cells": [
  {
   "cell_type": "markdown",
   "metadata": {
    "colab_type": "text",
    "id": "SXcHo4VN5eC5"
   },
   "source": [
    "# Preprocess"
   ]
  },
  {
   "cell_type": "markdown",
   "metadata": {},
   "source": [
    "## Init"
   ]
  },
  {
   "cell_type": "code",
   "execution_count": 1,
   "metadata": {},
   "outputs": [],
   "source": [
    "%reload_ext autoreload\n",
    "%autoreload 2"
   ]
  },
  {
   "cell_type": "code",
   "execution_count": 2,
   "metadata": {},
   "outputs": [],
   "source": [
    "import sys\n",
    "sys.path.append('..')"
   ]
  },
  {
   "cell_type": "code",
   "execution_count": 3,
   "metadata": {
    "colab": {
     "autoexec": {
      "startup": false,
      "wait_interval": 0
     }
    },
    "colab_type": "code",
    "id": "fosarMHB5eC8"
   },
   "outputs": [],
   "source": [
    "import os\n",
    "import random\n",
    "import numpy as np\n",
    "import pandas as pd\n",
    "import seaborn as sns\n",
    "\n",
    "from tqdm import tqdm\n",
    "from itertools import chain\n",
    "from hd_utils import monitor\n",
    "from utils import examine_df\n",
    "from string import ascii_lowercase\n",
    "from sklearn.datasets.lfw import Bunch\n",
    "from raw_preprocessor import RawPreprocessor\n",
    "from more_itertools import unique_everseen, take\n",
    "from langdetect import detect as detect_lang, detect_langs"
   ]
  },
  {
   "cell_type": "code",
   "execution_count": 4,
   "metadata": {},
   "outputs": [],
   "source": [
    "%matplotlib inline\n",
    "sns.set_style('darkgrid')"
   ]
  },
  {
   "cell_type": "code",
   "execution_count": 5,
   "metadata": {},
   "outputs": [],
   "source": [
    "args = Bunch()"
   ]
  },
  {
   "cell_type": "markdown",
   "metadata": {},
   "source": [
    "## Read"
   ]
  },
  {
   "cell_type": "code",
   "execution_count": 6,
   "metadata": {},
   "outputs": [],
   "source": [
    "_data_base_path = '../code-docstring-corpus/V2/parallel'\n",
    "args.toplevelfuncs_desc_path = os.path.join(_data_base_path, 'parallel_desc')\n",
    "args.methods_desc_path = os.path.join(_data_base_path, 'parallel_methods_desc')\n",
    "args.desc_paths = [args.toplevelfuncs_desc_path, args.methods_desc_path]\n",
    "args.max_descs = 1000000"
   ]
  },
  {
   "cell_type": "code",
   "execution_count": 7,
   "metadata": {},
   "outputs": [],
   "source": [
    "def read_desc_gen(file_path):\n",
    "    with open(file_path, 'r', errors='ignore') as f:\n",
    "        for line in f:\n",
    "            yield line.strip()[1:-1].strip()\n",
    "            \n",
    "            \n",
    "def read_all_descs():\n",
    "    all_gen = (read_desc_gen(desc_path) for desc_path in args.desc_paths)\n",
    "    return list(take(args.max_descs, unique_everseen(chain.from_iterable(all_gen))))"
   ]
  },
  {
   "cell_type": "code",
   "execution_count": 8,
   "metadata": {},
   "outputs": [
    {
     "name": "stdout",
     "output_type": "stream",
     "text": [
      "CPU times: user 768 ms, sys: 64 ms, total: 832 ms\n",
      "Wall time: 834 ms\n",
      "357220\n"
     ]
    },
    {
     "data": {
      "text/plain": [
       "'load a Python source file and compile it to byte-code DCNL _load_module(filename: string): code_object DCNL filename:   name of file containing Python source code DCNL (normally a .py) DCNL code_object: code_object compiled from this source code DCNL This function does NOT write any file!'"
      ]
     },
     "execution_count": 8,
     "metadata": {},
     "output_type": "execute_result"
    }
   ],
   "source": [
    "%time descs = read_all_descs()\n",
    "print(len(descs))\n",
    "descs[0]"
   ]
  },
  {
   "cell_type": "markdown",
   "metadata": {},
   "source": [
    "## Preprocessing"
   ]
  },
  {
   "cell_type": "code",
   "execution_count": 9,
   "metadata": {},
   "outputs": [],
   "source": [
    "args.log_step = 5000"
   ]
  },
  {
   "cell_type": "code",
   "execution_count": 10,
   "metadata": {},
   "outputs": [
    {
     "data": {
      "text/plain": [
       "{'text': 'load a Python source file and compile it to byte-code DCNL _load_module(filename: string): code_object DCNL filename:   name of file containing Python source code DCNL (normally a .py) DCNL code_object: code_object compiled from this source code DCNL This function does NOT write any file!'}"
      ]
     },
     "execution_count": 10,
     "metadata": {},
     "output_type": "execute_result"
    }
   ],
   "source": [
    "raw = [{'text': desc} for desc in descs]\n",
    "raw[0]"
   ]
  },
  {
   "cell_type": "code",
   "execution_count": 11,
   "metadata": {},
   "outputs": [
    {
     "name": "stderr",
     "output_type": "stream",
     "text": [
      "100%|██████████| 357220/357220 [3:42:40<00:00, 26.74it/s]  \n"
     ]
    },
    {
     "name": "stdout",
     "output_type": "stream",
     "text": [
      "shape=(315806, 2)\n"
     ]
    },
    {
     "data": {
      "text/html": [
       "<div>\n",
       "<style scoped>\n",
       "    .dataframe tbody tr th:only-of-type {\n",
       "        vertical-align: middle;\n",
       "    }\n",
       "\n",
       "    .dataframe tbody tr th {\n",
       "        vertical-align: top;\n",
       "    }\n",
       "\n",
       "    .dataframe thead th {\n",
       "        text-align: right;\n",
       "    }\n",
       "</style>\n",
       "<table border=\"1\" class=\"dataframe\">\n",
       "  <thead>\n",
       "    <tr style=\"text-align: right;\">\n",
       "      <th></th>\n",
       "      <th></th>\n",
       "      <th>text</th>\n",
       "      <th>tags</th>\n",
       "    </tr>\n",
       "  </thead>\n",
       "  <tbody>\n",
       "    <tr>\n",
       "      <th rowspan=\"4\" valign=\"top\">head</th>\n",
       "      <th>0</th>\n",
       "      <td>load a Python source file and compile it to by...</td>\n",
       "      <td>NaN</td>\n",
       "    </tr>\n",
       "    <tr>\n",
       "      <th>1</th>\n",
       "      <td>load a module without importing it DCNL _load_...</td>\n",
       "      <td>NaN</td>\n",
       "    </tr>\n",
       "    <tr>\n",
       "      <th>2</th>\n",
       "      <td>decompile Python byte-code file (.pyc)</td>\n",
       "      <td>NaN</td>\n",
       "    </tr>\n",
       "    <tr>\n",
       "      <th>3</th>\n",
       "      <td>in_base     base directory for input files DCN...</td>\n",
       "      <td>NaN</td>\n",
       "    </tr>\n",
       "    <tr>\n",
       "      <th rowspan=\"4\" valign=\"top\">tail</th>\n",
       "      <th>315802</th>\n",
       "      <td>Handle ``grant_type=password`` requests as def...</td>\n",
       "      <td>NaN</td>\n",
       "    </tr>\n",
       "    <tr>\n",
       "      <th>315803</th>\n",
       "      <td>Return a function or method that is capable ha...</td>\n",
       "      <td>NaN</td>\n",
       "    </tr>\n",
       "    <tr>\n",
       "      <th>315804</th>\n",
       "      <td>As per :rfc:`3.2` the token endpoint *only* su...</td>\n",
       "      <td>NaN</td>\n",
       "    </tr>\n",
       "    <tr>\n",
       "      <th>315805</th>\n",
       "      <td>As per :rfc:`3.2` the token endpoint *only* su...</td>\n",
       "      <td>NaN</td>\n",
       "    </tr>\n",
       "    <tr>\n",
       "      <th>meta</th>\n",
       "      <th>type</th>\n",
       "      <td>object</td>\n",
       "      <td>object</td>\n",
       "    </tr>\n",
       "    <tr>\n",
       "      <th rowspan=\"4\" valign=\"top\">math</th>\n",
       "      <th>count</th>\n",
       "      <td>315806</td>\n",
       "      <td>315806</td>\n",
       "    </tr>\n",
       "    <tr>\n",
       "      <th>unique</th>\n",
       "      <td>315806</td>\n",
       "      <td>1</td>\n",
       "    </tr>\n",
       "    <tr>\n",
       "      <th>top</th>\n",
       "      <td>Sets invalidation python dict as JSON invalida...</td>\n",
       "      <td>NaN</td>\n",
       "    </tr>\n",
       "    <tr>\n",
       "      <th>freq</th>\n",
       "      <td>1</td>\n",
       "      <td>315806</td>\n",
       "    </tr>\n",
       "  </tbody>\n",
       "</table>\n",
       "</div>"
      ],
      "text/plain": [
       "                                                          text    tags\n",
       "head 0       load a Python source file and compile it to by...     NaN\n",
       "     1       load a module without importing it DCNL _load_...     NaN\n",
       "     2                  decompile Python byte-code file (.pyc)     NaN\n",
       "     3       in_base     base directory for input files DCN...     NaN\n",
       "tail 315802  Handle ``grant_type=password`` requests as def...     NaN\n",
       "     315803  Return a function or method that is capable ha...     NaN\n",
       "     315804  As per :rfc:`3.2` the token endpoint *only* su...     NaN\n",
       "     315805  As per :rfc:`3.2` the token endpoint *only* su...     NaN\n",
       "meta type                                               object  object\n",
       "math count                                              315806  315806\n",
       "     unique                                             315806       1\n",
       "     top     Sets invalidation python dict as JSON invalida...     NaN\n",
       "     freq                                                    1  315806"
      ]
     },
     "metadata": {},
     "output_type": "display_data"
    }
   ],
   "source": [
    "preprocessor = RawPreprocessor(\n",
    "    monitor=monitor('[1.1.1] Docstring preprocessing', log_step=args.log_step),\n",
    "    do_tqdm=True\n",
    ")\n",
    "df = preprocessor.fit_transform(raw)\n",
    "examine_df(df)"
   ]
  },
  {
   "cell_type": "markdown",
   "metadata": {},
   "source": [
    "## Sanity check"
   ]
  },
  {
   "cell_type": "code",
   "execution_count": 12,
   "metadata": {},
   "outputs": [
    {
     "data": {
      "image/png": "[encoded data removed]",
      "text/plain": [
       "<matplotlib.figure.Figure at 0x2af366ab80b8>"
      ]
     },
     "metadata": {},
     "output_type": "display_data"
    }
   ],
   "source": [
    "df.text.map(len).hist(bins=75);"
   ]
  },
  {
   "cell_type": "code",
   "execution_count": 13,
   "metadata": {},
   "outputs": [
    {
     "data": {
      "text/plain": [
       "['Returns the IP address of the vCenter host.',\n",
       " \"Handles whenever a block\\\\'s score is published. DCNL Returns whether the score was actually updated.\",\n",
       " 'Whether Human Resources should use Certificates',\n",
       " ':return: True if the remote user can add entries to his crontab',\n",
       " 'Compute the unitary, ordinary-frequency inverse sine transform of `F`, DCNL defined as DCNL .. math:: f(x) = \\\\sqrt{\\\\frac{2}{\\\\pi}} \\\\int_{0}^\\\\infty F(k) \\\\sin(2\\\\pi x k) \\\\mathrm{d} k. DCNL If the transform cannot be computed in closed form, this DCNL function returns an unevaluated :class:`InverseSineTransform` object. DCNL For a description of possible hints, refer to the docstring of DCNL :func:`sympy.integrals.transforms.IntegralTransform.doit`. DCNL Note that for this transform, by default ``noconds=True``. DCNL >>> from sympy import inverse_sine_transform, exp, sqrt, gamma, pi DCNL >>> from sympy.abc import x, k, a DCNL >>> inverse_sine_transform(2**((1-2*a)/2)*k**(a - 1)* DCNL ...     gamma(-a/2 + 1)/gamma((a+1)/2), k, x) DCNL x**(-a) DCNL >>> inverse_sine_transform(sqrt(2)*k*exp(-k**2/(4*a))/(4*sqrt(a)**3), k, x) DCNL x*exp(-a*x**2) DCNL See Also DCNL fourier_transform, inverse_fourier_transform DCNL sine_transform DCNL cosine_transform, inverse_cosine_transform DCNL hankel_transform, inverse_hankel_transform DCNL mellin_transform, laplace_transform',\n",
       " 'see if dest ip and/or port is in target list and (if a source list) DCNL source ip is in source list DCNL if so, put the connection in the tracked-session list by dest ip DCNL if a new connection to the target comes in from an allowed source, DCNL the existing connection will still be tracked',\n",
       " 'Loops until the InstancePool is done watching for file changes.',\n",
       " \"Verify that an event dictionary which is not an error and has an empty DCNL message isn\\\\'t recorded.\",\n",
       " 'Copy a matrix and check its dimension. Normalize at the end (PRIVATE).',\n",
       " 'Use this function if you are collecting keys from more than one hive']"
      ]
     },
     "execution_count": 13,
     "metadata": {},
     "output_type": "execute_result"
    }
   ],
   "source": [
    "df.text.sample(10).tolist()"
   ]
  },
  {
   "cell_type": "markdown",
   "metadata": {},
   "source": [
    "## Save"
   ]
  },
  {
   "cell_type": "code",
   "execution_count": 14,
   "metadata": {},
   "outputs": [],
   "source": [
    "args.save_path = 'docstring_data.hdf5'"
   ]
  },
  {
   "cell_type": "code",
   "execution_count": 15,
   "metadata": {},
   "outputs": [
    {
     "name": "stdout",
     "output_type": "stream",
     "text": [
      "CPU times: user 280 ms, sys: 172 ms, total: 452 ms\n",
      "Wall time: 1.03 s\n"
     ]
    }
   ],
   "source": [
    "%time df.to_hdf(args.save_path, 'df', mode='w', format='f', complevel=9)"
   ]
  },
  {
   "cell_type": "code",
   "execution_count": 16,
   "metadata": {},
   "outputs": [
    {
     "name": "stdout",
     "output_type": "stream",
     "text": [
      "69M\tdocstring_data.hdf5\r\n"
     ]
    }
   ],
   "source": [
    "!du -sh $args.save_path"
   ]
  },
  {
   "cell_type": "markdown",
   "metadata": {},
   "source": [
    "## End"
   ]
  },
  {
   "cell_type": "code",
   "execution_count": 17,
   "metadata": {},
   "outputs": [
    {
     "data": {
      "text/plain": [
       "{'desc_paths': ['../code-docstring-corpus/V2/parallel/parallel_desc',\n",
       "  '../code-docstring-corpus/V2/parallel/parallel_methods_desc'],\n",
       " 'log_step': 5000,\n",
       " 'max_descs': 1000000,\n",
       " 'methods_desc_path': '../code-docstring-corpus/V2/parallel/parallel_methods_desc',\n",
       " 'save_path': 'docstring_data.hdf5',\n",
       " 'toplevelfuncs_desc_path': '../code-docstring-corpus/V2/parallel/parallel_desc'}"
      ]
     },
     "execution_count": 17,
     "metadata": {},
     "output_type": "execute_result"
    }
   ],
   "source": [
    "args"
   ]
  }
 ],
 "metadata": {
  "accelerator": "GPU",
  "colab": {
   "collapsed_sections": [],
   "default_view": {},
   "name": "preprocess.ipynb",
   "provenance": [],
   "version": "0.3.2",
   "views": {}
  },
  "kernelspec": {
   "display_name": "Python 3",
   "language": "python",
   "name": "python3"
  },
  "language_info": {
   "codemirror_mode": {
    "name": "ipython",
    "version": 3
   },
   "file_extension": ".py",
   "mimetype": "text/x-python",
   "name": "python",
   "nbconvert_exporter": "python",
   "pygments_lexer": "ipython3",
   "version": "3.6.4"
  }
 },
 "nbformat": 4,
 "nbformat_minor": 1
}
