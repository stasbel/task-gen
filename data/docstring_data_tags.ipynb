{
 "cells": [
  {
   "cell_type": "markdown",
   "metadata": {
    "colab_type": "text",
    "id": "jNAhgAeM7VwN"
   },
   "source": [
    "# Entities"
   ]
  },
  {
   "cell_type": "markdown",
   "metadata": {},
   "source": [
    "## Init"
   ]
  },
  {
   "cell_type": "markdown",
   "metadata": {},
   "source": [
    "### Imports"
   ]
  },
  {
   "cell_type": "code",
   "execution_count": 1,
   "metadata": {},
   "outputs": [],
   "source": [
    "import sys\n",
    "sys.path.append('..')"
   ]
  },
  {
   "cell_type": "code",
   "execution_count": 2,
   "metadata": {
    "colab": {
     "autoexec": {
      "startup": false,
      "wait_interval": 0
     }
    },
    "colab_type": "code",
    "id": "C8dCk8lr7VwO"
   },
   "outputs": [],
   "source": [
    "import spacy\n",
    "import random\n",
    "import string\n",
    "import pandas as pd\n",
    "import seaborn as sns\n",
    "\n",
    "from tqdm import tqdm\n",
    "from spacy import displacy\n",
    "from itertools import chain\n",
    "from hd_utils import monitor\n",
    "from collections import Counter\n",
    "from sklearn.datasets.lfw import Bunch"
   ]
  },
  {
   "cell_type": "markdown",
   "metadata": {},
   "source": [
    "### Plot"
   ]
  },
  {
   "cell_type": "code",
   "execution_count": 3,
   "metadata": {},
   "outputs": [],
   "source": [
    "%matplotlib inline\n",
    "sns.set_style('darkgrid')"
   ]
  },
  {
   "cell_type": "markdown",
   "metadata": {},
   "source": [
    "### Args"
   ]
  },
  {
   "cell_type": "code",
   "execution_count": 4,
   "metadata": {},
   "outputs": [],
   "source": [
    "args = Bunch()"
   ]
  },
  {
   "cell_type": "markdown",
   "metadata": {
    "colab_type": "text",
    "id": "a7ZCbmxL7VwS"
   },
   "source": [
    "## Spacy 101"
   ]
  },
  {
   "cell_type": "code",
   "execution_count": 5,
   "metadata": {
    "colab": {
     "autoexec": {
      "startup": false,
      "wait_interval": 0
     }
    },
    "colab_type": "code",
    "id": "UKWYjLVA7VwT"
   },
   "outputs": [
    {
     "data": {
      "text/plain": [
       "'But Google is starting from behind. The company made a late push into hardware, and Apple’s Siri, available on iPhones, and Amazon’s Alexa software, which runs on its Echo and Dot devices, have clear leads in consumer adoption.'"
      ]
     },
     "execution_count": 5,
     "metadata": {},
     "output_type": "execute_result"
    }
   ],
   "source": [
    "sample_text = '''But Google is starting from behind. The company made a late push \\\n",
    "into hardware, and Apple’s Siri, available on iPhones, and Amazon’s Alexa \\\n",
    "software, which runs on its Echo and Dot devices, have clear leads in \\\n",
    "consumer adoption.'''\n",
    "sample_text"
   ]
  },
  {
   "cell_type": "code",
   "execution_count": 6,
   "metadata": {
    "colab": {
     "autoexec": {
      "startup": false,
      "wait_interval": 0
     }
    },
    "colab_type": "code",
    "id": "J1Sl6vCI7VwX"
   },
   "outputs": [],
   "source": [
    "nlp = spacy.load('en')\n",
    "doc = nlp(sample_text)"
   ]
  },
  {
   "cell_type": "code",
   "execution_count": 7,
   "metadata": {
    "colab": {
     "autoexec": {
      "startup": false,
      "wait_interval": 0
     },
     "base_uri": "https://localhost:8080/",
     "height": 54,
     "output_extras": [
      {
       "item_id": 1
      }
     ]
    },
    "colab_type": "code",
    "executionInfo": {
     "elapsed": 744,
     "status": "ok",
     "timestamp": 1521430168390,
     "user": {
      "displayName": "Станислав Беляев",
      "photoUrl": "//lh6.googleusercontent.com/-IMqslmfxonk/AAAAAAAAAAI/AAAAAAAAAjc/2Qb3VobqpFY/s50-c-k-no/photo.jpg",
      "userId": "113506133464622129087"
     },
     "user_tz": -180
    },
    "id": "Gjl7EjpG7Vwa",
    "outputId": "71ea0a99-7eda-4947-905a-c7137ed08b4c"
   },
   "outputs": [
    {
     "name": "stdout",
     "output_type": "stream",
     "text": [
      "text=But lemma=but pos=CCONJ\n",
      "text=Google lemma=google pos=PROPN\n",
      "text=is lemma=be pos=VERB\n",
      "text=starting lemma=start pos=VERB\n",
      "text=from lemma=from pos=ADP\n",
      "text=behind lemma=behind pos=ADV\n",
      "text=. lemma=. pos=PUNCT\n",
      "text=The lemma=the pos=DET\n",
      "text=company lemma=company pos=NOUN\n",
      "text=made lemma=make pos=VERB\n"
     ]
    }
   ],
   "source": [
    "for token in doc[:10]:\n",
    "    print(f'text={token.text} lemma={token.lemma_} pos={token.pos_}')"
   ]
  },
  {
   "cell_type": "code",
   "execution_count": 8,
   "metadata": {
    "colab": {
     "autoexec": {
      "startup": false,
      "wait_interval": 0
     },
     "base_uri": "https://localhost:8080/",
     "height": 54,
     "output_extras": [
      {
       "item_id": 1
      }
     ]
    },
    "colab_type": "code",
    "executionInfo": {
     "elapsed": 560,
     "status": "ok",
     "timestamp": 1521430169295,
     "user": {
      "displayName": "Станислав Беляев",
      "photoUrl": "//lh6.googleusercontent.com/-IMqslmfxonk/AAAAAAAAAAI/AAAAAAAAAjc/2Qb3VobqpFY/s50-c-k-no/photo.jpg",
      "userId": "113506133464622129087"
     },
     "user_tz": -180
    },
    "id": "iSR-0Ftq7Vwg",
    "outputId": "50ee0a99-56f0-4acc-a5f2-584db90ee857"
   },
   "outputs": [
    {
     "name": "stdout",
     "output_type": "stream",
     "text": [
      "['Google', 'The company', 'a late push', 'hardware', 'Apple', 'Siri', 'iPhones', 'Amazon’s Alexa software', 'its Echo', 'Dot devices', 'clear leads', 'consumer adoption']\n"
     ]
    }
   ],
   "source": [
    "print([chunk.text for chunk in doc.noun_chunks])"
   ]
  },
  {
   "cell_type": "code",
   "execution_count": 9,
   "metadata": {},
   "outputs": [
    {
     "data": {
      "text/html": [
       "<svg xmlns=\"http://www.w3.org/2000/svg\" xmlns:xlink=\"http://www.w3.org/1999/xlink\" id=\"0\" class=\"displacy\" width=\"950\" height=\"362.0\" style=\"max-width: none; height: 362.0px; color: white; background: #09a3d5; font-family: Source Sans Pro\">\n",
       "<text class=\"displacy-token\" fill=\"currentColor\" text-anchor=\"middle\" y=\"272.0\">\n",
       "    <tspan class=\"displacy-word\" fill=\"currentColor\" x=\"50\">But</tspan>\n",
       "    <tspan class=\"displacy-tag\" dy=\"2em\" fill=\"currentColor\" x=\"50\">CCONJ</tspan>\n",
       "</text>\n",
       "\n",
       "<text class=\"displacy-token\" fill=\"currentColor\" text-anchor=\"middle\" y=\"272.0\">\n",
       "    <tspan class=\"displacy-word\" fill=\"currentColor\" x=\"200\">Google</tspan>\n",
       "    <tspan class=\"displacy-tag\" dy=\"2em\" fill=\"currentColor\" x=\"200\">PROPN</tspan>\n",
       "</text>\n",
       "\n",
       "<text class=\"displacy-token\" fill=\"currentColor\" text-anchor=\"middle\" y=\"272.0\">\n",
       "    <tspan class=\"displacy-word\" fill=\"currentColor\" x=\"350\">is</tspan>\n",
       "    <tspan class=\"displacy-tag\" dy=\"2em\" fill=\"currentColor\" x=\"350\">VERB</tspan>\n",
       "</text>\n",
       "\n",
       "<text class=\"displacy-token\" fill=\"currentColor\" text-anchor=\"middle\" y=\"272.0\">\n",
       "    <tspan class=\"displacy-word\" fill=\"currentColor\" x=\"500\">starting</tspan>\n",
       "    <tspan class=\"displacy-tag\" dy=\"2em\" fill=\"currentColor\" x=\"500\">VERB</tspan>\n",
       "</text>\n",
       "\n",
       "<text class=\"displacy-token\" fill=\"currentColor\" text-anchor=\"middle\" y=\"272.0\">\n",
       "    <tspan class=\"displacy-word\" fill=\"currentColor\" x=\"650\">from</tspan>\n",
       "    <tspan class=\"displacy-tag\" dy=\"2em\" fill=\"currentColor\" x=\"650\">ADP</tspan>\n",
       "</text>\n",
       "\n",
       "<text class=\"displacy-token\" fill=\"currentColor\" text-anchor=\"middle\" y=\"272.0\">\n",
       "    <tspan class=\"displacy-word\" fill=\"currentColor\" x=\"800\">behind.</tspan>\n",
       "    <tspan class=\"displacy-tag\" dy=\"2em\" fill=\"currentColor\" x=\"800\">ADV</tspan>\n",
       "</text>\n",
       "\n",
       "<g class=\"displacy-arrow\">\n",
       "    <path class=\"displacy-arc\" id=\"arrow-0-0\" stroke-width=\"2px\" d=\"M62,227.0 62,152.0 500.0,152.0 500.0,227.0\" fill=\"none\" stroke=\"currentColor\"/>\n",
       "    <text dy=\"1.25em\" style=\"font-size: 0.8em; letter-spacing: 1px\">\n",
       "        <textPath xlink:href=\"#arrow-0-0\" class=\"displacy-label\" startOffset=\"50%\" fill=\"currentColor\" text-anchor=\"middle\">cc</textPath>\n",
       "    </text>\n",
       "    <path class=\"displacy-arrowhead\" d=\"M62,229.0 L58,221.0 66,221.0\" fill=\"currentColor\"/>\n",
       "</g>\n",
       "\n",
       "<g class=\"displacy-arrow\">\n",
       "    <path class=\"displacy-arc\" id=\"arrow-0-1\" stroke-width=\"2px\" d=\"M212,227.0 212,177.0 497.0,177.0 497.0,227.0\" fill=\"none\" stroke=\"currentColor\"/>\n",
       "    <text dy=\"1.25em\" style=\"font-size: 0.8em; letter-spacing: 1px\">\n",
       "        <textPath xlink:href=\"#arrow-0-1\" class=\"displacy-label\" startOffset=\"50%\" fill=\"currentColor\" text-anchor=\"middle\">nsubj</textPath>\n",
       "    </text>\n",
       "    <path class=\"displacy-arrowhead\" d=\"M212,229.0 L208,221.0 216,221.0\" fill=\"currentColor\"/>\n",
       "</g>\n",
       "\n",
       "<g class=\"displacy-arrow\">\n",
       "    <path class=\"displacy-arc\" id=\"arrow-0-2\" stroke-width=\"2px\" d=\"M362,227.0 362,202.0 494.0,202.0 494.0,227.0\" fill=\"none\" stroke=\"currentColor\"/>\n",
       "    <text dy=\"1.25em\" style=\"font-size: 0.8em; letter-spacing: 1px\">\n",
       "        <textPath xlink:href=\"#arrow-0-2\" class=\"displacy-label\" startOffset=\"50%\" fill=\"currentColor\" text-anchor=\"middle\">aux</textPath>\n",
       "    </text>\n",
       "    <path class=\"displacy-arrowhead\" d=\"M362,229.0 L358,221.0 366,221.0\" fill=\"currentColor\"/>\n",
       "</g>\n",
       "\n",
       "<g class=\"displacy-arrow\">\n",
       "    <path class=\"displacy-arc\" id=\"arrow-0-3\" stroke-width=\"2px\" d=\"M512,227.0 512,202.0 644.0,202.0 644.0,227.0\" fill=\"none\" stroke=\"currentColor\"/>\n",
       "    <text dy=\"1.25em\" style=\"font-size: 0.8em; letter-spacing: 1px\">\n",
       "        <textPath xlink:href=\"#arrow-0-3\" class=\"displacy-label\" startOffset=\"50%\" fill=\"currentColor\" text-anchor=\"middle\">prep</textPath>\n",
       "    </text>\n",
       "    <path class=\"displacy-arrowhead\" d=\"M644.0,229.0 L648.0,221.0 640.0,221.0\" fill=\"currentColor\"/>\n",
       "</g>\n",
       "\n",
       "<g class=\"displacy-arrow\">\n",
       "    <path class=\"displacy-arc\" id=\"arrow-0-4\" stroke-width=\"2px\" d=\"M662,227.0 662,202.0 794.0,202.0 794.0,227.0\" fill=\"none\" stroke=\"currentColor\"/>\n",
       "    <text dy=\"1.25em\" style=\"font-size: 0.8em; letter-spacing: 1px\">\n",
       "        <textPath xlink:href=\"#arrow-0-4\" class=\"displacy-label\" startOffset=\"50%\" fill=\"currentColor\" text-anchor=\"middle\">pcomp</textPath>\n",
       "    </text>\n",
       "    <path class=\"displacy-arrowhead\" d=\"M794.0,229.0 L798.0,221.0 790.0,221.0\" fill=\"currentColor\"/>\n",
       "</g>\n",
       "</svg>"
      ],
      "text/plain": [
       "<IPython.core.display.HTML object>"
      ]
     },
     "metadata": {},
     "output_type": "display_data"
    }
   ],
   "source": [
    "options = {'compact': True, 'bg': '#09a3d5',\n",
    "           'color': 'white', 'font': 'Source Sans Pro'}\n",
    "displacy.render(nlp(next(doc.sents).text), style='dep', options=options, jupyter=True)"
   ]
  },
  {
   "cell_type": "code",
   "execution_count": 10,
   "metadata": {
    "colab": {
     "autoexec": {
      "startup": false,
      "wait_interval": 0
     },
     "base_uri": "https://localhost:8080/",
     "height": 113,
     "output_extras": [
      {
       "item_id": 1
      }
     ]
    },
    "colab_type": "code",
    "executionInfo": {
     "elapsed": 326,
     "status": "ok",
     "timestamp": 1521430169970,
     "user": {
      "displayName": "Станислав Беляев",
      "photoUrl": "//lh6.googleusercontent.com/-IMqslmfxonk/AAAAAAAAAAI/AAAAAAAAAjc/2Qb3VobqpFY/s50-c-k-no/photo.jpg",
      "userId": "113506133464622129087"
     },
     "user_tz": -180
    },
    "id": "l_J77G4t7Vwj",
    "outputId": "5eb69797-56c0-4764-88bc-6a17036cb2c0"
   },
   "outputs": [
    {
     "data": {
      "text/html": [
       "<h2 style=\"margin: 0\">Apple vs Google</h2>\n",
       "\n",
       "<div class=\"entities\" style=\"line-height: 2.5\">But \n",
       "<mark class=\"entity\" style=\"background: #7aecec; padding: 0.45em 0.6em; margin: 0 0.25em; line-height: 1; border-radius: 0.35em; box-decoration-break: clone; -webkit-box-decoration-break: clone\">\n",
       "    Google\n",
       "    <span style=\"font-size: 0.8em; font-weight: bold; line-height: 1; border-radius: 0.35em; text-transform: uppercase; vertical-align: middle; margin-left: 0.5rem\">ORG</span>\n",
       "</mark>\n",
       " is starting from behind. The company made a late push into hardware, and \n",
       "<mark class=\"entity\" style=\"background: #7aecec; padding: 0.45em 0.6em; margin: 0 0.25em; line-height: 1; border-radius: 0.35em; box-decoration-break: clone; -webkit-box-decoration-break: clone\">\n",
       "    Apple\n",
       "    <span style=\"font-size: 0.8em; font-weight: bold; line-height: 1; border-radius: 0.35em; text-transform: uppercase; vertical-align: middle; margin-left: 0.5rem\">ORG</span>\n",
       "</mark>\n",
       "’s Siri, available on \n",
       "<mark class=\"entity\" style=\"background: #bfeeb7; padding: 0.45em 0.6em; margin: 0 0.25em; line-height: 1; border-radius: 0.35em; box-decoration-break: clone; -webkit-box-decoration-break: clone\">\n",
       "    iPhones\n",
       "    <span style=\"font-size: 0.8em; font-weight: bold; line-height: 1; border-radius: 0.35em; text-transform: uppercase; vertical-align: middle; margin-left: 0.5rem\">PRODUCT</span>\n",
       "</mark>\n",
       ", and \n",
       "<mark class=\"entity\" style=\"background: #7aecec; padding: 0.45em 0.6em; margin: 0 0.25em; line-height: 1; border-radius: 0.35em; box-decoration-break: clone; -webkit-box-decoration-break: clone\">\n",
       "    Amazon\n",
       "    <span style=\"font-size: 0.8em; font-weight: bold; line-height: 1; border-radius: 0.35em; text-transform: uppercase; vertical-align: middle; margin-left: 0.5rem\">ORG</span>\n",
       "</mark>\n",
       "’s \n",
       "<mark class=\"entity\" style=\"background: #7aecec; padding: 0.45em 0.6em; margin: 0 0.25em; line-height: 1; border-radius: 0.35em; box-decoration-break: clone; -webkit-box-decoration-break: clone\">\n",
       "    Alexa\n",
       "    <span style=\"font-size: 0.8em; font-weight: bold; line-height: 1; border-radius: 0.35em; text-transform: uppercase; vertical-align: middle; margin-left: 0.5rem\">ORG</span>\n",
       "</mark>\n",
       " software, which runs on its \n",
       "<mark class=\"entity\" style=\"background: #feca74; padding: 0.45em 0.6em; margin: 0 0.25em; line-height: 1; border-radius: 0.35em; box-decoration-break: clone; -webkit-box-decoration-break: clone\">\n",
       "    Echo\n",
       "    <span style=\"font-size: 0.8em; font-weight: bold; line-height: 1; border-radius: 0.35em; text-transform: uppercase; vertical-align: middle; margin-left: 0.5rem\">GPE</span>\n",
       "</mark>\n",
       " and \n",
       "<mark class=\"entity\" style=\"background: #7aecec; padding: 0.45em 0.6em; margin: 0 0.25em; line-height: 1; border-radius: 0.35em; box-decoration-break: clone; -webkit-box-decoration-break: clone\">\n",
       "    Dot\n",
       "    <span style=\"font-size: 0.8em; font-weight: bold; line-height: 1; border-radius: 0.35em; text-transform: uppercase; vertical-align: middle; margin-left: 0.5rem\">ORG</span>\n",
       "</mark>\n",
       " devices, have clear leads in consumer adoption.</div>"
      ],
      "text/plain": [
       "<IPython.core.display.HTML object>"
      ]
     },
     "metadata": {},
     "output_type": "display_data"
    }
   ],
   "source": [
    "doc.user_data['title'] = 'Apple vs Google'\n",
    "displacy.render(doc, style='ent', jupyter=True)"
   ]
  },
  {
   "cell_type": "markdown",
   "metadata": {},
   "source": [
    "## Read"
   ]
  },
  {
   "cell_type": "code",
   "execution_count": 11,
   "metadata": {},
   "outputs": [],
   "source": [
    "args.data_text_path = 'docstring_data_text.hdf5'"
   ]
  },
  {
   "cell_type": "code",
   "execution_count": 12,
   "metadata": {},
   "outputs": [
    {
     "name": "stdout",
     "output_type": "stream",
     "text": [
      "CPU times: user 1.41 s, sys: 160 ms, total: 1.57 s\n",
      "Wall time: 299 ms\n"
     ]
    },
    {
     "data": {
      "text/plain": [
       "(149507, 1)"
      ]
     },
     "execution_count": 12,
     "metadata": {},
     "output_type": "execute_result"
    }
   ],
   "source": [
    "%time df = pd.read_hdf(args.data_text_path)\n",
    "df.shape"
   ]
  },
  {
   "cell_type": "code",
   "execution_count": 13,
   "metadata": {},
   "outputs": [
    {
     "data": {
      "text/html": [
       "<div>\n",
       "<style scoped>\n",
       "    .dataframe tbody tr th:only-of-type {\n",
       "        vertical-align: middle;\n",
       "    }\n",
       "\n",
       "    .dataframe tbody tr th {\n",
       "        vertical-align: top;\n",
       "    }\n",
       "\n",
       "    .dataframe thead th {\n",
       "        text-align: right;\n",
       "    }\n",
       "</style>\n",
       "<table border=\"1\" class=\"dataframe\">\n",
       "  <thead>\n",
       "    <tr style=\"text-align: right;\">\n",
       "      <th></th>\n",
       "      <th>text</th>\n",
       "    </tr>\n",
       "  </thead>\n",
       "  <tbody>\n",
       "    <tr>\n",
       "      <th>0</th>\n",
       "      <td>Find globals in this statement.</td>\n",
       "    </tr>\n",
       "    <tr>\n",
       "      <th>1</th>\n",
       "      <td>Returns True if the input phrase has a negativ...</td>\n",
       "    </tr>\n",
       "    <tr>\n",
       "      <th>2</th>\n",
       "      <td>Returns True if the input phrase has a positiv...</td>\n",
       "    </tr>\n",
       "    <tr>\n",
       "      <th>3</th>\n",
       "      <td>Returns: DCNL A speaker implementation availab...</td>\n",
       "    </tr>\n",
       "    <tr>\n",
       "      <th>4</th>\n",
       "      <td>Gets the keyword phrases from the keywords fil...</td>\n",
       "    </tr>\n",
       "  </tbody>\n",
       "</table>\n",
       "</div>"
      ],
      "text/plain": [
       "                                                text\n",
       "0                    Find globals in this statement.\n",
       "1  Returns True if the input phrase has a negativ...\n",
       "2  Returns True if the input phrase has a positiv...\n",
       "3  Returns: DCNL A speaker implementation availab...\n",
       "4  Gets the keyword phrases from the keywords fil..."
      ]
     },
     "execution_count": 13,
     "metadata": {},
     "output_type": "execute_result"
    }
   ],
   "source": [
    "df.head()"
   ]
  },
  {
   "cell_type": "markdown",
   "metadata": {
    "colab_type": "text",
    "id": "xqkZobpE7Vwm"
   },
   "source": [
    "## Collect entities"
   ]
  },
  {
   "cell_type": "code",
   "execution_count": 14,
   "metadata": {},
   "outputs": [],
   "source": [
    "args.informative_poses = {'NOUN', 'PROPN'}\n",
    "args.stop_words = {\"doesn\\\\'t\", 'it\\\\', 'user\\\\', 'return', ':return'}\n",
    "args.log_step = 5000\n",
    "args.good_chars = string.ascii_lowercase + ' '"
   ]
  },
  {
   "cell_type": "code",
   "execution_count": 15,
   "metadata": {
    "colab": {
     "autoexec": {
      "startup": false,
      "wait_interval": 0
     }
    },
    "colab_type": "code",
    "id": "p4N9MNNG7Vwr"
   },
   "outputs": [],
   "source": [
    "def fetch_entity(desc):\n",
    "    def norm(word):\n",
    "        return word.strip().lower()\n",
    "    \n",
    "    def is_valid(word):\n",
    "        return not nlp.vocab[word].is_stop \\\n",
    "                    and not 'dcnl' in word \\\n",
    "                    and not '_' in word and len(word) > 1 \\\n",
    "                    and not word in args.stop_words \\\n",
    "                    and all(char in args.good_chars for char in word)\n",
    "    \n",
    "    # Forming candidates\n",
    "    doc = nlp(desc)\n",
    "    ents = (ent.text for ent in doc.ents)\n",
    "    lemmas = (token.lemma_ for token in doc \\\n",
    "              if token.pos_ in args.informative_poses and not token.lemma_.startswith('-'))\n",
    "    noun_chunks = (chunk.text for chunk in doc.noun_chunks)\n",
    "    candidates = (norm(candidate) for candidate in chain(ents, lemmas, noun_chunks))\n",
    "    \n",
    "    return set(candidate for candidate in candidates if is_valid(candidate))"
   ]
  },
  {
   "cell_type": "code",
   "execution_count": 16,
   "metadata": {
    "colab": {
     "autoexec": {
      "startup": false,
      "wait_interval": 0
     }
    },
    "colab_type": "code",
    "id": "5n6ZUsff7Vwt"
   },
   "outputs": [],
   "source": [
    "@monitor('[1.3.1] Collect entities', log_step=args.log_step, log_total=len(df))\n",
    "def collect_entities(descs, *, log):\n",
    "    entities = []\n",
    "    for i, desc in enumerate(tqdm(descs)):\n",
    "        entities.append(fetch_entity(desc))\n",
    "        log.istep(i)\n",
    "    return entities"
   ]
  },
  {
   "cell_type": "code",
   "execution_count": 17,
   "metadata": {
    "colab": {
     "autoexec": {
      "startup": false,
      "wait_interval": 0
     },
     "base_uri": "https://localhost:8080/",
     "height": 734,
     "output_extras": [
      {
       "item_id": 1
      },
      {
       "item_id": 2
      },
      {
       "item_id": 204
      },
      {
       "item_id": 205
      },
      {
       "item_id": 305
      },
      {
       "item_id": 306
      },
      {
       "item_id": 408
      },
      {
       "item_id": 409
      },
      {
       "item_id": 509
      },
      {
       "item_id": 510
      },
      {
       "item_id": 610
      },
      {
       "item_id": 611
      },
      {
       "item_id": 712
      },
      {
       "item_id": 713
      },
      {
       "item_id": 814
      },
      {
       "item_id": 815
      },
      {
       "item_id": 943
      },
      {
       "item_id": 944
      },
      {
       "item_id": 1044
      },
      {
       "item_id": 1045
      },
      {
       "item_id": 1146
      },
      {
       "item_id": 1147
      },
      {
       "item_id": 1248
      },
      {
       "item_id": 1249
      },
      {
       "item_id": 1349
      },
      {
       "item_id": 1350
      },
      {
       "item_id": 1450
      },
      {
       "item_id": 1451
      },
      {
       "item_id": 1550
      },
      {
       "item_id": 1551
      },
      {
       "item_id": 1662
      },
      {
       "item_id": 1663
      },
      {
       "item_id": 1764
      },
      {
       "item_id": 1765
      },
      {
       "item_id": 1867
      },
      {
       "item_id": 1868
      },
      {
       "item_id": 1969
      },
      {
       "item_id": 1970
      },
      {
       "item_id": 2070
      },
      {
       "item_id": 2071
      },
      {
       "item_id": 2168
      },
      {
       "item_id": 2169
      },
      {
       "item_id": 2269
      },
      {
       "item_id": 2270
      },
      {
       "item_id": 2370
      },
      {
       "item_id": 2371
      },
      {
       "item_id": 2473
      },
      {
       "item_id": 2474
      },
      {
       "item_id": 2574
      },
      {
       "item_id": 2575
      },
      {
       "item_id": 2675
      },
      {
       "item_id": 2676
      },
      {
       "item_id": 2776
      },
      {
       "item_id": 2777
      },
      {
       "item_id": 2878
      },
      {
       "item_id": 2879
      },
      {
       "item_id": 2980
      },
      {
       "item_id": 2981
      },
      {
       "item_id": 3081
      },
      {
       "item_id": 3082
      },
      {
       "item_id": 3183
      },
      {
       "item_id": 3184
      },
      {
       "item_id": 3283
      },
      {
       "item_id": 3284
      },
      {
       "item_id": 3383
      },
      {
       "item_id": 3384
      },
      {
       "item_id": 3484
      },
      {
       "item_id": 3485
      },
      {
       "item_id": 3585
      },
      {
       "item_id": 3586
      },
      {
       "item_id": 3610
      },
      {
       "item_id": 3611
      },
      {
       "item_id": 3612
      },
      {
       "item_id": 3614
      },
      {
       "item_id": 3615
      }
     ]
    },
    "colab_type": "code",
    "executionInfo": {
     "elapsed": 3414540,
     "status": "ok",
     "timestamp": 1521433589382,
     "user": {
      "displayName": "Станислав Беляев",
      "photoUrl": "//lh6.googleusercontent.com/-IMqslmfxonk/AAAAAAAAAAI/AAAAAAAAAjc/2Qb3VobqpFY/s50-c-k-no/photo.jpg",
      "userId": "113506133464622129087"
     },
     "user_tz": -180
    },
    "id": "fggcQJah7Vww",
    "outputId": "fa65b11d-ae3c-40f3-8882-33f730685c6f"
   },
   "outputs": [
    {
     "name": "stderr",
     "output_type": "stream",
     "text": [
      "100%|██████████| 149507/149507 [51:59<00:00, 47.93it/s]\n"
     ]
    },
    {
     "data": {
      "text/plain": [
       "[{'cache', 'entries', 'entry', 'sweep', 'the cache'}]"
      ]
     },
     "execution_count": 17,
     "metadata": {},
     "output_type": "execute_result"
    }
   ],
   "source": [
    "entities = collect_entities(df.text)\n",
    "assert len(df) == len(entities)\n",
    "random.sample(entities, 1)"
   ]
  },
  {
   "cell_type": "code",
   "execution_count": 18,
   "metadata": {
    "colab": {
     "autoexec": {
      "startup": false,
      "wait_interval": 0
     },
     "base_uri": "https://localhost:8080/",
     "height": 34,
     "output_extras": [
      {
       "item_id": 1
      }
     ]
    },
    "colab_type": "code",
    "executionInfo": {
     "elapsed": 2962,
     "status": "ok",
     "timestamp": 1521433592489,
     "user": {
      "displayName": "Станислав Беляев",
      "photoUrl": "//lh6.googleusercontent.com/-IMqslmfxonk/AAAAAAAAAAI/AAAAAAAAAjc/2Qb3VobqpFY/s50-c-k-no/photo.jpg",
      "userId": "113506133464622129087"
     },
     "user_tz": -180
    },
    "id": "r6frEl3-7Vwz",
    "outputId": "71ff1177-b46a-46ce-dbf4-27e46b97bcc1"
   },
   "outputs": [
    {
     "data": {
      "image/png": "[encoded data removed]",
      "text/plain": [
       "<Figure size 432x288 with 1 Axes>"
      ]
     },
     "metadata": {},
     "output_type": "display_data"
    }
   ],
   "source": [
    "pd.Series([len(i_entities) for i_entities in entities]).hist(bins=75);"
   ]
  },
  {
   "cell_type": "markdown",
   "metadata": {
    "colab_type": "text",
    "id": "3ZJxYJIX7Vw3"
   },
   "source": [
    "## Analysis"
   ]
  },
  {
   "cell_type": "code",
   "execution_count": 19,
   "metadata": {
    "colab": {
     "autoexec": {
      "startup": false,
      "wait_interval": 0
     }
    },
    "colab_type": "code",
    "id": "-vHMBztN7Vw4"
   },
   "outputs": [],
   "source": [
    "@monitor('[1.3.2] Join entities', log_step=args.log_step, log_total=len(entities))\n",
    "def join_entities(entities, *, log):\n",
    "    cum_cnt = Counter()\n",
    "    for i, entity in enumerate(tqdm(entities)):\n",
    "        cum_cnt += Counter(entity)\n",
    "        log.istep(i)\n",
    "    return cum_cnt"
   ]
  },
  {
   "cell_type": "code",
   "execution_count": 20,
   "metadata": {
    "colab": {
     "autoexec": {
      "startup": false,
      "wait_interval": 0
     },
     "base_uri": "https://localhost:8080/",
     "height": 734,
     "output_extras": [
      {
       "item_id": 1
      },
      {
       "item_id": 2
      },
      {
       "item_id": 5
      },
      {
       "item_id": 6
      },
      {
       "item_id": 13
      },
      {
       "item_id": 14
      },
      {
       "item_id": 25
      },
      {
       "item_id": 26
      },
      {
       "item_id": 45
      },
      {
       "item_id": 46
      },
      {
       "item_id": 71
      },
      {
       "item_id": 72
      },
      {
       "item_id": 103
      },
      {
       "item_id": 104
      },
      {
       "item_id": 139
      },
      {
       "item_id": 140
      },
      {
       "item_id": 180
      },
      {
       "item_id": 181
      },
      {
       "item_id": 224
      },
      {
       "item_id": 225
      },
      {
       "item_id": 273
      },
      {
       "item_id": 274
      },
      {
       "item_id": 326
      },
      {
       "item_id": 327
      },
      {
       "item_id": 383
      },
      {
       "item_id": 384
      },
      {
       "item_id": 442
      },
      {
       "item_id": 443
      },
      {
       "item_id": 507
      },
      {
       "item_id": 508
      },
      {
       "item_id": 574
      },
      {
       "item_id": 575
      },
      {
       "item_id": 646
      },
      {
       "item_id": 647
      },
      {
       "item_id": 722
      },
      {
       "item_id": 723
      },
      {
       "item_id": 801
      },
      {
       "item_id": 802
      },
      {
       "item_id": 882
      },
      {
       "item_id": 883
      },
      {
       "item_id": 966
      },
      {
       "item_id": 967
      },
      {
       "item_id": 1057
      },
      {
       "item_id": 1058
      },
      {
       "item_id": 1150
      },
      {
       "item_id": 1151
      },
      {
       "item_id": 1246
      },
      {
       "item_id": 1247
      },
      {
       "item_id": 1346
      },
      {
       "item_id": 1347
      },
      {
       "item_id": 1449
      },
      {
       "item_id": 1450
      },
      {
       "item_id": 1555
      },
      {
       "item_id": 1556
      },
      {
       "item_id": 1665
      },
      {
       "item_id": 1666
      },
      {
       "item_id": 1779
      },
      {
       "item_id": 1780
      },
      {
       "item_id": 1896
      },
      {
       "item_id": 1897
      },
      {
       "item_id": 2017
      },
      {
       "item_id": 2018
      },
      {
       "item_id": 2138
      },
      {
       "item_id": 2139
      },
      {
       "item_id": 2265
      },
      {
       "item_id": 2266
      },
      {
       "item_id": 2395
      },
      {
       "item_id": 2396
      },
      {
       "item_id": 2531
      },
      {
       "item_id": 2532
      },
      {
       "item_id": 2564
      },
      {
       "item_id": 2565
      },
      {
       "item_id": 2566
      },
      {
       "item_id": 2568
      },
      {
       "item_id": 2569
      }
     ]
    },
    "colab_type": "code",
    "executionInfo": {
     "elapsed": 2502539,
     "status": "ok",
     "timestamp": 1521436095891,
     "user": {
      "displayName": "Станислав Беляев",
      "photoUrl": "//lh6.googleusercontent.com/-IMqslmfxonk/AAAAAAAAAAI/AAAAAAAAAjc/2Qb3VobqpFY/s50-c-k-no/photo.jpg",
      "userId": "113506133464622129087"
     },
     "user_tz": -180
    },
    "id": "EhSJ2pyG7Vw8",
    "outputId": "bbc428e5-a7a6-4ea0-8b4f-df6f857ce0e4"
   },
   "outputs": [
    {
     "name": "stderr",
     "output_type": "stream",
     "text": [
      "100%|██████████| 149507/149507 [23:38<00:00, 105.38it/s]\n"
     ]
    },
    {
     "data": {
      "text/plain": [
       "146616"
      ]
     },
     "execution_count": 20,
     "metadata": {},
     "output_type": "execute_result"
    }
   ],
   "source": [
    "ecnts = join_entities(entities)\n",
    "len(ecnts)"
   ]
  },
  {
   "cell_type": "code",
   "execution_count": 21,
   "metadata": {
    "colab": {
     "autoexec": {
      "startup": false,
      "wait_interval": 0
     },
     "base_uri": "https://localhost:8080/",
     "height": 867,
     "output_extras": [
      {
       "item_id": 1
      }
     ]
    },
    "colab_type": "code",
    "executionInfo": {
     "elapsed": 629,
     "status": "ok",
     "timestamp": 1521436098235,
     "user": {
      "displayName": "Станислав Беляев",
      "photoUrl": "//lh6.googleusercontent.com/-IMqslmfxonk/AAAAAAAAAAI/AAAAAAAAAjc/2Qb3VobqpFY/s50-c-k-no/photo.jpg",
      "userId": "113506133464622129087"
     },
     "user_tz": -180
    },
    "id": "S9U7vunm7VxC",
    "outputId": "592df4fd-3f4f-40ac-de3b-22d9207b6c6e"
   },
   "outputs": [
    {
     "data": {
      "text/plain": [
       "\"[('test', 16568), ('list', 7555), ('object', 7078), ('file', 6770), ('value', 6252), ('method', 5723), ('string', 5552), ('function', 5543), ('user', 5233), ('instance', 4867), ('datum', 4129), ('request', 3639), ('param', 3257), ('type', 3151), ('returns', 3079), ('a list', 3055), ('error', 2931), ('parameter', 2909), ('number', 2873), ('message', 2798), ('argument', 2686), ('default', 2678), ('field', 2657), ('path', 2636), ('tests', 2533), ('class', 2479), ('command', 2233), ('attribute', 2120), ('key', 2116), ('api', 2098), ('response', 2078), ('state', 2028), ('information', 2027), ('result', 2024), ('exception', 2013), ('dictionary', 1966), ('line', 1953), ('server', 1931), ('module', 1916), ('group', 1898), ('connection', 1889), ('model', 1886), ('version', 1883), ('page', 1848), ('image', 1848), ('directory', 1837), ('dict', 1792), ('url', 1789), ('output', 1770), ('content', 1724)]\""
      ]
     },
     "execution_count": 21,
     "metadata": {},
     "output_type": "execute_result"
    }
   ],
   "source": [
    "str(ecnts.most_common(50))"
   ]
  },
  {
   "cell_type": "code",
   "execution_count": 22,
   "metadata": {
    "colab": {
     "autoexec": {
      "startup": false,
      "wait_interval": 0
     },
     "base_uri": "https://localhost:8080/",
     "height": 51,
     "output_extras": [
      {
       "item_id": 3
      },
      {
       "item_id": 4
      }
     ]
    },
    "colab_type": "code",
    "executionInfo": {
     "elapsed": 1919,
     "status": "ok",
     "timestamp": 1521436101655,
     "user": {
      "displayName": "Станислав Беляев",
      "photoUrl": "//lh6.googleusercontent.com/-IMqslmfxonk/AAAAAAAAAAI/AAAAAAAAAjc/2Qb3VobqpFY/s50-c-k-no/photo.jpg",
      "userId": "113506133464622129087"
     },
     "user_tz": -180
    },
    "id": "N4qMBIm07VxK",
    "outputId": "4a09851c-d712-4e38-d4a4-bba501b86cf0"
   },
   "outputs": [
    {
     "name": "stderr",
     "output_type": "stream",
     "text": [
      "100%|██████████| 149507/149507 [00:01<00:00, 127052.92it/s]\n"
     ]
    },
    {
     "data": {
      "text/plain": [
       "[['github', 'documentation']]"
      ]
     },
     "execution_count": 22,
     "metadata": {},
     "output_type": "execute_result"
    }
   ],
   "source": [
    "entities = [sorted(entity, key=lambda x: ecnts[x])[:5] for entity in tqdm(entities)]\n",
    "assert len(df) == len(entities)\n",
    "random.sample(entities, 1)"
   ]
  },
  {
   "cell_type": "code",
   "execution_count": 23,
   "metadata": {},
   "outputs": [],
   "source": [
    "def linearize(entities):\n",
    "    return ' '.join(sorted('-'.join(entity.split()) for entity in entities))"
   ]
  },
  {
   "cell_type": "code",
   "execution_count": 24,
   "metadata": {},
   "outputs": [
    {
     "name": "stderr",
     "output_type": "stream",
     "text": [
      "100%|██████████| 149507/149507 [00:00<00:00, 218919.42it/s]\n"
     ]
    },
    {
     "data": {
      "text/plain": [
       "['a-project ip ips project the-floating-ips']"
      ]
     },
     "execution_count": 24,
     "metadata": {},
     "output_type": "execute_result"
    }
   ],
   "source": [
    "entities = [linearize(i_entities) for i_entities in tqdm(entities)]\n",
    "assert len(df) == len(entities)\n",
    "random.sample(entities, 1)"
   ]
  },
  {
   "cell_type": "code",
   "execution_count": 25,
   "metadata": {
    "colab": {
     "autoexec": {
      "startup": false,
      "wait_interval": 0
     },
     "base_uri": "https://localhost:8080/",
     "height": 34,
     "output_extras": [
      {
       "item_id": 1
      }
     ]
    },
    "colab_type": "code",
    "executionInfo": {
     "elapsed": 743,
     "status": "ok",
     "timestamp": 1521436102433,
     "user": {
      "displayName": "Станислав Беляев",
      "photoUrl": "//lh6.googleusercontent.com/-IMqslmfxonk/AAAAAAAAAAI/AAAAAAAAAjc/2Qb3VobqpFY/s50-c-k-no/photo.jpg",
      "userId": "113506133464622129087"
     },
     "user_tz": -180
    },
    "id": "fwhEWSvS7VxO",
    "outputId": "4378bac7-1164-431a-a8b0-01d25bb976fe"
   },
   "outputs": [
    {
     "data": {
      "text/plain": [
       "(149507, 2)"
      ]
     },
     "execution_count": 25,
     "metadata": {},
     "output_type": "execute_result"
    }
   ],
   "source": [
    "df['tags'] = entities\n",
    "df.shape"
   ]
  },
  {
   "cell_type": "code",
   "execution_count": 26,
   "metadata": {},
   "outputs": [
    {
     "data": {
      "text/html": [
       "<div>\n",
       "<style scoped>\n",
       "    .dataframe tbody tr th:only-of-type {\n",
       "        vertical-align: middle;\n",
       "    }\n",
       "\n",
       "    .dataframe tbody tr th {\n",
       "        vertical-align: top;\n",
       "    }\n",
       "\n",
       "    .dataframe thead th {\n",
       "        text-align: right;\n",
       "    }\n",
       "</style>\n",
       "<table border=\"1\" class=\"dataframe\">\n",
       "  <thead>\n",
       "    <tr style=\"text-align: right;\">\n",
       "      <th></th>\n",
       "      <th>text</th>\n",
       "      <th>tags</th>\n",
       "    </tr>\n",
       "  </thead>\n",
       "  <tbody>\n",
       "    <tr>\n",
       "      <th>0</th>\n",
       "      <td>Find globals in this statement.</td>\n",
       "      <td>global globals statement this-statement</td>\n",
       "    </tr>\n",
       "    <tr>\n",
       "      <th>1</th>\n",
       "      <td>Returns True if the input phrase has a negativ...</td>\n",
       "      <td>a-negative-sentiment arguments phrase sentimen...</td>\n",
       "    </tr>\n",
       "    <tr>\n",
       "      <th>2</th>\n",
       "      <td>Returns True if the input phrase has a positiv...</td>\n",
       "      <td>a-positive-sentiment arguments phrase sentimen...</td>\n",
       "    </tr>\n",
       "    <tr>\n",
       "      <th>3</th>\n",
       "      <td>Returns: DCNL A speaker implementation availab...</td>\n",
       "      <td>a-speaker-implementation no-speaker-implementa...</td>\n",
       "    </tr>\n",
       "    <tr>\n",
       "      <th>4</th>\n",
       "      <td>Gets the keyword phrases from the keywords fil...</td>\n",
       "      <td>jasper keyword-phrases the-jasper-data-dir the...</td>\n",
       "    </tr>\n",
       "  </tbody>\n",
       "</table>\n",
       "</div>"
      ],
      "text/plain": [
       "                                                text  \\\n",
       "0                    Find globals in this statement.   \n",
       "1  Returns True if the input phrase has a negativ...   \n",
       "2  Returns True if the input phrase has a positiv...   \n",
       "3  Returns: DCNL A speaker implementation availab...   \n",
       "4  Gets the keyword phrases from the keywords fil...   \n",
       "\n",
       "                                                tags  \n",
       "0            global globals statement this-statement  \n",
       "1  a-negative-sentiment arguments phrase sentimen...  \n",
       "2  a-positive-sentiment arguments phrase sentimen...  \n",
       "3  a-speaker-implementation no-speaker-implementa...  \n",
       "4  jasper keyword-phrases the-jasper-data-dir the...  "
      ]
     },
     "execution_count": 26,
     "metadata": {},
     "output_type": "execute_result"
    }
   ],
   "source": [
    "df.head()"
   ]
  },
  {
   "cell_type": "code",
   "execution_count": 27,
   "metadata": {},
   "outputs": [
    {
     "data": {
      "text/plain": [
       "(148395, 2)"
      ]
     },
     "execution_count": 27,
     "metadata": {},
     "output_type": "execute_result"
    }
   ],
   "source": [
    "df = df[df.tags.map(len) > 0].copy()\n",
    "df = df.dropna()\n",
    "df.reset_index(drop=True, inplace=True)\n",
    "df.shape"
   ]
  },
  {
   "cell_type": "code",
   "execution_count": 28,
   "metadata": {},
   "outputs": [
    {
     "data": {
      "text/html": [
       "<div>\n",
       "<style scoped>\n",
       "    .dataframe tbody tr th:only-of-type {\n",
       "        vertical-align: middle;\n",
       "    }\n",
       "\n",
       "    .dataframe tbody tr th {\n",
       "        vertical-align: top;\n",
       "    }\n",
       "\n",
       "    .dataframe thead th {\n",
       "        text-align: right;\n",
       "    }\n",
       "</style>\n",
       "<table border=\"1\" class=\"dataframe\">\n",
       "  <thead>\n",
       "    <tr style=\"text-align: right;\">\n",
       "      <th></th>\n",
       "      <th>text</th>\n",
       "      <th>tags</th>\n",
       "    </tr>\n",
       "  </thead>\n",
       "  <tbody>\n",
       "    <tr>\n",
       "      <th>0</th>\n",
       "      <td>Find globals in this statement.</td>\n",
       "      <td>global globals statement this-statement</td>\n",
       "    </tr>\n",
       "    <tr>\n",
       "      <th>1</th>\n",
       "      <td>Returns True if the input phrase has a negativ...</td>\n",
       "      <td>a-negative-sentiment arguments phrase sentimen...</td>\n",
       "    </tr>\n",
       "    <tr>\n",
       "      <th>2</th>\n",
       "      <td>Returns True if the input phrase has a positiv...</td>\n",
       "      <td>a-positive-sentiment arguments phrase sentimen...</td>\n",
       "    </tr>\n",
       "    <tr>\n",
       "      <th>3</th>\n",
       "      <td>Returns: DCNL A speaker implementation availab...</td>\n",
       "      <td>a-speaker-implementation no-speaker-implementa...</td>\n",
       "    </tr>\n",
       "    <tr>\n",
       "      <th>4</th>\n",
       "      <td>Gets the keyword phrases from the keywords fil...</td>\n",
       "      <td>jasper keyword-phrases the-jasper-data-dir the...</td>\n",
       "    </tr>\n",
       "  </tbody>\n",
       "</table>\n",
       "</div>"
      ],
      "text/plain": [
       "                                                text  \\\n",
       "0                    Find globals in this statement.   \n",
       "1  Returns True if the input phrase has a negativ...   \n",
       "2  Returns True if the input phrase has a positiv...   \n",
       "3  Returns: DCNL A speaker implementation availab...   \n",
       "4  Gets the keyword phrases from the keywords fil...   \n",
       "\n",
       "                                                tags  \n",
       "0            global globals statement this-statement  \n",
       "1  a-negative-sentiment arguments phrase sentimen...  \n",
       "2  a-positive-sentiment arguments phrase sentimen...  \n",
       "3  a-speaker-implementation no-speaker-implementa...  \n",
       "4  jasper keyword-phrases the-jasper-data-dir the...  "
      ]
     },
     "execution_count": 28,
     "metadata": {},
     "output_type": "execute_result"
    }
   ],
   "source": [
    "df.head()"
   ]
  },
  {
   "cell_type": "code",
   "execution_count": 29,
   "metadata": {},
   "outputs": [],
   "source": [
    "assert (df.index == list(range(len(df)))).all()"
   ]
  },
  {
   "cell_type": "markdown",
   "metadata": {},
   "source": [
    "## Save"
   ]
  },
  {
   "cell_type": "code",
   "execution_count": 30,
   "metadata": {},
   "outputs": [],
   "source": [
    "args.save_path = 'docstring_data.hdf5'"
   ]
  },
  {
   "cell_type": "code",
   "execution_count": 31,
   "metadata": {},
   "outputs": [
    {
     "name": "stdout",
     "output_type": "stream",
     "text": [
      "CPU times: user 168 ms, sys: 36 ms, total: 204 ms\n",
      "Wall time: 203 ms\n"
     ]
    }
   ],
   "source": [
    "%time df.to_hdf(args.save_path, 'df', mode='w', format='f', complevel=9)"
   ]
  },
  {
   "cell_type": "code",
   "execution_count": 32,
   "metadata": {},
   "outputs": [
    {
     "name": "stdout",
     "output_type": "stream",
     "text": [
      "19M\tdocstring_data.hdf5\n"
     ]
    }
   ],
   "source": [
    "!du -sh $args.save_path"
   ]
  },
  {
   "cell_type": "markdown",
   "metadata": {},
   "source": [
    "## End"
   ]
  },
  {
   "cell_type": "code",
   "execution_count": 33,
   "metadata": {},
   "outputs": [
    {
     "data": {
      "text/plain": [
       "{'data_text_path': 'docstring_data_text.hdf5',\n",
       " 'good_chars': 'abcdefghijklmnopqrstuvwxyz ',\n",
       " 'informative_poses': {'NOUN', 'PROPN'},\n",
       " 'log_step': 5000,\n",
       " 'save_path': 'docstring_data.hdf5',\n",
       " 'stop_words': {':return', \"doesn\\\\'t\", 'it\\\\', 'return', 'user\\\\'}}"
      ]
     },
     "execution_count": 33,
     "metadata": {},
     "output_type": "execute_result"
    }
   ],
   "source": [
    "args"
   ]
  }
 ],
 "metadata": {
  "colab": {
   "collapsed_sections": [],
   "default_view": {},
   "name": "entities.ipynb",
   "provenance": [],
   "version": "0.3.2",
   "views": {}
  },
  "kernelspec": {
   "display_name": "Python 3",
   "language": "python",
   "name": "python3"
  },
  "language_info": {
   "codemirror_mode": {
    "name": "ipython",
    "version": 3
   },
   "file_extension": ".py",
   "mimetype": "text/x-python",
   "name": "python",
   "nbconvert_exporter": "python",
   "pygments_lexer": "ipython3",
   "version": "3.6.4"
  }
 },
 "nbformat": 4,
 "nbformat_minor": 2
}
