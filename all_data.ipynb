{
 "cells": [
  {
   "cell_type": "markdown",
   "metadata": {},
   "source": [
    "# All data"
   ]
  },
  {
   "cell_type": "markdown",
   "metadata": {},
   "source": [
    "## Init"
   ]
  },
  {
   "cell_type": "markdown",
   "metadata": {},
   "source": [
    "### Imports"
   ]
  },
  {
   "cell_type": "code",
   "execution_count": 2,
   "metadata": {},
   "outputs": [],
   "source": [
    "import pandas as pd\n",
    "\n",
    "from sklearn.datasets.lfw import Bunch"
   ]
  },
  {
   "cell_type": "markdown",
   "metadata": {},
   "source": [
    "### Args"
   ]
  },
  {
   "cell_type": "code",
   "execution_count": 3,
   "metadata": {},
   "outputs": [],
   "source": [
    "args = Bunch()"
   ]
  },
  {
   "cell_type": "markdown",
   "metadata": {},
   "source": [
    "## Read"
   ]
  },
  {
   "cell_type": "code",
   "execution_count": 7,
   "metadata": {},
   "outputs": [],
   "source": [
    "args.data_spec = {\n",
    "    'stackoverflow', 'stepik'#, 'docstring'\n",
    "}"
   ]
  },
  {
   "cell_type": "code",
   "execution_count": 11,
   "metadata": {},
   "outputs": [],
   "source": [
    "def read_data(data_name):\n",
    "    df = pd.read_hdf(f'{data_name}_data.hdf5')\n",
    "    df['source'] = data_name\n",
    "    return df"
   ]
  },
  {
   "cell_type": "code",
   "execution_count": 12,
   "metadata": {},
   "outputs": [],
   "source": [
    "dfs = [read_data(data_name) for data_name in args.data_spec]\n",
    "df = pd.concat(dfs, axis=0, ignore_index=True)"
   ]
  },
  {
   "cell_type": "code",
   "execution_count": 13,
   "metadata": {},
   "outputs": [
    {
     "data": {
      "text/html": [
       "<div>\n",
       "<style scoped>\n",
       "    .dataframe tbody tr th:only-of-type {\n",
       "        vertical-align: middle;\n",
       "    }\n",
       "\n",
       "    .dataframe tbody tr th {\n",
       "        vertical-align: top;\n",
       "    }\n",
       "\n",
       "    .dataframe thead th {\n",
       "        text-align: right;\n",
       "    }\n",
       "</style>\n",
       "<table border=\"1\" class=\"dataframe\">\n",
       "  <thead>\n",
       "    <tr style=\"text-align: right;\">\n",
       "      <th></th>\n",
       "      <th>text</th>\n",
       "      <th>tags</th>\n",
       "      <th>source</th>\n",
       "    </tr>\n",
       "  </thead>\n",
       "  <tbody>\n",
       "    <tr>\n",
       "      <th>607183</th>\n",
       "      <td>Most possible pairs DCNL Given a list of value...</td>\n",
       "      <td>python</td>\n",
       "      <td>stackoverflow</td>\n",
       "    </tr>\n",
       "    <tr>\n",
       "      <th>607184</th>\n",
       "      <td>Theano operations returning odd results DCNL S...</td>\n",
       "      <td>nnet numpy python theano</td>\n",
       "      <td>stackoverflow</td>\n",
       "    </tr>\n",
       "    <tr>\n",
       "      <th>607185</th>\n",
       "      <td>There are two horses on a chess board and four...</td>\n",
       "      <td>chess-board easy python</td>\n",
       "      <td>stepik</td>\n",
       "    </tr>\n",
       "    <tr>\n",
       "      <th>607186</th>\n",
       "      <td>Fizz Buzz is a classic programming problem. He...</td>\n",
       "      <td>medium python</td>\n",
       "      <td>stepik</td>\n",
       "    </tr>\n",
       "    <tr>\n",
       "      <th>607187</th>\n",
       "      <td>Find the number of \"Ds\", \"Cs\", \"Bs\" and \"As\" f...</td>\n",
       "      <td>grades hard python</td>\n",
       "      <td>stepik</td>\n",
       "    </tr>\n",
       "  </tbody>\n",
       "</table>\n",
       "</div>"
      ],
      "text/plain": [
       "                                                     text  \\\n",
       "607183  Most possible pairs DCNL Given a list of value...   \n",
       "607184  Theano operations returning odd results DCNL S...   \n",
       "607185  There are two horses on a chess board and four...   \n",
       "607186  Fizz Buzz is a classic programming problem. He...   \n",
       "607187  Find the number of \"Ds\", \"Cs\", \"Bs\" and \"As\" f...   \n",
       "\n",
       "                            tags         source  \n",
       "607183                    python  stackoverflow  \n",
       "607184  nnet numpy python theano  stackoverflow  \n",
       "607185   chess-board easy python         stepik  \n",
       "607186             medium python         stepik  \n",
       "607187        grades hard python         stepik  "
      ]
     },
     "execution_count": 13,
     "metadata": {},
     "output_type": "execute_result"
    }
   ],
   "source": [
    "df.tail()"
   ]
  },
  {
   "cell_type": "markdown",
   "metadata": {},
   "source": [
    "## Analysis"
   ]
  },
  {
   "cell_type": "code",
   "execution_count": 14,
   "metadata": {},
   "outputs": [
    {
     "data": {
      "text/html": [
       "<div>\n",
       "<style scoped>\n",
       "    .dataframe tbody tr th:only-of-type {\n",
       "        vertical-align: middle;\n",
       "    }\n",
       "\n",
       "    .dataframe tbody tr th {\n",
       "        vertical-align: top;\n",
       "    }\n",
       "\n",
       "    .dataframe thead th {\n",
       "        text-align: right;\n",
       "    }\n",
       "</style>\n",
       "<table border=\"1\" class=\"dataframe\">\n",
       "  <thead>\n",
       "    <tr style=\"text-align: right;\">\n",
       "      <th></th>\n",
       "      <th>text</th>\n",
       "      <th>tags</th>\n",
       "      <th>source</th>\n",
       "    </tr>\n",
       "  </thead>\n",
       "  <tbody>\n",
       "    <tr>\n",
       "      <th>count</th>\n",
       "      <td>607188</td>\n",
       "      <td>607188</td>\n",
       "      <td>607188</td>\n",
       "    </tr>\n",
       "    <tr>\n",
       "      <th>unique</th>\n",
       "      <td>607181</td>\n",
       "      <td>236496</td>\n",
       "      <td>2</td>\n",
       "    </tr>\n",
       "    <tr>\n",
       "      <th>top</th>\n",
       "      <td>Reverse proxy capable pure python webserver? D...</td>\n",
       "      <td>python</td>\n",
       "      <td>stackoverflow</td>\n",
       "    </tr>\n",
       "    <tr>\n",
       "      <th>freq</th>\n",
       "      <td>2</td>\n",
       "      <td>43300</td>\n",
       "      <td>607185</td>\n",
       "    </tr>\n",
       "  </tbody>\n",
       "</table>\n",
       "</div>"
      ],
      "text/plain": [
       "                                                     text    tags  \\\n",
       "count                                              607188  607188   \n",
       "unique                                             607181  236496   \n",
       "top     Reverse proxy capable pure python webserver? D...  python   \n",
       "freq                                                    2   43300   \n",
       "\n",
       "               source  \n",
       "count          607188  \n",
       "unique              2  \n",
       "top     stackoverflow  \n",
       "freq           607185  "
      ]
     },
     "execution_count": 14,
     "metadata": {},
     "output_type": "execute_result"
    }
   ],
   "source": [
    "df.describe()"
   ]
  },
  {
   "cell_type": "markdown",
   "metadata": {},
   "source": [
    "## Save"
   ]
  },
  {
   "cell_type": "code",
   "execution_count": 15,
   "metadata": {},
   "outputs": [],
   "source": [
    "args.save_path = 'all_data.hdf5'"
   ]
  },
  {
   "cell_type": "code",
   "execution_count": 16,
   "metadata": {},
   "outputs": [
    {
     "name": "stdout",
     "output_type": "stream",
     "text": [
      "CPU times: user 1.01 s, sys: 552 ms, total: 1.56 s\n",
      "Wall time: 1.57 s\n"
     ]
    }
   ],
   "source": [
    "%time df.to_hdf(args.save_path, 'df', mode='w', format='f', complevel=9)"
   ]
  },
  {
   "cell_type": "code",
   "execution_count": 17,
   "metadata": {},
   "outputs": [
    {
     "name": "stdout",
     "output_type": "stream",
     "text": [
      "376M\tall_data.hdf5\r\n"
     ]
    }
   ],
   "source": [
    "!du -sh $args.save_path"
   ]
  },
  {
   "cell_type": "markdown",
   "metadata": {},
   "source": [
    "## End"
   ]
  },
  {
   "cell_type": "code",
   "execution_count": null,
   "metadata": {},
   "outputs": [],
   "source": [
    "args"
   ]
  }
 ],
 "metadata": {
  "kernelspec": {
   "display_name": "Python 3",
   "language": "python",
   "name": "python3"
  },
  "language_info": {
   "codemirror_mode": {
    "name": "ipython",
    "version": 3
   },
   "file_extension": ".py",
   "mimetype": "text/x-python",
   "name": "python",
   "nbconvert_exporter": "python",
   "pygments_lexer": "ipython3",
   "version": "3.6.4"
  }
 },
 "nbformat": 4,
 "nbformat_minor": 2
}
