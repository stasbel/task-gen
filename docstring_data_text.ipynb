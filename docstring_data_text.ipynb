{
 "cells": [
  {
   "cell_type": "markdown",
   "metadata": {
    "colab_type": "text",
    "id": "SXcHo4VN5eC5"
   },
   "source": [
    "# Preprocess"
   ]
  },
  {
   "cell_type": "markdown",
   "metadata": {},
   "source": [
    "## Init"
   ]
  },
  {
   "cell_type": "markdown",
   "metadata": {},
   "source": [
    "### Imports"
   ]
  },
  {
   "cell_type": "code",
   "execution_count": 1,
   "metadata": {
    "colab": {
     "autoexec": {
      "startup": false,
      "wait_interval": 0
     }
    },
    "colab_type": "code",
    "id": "fosarMHB5eC8"
   },
   "outputs": [],
   "source": [
    "import os\n",
    "import random\n",
    "import pandas as pd\n",
    "import seaborn as sns\n",
    "\n",
    "from tqdm import tqdm\n",
    "from itertools import chain\n",
    "from hd_utils import monitor\n",
    "from string import ascii_lowercase\n",
    "from sklearn.datasets.lfw import Bunch\n",
    "from more_itertools import unique_everseen, take\n",
    "from langdetect import detect as detect_lang, detect_langs"
   ]
  },
  {
   "cell_type": "markdown",
   "metadata": {},
   "source": [
    "### Plot"
   ]
  },
  {
   "cell_type": "code",
   "execution_count": 2,
   "metadata": {},
   "outputs": [],
   "source": [
    "%matplotlib inline\n",
    "sns.set_style('darkgrid')"
   ]
  },
  {
   "cell_type": "markdown",
   "metadata": {
    "colab_type": "text",
    "id": "4ka0sXbi5eDH"
   },
   "source": [
    "### Args"
   ]
  },
  {
   "cell_type": "code",
   "execution_count": 3,
   "metadata": {},
   "outputs": [],
   "source": [
    "args = Bunch()"
   ]
  },
  {
   "cell_type": "markdown",
   "metadata": {},
   "source": [
    "## Read"
   ]
  },
  {
   "cell_type": "code",
   "execution_count": 4,
   "metadata": {},
   "outputs": [],
   "source": [
    "_data_base_path = './code-docstring-corpus/V2/parallel'\n",
    "args.toplevelfuncs_desc_path = os.path.join(_data_base_path, 'parallel_desc')\n",
    "args.methods_desc_path = os.path.join(_data_base_path, 'parallel_methods_desc')\n",
    "args.desc_paths = [args.toplevelfuncs_desc_path, args.methods_desc_path]\n",
    "args.max_descs = 1000000"
   ]
  },
  {
   "cell_type": "code",
   "execution_count": 5,
   "metadata": {},
   "outputs": [],
   "source": [
    "def read_desc_gen(file_path):\n",
    "    with open(file_path, 'r', errors='ignore') as f:\n",
    "        for line in f:\n",
    "            yield line.strip()[1:-1]\n",
    "            \n",
    "            \n",
    "def read_all():\n",
    "    all_gen = (read_desc_gen(desc_path) for desc_path in args.desc_paths)\n",
    "    return list(take(args.max_descs, unique_everseen(chain.from_iterable(all_gen))))"
   ]
  },
  {
   "cell_type": "code",
   "execution_count": 6,
   "metadata": {},
   "outputs": [
    {
     "name": "stdout",
     "output_type": "stream",
     "text": [
      "CPU times: user 1.1 s, sys: 108 ms, total: 1.2 s\n",
      "Wall time: 1.26 s\n"
     ]
    },
    {
     "data": {
      "text/plain": [
       "357220"
      ]
     },
     "execution_count": 6,
     "metadata": {},
     "output_type": "execute_result"
    }
   ],
   "source": [
    "%time descs = read_all()\n",
    "len(descs)"
   ]
  },
  {
   "cell_type": "markdown",
   "metadata": {},
   "source": [
    "## Filtering"
   ]
  },
  {
   "cell_type": "code",
   "execution_count": 7,
   "metadata": {},
   "outputs": [],
   "source": [
    "args.len_lb, args.len_up = 25, 200\n",
    "args.log_step = 5000\n",
    "args.chars_threshold = 0.8"
   ]
  },
  {
   "cell_type": "code",
   "execution_count": 8,
   "metadata": {},
   "outputs": [],
   "source": [
    "def is_english_detect(text):\n",
    "    try:\n",
    "        return detect_lang(text) == 'en'\n",
    "    except:\n",
    "        return False\n",
    "\n",
    "\n",
    "def is_chinise(text):\n",
    "    for c in text:\n",
    "        if 0x4e00 <= ord(c) <= 0x9fff:\n",
    "            return True\n",
    "    return False\n",
    "\n",
    "\n",
    "def is_ascii(text):\n",
    "    return all(31 < ord(c) < 128 for c in text)\n",
    "\n",
    "    \n",
    "def is_plausible_chars(text):\n",
    "    m = sum(bool(c in ascii_lowercase) for c in text.lower()) \n",
    "    n = len(text)\n",
    "    return m / n >= args.chars_threshold and is_ascii(text)\n",
    "\n",
    "\n",
    "def is_sensible(text):\n",
    "    return is_english_detect(text) and is_plausible_chars(text)\n",
    "\n",
    "\n",
    "def is_valid(desc):\n",
    "    return args.len_lb <= len(desc) <= args.len_up and is_sensible(desc)"
   ]
  },
  {
   "cell_type": "code",
   "execution_count": 9,
   "metadata": {},
   "outputs": [],
   "source": [
    "@monitor('[1.1.1] Preprocessing english sorting', log_step=args.log_step, log_total=len(descs))\n",
    "def english_sorting(descs, *, log):\n",
    "    new_descs = []\n",
    "    for i, desc in enumerate(tqdm(descs)):\n",
    "        if is_valid(desc):\n",
    "            new_descs.append(desc)\n",
    "        log.imetric(i, 'current len', len(new_descs))\n",
    "    return new_descs"
   ]
  },
  {
   "cell_type": "code",
   "execution_count": 10,
   "metadata": {},
   "outputs": [
    {
     "name": "stderr",
     "output_type": "stream",
     "text": [
      "100%|██████████| 357220/357220 [58:57<00:00, 100.98it/s]\n"
     ]
    },
    {
     "data": {
      "text/plain": [
       "149499"
      ]
     },
     "execution_count": 10,
     "metadata": {},
     "output_type": "execute_result"
    }
   ],
   "source": [
    "descs = english_sorting(descs)\n",
    "len(descs)"
   ]
  },
  {
   "cell_type": "code",
   "execution_count": 11,
   "metadata": {},
   "outputs": [
    {
     "data": {
      "text/html": [
       "<div>\n",
       "<style scoped>\n",
       "    .dataframe tbody tr th:only-of-type {\n",
       "        vertical-align: middle;\n",
       "    }\n",
       "\n",
       "    .dataframe tbody tr th {\n",
       "        vertical-align: top;\n",
       "    }\n",
       "\n",
       "    .dataframe thead th {\n",
       "        text-align: right;\n",
       "    }\n",
       "</style>\n",
       "<table border=\"1\" class=\"dataframe\">\n",
       "  <thead>\n",
       "    <tr style=\"text-align: right;\">\n",
       "      <th></th>\n",
       "      <th>text</th>\n",
       "    </tr>\n",
       "  </thead>\n",
       "  <tbody>\n",
       "    <tr>\n",
       "      <th>0</th>\n",
       "      <td>Find globals in this statement.</td>\n",
       "    </tr>\n",
       "    <tr>\n",
       "      <th>1</th>\n",
       "      <td>Returns True if the input phrase has a negativ...</td>\n",
       "    </tr>\n",
       "    <tr>\n",
       "      <th>2</th>\n",
       "      <td>Returns True if the input phrase has a positiv...</td>\n",
       "    </tr>\n",
       "    <tr>\n",
       "      <th>3</th>\n",
       "      <td>Returns: DCNL A speaker implementation availab...</td>\n",
       "    </tr>\n",
       "    <tr>\n",
       "      <th>4</th>\n",
       "      <td>Gets the keyword phrases from the keywords fil...</td>\n",
       "    </tr>\n",
       "  </tbody>\n",
       "</table>\n",
       "</div>"
      ],
      "text/plain": [
       "                                                text\n",
       "0                    Find globals in this statement.\n",
       "1  Returns True if the input phrase has a negativ...\n",
       "2  Returns True if the input phrase has a positiv...\n",
       "3  Returns: DCNL A speaker implementation availab...\n",
       "4  Gets the keyword phrases from the keywords fil..."
      ]
     },
     "execution_count": 11,
     "metadata": {},
     "output_type": "execute_result"
    }
   ],
   "source": [
    "df = pd.DataFrame(descs, columns=['text'])\n",
    "df.head()"
   ]
  },
  {
   "cell_type": "markdown",
   "metadata": {},
   "source": [
    "## Analysis"
   ]
  },
  {
   "cell_type": "code",
   "execution_count": 12,
   "metadata": {},
   "outputs": [
    {
     "data": {
      "image/png": "[encoded data removed]",
      "text/plain": [
       "<Figure size 432x288 with 1 Axes>"
      ]
     },
     "metadata": {},
     "output_type": "display_data"
    }
   ],
   "source": [
    "df.text.map(len).hist(bins=75);"
   ]
  },
  {
   "cell_type": "code",
   "execution_count": 13,
   "metadata": {},
   "outputs": [
    {
     "data": {
      "text/plain": [
       "['Paths may be allowed to stay wide',\n",
       " 'Runs `LevMarLSQFitter` with estimated and analytic derivatives of a DCNL `Gaussian1D`.',\n",
       " ':type entity: IqProtocolEntity',\n",
       " 'Convert plain set to instance of this class.',\n",
       " 'Returns the index for the current step.',\n",
       " 'Execute and return stdout.',\n",
       " 'RESTful CRUD controller for Organisations filtered by Type',\n",
       " 'Ensure that X is in the proper format',\n",
       " 'Create a network connection.',\n",
       " 'Ensure procmail file attributes are specified correctly.']"
      ]
     },
     "execution_count": 13,
     "metadata": {},
     "output_type": "execute_result"
    }
   ],
   "source": [
    "df.text.sample(10).tolist()"
   ]
  },
  {
   "cell_type": "markdown",
   "metadata": {},
   "source": [
    "## Save"
   ]
  },
  {
   "cell_type": "code",
   "execution_count": 14,
   "metadata": {},
   "outputs": [],
   "source": [
    "args.save_path = 'docstring_data_text.hdf5'"
   ]
  },
  {
   "cell_type": "code",
   "execution_count": 15,
   "metadata": {},
   "outputs": [
    {
     "name": "stdout",
     "output_type": "stream",
     "text": [
      "CPU times: user 144 ms, sys: 44 ms, total: 188 ms\n",
      "Wall time: 358 ms\n"
     ]
    }
   ],
   "source": [
    "%time df.to_hdf(args.save_path, 'df', mode='w', format='f', complevel=9)"
   ]
  },
  {
   "cell_type": "code",
   "execution_count": 16,
   "metadata": {},
   "outputs": [
    {
     "name": "stdout",
     "output_type": "stream",
     "text": [
      "12M\tdocstring_data_text.hdf5\r\n"
     ]
    }
   ],
   "source": [
    "!du -sh $args.save_path"
   ]
  },
  {
   "cell_type": "markdown",
   "metadata": {},
   "source": [
    "## End"
   ]
  },
  {
   "cell_type": "code",
   "execution_count": 17,
   "metadata": {},
   "outputs": [
    {
     "data": {
      "text/plain": [
       "{'chars_threshold': 0.8,\n",
       " 'desc_paths': ['./code-docstring-corpus/V2/parallel/parallel_desc',\n",
       "  './code-docstring-corpus/V2/parallel/parallel_methods_desc'],\n",
       " 'len_lb': 25,\n",
       " 'len_up': 200,\n",
       " 'log_step': 5000,\n",
       " 'max_descs': 1000000,\n",
       " 'methods_desc_path': './code-docstring-corpus/V2/parallel/parallel_methods_desc',\n",
       " 'save_path': 'docstring_data_text.hdf5',\n",
       " 'toplevelfuncs_desc_path': './code-docstring-corpus/V2/parallel/parallel_desc'}"
      ]
     },
     "execution_count": 17,
     "metadata": {},
     "output_type": "execute_result"
    }
   ],
   "source": [
    "args"
   ]
  }
 ],
 "metadata": {
  "accelerator": "GPU",
  "colab": {
   "collapsed_sections": [],
   "default_view": {},
   "name": "preprocess.ipynb",
   "provenance": [],
   "version": "0.3.2",
   "views": {}
  },
  "kernelspec": {
   "display_name": "Python 3",
   "language": "python",
   "name": "python3"
  },
  "language_info": {
   "codemirror_mode": {
    "name": "ipython",
    "version": 3
   },
   "file_extension": ".py",
   "mimetype": "text/x-python",
   "name": "python",
   "nbconvert_exporter": "python",
   "pygments_lexer": "ipython3",
   "version": "3.6.4"
  }
 },
 "nbformat": 4,
 "nbformat_minor": 1
}
