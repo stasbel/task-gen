{
 "cells": [
  {
   "cell_type": "markdown",
   "metadata": {},
   "source": [
    "# All data"
   ]
  },
  {
   "cell_type": "markdown",
   "metadata": {},
   "source": [
    "## Init"
   ]
  },
  {
   "cell_type": "code",
   "execution_count": 1,
   "metadata": {},
   "outputs": [],
   "source": [
    "%reload_ext autoreload\n",
    "%autoreload 2"
   ]
  },
  {
   "cell_type": "code",
   "execution_count": 2,
   "metadata": {},
   "outputs": [],
   "source": [
    "import sys\n",
    "sys.path.append('..')"
   ]
  },
  {
   "cell_type": "code",
   "execution_count": 3,
   "metadata": {},
   "outputs": [],
   "source": [
    "import random\n",
    "import pandas as pd\n",
    "import seaborn as sns\n",
    "\n",
    "from utils import examine_df, monitor\n",
    "from sklearn.datasets.lfw import Bunch\n",
    "from stags_collector import StagsCollector"
   ]
  },
  {
   "cell_type": "code",
   "execution_count": 4,
   "metadata": {},
   "outputs": [],
   "source": [
    "%matplotlib inline\n",
    "sns.set_style('darkgrid')"
   ]
  },
  {
   "cell_type": "code",
   "execution_count": 5,
   "metadata": {},
   "outputs": [],
   "source": [
    "args = Bunch()"
   ]
  },
  {
   "cell_type": "markdown",
   "metadata": {},
   "source": [
    "## Read"
   ]
  },
  {
   "cell_type": "code",
   "execution_count": 6,
   "metadata": {},
   "outputs": [],
   "source": [
    "args.data_spec = [\n",
    "    'docstring', 'stackoverflow', 'stepik'\n",
    "]"
   ]
  },
  {
   "cell_type": "code",
   "execution_count": 7,
   "metadata": {},
   "outputs": [],
   "source": [
    "def read_data(data_name):\n",
    "    df = pd.read_hdf(f'{data_name}_data.hdf5')\n",
    "    df['source'] = data_name\n",
    "    return df"
   ]
  },
  {
   "cell_type": "code",
   "execution_count": 8,
   "metadata": {},
   "outputs": [
    {
     "name": "stdout",
     "output_type": "stream",
     "text": [
      "shape=(892713, 3)\n"
     ]
    },
    {
     "data": {
      "text/html": [
       "<div>\n",
       "<style scoped>\n",
       "    .dataframe tbody tr th:only-of-type {\n",
       "        vertical-align: middle;\n",
       "    }\n",
       "\n",
       "    .dataframe tbody tr th {\n",
       "        vertical-align: top;\n",
       "    }\n",
       "\n",
       "    .dataframe thead tr th {\n",
       "        text-align: left;\n",
       "    }\n",
       "</style>\n",
       "<table border=\"1\" class=\"dataframe\">\n",
       "  <thead>\n",
       "    <tr>\n",
       "      <th></th>\n",
       "      <th>name</th>\n",
       "      <th>text</th>\n",
       "      <th>tags</th>\n",
       "      <th>source</th>\n",
       "    </tr>\n",
       "    <tr>\n",
       "      <th></th>\n",
       "      <th>pos</th>\n",
       "      <th>0</th>\n",
       "      <th>1</th>\n",
       "      <th>2</th>\n",
       "    </tr>\n",
       "  </thead>\n",
       "  <tbody>\n",
       "    <tr>\n",
       "      <th rowspan=\"5\" valign=\"top\">head</th>\n",
       "      <th>0</th>\n",
       "      <td>load a Python source file and compile it to by...</td>\n",
       "      <td>NaN</td>\n",
       "      <td>docstring</td>\n",
       "    </tr>\n",
       "    <tr>\n",
       "      <th>1</th>\n",
       "      <td>load a module without importing it DCNL _load_...</td>\n",
       "      <td>NaN</td>\n",
       "      <td>docstring</td>\n",
       "    </tr>\n",
       "    <tr>\n",
       "      <th>2</th>\n",
       "      <td>Compare two code-objects. DCNL This is the mai...</td>\n",
       "      <td>NaN</td>\n",
       "      <td>docstring</td>\n",
       "    </tr>\n",
       "    <tr>\n",
       "      <th>3</th>\n",
       "      <td>Compare a .pyc with a source code file.</td>\n",
       "      <td>NaN</td>\n",
       "      <td>docstring</td>\n",
       "    </tr>\n",
       "    <tr>\n",
       "      <th>4</th>\n",
       "      <td>Find globals in this statement.</td>\n",
       "      <td>NaN</td>\n",
       "      <td>docstring</td>\n",
       "    </tr>\n",
       "    <tr>\n",
       "      <th rowspan=\"5\" valign=\"top\">tail</th>\n",
       "      <th>892708</th>\n",
       "      <td>There are two horses on a chess board and four...</td>\n",
       "      <td>easy python</td>\n",
       "      <td>stepik</td>\n",
       "    </tr>\n",
       "    <tr>\n",
       "      <th>892709</th>\n",
       "      <td>Fizz Buzz is a classic programming problem. He...</td>\n",
       "      <td>medium python</td>\n",
       "      <td>stepik</td>\n",
       "    </tr>\n",
       "    <tr>\n",
       "      <th>892710</th>\n",
       "      <td>Find the number of \"Ds\", \"Cs\", \"Bs\" and \"As\" f...</td>\n",
       "      <td>hard python</td>\n",
       "      <td>stepik</td>\n",
       "    </tr>\n",
       "    <tr>\n",
       "      <th>892711</th>\n",
       "      <td>Sum all input numbers in one pass func.</td>\n",
       "      <td>NaN</td>\n",
       "      <td>stepik</td>\n",
       "    </tr>\n",
       "    <tr>\n",
       "      <th>892712</th>\n",
       "      <td>You are given a string s consisting of n lower...</td>\n",
       "      <td>NaN</td>\n",
       "      <td>stepik</td>\n",
       "    </tr>\n",
       "    <tr>\n",
       "      <th rowspan=\"2\" valign=\"top\">meta</th>\n",
       "      <th>type</th>\n",
       "      <td>object</td>\n",
       "      <td>object</td>\n",
       "      <td>object</td>\n",
       "    </tr>\n",
       "    <tr>\n",
       "      <th>has_null</th>\n",
       "      <td>False</td>\n",
       "      <td>False</td>\n",
       "      <td>False</td>\n",
       "    </tr>\n",
       "    <tr>\n",
       "      <th rowspan=\"4\" valign=\"top\">math</th>\n",
       "      <th>count</th>\n",
       "      <td>892713</td>\n",
       "      <td>892713</td>\n",
       "      <td>892713</td>\n",
       "    </tr>\n",
       "    <tr>\n",
       "      <th>unique</th>\n",
       "      <td>892699</td>\n",
       "      <td>134098</td>\n",
       "      <td>3</td>\n",
       "    </tr>\n",
       "    <tr>\n",
       "      <th>top</th>\n",
       "      <td>KBEngine method. DCNL globalData NASC</td>\n",
       "      <td>NaN</td>\n",
       "      <td>stackoverflow</td>\n",
       "    </tr>\n",
       "    <tr>\n",
       "      <th>freq</th>\n",
       "      <td>4</td>\n",
       "      <td>308573</td>\n",
       "      <td>584137</td>\n",
       "    </tr>\n",
       "  </tbody>\n",
       "</table>\n",
       "</div>"
      ],
      "text/plain": [
       "name                                                        text  \\\n",
       "pos                                                            0   \n",
       "head 0         load a Python source file and compile it to by...   \n",
       "     1         load a module without importing it DCNL _load_...   \n",
       "     2         Compare two code-objects. DCNL This is the mai...   \n",
       "     3                   Compare a .pyc with a source code file.   \n",
       "     4                           Find globals in this statement.   \n",
       "tail 892708    There are two horses on a chess board and four...   \n",
       "     892709    Fizz Buzz is a classic programming problem. He...   \n",
       "     892710    Find the number of \"Ds\", \"Cs\", \"Bs\" and \"As\" f...   \n",
       "     892711              Sum all input numbers in one pass func.   \n",
       "     892712    You are given a string s consisting of n lower...   \n",
       "meta type                                                 object   \n",
       "     has_null                                              False   \n",
       "math count                                                892713   \n",
       "     unique                                               892699   \n",
       "     top                   KBEngine method. DCNL globalData NASC   \n",
       "     freq                                                      4   \n",
       "\n",
       "name                    tags         source  \n",
       "pos                        1              2  \n",
       "head 0                   NaN      docstring  \n",
       "     1                   NaN      docstring  \n",
       "     2                   NaN      docstring  \n",
       "     3                   NaN      docstring  \n",
       "     4                   NaN      docstring  \n",
       "tail 892708      easy python         stepik  \n",
       "     892709    medium python         stepik  \n",
       "     892710      hard python         stepik  \n",
       "     892711              NaN         stepik  \n",
       "     892712              NaN         stepik  \n",
       "meta type             object         object  \n",
       "     has_null          False          False  \n",
       "math count            892713         892713  \n",
       "     unique           134098              3  \n",
       "     top                 NaN  stackoverflow  \n",
       "     freq             308573         584137  "
      ]
     },
     "metadata": {},
     "output_type": "display_data"
    }
   ],
   "source": [
    "df = pd.concat([read_data(data_name) for data_name in args.data_spec], axis=0, ignore_index=True)\n",
    "examine_df(df)"
   ]
  },
  {
   "cell_type": "markdown",
   "metadata": {},
   "source": [
    "## Stags"
   ]
  },
  {
   "cell_type": "code",
   "execution_count": 9,
   "metadata": {},
   "outputs": [],
   "source": [
    "args.stags_total_up = 500\n",
    "args.log_step = 5000"
   ]
  },
  {
   "cell_type": "code",
   "execution_count": 10,
   "metadata": {},
   "outputs": [
    {
     "name": "stderr",
     "output_type": "stream",
     "text": [
      "100%|██████████| 892713/892713 [13:08<00:00, 1132.27it/s]\n",
      "100%|██████████| 892713/892713 [00:01<00:00, 483704.82it/s]\n"
     ]
    },
    {
     "data": {
      "text/plain": [
       "['', 'code', 'py']"
      ]
     },
     "execution_count": 10,
     "metadata": {},
     "output_type": "execute_result"
    }
   ],
   "source": [
    "collector = StagsCollector(\n",
    "    args.stags_total_up,\n",
    "    monitor=monitor('[1.8] Collect stags', log_step=args.log_step),\n",
    "    do_tqdm=True\n",
    ")\n",
    "stags = collector.fit_transform(df.text)\n",
    "random.sample(stags, 3)"
   ]
  },
  {
   "cell_type": "code",
   "execution_count": 11,
   "metadata": {},
   "outputs": [
    {
     "name": "stdout",
     "output_type": "stream",
     "text": [
      "shape=(892713, 4)\n"
     ]
    },
    {
     "data": {
      "text/html": [
       "<div>\n",
       "<style scoped>\n",
       "    .dataframe tbody tr th:only-of-type {\n",
       "        vertical-align: middle;\n",
       "    }\n",
       "\n",
       "    .dataframe tbody tr th {\n",
       "        vertical-align: top;\n",
       "    }\n",
       "\n",
       "    .dataframe thead tr th {\n",
       "        text-align: left;\n",
       "    }\n",
       "</style>\n",
       "<table border=\"1\" class=\"dataframe\">\n",
       "  <thead>\n",
       "    <tr>\n",
       "      <th></th>\n",
       "      <th>name</th>\n",
       "      <th>text</th>\n",
       "      <th>tags</th>\n",
       "      <th>stags</th>\n",
       "      <th>source</th>\n",
       "    </tr>\n",
       "    <tr>\n",
       "      <th></th>\n",
       "      <th>pos</th>\n",
       "      <th>0</th>\n",
       "      <th>1</th>\n",
       "      <th>2</th>\n",
       "      <th>3</th>\n",
       "    </tr>\n",
       "  </thead>\n",
       "  <tbody>\n",
       "    <tr>\n",
       "      <th rowspan=\"5\" valign=\"top\">head</th>\n",
       "      <th>0</th>\n",
       "      <td>load a Python source file and compile it to by...</td>\n",
       "      <td>NaN</td>\n",
       "      <td>file</td>\n",
       "      <td>docstring</td>\n",
       "    </tr>\n",
       "    <tr>\n",
       "      <th>1</th>\n",
       "      <td>load a module without importing it DCNL _load_...</td>\n",
       "      <td>NaN</td>\n",
       "      <td>file</td>\n",
       "      <td>docstring</td>\n",
       "    </tr>\n",
       "    <tr>\n",
       "      <th>2</th>\n",
       "      <td>Compare two code-objects. DCNL This is the mai...</td>\n",
       "      <td>NaN</td>\n",
       "      <td></td>\n",
       "      <td>docstring</td>\n",
       "    </tr>\n",
       "    <tr>\n",
       "      <th>3</th>\n",
       "      <td>Compare a .pyc with a source code file.</td>\n",
       "      <td>NaN</td>\n",
       "      <td></td>\n",
       "      <td>docstring</td>\n",
       "    </tr>\n",
       "    <tr>\n",
       "      <th>4</th>\n",
       "      <td>Find globals in this statement.</td>\n",
       "      <td>NaN</td>\n",
       "      <td></td>\n",
       "      <td>docstring</td>\n",
       "    </tr>\n",
       "    <tr>\n",
       "      <th rowspan=\"5\" valign=\"top\">tail</th>\n",
       "      <th>892708</th>\n",
       "      <td>There are two horses on a chess board and four...</td>\n",
       "      <td>easy python</td>\n",
       "      <td></td>\n",
       "      <td>stepik</td>\n",
       "    </tr>\n",
       "    <tr>\n",
       "      <th>892709</th>\n",
       "      <td>Fizz Buzz is a classic programming problem. He...</td>\n",
       "      <td>medium python</td>\n",
       "      <td>output</td>\n",
       "      <td>stepik</td>\n",
       "    </tr>\n",
       "    <tr>\n",
       "      <th>892710</th>\n",
       "      <td>Find the number of \"Ds\", \"Cs\", \"Bs\" and \"As\" f...</td>\n",
       "      <td>hard python</td>\n",
       "      <td>number program single-line</td>\n",
       "      <td>stepik</td>\n",
       "    </tr>\n",
       "    <tr>\n",
       "      <th>892711</th>\n",
       "      <td>Sum all input numbers in one pass func.</td>\n",
       "      <td>NaN</td>\n",
       "      <td></td>\n",
       "      <td>stepik</td>\n",
       "    </tr>\n",
       "    <tr>\n",
       "      <th>892712</th>\n",
       "      <td>You are given a string s consisting of n lower...</td>\n",
       "      <td>NaN</td>\n",
       "      <td>string</td>\n",
       "      <td>stepik</td>\n",
       "    </tr>\n",
       "    <tr>\n",
       "      <th rowspan=\"2\" valign=\"top\">meta</th>\n",
       "      <th>type</th>\n",
       "      <td>object</td>\n",
       "      <td>object</td>\n",
       "      <td>object</td>\n",
       "      <td>object</td>\n",
       "    </tr>\n",
       "    <tr>\n",
       "      <th>has_null</th>\n",
       "      <td>False</td>\n",
       "      <td>False</td>\n",
       "      <td>False</td>\n",
       "      <td>False</td>\n",
       "    </tr>\n",
       "    <tr>\n",
       "      <th rowspan=\"4\" valign=\"top\">math</th>\n",
       "      <th>count</th>\n",
       "      <td>892713</td>\n",
       "      <td>892713</td>\n",
       "      <td>892713</td>\n",
       "      <td>892713</td>\n",
       "    </tr>\n",
       "    <tr>\n",
       "      <th>unique</th>\n",
       "      <td>892699</td>\n",
       "      <td>134098</td>\n",
       "      <td>196178</td>\n",
       "      <td>3</td>\n",
       "    </tr>\n",
       "    <tr>\n",
       "      <th>top</th>\n",
       "      <td>KBEngine method. DCNL globalData NASC</td>\n",
       "      <td>NaN</td>\n",
       "      <td></td>\n",
       "      <td>stackoverflow</td>\n",
       "    </tr>\n",
       "    <tr>\n",
       "      <th>freq</th>\n",
       "      <td>4</td>\n",
       "      <td>308573</td>\n",
       "      <td>362515</td>\n",
       "      <td>584137</td>\n",
       "    </tr>\n",
       "  </tbody>\n",
       "</table>\n",
       "</div>"
      ],
      "text/plain": [
       "name                                                        text  \\\n",
       "pos                                                            0   \n",
       "head 0         load a Python source file and compile it to by...   \n",
       "     1         load a module without importing it DCNL _load_...   \n",
       "     2         Compare two code-objects. DCNL This is the mai...   \n",
       "     3                   Compare a .pyc with a source code file.   \n",
       "     4                           Find globals in this statement.   \n",
       "tail 892708    There are two horses on a chess board and four...   \n",
       "     892709    Fizz Buzz is a classic programming problem. He...   \n",
       "     892710    Find the number of \"Ds\", \"Cs\", \"Bs\" and \"As\" f...   \n",
       "     892711              Sum all input numbers in one pass func.   \n",
       "     892712    You are given a string s consisting of n lower...   \n",
       "meta type                                                 object   \n",
       "     has_null                                              False   \n",
       "math count                                                892713   \n",
       "     unique                                               892699   \n",
       "     top                   KBEngine method. DCNL globalData NASC   \n",
       "     freq                                                      4   \n",
       "\n",
       "name                    tags                       stags         source  \n",
       "pos                        1                           2              3  \n",
       "head 0                   NaN                        file      docstring  \n",
       "     1                   NaN                        file      docstring  \n",
       "     2                   NaN                                  docstring  \n",
       "     3                   NaN                                  docstring  \n",
       "     4                   NaN                                  docstring  \n",
       "tail 892708      easy python                                     stepik  \n",
       "     892709    medium python                      output         stepik  \n",
       "     892710      hard python  number program single-line         stepik  \n",
       "     892711              NaN                                     stepik  \n",
       "     892712              NaN                      string         stepik  \n",
       "meta type             object                      object         object  \n",
       "     has_null          False                       False          False  \n",
       "math count            892713                      892713         892713  \n",
       "     unique           134098                      196178              3  \n",
       "     top                 NaN                              stackoverflow  \n",
       "     freq             308573                      362515         584137  "
      ]
     },
     "metadata": {},
     "output_type": "display_data"
    }
   ],
   "source": [
    "df['stags'] = stags\n",
    "df['stags'] = df.stags.fillna('NaN')\n",
    "df = df[['text', 'tags', 'stags', 'source']].copy()\n",
    "examine_df(df)"
   ]
  },
  {
   "cell_type": "code",
   "execution_count": 12,
   "metadata": {},
   "outputs": [
    {
     "name": "stdout",
     "output_type": "stream",
     "text": [
      "['code', 'python', 'file', 'python-script', 'list', 'error', 'following-code', 'data', 'following-error', 'looks-like', 'function', 'django', 'best-way', 'like', 'better-way', 'python-code', 'use-code', 'use', 'works-fine', 'script', 'greatly-appreciated', 'text-file', 'csv-file', 'string', 'error-message', 'user', 'py', 'run', 'class', 'value', 'code-function', 'output', 'values', 'py-file', 'server', 'array', 'command-line', 'files', 'look-like', 'image', 'code-method', 'object', 'efficient-way', 'time', 'program', 'python-program', 'dictionary', 'create', 'line', 'numpy-array', 'app', 'code-file', 'module', 'method', 'text', 'pandas-dataframe', 'set', 'model', 'pythonic-way', 'use-python', 'tried', 'test', 'example', 'run-code', 'txt-file', 'form', 'dataframe', 'running', 'database', 'easy-way', 'pandas', 'problem', 'going-wrong', 'page', 'key', 'read', 'html', 'number', 'column', 'table', 'work', 'working-fine', 'api', 'plot', 'source-code', 'url', 'right-direction', 'numpy', 'following', 'command', 'application', 'input', 'request', 'right-way', 'find', 'path', 'param-bool-raw', 'add', 'query', 'correct-way']\n"
     ]
    }
   ],
   "source": [
    "print(collector._top_stags[:100])"
   ]
  },
  {
   "cell_type": "markdown",
   "metadata": {},
   "source": [
    "## Aftermath"
   ]
  },
  {
   "cell_type": "code",
   "execution_count": 13,
   "metadata": {},
   "outputs": [],
   "source": [
    "args.shuffle = True"
   ]
  },
  {
   "cell_type": "code",
   "execution_count": 14,
   "metadata": {},
   "outputs": [
    {
     "name": "stdout",
     "output_type": "stream",
     "text": [
      "shape=(892713, 4)\n"
     ]
    },
    {
     "data": {
      "text/html": [
       "<div>\n",
       "<style scoped>\n",
       "    .dataframe tbody tr th:only-of-type {\n",
       "        vertical-align: middle;\n",
       "    }\n",
       "\n",
       "    .dataframe tbody tr th {\n",
       "        vertical-align: top;\n",
       "    }\n",
       "\n",
       "    .dataframe thead tr th {\n",
       "        text-align: left;\n",
       "    }\n",
       "</style>\n",
       "<table border=\"1\" class=\"dataframe\">\n",
       "  <thead>\n",
       "    <tr>\n",
       "      <th></th>\n",
       "      <th>name</th>\n",
       "      <th>text</th>\n",
       "      <th>tags</th>\n",
       "      <th>stags</th>\n",
       "      <th>source</th>\n",
       "    </tr>\n",
       "    <tr>\n",
       "      <th></th>\n",
       "      <th>pos</th>\n",
       "      <th>0</th>\n",
       "      <th>1</th>\n",
       "      <th>2</th>\n",
       "      <th>3</th>\n",
       "    </tr>\n",
       "  </thead>\n",
       "  <tbody>\n",
       "    <tr>\n",
       "      <th rowspan=\"5\" valign=\"top\">head</th>\n",
       "      <th>0</th>\n",
       "      <td>python forloop accessing GPIO pins DCNL I'm ne...</td>\n",
       "      <td>gpio python raspbian</td>\n",
       "      <td>code</td>\n",
       "      <td>stackoverflow</td>\n",
       "    </tr>\n",
       "    <tr>\n",
       "      <th>1</th>\n",
       "      <td>Configure the twisted mainloop to be run insid...</td>\n",
       "      <td>NaN</td>\n",
       "      <td></td>\n",
       "      <td>docstring</td>\n",
       "    </tr>\n",
       "    <tr>\n",
       "      <th>2</th>\n",
       "      <td>Analyzes the context that a completion is made...</td>\n",
       "      <td>NaN</td>\n",
       "      <td></td>\n",
       "      <td>docstring</td>\n",
       "    </tr>\n",
       "    <tr>\n",
       "      <th>3</th>\n",
       "      <td>Remember a single drawable tuple to paint later.</td>\n",
       "      <td>NaN</td>\n",
       "      <td></td>\n",
       "      <td>docstring</td>\n",
       "    </tr>\n",
       "    <tr>\n",
       "      <th>4</th>\n",
       "      <td>Using Scipy.optimize method='SLSQP' returns in...</td>\n",
       "      <td>numpy optimization python scipy</td>\n",
       "      <td></td>\n",
       "      <td>stackoverflow</td>\n",
       "    </tr>\n",
       "    <tr>\n",
       "      <th rowspan=\"5\" valign=\"top\">tail</th>\n",
       "      <th>892708</th>\n",
       "      <td>Regular expression forums in python with examp...</td>\n",
       "      <td>forums python regex</td>\n",
       "      <td>regular-expressions</td>\n",
       "      <td>stackoverflow</td>\n",
       "    </tr>\n",
       "    <tr>\n",
       "      <th>892709</th>\n",
       "      <td>KNN with TF-IDF Throwing \"Reshape your data\" W...</td>\n",
       "      <td>knn python</td>\n",
       "      <td>following-error</td>\n",
       "      <td>stackoverflow</td>\n",
       "    </tr>\n",
       "    <tr>\n",
       "      <th>892710</th>\n",
       "      <td>Legacy initialization method. DCNL Parameters ...</td>\n",
       "      <td>NaN</td>\n",
       "      <td></td>\n",
       "      <td>docstring</td>\n",
       "    </tr>\n",
       "    <tr>\n",
       "      <th>892711</th>\n",
       "      <td>Display Base Layers folder in the Map\\'s Layer...</td>\n",
       "      <td>NaN</td>\n",
       "      <td></td>\n",
       "      <td>docstring</td>\n",
       "    </tr>\n",
       "    <tr>\n",
       "      <th>892712</th>\n",
       "      <td>SQLAlchemy query filter behavior confusing in ...</td>\n",
       "      <td>mysql python sqlalchemy</td>\n",
       "      <td>query</td>\n",
       "      <td>stackoverflow</td>\n",
       "    </tr>\n",
       "  </tbody>\n",
       "</table>\n",
       "</div>"
      ],
      "text/plain": [
       "name                                                      text  \\\n",
       "pos                                                          0   \n",
       "head 0       python forloop accessing GPIO pins DCNL I'm ne...   \n",
       "     1       Configure the twisted mainloop to be run insid...   \n",
       "     2       Analyzes the context that a completion is made...   \n",
       "     3        Remember a single drawable tuple to paint later.   \n",
       "     4       Using Scipy.optimize method='SLSQP' returns in...   \n",
       "tail 892708  Regular expression forums in python with examp...   \n",
       "     892709  KNN with TF-IDF Throwing \"Reshape your data\" W...   \n",
       "     892710  Legacy initialization method. DCNL Parameters ...   \n",
       "     892711  Display Base Layers folder in the Map\\'s Layer...   \n",
       "     892712  SQLAlchemy query filter behavior confusing in ...   \n",
       "\n",
       "name                                    tags                stags  \\\n",
       "pos                                        1                    2   \n",
       "head 0                  gpio python raspbian                 code   \n",
       "     1                                   NaN                        \n",
       "     2                                   NaN                        \n",
       "     3                                   NaN                        \n",
       "     4       numpy optimization python scipy                        \n",
       "tail 892708              forums python regex  regular-expressions   \n",
       "     892709                       knn python      following-error   \n",
       "     892710                              NaN                        \n",
       "     892711                              NaN                        \n",
       "     892712          mysql python sqlalchemy                query   \n",
       "\n",
       "name                source  \n",
       "pos                      3  \n",
       "head 0       stackoverflow  \n",
       "     1           docstring  \n",
       "     2           docstring  \n",
       "     3           docstring  \n",
       "     4       stackoverflow  \n",
       "tail 892708  stackoverflow  \n",
       "     892709  stackoverflow  \n",
       "     892710      docstring  \n",
       "     892711      docstring  \n",
       "     892712  stackoverflow  "
      ]
     },
     "metadata": {},
     "output_type": "display_data"
    }
   ],
   "source": [
    "if args.shuffle:\n",
    "    df = df.sample(frac=1).reset_index(drop=True)\n",
    "examine_df(df, exclude='meta, math')"
   ]
  },
  {
   "cell_type": "markdown",
   "metadata": {},
   "source": [
    "## Save"
   ]
  },
  {
   "cell_type": "code",
   "execution_count": 15,
   "metadata": {},
   "outputs": [],
   "source": [
    "args.save_path = 'all_data.hdf5'"
   ]
  },
  {
   "cell_type": "code",
   "execution_count": 16,
   "metadata": {},
   "outputs": [
    {
     "name": "stdout",
     "output_type": "stream",
     "text": [
      "CPU times: user 2.02 s, sys: 764 ms, total: 2.79 s\n",
      "Wall time: 3.38 s\n"
     ]
    }
   ],
   "source": [
    "%time df.to_hdf(args.save_path, 'df', mode='w', format='f', complevel=9)"
   ]
  },
  {
   "cell_type": "code",
   "execution_count": 17,
   "metadata": {},
   "outputs": [
    {
     "name": "stdout",
     "output_type": "stream",
     "text": [
      "427M\tall_data.hdf5\r\n"
     ]
    }
   ],
   "source": [
    "!du -sh $args.save_path"
   ]
  },
  {
   "cell_type": "markdown",
   "metadata": {},
   "source": [
    "## End"
   ]
  },
  {
   "cell_type": "code",
   "execution_count": 18,
   "metadata": {},
   "outputs": [
    {
     "data": {
      "text/plain": [
       "{'data_spec': ['docstring', 'stackoverflow', 'stepik'],\n",
       " 'log_step': 5000,\n",
       " 'save_path': 'all_data.hdf5',\n",
       " 'shuffle': True,\n",
       " 'stags_total_up': 500}"
      ]
     },
     "execution_count": 18,
     "metadata": {},
     "output_type": "execute_result"
    }
   ],
   "source": [
    "args"
   ]
  }
 ],
 "metadata": {
  "kernelspec": {
   "display_name": "Python 3",
   "language": "python",
   "name": "python3"
  },
  "language_info": {
   "codemirror_mode": {
    "name": "ipython",
    "version": 3
   },
   "file_extension": ".py",
   "mimetype": "text/x-python",
   "name": "python",
   "nbconvert_exporter": "python",
   "pygments_lexer": "ipython3",
   "version": "3.6.4"
  }
 },
 "nbformat": 4,
 "nbformat_minor": 2
}
