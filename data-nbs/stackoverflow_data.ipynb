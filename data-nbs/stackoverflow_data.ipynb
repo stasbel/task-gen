{
 "cells": [
  {
   "cell_type": "markdown",
   "metadata": {},
   "source": [
    "# Stackoverflow data"
   ]
  },
  {
   "cell_type": "markdown",
   "metadata": {},
   "source": [
    "## Init"
   ]
  },
  {
   "cell_type": "code",
   "execution_count": 1,
   "metadata": {},
   "outputs": [],
   "source": [
    "%reload_ext autoreload\n",
    "%autoreload 2"
   ]
  },
  {
   "cell_type": "code",
   "execution_count": 2,
   "metadata": {},
   "outputs": [],
   "source": [
    "import sys\n",
    "sys.path.append('..')"
   ]
  },
  {
   "cell_type": "code",
   "execution_count": 3,
   "metadata": {},
   "outputs": [],
   "source": [
    "import os\n",
    "import re\n",
    "import nltk\n",
    "import random\n",
    "import numpy as np\n",
    "import pandas as pd\n",
    "import seaborn as sns\n",
    "import matplotlib.pyplot as plt\n",
    "\n",
    "from tqdm import tqdm\n",
    "from nltk.corpus import stopwords\n",
    "from utils import monitor, examine_df\n",
    "from sklearn.datasets.lfw import Bunch\n",
    "from raw_preprocessor import RawPreprocessor\n",
    "from html_preprocessor import HTMLPreprocessor"
   ]
  },
  {
   "cell_type": "code",
   "execution_count": 4,
   "metadata": {},
   "outputs": [],
   "source": [
    "%matplotlib inline\n",
    "sns.set_style('darkgrid')"
   ]
  },
  {
   "cell_type": "code",
   "execution_count": 5,
   "metadata": {},
   "outputs": [],
   "source": [
    "args = Bunch()"
   ]
  },
  {
   "cell_type": "markdown",
   "metadata": {},
   "source": [
    "## Read"
   ]
  },
  {
   "cell_type": "code",
   "execution_count": 6,
   "metadata": {},
   "outputs": [],
   "source": [
    "args.data_kaggle_name = 'pythonquestions'"
   ]
  },
  {
   "cell_type": "code",
   "execution_count": 7,
   "metadata": {},
   "outputs": [
    {
     "name": "stdout",
     "output_type": "stream",
     "text": [
      "Requirement already satisfied: kaggle in /home/s_belyaev/miniconda3/lib/python3.6/site-packages\n",
      "Requirement already satisfied: python-dateutil in /home/s_belyaev/miniconda3/lib/python3.6/site-packages (from kaggle)\n",
      "Requirement already satisfied: certifi in /home/s_belyaev/miniconda3/lib/python3.6/site-packages (from kaggle)\n",
      "Requirement already satisfied: urllib3>=1.15 in /home/s_belyaev/miniconda3/lib/python3.6/site-packages (from kaggle)\n",
      "Requirement already satisfied: six>=1.10 in /home/s_belyaev/miniconda3/lib/python3.6/site-packages (from kaggle)\n",
      "pythonquestions.zip: Skipping, found more recently modified local copy (use --force to force download)\n"
     ]
    }
   ],
   "source": [
    "!pip install kaggle\n",
    "!kaggle datasets download -d stackoverflow/$args.data_kaggle_name"
   ]
  },
  {
   "cell_type": "code",
   "execution_count": 8,
   "metadata": {},
   "outputs": [],
   "source": [
    "_base_path = f'~/.kaggle/datasets/stackoverflow/{args.data_kaggle_name}'\n",
    "questions_path = os.path.join(_base_path, 'Questions.csv')\n",
    "tags_path = os.path.join(_base_path, 'Tags.csv')"
   ]
  },
  {
   "cell_type": "code",
   "execution_count": 9,
   "metadata": {},
   "outputs": [
    {
     "name": "stdout",
     "output_type": "stream",
     "text": [
      "CPU times: user 8.94 s, sys: 736 ms, total: 9.67 s\n",
      "Wall time: 9.67 s\n",
      "shape=(607282, 6)\n"
     ]
    },
    {
     "data": {
      "text/html": [
       "<div>\n",
       "<style scoped>\n",
       "    .dataframe tbody tr th:only-of-type {\n",
       "        vertical-align: middle;\n",
       "    }\n",
       "\n",
       "    .dataframe tbody tr th {\n",
       "        vertical-align: top;\n",
       "    }\n",
       "\n",
       "    .dataframe thead tr th {\n",
       "        text-align: left;\n",
       "    }\n",
       "</style>\n",
       "<table border=\"1\" class=\"dataframe\">\n",
       "  <thead>\n",
       "    <tr>\n",
       "      <th></th>\n",
       "      <th>name</th>\n",
       "      <th>Id</th>\n",
       "      <th>OwnerUserId</th>\n",
       "      <th>CreationDate</th>\n",
       "      <th>Score</th>\n",
       "      <th>Title</th>\n",
       "      <th>Body</th>\n",
       "    </tr>\n",
       "    <tr>\n",
       "      <th></th>\n",
       "      <th>pos</th>\n",
       "      <th>0</th>\n",
       "      <th>1</th>\n",
       "      <th>2</th>\n",
       "      <th>3</th>\n",
       "      <th>4</th>\n",
       "      <th>5</th>\n",
       "    </tr>\n",
       "  </thead>\n",
       "  <tbody>\n",
       "    <tr>\n",
       "      <th rowspan=\"5\" valign=\"top\">head</th>\n",
       "      <th>0</th>\n",
       "      <td>469</td>\n",
       "      <td>147</td>\n",
       "      <td>2008-08-02T15:11:16Z</td>\n",
       "      <td>21</td>\n",
       "      <td>How can I find the full path to a font from it...</td>\n",
       "      <td>&lt;p&gt;I am using the Photoshop's javascript API t...</td>\n",
       "    </tr>\n",
       "    <tr>\n",
       "      <th>1</th>\n",
       "      <td>502</td>\n",
       "      <td>147</td>\n",
       "      <td>2008-08-02T17:01:58Z</td>\n",
       "      <td>27</td>\n",
       "      <td>Get a preview JPEG of a PDF on Windows?</td>\n",
       "      <td>&lt;p&gt;I have a cross-platform (Python) applicatio...</td>\n",
       "    </tr>\n",
       "    <tr>\n",
       "      <th>2</th>\n",
       "      <td>535</td>\n",
       "      <td>154</td>\n",
       "      <td>2008-08-02T18:43:54Z</td>\n",
       "      <td>40</td>\n",
       "      <td>Continuous Integration System for a Python Cod...</td>\n",
       "      <td>&lt;p&gt;I'm starting work on a hobby project with a...</td>\n",
       "    </tr>\n",
       "    <tr>\n",
       "      <th>3</th>\n",
       "      <td>594</td>\n",
       "      <td>116</td>\n",
       "      <td>2008-08-03T01:15:08Z</td>\n",
       "      <td>25</td>\n",
       "      <td>cx_Oracle: How do I iterate over a result set?</td>\n",
       "      <td>&lt;p&gt;There are several ways to iterate over a re...</td>\n",
       "    </tr>\n",
       "    <tr>\n",
       "      <th>4</th>\n",
       "      <td>683</td>\n",
       "      <td>199</td>\n",
       "      <td>2008-08-03T13:19:16Z</td>\n",
       "      <td>28</td>\n",
       "      <td>Using 'in' to match an attribute of Python obj...</td>\n",
       "      <td>&lt;p&gt;I don't remember whether I was dreaming or ...</td>\n",
       "    </tr>\n",
       "    <tr>\n",
       "      <th rowspan=\"5\" valign=\"top\">tail</th>\n",
       "      <th>607277</th>\n",
       "      <td>40143190</td>\n",
       "      <td>333403</td>\n",
       "      <td>2016-10-19T23:36:01Z</td>\n",
       "      <td>1</td>\n",
       "      <td>How to execute multiline python code from a ba...</td>\n",
       "      <td>&lt;p&gt;I need to extend a shell script (bash). As ...</td>\n",
       "    </tr>\n",
       "    <tr>\n",
       "      <th>607278</th>\n",
       "      <td>40143228</td>\n",
       "      <td>6.66246e+06</td>\n",
       "      <td>2016-10-19T23:40:00Z</td>\n",
       "      <td>0</td>\n",
       "      <td>How to get google reCaptcha image source using...</td>\n",
       "      <td>&lt;p&gt;I understood that reCaptcha loads a new fra...</td>\n",
       "    </tr>\n",
       "    <tr>\n",
       "      <th>607279</th>\n",
       "      <td>40143267</td>\n",
       "      <td>4.06468e+06</td>\n",
       "      <td>2016-10-19T23:44:07Z</td>\n",
       "      <td>0</td>\n",
       "      <td>Updating an ManyToMany field with Django rest</td>\n",
       "      <td>&lt;p&gt;I'm trying to set up this API so I can use ...</td>\n",
       "    </tr>\n",
       "    <tr>\n",
       "      <th>607280</th>\n",
       "      <td>40143338</td>\n",
       "      <td>7.04498e+06</td>\n",
       "      <td>2016-10-19T23:52:27Z</td>\n",
       "      <td>2</td>\n",
       "      <td>Most possible pairs</td>\n",
       "      <td>&lt;p&gt;Given a list of values, and information on ...</td>\n",
       "    </tr>\n",
       "    <tr>\n",
       "      <th>607281</th>\n",
       "      <td>40143365</td>\n",
       "      <td>4.13313e+06</td>\n",
       "      <td>2016-10-19T23:55:49Z</td>\n",
       "      <td>0</td>\n",
       "      <td>Theano operations returning odd results</td>\n",
       "      <td>&lt;p&gt;So I'm trying to learn how to use Theano an...</td>\n",
       "    </tr>\n",
       "    <tr>\n",
       "      <th rowspan=\"2\" valign=\"top\">meta</th>\n",
       "      <th>type</th>\n",
       "      <td>int64</td>\n",
       "      <td>float64</td>\n",
       "      <td>object</td>\n",
       "      <td>int64</td>\n",
       "      <td>object</td>\n",
       "      <td>object</td>\n",
       "    </tr>\n",
       "    <tr>\n",
       "      <th>has_null</th>\n",
       "      <td>False</td>\n",
       "      <td>True</td>\n",
       "      <td>False</td>\n",
       "      <td>False</td>\n",
       "      <td>False</td>\n",
       "      <td>False</td>\n",
       "    </tr>\n",
       "    <tr>\n",
       "      <th rowspan=\"11\" valign=\"top\">math</th>\n",
       "      <th>count</th>\n",
       "      <td>607282</td>\n",
       "      <td>601070</td>\n",
       "      <td>607282</td>\n",
       "      <td>607282</td>\n",
       "      <td>607282</td>\n",
       "      <td>607282</td>\n",
       "    </tr>\n",
       "    <tr>\n",
       "      <th>unique</th>\n",
       "      <td>NaN</td>\n",
       "      <td>NaN</td>\n",
       "      <td>606068</td>\n",
       "      <td>NaN</td>\n",
       "      <td>606928</td>\n",
       "      <td>607243</td>\n",
       "    </tr>\n",
       "    <tr>\n",
       "      <th>top</th>\n",
       "      <td>NaN</td>\n",
       "      <td>NaN</td>\n",
       "      <td>2016-08-29T11:28:51Z</td>\n",
       "      <td>NaN</td>\n",
       "      <td>TypeError: 'str' object is not callable</td>\n",
       "      <td>&lt;p&gt;I am making an app in python, which is able...</td>\n",
       "    </tr>\n",
       "    <tr>\n",
       "      <th>freq</th>\n",
       "      <td>NaN</td>\n",
       "      <td>NaN</td>\n",
       "      <td>3</td>\n",
       "      <td>NaN</td>\n",
       "      <td>8</td>\n",
       "      <td>3</td>\n",
       "    </tr>\n",
       "    <tr>\n",
       "      <th>mean</th>\n",
       "      <td>2.37196e+07</td>\n",
       "      <td>2.51959e+06</td>\n",
       "      <td>NaN</td>\n",
       "      <td>2.28314</td>\n",
       "      <td>NaN</td>\n",
       "      <td>NaN</td>\n",
       "    </tr>\n",
       "    <tr>\n",
       "      <th>std</th>\n",
       "      <td>1.12472e+07</td>\n",
       "      <td>1.91038e+06</td>\n",
       "      <td>NaN</td>\n",
       "      <td>19.2856</td>\n",
       "      <td>NaN</td>\n",
       "      <td>NaN</td>\n",
       "    </tr>\n",
       "    <tr>\n",
       "      <th>min</th>\n",
       "      <td>469</td>\n",
       "      <td>25</td>\n",
       "      <td>NaN</td>\n",
       "      <td>-44</td>\n",
       "      <td>NaN</td>\n",
       "      <td>NaN</td>\n",
       "    </tr>\n",
       "    <tr>\n",
       "      <th>25%</th>\n",
       "      <td>1.48552e+07</td>\n",
       "      <td>853934</td>\n",
       "      <td>NaN</td>\n",
       "      <td>0</td>\n",
       "      <td>NaN</td>\n",
       "      <td>NaN</td>\n",
       "    </tr>\n",
       "    <tr>\n",
       "      <th>50%</th>\n",
       "      <td>2.5319e+07</td>\n",
       "      <td>2.10768e+06</td>\n",
       "      <td>NaN</td>\n",
       "      <td>1</td>\n",
       "      <td>NaN</td>\n",
       "      <td>NaN</td>\n",
       "    </tr>\n",
       "    <tr>\n",
       "      <th>75%</th>\n",
       "      <td>3.35882e+07</td>\n",
       "      <td>3.99116e+06</td>\n",
       "      <td>NaN</td>\n",
       "      <td>2</td>\n",
       "      <td>NaN</td>\n",
       "      <td>NaN</td>\n",
       "    </tr>\n",
       "    <tr>\n",
       "      <th>max</th>\n",
       "      <td>4.01434e+07</td>\n",
       "      <td>7.04499e+06</td>\n",
       "      <td>NaN</td>\n",
       "      <td>5524</td>\n",
       "      <td>NaN</td>\n",
       "      <td>NaN</td>\n",
       "    </tr>\n",
       "  </tbody>\n",
       "</table>\n",
       "</div>"
      ],
      "text/plain": [
       "name                    Id  OwnerUserId          CreationDate    Score  \\\n",
       "pos                      0            1                     2        3   \n",
       "head 0                 469          147  2008-08-02T15:11:16Z       21   \n",
       "     1                 502          147  2008-08-02T17:01:58Z       27   \n",
       "     2                 535          154  2008-08-02T18:43:54Z       40   \n",
       "     3                 594          116  2008-08-03T01:15:08Z       25   \n",
       "     4                 683          199  2008-08-03T13:19:16Z       28   \n",
       "tail 607277       40143190       333403  2016-10-19T23:36:01Z        1   \n",
       "     607278       40143228  6.66246e+06  2016-10-19T23:40:00Z        0   \n",
       "     607279       40143267  4.06468e+06  2016-10-19T23:44:07Z        0   \n",
       "     607280       40143338  7.04498e+06  2016-10-19T23:52:27Z        2   \n",
       "     607281       40143365  4.13313e+06  2016-10-19T23:55:49Z        0   \n",
       "meta type            int64      float64                object    int64   \n",
       "     has_null        False         True                 False    False   \n",
       "math count          607282       601070                607282   607282   \n",
       "     unique            NaN          NaN                606068      NaN   \n",
       "     top               NaN          NaN  2016-08-29T11:28:51Z      NaN   \n",
       "     freq              NaN          NaN                     3      NaN   \n",
       "     mean      2.37196e+07  2.51959e+06                   NaN  2.28314   \n",
       "     std       1.12472e+07  1.91038e+06                   NaN  19.2856   \n",
       "     min               469           25                   NaN      -44   \n",
       "     25%       1.48552e+07       853934                   NaN        0   \n",
       "     50%        2.5319e+07  2.10768e+06                   NaN        1   \n",
       "     75%       3.35882e+07  3.99116e+06                   NaN        2   \n",
       "     max       4.01434e+07  7.04499e+06                   NaN     5524   \n",
       "\n",
       "name                                                       Title  \\\n",
       "pos                                                            4   \n",
       "head 0         How can I find the full path to a font from it...   \n",
       "     1                   Get a preview JPEG of a PDF on Windows?   \n",
       "     2         Continuous Integration System for a Python Cod...   \n",
       "     3            cx_Oracle: How do I iterate over a result set?   \n",
       "     4         Using 'in' to match an attribute of Python obj...   \n",
       "tail 607277    How to execute multiline python code from a ba...   \n",
       "     607278    How to get google reCaptcha image source using...   \n",
       "     607279        Updating an ManyToMany field with Django rest   \n",
       "     607280                                  Most possible pairs   \n",
       "     607281              Theano operations returning odd results   \n",
       "meta type                                                 object   \n",
       "     has_null                                              False   \n",
       "math count                                                607282   \n",
       "     unique                                               606928   \n",
       "     top                 TypeError: 'str' object is not callable   \n",
       "     freq                                                      8   \n",
       "     mean                                                    NaN   \n",
       "     std                                                     NaN   \n",
       "     min                                                     NaN   \n",
       "     25%                                                     NaN   \n",
       "     50%                                                     NaN   \n",
       "     75%                                                     NaN   \n",
       "     max                                                     NaN   \n",
       "\n",
       "name                                                        Body  \n",
       "pos                                                            5  \n",
       "head 0         <p>I am using the Photoshop's javascript API t...  \n",
       "     1         <p>I have a cross-platform (Python) applicatio...  \n",
       "     2         <p>I'm starting work on a hobby project with a...  \n",
       "     3         <p>There are several ways to iterate over a re...  \n",
       "     4         <p>I don't remember whether I was dreaming or ...  \n",
       "tail 607277    <p>I need to extend a shell script (bash). As ...  \n",
       "     607278    <p>I understood that reCaptcha loads a new fra...  \n",
       "     607279    <p>I'm trying to set up this API so I can use ...  \n",
       "     607280    <p>Given a list of values, and information on ...  \n",
       "     607281    <p>So I'm trying to learn how to use Theano an...  \n",
       "meta type                                                 object  \n",
       "     has_null                                              False  \n",
       "math count                                                607282  \n",
       "     unique                                               607243  \n",
       "     top       <p>I am making an app in python, which is able...  \n",
       "     freq                                                      3  \n",
       "     mean                                                    NaN  \n",
       "     std                                                     NaN  \n",
       "     min                                                     NaN  \n",
       "     25%                                                     NaN  \n",
       "     50%                                                     NaN  \n",
       "     75%                                                     NaN  \n",
       "     max                                                     NaN  "
      ]
     },
     "metadata": {},
     "output_type": "display_data"
    }
   ],
   "source": [
    "%time qdf = pd.read_csv(questions_path, encoding='ISO-8859-1')\n",
    "examine_df(qdf)"
   ]
  },
  {
   "cell_type": "code",
   "execution_count": 10,
   "metadata": {},
   "outputs": [
    {
     "name": "stdout",
     "output_type": "stream",
     "text": [
      "shape=(607282, 3)\n"
     ]
    },
    {
     "data": {
      "text/html": [
       "<div>\n",
       "<style scoped>\n",
       "    .dataframe tbody tr th:only-of-type {\n",
       "        vertical-align: middle;\n",
       "    }\n",
       "\n",
       "    .dataframe tbody tr th {\n",
       "        vertical-align: top;\n",
       "    }\n",
       "\n",
       "    .dataframe thead tr th {\n",
       "        text-align: left;\n",
       "    }\n",
       "</style>\n",
       "<table border=\"1\" class=\"dataframe\">\n",
       "  <thead>\n",
       "    <tr>\n",
       "      <th></th>\n",
       "      <th>name</th>\n",
       "      <th>id</th>\n",
       "      <th>title</th>\n",
       "      <th>body</th>\n",
       "    </tr>\n",
       "    <tr>\n",
       "      <th></th>\n",
       "      <th>pos</th>\n",
       "      <th>0</th>\n",
       "      <th>1</th>\n",
       "      <th>2</th>\n",
       "    </tr>\n",
       "  </thead>\n",
       "  <tbody>\n",
       "    <tr>\n",
       "      <th rowspan=\"5\" valign=\"top\">head</th>\n",
       "      <th>0</th>\n",
       "      <td>469</td>\n",
       "      <td>How can I find the full path to a font from it...</td>\n",
       "      <td>&lt;p&gt;I am using the Photoshop's javascript API t...</td>\n",
       "    </tr>\n",
       "    <tr>\n",
       "      <th>1</th>\n",
       "      <td>502</td>\n",
       "      <td>Get a preview JPEG of a PDF on Windows?</td>\n",
       "      <td>&lt;p&gt;I have a cross-platform (Python) applicatio...</td>\n",
       "    </tr>\n",
       "    <tr>\n",
       "      <th>2</th>\n",
       "      <td>535</td>\n",
       "      <td>Continuous Integration System for a Python Cod...</td>\n",
       "      <td>&lt;p&gt;I'm starting work on a hobby project with a...</td>\n",
       "    </tr>\n",
       "    <tr>\n",
       "      <th>3</th>\n",
       "      <td>594</td>\n",
       "      <td>cx_Oracle: How do I iterate over a result set?</td>\n",
       "      <td>&lt;p&gt;There are several ways to iterate over a re...</td>\n",
       "    </tr>\n",
       "    <tr>\n",
       "      <th>4</th>\n",
       "      <td>683</td>\n",
       "      <td>Using 'in' to match an attribute of Python obj...</td>\n",
       "      <td>&lt;p&gt;I don't remember whether I was dreaming or ...</td>\n",
       "    </tr>\n",
       "    <tr>\n",
       "      <th rowspan=\"2\" valign=\"top\">meta</th>\n",
       "      <th>type</th>\n",
       "      <td>int64</td>\n",
       "      <td>object</td>\n",
       "      <td>object</td>\n",
       "    </tr>\n",
       "    <tr>\n",
       "      <th>has_null</th>\n",
       "      <td>False</td>\n",
       "      <td>False</td>\n",
       "      <td>False</td>\n",
       "    </tr>\n",
       "  </tbody>\n",
       "</table>\n",
       "</div>"
      ],
      "text/plain": [
       "name              id                                              title  \\\n",
       "pos                0                                                  1   \n",
       "head 0           469  How can I find the full path to a font from it...   \n",
       "     1           502            Get a preview JPEG of a PDF on Windows?   \n",
       "     2           535  Continuous Integration System for a Python Cod...   \n",
       "     3           594     cx_Oracle: How do I iterate over a result set?   \n",
       "     4           683  Using 'in' to match an attribute of Python obj...   \n",
       "meta type      int64                                             object   \n",
       "     has_null  False                                              False   \n",
       "\n",
       "name                                                        body  \n",
       "pos                                                            2  \n",
       "head 0         <p>I am using the Photoshop's javascript API t...  \n",
       "     1         <p>I have a cross-platform (Python) applicatio...  \n",
       "     2         <p>I'm starting work on a hobby project with a...  \n",
       "     3         <p>There are several ways to iterate over a re...  \n",
       "     4         <p>I don't remember whether I was dreaming or ...  \n",
       "meta type                                                 object  \n",
       "     has_null                                              False  "
      ]
     },
     "metadata": {},
     "output_type": "display_data"
    }
   ],
   "source": [
    "qdf.drop(['OwnerUserId', 'CreationDate', 'Score'], axis=1, inplace=True)\n",
    "qdf.rename({c: c.lower() for c in qdf.columns}, axis=1, inplace=True)\n",
    "examine_df(qdf, exclude='tail, math')"
   ]
  },
  {
   "cell_type": "code",
   "execution_count": 11,
   "metadata": {},
   "outputs": [
    {
     "data": {
      "image/png": "[encoded data removed]",
      "text/plain": [
       "<matplotlib.figure.Figure at 0x2afab4fb6668>"
      ]
     },
     "metadata": {},
     "output_type": "display_data"
    }
   ],
   "source": [
    "qdf.title.map(len).hist(bins=75);"
   ]
  },
  {
   "cell_type": "code",
   "execution_count": 12,
   "metadata": {},
   "outputs": [
    {
     "data": {
      "image/png": "[encoded data removed]",
      "text/plain": [
       "<matplotlib.figure.Figure at 0x2afabe933978>"
      ]
     },
     "metadata": {},
     "output_type": "display_data"
    }
   ],
   "source": [
    "body_lens = qdf.body.map(len)\n",
    "body_lens = body_lens[body_lens <= 5000]\n",
    "body_lens.hist(bins=75);"
   ]
  },
  {
   "cell_type": "markdown",
   "metadata": {},
   "source": [
    "## Text"
   ]
  },
  {
   "cell_type": "code",
   "execution_count": 13,
   "metadata": {},
   "outputs": [],
   "source": [
    "args.log_step = 5000"
   ]
  },
  {
   "cell_type": "code",
   "execution_count": 14,
   "metadata": {},
   "outputs": [
    {
     "data": {
      "text/plain": [
       "(\"<p>I have a table in Excel and I want to be able to read it (I know how to achieve this) but also tell Python that if there are certain values of d, D and B, for it to return the dimension value in the top first row as a variable in my programme. I have read various posts concerning intersections and I am not sure whether they were what I was looking for therefore I have decided to ask my own question.</p>\\n\\n<p>My Excel table is in the format as follows (just a small example since I can't post images):</p>\\n\\n<pre><code>                      Dimensions\\nd      D  |  17      27    37     47       17-47\\n          |                B           |   rsmin\\n0.6    2     0.8     -     -       -       0.05\\n1    2.5     1       -     -       -       0.05\\n1.5    3     1       -     1.8     -       0.05\\n2      4     1.2     -     2       -       0.05\\n</code></pre>\\n\\n<p>If I take an example and I have a d = 2, D = 4 (these two values will always be in the same row) and B = 2. I therefore would like to return the value Dimension = 37 to my programme. I also have the problem that I have several worksheets to read so I will refer to this table as Table1 and I must initially read through all worksheets which include one table each in the same .xls file.</p>\\n\\n<p>Thank you for your help.</p>\\n\",\n",
       " \"I have a table in Excel and I want to be able to read it (I know how to achieve this) but also tell Python that if there are certain values of d, D and B, for it to return the dimension value in the top first row as a variable in my programme. I have read various posts concerning intersections and I am not sure whether they were what I was looking for therefore I have decided to ask my own question.\\nMy Excel table is in the format as follows (just a small example since I can't post images):\\n CODE \\nIf I take an example and I have a d = 2, D = 4 (these two values will always be in the same row) and B = 2. I therefore would like to return the value Dimension = 37 to my programme. I also have the problem that I have several worksheets to read so I will refer to this table as Table1 and I must initially read through all worksheets which include one table each in the same .xls file.\\nThank you for your help.\\n\")"
      ]
     },
     "execution_count": 14,
     "metadata": {},
     "output_type": "execute_result"
    }
   ],
   "source": [
    "sample = qdf.body.sample().iloc[0]\n",
    "sample, HTMLPreprocessor().fit_transform([sample])[0]"
   ]
  },
  {
   "cell_type": "code",
   "execution_count": 15,
   "metadata": {},
   "outputs": [
    {
     "name": "stderr",
     "output_type": "stream",
     "text": [
      "100%|██████████| 607282/607282 [19:25<00:00, 521.10it/s]\n"
     ]
    }
   ],
   "source": [
    "preprocessor = HTMLPreprocessor(\n",
    "    monitor=monitor('[1.6.1] Bodies filtering', log_step=args.log_step),\n",
    "    do_tqdm=True\n",
    ")\n",
    "bodies = preprocessor.fit_transform(qdf.body)"
   ]
  },
  {
   "cell_type": "code",
   "execution_count": 16,
   "metadata": {},
   "outputs": [
    {
     "name": "stdout",
     "output_type": "stream",
     "text": [
      "CPU times: user 312 ms, sys: 180 ms, total: 492 ms\n",
      "Wall time: 490 ms\n"
     ]
    },
    {
     "data": {
      "text/plain": [
       "[\"Python OSError: [Errno 2] No such file err\\nI'm trying to use python webdriver to get html source in linux.\\nBut I got below error:\\n CODE \\nCan someone help me?\\nversion: python -> 2.7.9\\nThis is my code.\\n CODE \\n\",\n",
       " \"python and cdll in the ctypes. cannot use the printf\\nI'm a beginner in learning Python. \\nThe version of python I'm using is 3.2.1.1 \\nI'm trying to learn the ctypes by following the tutorial from docs.python.org\\nin the intereactive prompt, \\n CODE \\nit should return the value 42\\nbut in my case, it returns 0.\\nSo what's the problem? Thank very much.\\n\\nNow after I add a >>>from ctypes import cdll, the result became shows this\\n CODE \\n\",\n",
       " \"Install Python extension to specific location\\nMy project mix pure Python code, and Cython extensions for optimization and for linking with C libraries. I have one source tree for my Python project, and one for Cython and C code. My Cython extensions each have a setup.py file to build them. Actually, for each extension, I do the following:\\n CODE \\nIs there a way to specify to distutils where to install my extension (if possible, using a relative path), instead of using  CODE  followed by  CODE ? Using  CODE  option isn't good, since it creates a hierarchy of folders I don't need.\\n\"]"
      ]
     },
     "execution_count": 16,
     "metadata": {},
     "output_type": "execute_result"
    }
   ],
   "source": [
    "%time texts = [f'{t}\\n{b}' for t, b in zip(qdf.title, bodies)]\n",
    "random.sample(texts, 3)"
   ]
  },
  {
   "cell_type": "markdown",
   "metadata": {},
   "source": [
    "## Tags"
   ]
  },
  {
   "cell_type": "code",
   "execution_count": 17,
   "metadata": {},
   "outputs": [
    {
     "name": "stdout",
     "output_type": "stream",
     "text": [
      "shape=(1885078, 2)\n"
     ]
    },
    {
     "data": {
      "text/html": [
       "<div>\n",
       "<style scoped>\n",
       "    .dataframe tbody tr th:only-of-type {\n",
       "        vertical-align: middle;\n",
       "    }\n",
       "\n",
       "    .dataframe tbody tr th {\n",
       "        vertical-align: top;\n",
       "    }\n",
       "\n",
       "    .dataframe thead tr th {\n",
       "        text-align: left;\n",
       "    }\n",
       "</style>\n",
       "<table border=\"1\" class=\"dataframe\">\n",
       "  <thead>\n",
       "    <tr>\n",
       "      <th></th>\n",
       "      <th>name</th>\n",
       "      <th>Id</th>\n",
       "      <th>Tag</th>\n",
       "    </tr>\n",
       "    <tr>\n",
       "      <th></th>\n",
       "      <th>pos</th>\n",
       "      <th>0</th>\n",
       "      <th>1</th>\n",
       "    </tr>\n",
       "  </thead>\n",
       "  <tbody>\n",
       "    <tr>\n",
       "      <th rowspan=\"5\" valign=\"top\">head</th>\n",
       "      <th>0</th>\n",
       "      <td>469</td>\n",
       "      <td>python</td>\n",
       "    </tr>\n",
       "    <tr>\n",
       "      <th>1</th>\n",
       "      <td>469</td>\n",
       "      <td>osx</td>\n",
       "    </tr>\n",
       "    <tr>\n",
       "      <th>2</th>\n",
       "      <td>469</td>\n",
       "      <td>fonts</td>\n",
       "    </tr>\n",
       "    <tr>\n",
       "      <th>3</th>\n",
       "      <td>469</td>\n",
       "      <td>photoshop</td>\n",
       "    </tr>\n",
       "    <tr>\n",
       "      <th>4</th>\n",
       "      <td>502</td>\n",
       "      <td>python</td>\n",
       "    </tr>\n",
       "    <tr>\n",
       "      <th rowspan=\"5\" valign=\"top\">tail</th>\n",
       "      <th>1885073</th>\n",
       "      <td>40143338</td>\n",
       "      <td>python</td>\n",
       "    </tr>\n",
       "    <tr>\n",
       "      <th>1885074</th>\n",
       "      <td>40143365</td>\n",
       "      <td>python</td>\n",
       "    </tr>\n",
       "    <tr>\n",
       "      <th>1885075</th>\n",
       "      <td>40143365</td>\n",
       "      <td>numpy</td>\n",
       "    </tr>\n",
       "    <tr>\n",
       "      <th>1885076</th>\n",
       "      <td>40143365</td>\n",
       "      <td>theano</td>\n",
       "    </tr>\n",
       "    <tr>\n",
       "      <th>1885077</th>\n",
       "      <td>40143365</td>\n",
       "      <td>nnet</td>\n",
       "    </tr>\n",
       "    <tr>\n",
       "      <th rowspan=\"2\" valign=\"top\">meta</th>\n",
       "      <th>type</th>\n",
       "      <td>int64</td>\n",
       "      <td>object</td>\n",
       "    </tr>\n",
       "    <tr>\n",
       "      <th>has_null</th>\n",
       "      <td>False</td>\n",
       "      <td>True</td>\n",
       "    </tr>\n",
       "  </tbody>\n",
       "</table>\n",
       "</div>"
      ],
      "text/plain": [
       "name                 Id        Tag\n",
       "pos                   0          1\n",
       "head 0              469     python\n",
       "     1              469        osx\n",
       "     2              469      fonts\n",
       "     3              469  photoshop\n",
       "     4              502     python\n",
       "tail 1885073   40143338     python\n",
       "     1885074   40143365     python\n",
       "     1885075   40143365      numpy\n",
       "     1885076   40143365     theano\n",
       "     1885077   40143365       nnet\n",
       "meta type         int64     object\n",
       "     has_null     False       True"
      ]
     },
     "metadata": {},
     "output_type": "display_data"
    }
   ],
   "source": [
    "tdf = pd.read_csv(tags_path, encoding='latin1')\n",
    "examine_df(tdf, exclude='math')"
   ]
  },
  {
   "cell_type": "code",
   "execution_count": 18,
   "metadata": {},
   "outputs": [
    {
     "name": "stdout",
     "output_type": "stream",
     "text": [
      "shape=(1884635, 2)\n"
     ]
    },
    {
     "data": {
      "text/html": [
       "<div>\n",
       "<style scoped>\n",
       "    .dataframe tbody tr th:only-of-type {\n",
       "        vertical-align: middle;\n",
       "    }\n",
       "\n",
       "    .dataframe tbody tr th {\n",
       "        vertical-align: top;\n",
       "    }\n",
       "\n",
       "    .dataframe thead tr th {\n",
       "        text-align: left;\n",
       "    }\n",
       "</style>\n",
       "<table border=\"1\" class=\"dataframe\">\n",
       "  <thead>\n",
       "    <tr>\n",
       "      <th></th>\n",
       "      <th>name</th>\n",
       "      <th>id</th>\n",
       "      <th>tag</th>\n",
       "    </tr>\n",
       "    <tr>\n",
       "      <th></th>\n",
       "      <th>pos</th>\n",
       "      <th>0</th>\n",
       "      <th>1</th>\n",
       "    </tr>\n",
       "  </thead>\n",
       "  <tbody>\n",
       "    <tr>\n",
       "      <th rowspan=\"5\" valign=\"top\">head</th>\n",
       "      <th>0</th>\n",
       "      <td>469</td>\n",
       "      <td>python</td>\n",
       "    </tr>\n",
       "    <tr>\n",
       "      <th>1</th>\n",
       "      <td>469</td>\n",
       "      <td>osx</td>\n",
       "    </tr>\n",
       "    <tr>\n",
       "      <th>2</th>\n",
       "      <td>469</td>\n",
       "      <td>fonts</td>\n",
       "    </tr>\n",
       "    <tr>\n",
       "      <th>3</th>\n",
       "      <td>469</td>\n",
       "      <td>photoshop</td>\n",
       "    </tr>\n",
       "    <tr>\n",
       "      <th>4</th>\n",
       "      <td>502</td>\n",
       "      <td>python</td>\n",
       "    </tr>\n",
       "    <tr>\n",
       "      <th rowspan=\"2\" valign=\"top\">meta</th>\n",
       "      <th>type</th>\n",
       "      <td>int64</td>\n",
       "      <td>object</td>\n",
       "    </tr>\n",
       "    <tr>\n",
       "      <th>has_null</th>\n",
       "      <td>False</td>\n",
       "      <td>False</td>\n",
       "    </tr>\n",
       "  </tbody>\n",
       "</table>\n",
       "</div>"
      ],
      "text/plain": [
       "name              id        tag\n",
       "pos                0          1\n",
       "head 0           469     python\n",
       "     1           469        osx\n",
       "     2           469      fonts\n",
       "     3           469  photoshop\n",
       "     4           502     python\n",
       "meta type      int64     object\n",
       "     has_null  False      False"
      ]
     },
     "metadata": {},
     "output_type": "display_data"
    }
   ],
   "source": [
    "tdf.rename({c: c.lower() for c in tdf.columns}, axis=1, inplace=True)\n",
    "tdf = tdf.dropna()\n",
    "tdf.reset_index(drop=True, inplace=True)\n",
    "examine_df(tdf, exclude='tail, math')"
   ]
  },
  {
   "cell_type": "code",
   "execution_count": 19,
   "metadata": {},
   "outputs": [
    {
     "name": "stdout",
     "output_type": "stream",
     "text": [
      "total=16895\n"
     ]
    },
    {
     "data": {
      "text/plain": [
       "python               607283\n",
       "django                62818\n",
       "python-2.7            34616\n",
       "pandas                26854\n",
       "python-3.x            26814\n",
       "numpy                 25848\n",
       "list                  18951\n",
       "matplotlib            16521\n",
       "regex                 14047\n",
       "dictionary            13413\n",
       "tkinter               10766\n",
       "string                10616\n",
       "flask                 10488\n",
       "google-app-engine     10286\n",
       "csv                    9323\n",
       "arrays                 9170\n",
       "json                   8023\n",
       "mysql                  7529\n",
       "linux                  7121\n",
       "html                   7118\n",
       "Name: tag, dtype: int64"
      ]
     },
     "execution_count": 19,
     "metadata": {},
     "output_type": "execute_result"
    }
   ],
   "source": [
    "print(f'total={len(tdf.tag.unique())}')\n",
    "tdf.tag.value_counts()[:20]"
   ]
  },
  {
   "cell_type": "code",
   "execution_count": 20,
   "metadata": {},
   "outputs": [],
   "source": [
    "@monitor('[1.6.2] Join tags', log_step=args.log_step, log_total=len(tdf))\n",
    "def join_tags(*, log):\n",
    "    tags = [[] for _ in range(len(qdf))]\n",
    "    id2i = dict(zip(qdf.id, qdf.index))\n",
    "    for i, (_, (id_, tag)) in enumerate(tqdm(tdf.iterrows(), total=len(tdf))):\n",
    "        if id_ in id2i:\n",
    "            tags[id2i[id_]].append(tag)\n",
    "        log.istep(i)\n",
    "    return tags"
   ]
  },
  {
   "cell_type": "code",
   "execution_count": 21,
   "metadata": {},
   "outputs": [
    {
     "name": "stderr",
     "output_type": "stream",
     "text": [
      "100%|██████████| 1884635/1884635 [03:15<00:00, 9633.37it/s]\n"
     ]
    },
    {
     "data": {
      "text/plain": [
       "[['python', 'django', 'multi-tenant', 'mezzanine', 'django-sites'],\n",
       " ['python', 'single-sign-on', 'plone', 'zope'],\n",
       " ['python', 'seo', 'hyperlink']]"
      ]
     },
     "execution_count": 21,
     "metadata": {},
     "output_type": "execute_result"
    }
   ],
   "source": [
    "tags = join_tags()\n",
    "random.sample(tags, 3)"
   ]
  },
  {
   "cell_type": "code",
   "execution_count": 22,
   "metadata": {},
   "outputs": [
    {
     "data": {
      "text/plain": [
       "[{'tags': ['python', 'python-2.7'],\n",
       "  'text': \"Splitting dict by value of one of the keys\\nI've got a dictionary with data of the same length (but different types), something like:\\n CODE \\nNow I'd like to split it in two by  CODE , keeping the respective  CODE  and  CODE . That is, to have two dicts  CODE  and  CODE .\\nNote: this is merely a sample, there are multiple keys in the dict and I would want to avoid using the key names, but rather loop through all of them.\\nWhat is a Pythonic way of doing it?\\n\"},\n",
       " {'tags': ['python', 'snort'],\n",
       "  'text': \"Convert Snort string to Python timestamp\\nI'm using Snort, which generates timestamps in MM-DD/time format, such as:\\n CODE \\nI want to convert this to a Python timestamp, including the current year. What's the most pythonic way?\\n\"},\n",
       " {'tags': ['python', 'python-2.7', 'dictionary', 'counter'],\n",
       "  'text': 'How to keep my original dict when doing additon of Counter\\nTo my understanding, I know when I invoke  CODE  to covert dict. This dict includes value of keys is zero will disappear.\\n CODE \\nIf I want to keep my keys, how to do?\\nThis is my expected result:\\n CODE \\n'}]"
      ]
     },
     "execution_count": 22,
     "metadata": {},
     "output_type": "execute_result"
    }
   ],
   "source": [
    "raw = [{'text': text, 'tags': i_tags} for text, i_tags in zip(texts, tags)]\n",
    "random.sample(raw, 3)"
   ]
  },
  {
   "cell_type": "code",
   "execution_count": 23,
   "metadata": {},
   "outputs": [
    {
     "name": "stderr",
     "output_type": "stream",
     "text": [
      "100%|██████████| 607282/607282 [1:23:01<00:00, 121.90it/s]\n"
     ]
    },
    {
     "name": "stdout",
     "output_type": "stream",
     "text": [
      "shape=(584137, 2)\n"
     ]
    },
    {
     "data": {
      "text/html": [
       "<div>\n",
       "<style scoped>\n",
       "    .dataframe tbody tr th:only-of-type {\n",
       "        vertical-align: middle;\n",
       "    }\n",
       "\n",
       "    .dataframe tbody tr th {\n",
       "        vertical-align: top;\n",
       "    }\n",
       "\n",
       "    .dataframe thead tr th {\n",
       "        text-align: left;\n",
       "    }\n",
       "</style>\n",
       "<table border=\"1\" class=\"dataframe\">\n",
       "  <thead>\n",
       "    <tr>\n",
       "      <th></th>\n",
       "      <th>name</th>\n",
       "      <th>text</th>\n",
       "      <th>tags</th>\n",
       "    </tr>\n",
       "    <tr>\n",
       "      <th></th>\n",
       "      <th>pos</th>\n",
       "      <th>0</th>\n",
       "      <th>1</th>\n",
       "    </tr>\n",
       "  </thead>\n",
       "  <tbody>\n",
       "    <tr>\n",
       "      <th rowspan=\"5\" valign=\"top\">head</th>\n",
       "      <th>0</th>\n",
       "      <td>How can I find the full path to a font from it...</td>\n",
       "      <td>fonts osx photoshop python</td>\n",
       "    </tr>\n",
       "    <tr>\n",
       "      <th>1</th>\n",
       "      <td>Get a preview JPEG of a PDF on Windows? DCNL I...</td>\n",
       "      <td>image pdf python windows</td>\n",
       "    </tr>\n",
       "    <tr>\n",
       "      <th>2</th>\n",
       "      <td>Continuous Integration System for a Python Cod...</td>\n",
       "      <td>python</td>\n",
       "    </tr>\n",
       "    <tr>\n",
       "      <th>3</th>\n",
       "      <td>cx_Oracle: How do I iterate over a result set?...</td>\n",
       "      <td>database oracle python sql</td>\n",
       "    </tr>\n",
       "    <tr>\n",
       "      <th>4</th>\n",
       "      <td>Using 'in' to match an attribute of Python obj...</td>\n",
       "      <td>arrays iteration python</td>\n",
       "    </tr>\n",
       "    <tr>\n",
       "      <th rowspan=\"5\" valign=\"top\">tail</th>\n",
       "      <th>584132</th>\n",
       "      <td>How to execute multiline python code from a ba...</td>\n",
       "      <td>bash multiline python</td>\n",
       "    </tr>\n",
       "    <tr>\n",
       "      <th>584133</th>\n",
       "      <td>How to get google reCaptcha image source using...</td>\n",
       "      <td>python</td>\n",
       "    </tr>\n",
       "    <tr>\n",
       "      <th>584134</th>\n",
       "      <td>Updating an ManyToMany field with Django rest ...</td>\n",
       "      <td>django python</td>\n",
       "    </tr>\n",
       "    <tr>\n",
       "      <th>584135</th>\n",
       "      <td>Most possible pairs DCNL Given a list of value...</td>\n",
       "      <td>python</td>\n",
       "    </tr>\n",
       "    <tr>\n",
       "      <th>584136</th>\n",
       "      <td>Theano operations returning odd results DCNL S...</td>\n",
       "      <td>nnet numpy python theano</td>\n",
       "    </tr>\n",
       "    <tr>\n",
       "      <th rowspan=\"2\" valign=\"top\">meta</th>\n",
       "      <th>type</th>\n",
       "      <td>object</td>\n",
       "      <td>object</td>\n",
       "    </tr>\n",
       "    <tr>\n",
       "      <th>has_null</th>\n",
       "      <td>False</td>\n",
       "      <td>False</td>\n",
       "    </tr>\n",
       "  </tbody>\n",
       "</table>\n",
       "</div>"
      ],
      "text/plain": [
       "name                                                        text  \\\n",
       "pos                                                            0   \n",
       "head 0         How can I find the full path to a font from it...   \n",
       "     1         Get a preview JPEG of a PDF on Windows? DCNL I...   \n",
       "     2         Continuous Integration System for a Python Cod...   \n",
       "     3         cx_Oracle: How do I iterate over a result set?...   \n",
       "     4         Using 'in' to match an attribute of Python obj...   \n",
       "tail 584132    How to execute multiline python code from a ba...   \n",
       "     584133    How to get google reCaptcha image source using...   \n",
       "     584134    Updating an ManyToMany field with Django rest ...   \n",
       "     584135    Most possible pairs DCNL Given a list of value...   \n",
       "     584136    Theano operations returning odd results DCNL S...   \n",
       "meta type                                                 object   \n",
       "     has_null                                              False   \n",
       "\n",
       "name                                 tags  \n",
       "pos                                     1  \n",
       "head 0         fonts osx photoshop python  \n",
       "     1           image pdf python windows  \n",
       "     2                             python  \n",
       "     3         database oracle python sql  \n",
       "     4            arrays iteration python  \n",
       "tail 584132         bash multiline python  \n",
       "     584133                        python  \n",
       "     584134                 django python  \n",
       "     584135                        python  \n",
       "     584136      nnet numpy python theano  \n",
       "meta type                          object  \n",
       "     has_null                       False  "
      ]
     },
     "metadata": {},
     "output_type": "display_data"
    }
   ],
   "source": [
    "preprocessor = RawPreprocessor(\n",
    "    monitor=monitor('[1.6.3] Stackoverflow preprocessing', log_step=args.log_step),\n",
    "    do_tqdm=True\n",
    ")\n",
    "df = preprocessor.fit_transform(raw)\n",
    "examine_df(df, exclude='math')"
   ]
  },
  {
   "cell_type": "markdown",
   "metadata": {},
   "source": [
    "## Sanity check"
   ]
  },
  {
   "cell_type": "code",
   "execution_count": 24,
   "metadata": {},
   "outputs": [
    {
     "data": {
      "image/png": "[encoded data removed]",
      "text/plain": [
       "<matplotlib.figure.Figure at 0x2afad97f2b38>"
      ]
     },
     "metadata": {},
     "output_type": "display_data"
    }
   ],
   "source": [
    "df.text.map(len).hist(bins=75);"
   ]
  },
  {
   "cell_type": "code",
   "execution_count": 25,
   "metadata": {},
   "outputs": [
    {
     "data": {
      "text/plain": [
       "[\"Any way to dict comprehension in dict comprehension in dict comprehension this? DCNL I have this piece of code: DCNL CODE DCNL ...where im is an image (numpy array), imdim its shape, shapes and contours are list of binary arrays of smaller dimensions (shapesize*shapesize) than im. DCNL It actually works, but I'm wondering if there is a way of writing all of this in a dict comprehension, inception-style. If yes, would it run faster ? DCNL Also, any comment on style or optimizations are welcome !\",\n",
       " 'How do I register tastypie resources from external app? DCNL I have a django based CMS system I am working on and it uses tastypie. While all resources native to the CMS are registered in a separate file imported later into urls.py some of the clients using the system require loading their own custom apps. Is there some way to register an additional resource without changing the main codebase?',\n",
       " 'Python - How to redirect stderr to a file? DCNL The following code I got from http://forums.devshed.com/python-programming-11/redirect-stdout-stderr-file-500952.html which tells how to redirect a stderr to a file. I tried it but the error message is not getting saved to the file. While I am not using DCNL CODE DCNL the error is displayed in the idle terminal, when I am assigning file_err to sys.stderr the error is not displayed in the idle terminal, and it is not being copied to the file_name.log DCNL CODE DCNL Am I supposed to write it to the file or is there an error in the program?',\n",
       " 'Python - get name of current class DCNL How do I get the name of the class I am currently in? DCNL Example: DCNL CODE DCNL Due to the nature of the program I am interfacing with (vistrails), I cannot use init to initialize input.',\n",
       " 'How to check if FTP server offers TLS support in python? DCNL How can I check if a FTP server allows for TLS when I connect using ftplib? I Found easy documentation on how to use TLS, but no solution on how to check for it. My script is supposed to connect either way, but use TLS if possible. DCNL So do I just connect using TLS and if it fails I do it without? I am sure there must be a better way. DCNL Thank you for your help.',\n",
       " 'Potential annoyances of tab delimited Python source? DCNL Edit: This question has already been asked and answered, and I apparently am not good at using the search wizard. See http://stackoverflow.com/questions/120926/why-does-python-pep-8-strongly-recommend-spaces-over-tabs-for-indentation and the link in the comments. Thanks for replying to those who did so. DCNL I want to start a new project, and I want this to be my first Python project. I was looking through the style guide, http://www.python.org/dev/peps/pep-0008/, which \"strongly recommends\" using a 4-spaces indentation style for new projects. But I just hate this idea! In my opinion, tabs are better for this purpose. DCNL What annoyances could crop up one day if another developer wanted to work on my tab-delimited files?',\n",
       " \"Django 1.8 OperationalError: no such column: DCNL I'm using django 1.8 and I'm having problems adding to my models.py. Currently it's: DCNL CODE DCNL and it works perfectly fine but whenever I try to add to this and then run the server I get DCNL OperationalError: no such column [added element] DCNL For example I added CODE and I ran the program and I got DCNL django.db.utils.OperationalError: no such column: companies_company.founder\",\n",
       " 'Save command history in pdb DCNL Is there a way to save pdb (python debugger) command history across sessions? Also, can I specify history length? DCNL This is similar to the question How can I make gdb save the command history?, however for pdb instead of gdb. DCNL -Many thanks',\n",
       " \"Tkinter scale widget being called as 'int' in certain cases DCNL I know that global variables are not the best for good programs, but for the purpose of this short programming task I am using them. I want to update a tkinter scale widget inside of a function that is called by a thread or by the binding of a key. When I try to use the scale.set(value) method in either of those functions though, python interprets it as an 'int' for some reason. DCNL In this case there is no problem: DCNL CODE DCNL But when I try to use the scale instance in a function called by a bound key it gives me this error, DCNL CODE DCNL when the following code is run: DCNL CODE DCNL The upKey function is called when you press the up directional key on the keyboard and that code is omitted because I am sure it works perfectly. DCNL Can anyone give me some pointers? I am so lost with this because I've never encountered anything quite like it before. DCNL Thanks.\",\n",
       " 'Multiple list comprehension DCNL I have the following nested list: DCNL CODE DCNL How would I get all the urls here? DCNL So far I have tried: DCNL CODE']"
      ]
     },
     "execution_count": 25,
     "metadata": {},
     "output_type": "execute_result"
    }
   ],
   "source": [
    "df.text.sample(10).tolist()"
   ]
  },
  {
   "cell_type": "markdown",
   "metadata": {},
   "source": [
    "## Save"
   ]
  },
  {
   "cell_type": "code",
   "execution_count": 26,
   "metadata": {},
   "outputs": [],
   "source": [
    "args.save_path = 'stackoverflow_data.hdf5'"
   ]
  },
  {
   "cell_type": "code",
   "execution_count": 27,
   "metadata": {},
   "outputs": [
    {
     "name": "stdout",
     "output_type": "stream",
     "text": [
      "CPU times: user 1.12 s, sys: 988 ms, total: 2.11 s\n",
      "Wall time: 2.68 s\n"
     ]
    }
   ],
   "source": [
    "%time df.to_hdf(args.save_path, 'df', mode='w', format='f', complevel=9)"
   ]
  },
  {
   "cell_type": "code",
   "execution_count": 28,
   "metadata": {},
   "outputs": [
    {
     "name": "stdout",
     "output_type": "stream",
     "text": [
      "349M\tstackoverflow_data.hdf5\r\n"
     ]
    }
   ],
   "source": [
    "!du -sh $args.save_path"
   ]
  },
  {
   "cell_type": "markdown",
   "metadata": {},
   "source": [
    "## End"
   ]
  },
  {
   "cell_type": "code",
   "execution_count": 29,
   "metadata": {},
   "outputs": [
    {
     "data": {
      "text/plain": [
       "{'data_kaggle_name': 'pythonquestions',\n",
       " 'log_step': 5000,\n",
       " 'save_path': 'stackoverflow_data.hdf5'}"
      ]
     },
     "execution_count": 29,
     "metadata": {},
     "output_type": "execute_result"
    }
   ],
   "source": [
    "args"
   ]
  }
 ],
 "metadata": {
  "kernelspec": {
   "display_name": "Python 3",
   "language": "python",
   "name": "python3"
  },
  "language_info": {
   "codemirror_mode": {
    "name": "ipython",
    "version": 3
   },
   "file_extension": ".py",
   "mimetype": "text/x-python",
   "name": "python",
   "nbconvert_exporter": "python",
   "pygments_lexer": "ipython3",
   "version": "3.6.4"
  }
 },
 "nbformat": 4,
 "nbformat_minor": 2
}
