{
 "cells": [
  {
   "cell_type": "markdown",
   "metadata": {},
   "source": [
    "# Entities"
   ]
  },
  {
   "cell_type": "code",
   "execution_count": 34,
   "metadata": {},
   "outputs": [],
   "source": [
    "%matplotlib inline\n",
    "\n",
    "import spacy\n",
    "import random\n",
    "import seaborn as sns\n",
    "\n",
    "from spacy import displacy\n",
    "from utils import hyperdash\n",
    "from itertools import chain\n",
    "from tqdm import tqdm_notebook\n",
    "from collections import Counter"
   ]
  },
  {
   "cell_type": "markdown",
   "metadata": {},
   "source": [
    "## Spacy 101"
   ]
  },
  {
   "cell_type": "code",
   "execution_count": 2,
   "metadata": {},
   "outputs": [],
   "source": [
    "SAMPLE_TEXT = '''But Google is starting from behind. The company made a late push \\\n",
    "into hardware, and Apple’s Siri, available on iPhones, and Amazon’s Alexa \\\n",
    "software, which runs on its Echo and Dot devices, have clear leads in \\\n",
    "consumer adoption.'''"
   ]
  },
  {
   "cell_type": "code",
   "execution_count": 3,
   "metadata": {},
   "outputs": [],
   "source": [
    "nlp = spacy.load('en')\n",
    "doc = nlp(SAMPLE_TEXT)"
   ]
  },
  {
   "cell_type": "code",
   "execution_count": 4,
   "metadata": {},
   "outputs": [
    {
     "name": "stdout",
     "output_type": "stream",
     "text": [
      "[('But', 'but', 'but', 'CCONJ', 0.0), ('Google', 'google', 'google', 'PROPN', 0.0), ('is', 'be', 'is', 'VERB', 0.0), ('starting', 'start', 'starting', 'VERB', 0.0), ('from', 'from', 'from', 'ADP', 0.0), ('behind', 'behind', 'behind', 'ADV', 0.0), ('.', '.', '.', 'PUNCT', 0.0), ('The', 'the', 'the', 'DET', 0.0), ('company', 'company', 'company', 'NOUN', 0.0), ('made', 'make', 'made', 'VERB', 0.0), ('a', 'a', 'gonna', 'DET', 0.0), ('late', 'late', 'late', 'ADJ', 0.0), ('push', 'push', 'push', 'NOUN', 0.0), ('into', 'into', 'into', 'ADP', 0.0), ('hardware', 'hardware', 'hardware', 'NOUN', 0.0), (',', ',', ',', 'PUNCT', 0.0), ('and', 'and', 'and', 'CCONJ', 0.0), ('Apple', 'apple', 'apple', 'PROPN', 0.0), ('’s', '’s', \"'s\", 'PART', 0.0), ('Siri', 'siri', 'siri', 'PROPN', 0.0), (',', ',', ',', 'PUNCT', 0.0), ('available', 'available', 'available', 'ADJ', 0.0), ('on', 'on', 'on', 'ADP', 0.0), ('iPhones', 'iphones', 'iphones', 'PROPN', 0.0), (',', ',', ',', 'PUNCT', 0.0), ('and', 'and', 'and', 'CCONJ', 0.0), ('Amazon', 'amazon', 'amazon', 'PROPN', 0.0), ('’s', '’s', \"'s\", 'PART', 0.0), ('Alexa', 'alexa', 'alexa', 'PROPN', 0.0), ('software', 'software', 'software', 'NOUN', 0.0), (',', ',', ',', 'PUNCT', 0.0), ('which', 'which', 'which', 'ADJ', 0.0), ('runs', 'run', 'runs', 'VERB', 0.0), ('on', 'on', 'on', 'ADP', 0.0), ('its', '-PRON-', 'its', 'ADJ', 0.0), ('Echo', 'echo', 'echo', 'PROPN', 0.0), ('and', 'and', 'and', 'CCONJ', 0.0), ('Dot', 'dot', 'dot', 'PROPN', 0.0), ('devices', 'device', 'devices', 'NOUN', 0.0), (',', ',', ',', 'PUNCT', 0.0), ('have', 'have', 'have', 'VERB', 0.0), ('clear', 'clear', 'clear', 'ADJ', 0.0), ('leads', 'lead', 'leads', 'NOUN', 0.0), ('in', 'in', 'in', 'ADP', 0.0), ('consumer', 'consumer', 'consumer', 'NOUN', 0.0), ('adoption', 'adoption', 'adoption', 'NOUN', 0.0), ('.', '.', '.', 'PUNCT', 0.0)]\n"
     ]
    }
   ],
   "source": [
    "print([(token.text, token.lemma_, token.norm_, token.pos_, token.sentiment) for token in doc])"
   ]
  },
  {
   "cell_type": "code",
   "execution_count": 5,
   "metadata": {},
   "outputs": [
    {
     "name": "stdout",
     "output_type": "stream",
     "text": [
      "['Google', 'The company', 'a late push', 'hardware', 'Apple', 'Siri', 'iPhones', 'Amazon’s Alexa software', 'its Echo', 'Dot devices', 'clear leads', 'consumer adoption']\n"
     ]
    }
   ],
   "source": [
    "print([chunk.text for chunk in doc.noun_chunks])"
   ]
  },
  {
   "cell_type": "code",
   "execution_count": 6,
   "metadata": {},
   "outputs": [
    {
     "data": {
      "text/html": [
       "<h2 style=\"margin: 0\">Apple vs Google</h2>\n",
       "\n",
       "<div class=\"entities\" style=\"line-height: 2.5\">But \n",
       "<mark class=\"entity\" style=\"background: #7aecec; padding: 0.45em 0.6em; margin: 0 0.25em; line-height: 1; border-radius: 0.35em; box-decoration-break: clone; -webkit-box-decoration-break: clone\">\n",
       "    Google\n",
       "    <span style=\"font-size: 0.8em; font-weight: bold; line-height: 1; border-radius: 0.35em; text-transform: uppercase; vertical-align: middle; margin-left: 0.5rem\">ORG</span>\n",
       "</mark>\n",
       " is starting from behind. The company made a late push into hardware, and \n",
       "<mark class=\"entity\" style=\"background: #7aecec; padding: 0.45em 0.6em; margin: 0 0.25em; line-height: 1; border-radius: 0.35em; box-decoration-break: clone; -webkit-box-decoration-break: clone\">\n",
       "    Apple\n",
       "    <span style=\"font-size: 0.8em; font-weight: bold; line-height: 1; border-radius: 0.35em; text-transform: uppercase; vertical-align: middle; margin-left: 0.5rem\">ORG</span>\n",
       "</mark>\n",
       "’s Siri, available on \n",
       "<mark class=\"entity\" style=\"background: #bfeeb7; padding: 0.45em 0.6em; margin: 0 0.25em; line-height: 1; border-radius: 0.35em; box-decoration-break: clone; -webkit-box-decoration-break: clone\">\n",
       "    iPhones\n",
       "    <span style=\"font-size: 0.8em; font-weight: bold; line-height: 1; border-radius: 0.35em; text-transform: uppercase; vertical-align: middle; margin-left: 0.5rem\">PRODUCT</span>\n",
       "</mark>\n",
       ", and \n",
       "<mark class=\"entity\" style=\"background: #7aecec; padding: 0.45em 0.6em; margin: 0 0.25em; line-height: 1; border-radius: 0.35em; box-decoration-break: clone; -webkit-box-decoration-break: clone\">\n",
       "    Amazon\n",
       "    <span style=\"font-size: 0.8em; font-weight: bold; line-height: 1; border-radius: 0.35em; text-transform: uppercase; vertical-align: middle; margin-left: 0.5rem\">ORG</span>\n",
       "</mark>\n",
       "’s \n",
       "<mark class=\"entity\" style=\"background: #7aecec; padding: 0.45em 0.6em; margin: 0 0.25em; line-height: 1; border-radius: 0.35em; box-decoration-break: clone; -webkit-box-decoration-break: clone\">\n",
       "    Alexa\n",
       "    <span style=\"font-size: 0.8em; font-weight: bold; line-height: 1; border-radius: 0.35em; text-transform: uppercase; vertical-align: middle; margin-left: 0.5rem\">ORG</span>\n",
       "</mark>\n",
       " software, which runs on its \n",
       "<mark class=\"entity\" style=\"background: #feca74; padding: 0.45em 0.6em; margin: 0 0.25em; line-height: 1; border-radius: 0.35em; box-decoration-break: clone; -webkit-box-decoration-break: clone\">\n",
       "    Echo\n",
       "    <span style=\"font-size: 0.8em; font-weight: bold; line-height: 1; border-radius: 0.35em; text-transform: uppercase; vertical-align: middle; margin-left: 0.5rem\">GPE</span>\n",
       "</mark>\n",
       " and \n",
       "<mark class=\"entity\" style=\"background: #7aecec; padding: 0.45em 0.6em; margin: 0 0.25em; line-height: 1; border-radius: 0.35em; box-decoration-break: clone; -webkit-box-decoration-break: clone\">\n",
       "    Dot\n",
       "    <span style=\"font-size: 0.8em; font-weight: bold; line-height: 1; border-radius: 0.35em; text-transform: uppercase; vertical-align: middle; margin-left: 0.5rem\">ORG</span>\n",
       "</mark>\n",
       " devices, have clear leads in consumer adoption.</div>"
      ],
      "text/plain": [
       "<IPython.core.display.HTML object>"
      ]
     },
     "metadata": {},
     "output_type": "display_data"
    }
   ],
   "source": [
    "doc.user_data['title'] = 'Apple vs Google'\n",
    "displacy.render(doc, style='ent', jupyter=True)"
   ]
  },
  {
   "cell_type": "markdown",
   "metadata": {},
   "source": [
    "## Descs proceed"
   ]
  },
  {
   "cell_type": "code",
   "execution_count": 7,
   "metadata": {},
   "outputs": [],
   "source": [
    "INFORMATIVE_POSES = {'NOUN', 'PROPN'}\n",
    "LOG_STEP = 5000"
   ]
  },
  {
   "cell_type": "code",
   "execution_count": 8,
   "metadata": {},
   "outputs": [
    {
     "data": {
      "text/plain": [
       "171161"
      ]
     },
     "execution_count": 8,
     "metadata": {},
     "output_type": "execute_result"
    }
   ],
   "source": [
    "%store -r descs\n",
    "len(descs)"
   ]
  },
  {
   "cell_type": "code",
   "execution_count": 9,
   "metadata": {},
   "outputs": [],
   "source": [
    "def fetch_entity(desc):\n",
    "    def norm(word):\n",
    "        return word.strip().lower()\n",
    "    \n",
    "    my_stop_words = {\"doesn\\\\'t\", 'it\\\\', 'user\\\\'}\n",
    "    def is_valid(word):\n",
    "        return not nlp.vocab[word].is_stop and not 'dcnl' in word \\\n",
    "                    and not '_' in word and len(word) > 1 \\\n",
    "                    and not word in my_stop_words\n",
    "    \n",
    "    # Forming candidates\n",
    "    doc = nlp(desc)\n",
    "    ents = (ent.text for ent in doc.ents)\n",
    "    lemmas = (token.lemma_ for token in doc \\\n",
    "              if token.pos_ in INFORMATIVE_POSES and not token.lemma_.startswith('-'))\n",
    "    noun_chunks = (chunk.text for chunk in doc.noun_chunks)\n",
    "    candidates = (norm(candidate) for candidate in chain(ents, lemmas, noun_chunks))\n",
    "    \n",
    "    return set(candidate for candidate in candidates if is_valid(candidate))"
   ]
  },
  {
   "cell_type": "code",
   "execution_count": 10,
   "metadata": {},
   "outputs": [],
   "source": [
    "@hyperdash('[1.3.1] Collect entities')\n",
    "def collect_entities(descs, *, exp):\n",
    "    entities = []\n",
    "    for i, desc in enumerate(tqdm_notebook(descs)):\n",
    "        entities.append(fetch_entity(desc))\n",
    "        if i % LOG_STEP == 0 or i == len(descs) - 1:\n",
    "            exp.metric('step', i)\n",
    "    return entities"
   ]
  },
  {
   "cell_type": "code",
   "execution_count": 11,
   "metadata": {},
   "outputs": [
    {
     "data": {
      "application/vnd.jupyter.widget-view+json": {
       "model_id": "c9ccafa3ba3448c0bf431eafa26d18de",
       "version_major": 2,
       "version_minor": 0
      },
      "text/html": [
       "<p>Failed to display Jupyter Widget of type <code>HBox</code>.</p>\n",
       "<p>\n",
       "  If you're reading this message in the Jupyter Notebook or JupyterLab Notebook, it may mean\n",
       "  that the widgets JavaScript is still loading. If this message persists, it\n",
       "  likely means that the widgets JavaScript library is either not installed or\n",
       "  not enabled. See the <a href=\"https://ipywidgets.readthedocs.io/en/stable/user_install.html\">Jupyter\n",
       "  Widgets Documentation</a> for setup instructions.\n",
       "</p>\n",
       "<p>\n",
       "  If you're reading this message in another frontend (for example, a static\n",
       "  rendering on GitHub or <a href=\"https://nbviewer.jupyter.org/\">NBViewer</a>),\n",
       "  it may mean that your frontend doesn't currently support widgets.\n",
       "</p>\n"
      ],
      "text/plain": [
       "HBox(children=(IntProgress(value=0, max=171161), HTML(value='')))"
      ]
     },
     "metadata": {},
     "output_type": "display_data"
    },
    {
     "name": "stdout",
     "output_type": "stream",
     "text": [
      "| step:   0.000000 |\n",
      "| step: 5000.000000 |\n",
      "| step: 10000.000000 |\n",
      "| step: 15000.000000 |\n",
      "| step: 20000.000000 |\n",
      "| step: 25000.000000 |\n",
      "| step: 30000.000000 |\n",
      "| step: 35000.000000 |\n",
      "| step: 40000.000000 |\n",
      "| step: 45000.000000 |\n",
      "| step: 50000.000000 |\n",
      "| step: 55000.000000 |\n",
      "| step: 60000.000000 |\n",
      "| step: 65000.000000 |\n",
      "| step: 70000.000000 |\n",
      "| step: 75000.000000 |\n",
      "| step: 80000.000000 |\n",
      "| step: 85000.000000 |\n",
      "| step: 90000.000000 |\n",
      "| step: 95000.000000 |\n",
      "| step: 100000.000000 |\n",
      "| step: 105000.000000 |\n",
      "| step: 110000.000000 |\n",
      "| step: 115000.000000 |\n",
      "| step: 120000.000000 |\n",
      "| step: 125000.000000 |\n",
      "| step: 130000.000000 |\n",
      "| step: 135000.000000 |\n",
      "| step: 140000.000000 |\n",
      "| step: 145000.000000 |\n",
      "| step: 150000.000000 |\n",
      "| step: 155000.000000 |\n",
      "| step: 160000.000000 |\n",
      "| step: 165000.000000 |\n",
      "| step: 170000.000000 |\n",
      "| step: 171160.000000 |\n",
      "\n",
      "This run of [1.3.1] Collect entities ran for 1:06:43 and logs are available locally at: /home/s_belyaev/.hyperdash/logs/1-3-1-collect-entities/1-3-1-collect-entities_2018-03-17t02-29-55-322183.log\n",
      "CPU times: user 1h 7min 45s, sys: 22min 28s, total: 1h 30min 13s\n",
      "Wall time: 1h 6min 43s\n"
     ]
    },
    {
     "data": {
      "text/plain": [
       "171161"
      ]
     },
     "execution_count": 11,
     "metadata": {},
     "output_type": "execute_result"
    }
   ],
   "source": [
    "%time entities = collect_entities(descs)\n",
    "assert len(descs) == len(entities)\n",
    "len(entities)"
   ]
  },
  {
   "cell_type": "code",
   "execution_count": 12,
   "metadata": {},
   "outputs": [
    {
     "name": "stdout",
     "output_type": "stream",
     "text": [
      "Stored 'entities' (list)\n"
     ]
    }
   ],
   "source": [
    "%store entities"
   ]
  },
  {
   "cell_type": "markdown",
   "metadata": {},
   "source": [
    "## Analysis"
   ]
  },
  {
   "cell_type": "code",
   "execution_count": 13,
   "metadata": {},
   "outputs": [],
   "source": [
    "@hyperdash('[1.3.2] Join entities')\n",
    "def join_entities(entities, *, exp):\n",
    "    cum_cnt = Counter()\n",
    "    for i, entity in enumerate(tqdm_notebook(entities)):\n",
    "        cum_cnt += Counter(entity)\n",
    "        if i % LOG_STEP == 0 or i == len(descs) - 1:\n",
    "            exp.metric('step', i)\n",
    "    return cum_cnt"
   ]
  },
  {
   "cell_type": "code",
   "execution_count": 14,
   "metadata": {},
   "outputs": [
    {
     "data": {
      "application/vnd.jupyter.widget-view+json": {
       "model_id": "5b9a09b21121459b8c1d253417eb5abf",
       "version_major": 2,
       "version_minor": 0
      },
      "text/html": [
       "<p>Failed to display Jupyter Widget of type <code>HBox</code>.</p>\n",
       "<p>\n",
       "  If you're reading this message in the Jupyter Notebook or JupyterLab Notebook, it may mean\n",
       "  that the widgets JavaScript is still loading. If this message persists, it\n",
       "  likely means that the widgets JavaScript library is either not installed or\n",
       "  not enabled. See the <a href=\"https://ipywidgets.readthedocs.io/en/stable/user_install.html\">Jupyter\n",
       "  Widgets Documentation</a> for setup instructions.\n",
       "</p>\n",
       "<p>\n",
       "  If you're reading this message in another frontend (for example, a static\n",
       "  rendering on GitHub or <a href=\"https://nbviewer.jupyter.org/\">NBViewer</a>),\n",
       "  it may mean that your frontend doesn't currently support widgets.\n",
       "</p>\n"
      ],
      "text/plain": [
       "HBox(children=(IntProgress(value=0, max=171161), HTML(value='')))"
      ]
     },
     "metadata": {},
     "output_type": "display_data"
    },
    {
     "name": "stdout",
     "output_type": "stream",
     "text": [
      "| step:   0.000000 |\n",
      "| step: 5000.000000 |\n",
      "| step: 10000.000000 |\n",
      "| step: 15000.000000 |\n",
      "| step: 20000.000000 |\n",
      "| step: 25000.000000 |\n",
      "| step: 30000.000000 |\n",
      "| step: 35000.000000 |\n",
      "| step: 40000.000000 |\n",
      "| step: 45000.000000 |\n",
      "| step: 50000.000000 |\n",
      "| step: 55000.000000 |\n",
      "| step: 60000.000000 |\n",
      "| step: 65000.000000 |\n",
      "| step: 70000.000000 |\n",
      "| step: 75000.000000 |\n",
      "| step: 80000.000000 |\n",
      "| step: 85000.000000 |\n",
      "| step: 90000.000000 |\n",
      "| step: 95000.000000 |\n",
      "| step: 100000.000000 |\n",
      "| step: 105000.000000 |\n",
      "| step: 110000.000000 |\n",
      "| step: 115000.000000 |\n",
      "| step: 120000.000000 |\n",
      "| step: 125000.000000 |\n",
      "| step: 130000.000000 |\n",
      "| step: 135000.000000 |\n",
      "| step: 140000.000000 |\n",
      "| step: 145000.000000 |\n",
      "| step: 150000.000000 |\n",
      "| step: 155000.000000 |\n",
      "| step: 160000.000000 |\n",
      "| step: 165000.000000 |\n",
      "| step: 170000.000000 |\n",
      "| step: 171160.000000 |\n",
      "\n",
      "This run of [1.3.2] Join entities ran for 0:47:08 and logs are available locally at: /home/s_belyaev/.hyperdash/logs/1-3-2-join-entities/1-3-2-join-entities_2018-03-17t03-36-41-061158.log\n",
      "CPU times: user 46min 50s, sys: 24.1 s, total: 47min 14s\n",
      "Wall time: 47min 9s\n"
     ]
    },
    {
     "data": {
      "text/plain": [
       "229890"
      ]
     },
     "execution_count": 14,
     "metadata": {},
     "output_type": "execute_result"
    }
   ],
   "source": [
    "%time ecnts = join_entities(entities)\n",
    "len(ecnts)"
   ]
  },
  {
   "cell_type": "code",
   "execution_count": 15,
   "metadata": {},
   "outputs": [
    {
     "name": "stdout",
     "output_type": "stream",
     "text": [
      "Stored 'ecnts' (Counter)\n"
     ]
    }
   ],
   "source": [
    "%store ecnts"
   ]
  },
  {
   "cell_type": "code",
   "execution_count": 40,
   "metadata": {},
   "outputs": [
    {
     "data": {
      "text/plain": [
       "[('return', 18612),\n",
       " ('test', 17655),\n",
       " ('list', 10547),\n",
       " ('object', 10075),\n",
       " ('value', 8947),\n",
       " ('file', 8511),\n",
       " ('method', 8393),\n",
       " ('function', 7849),\n",
       " ('param', 7687),\n",
       " ('string', 7619),\n",
       " ('instance', 7303),\n",
       " ('user', 6736),\n",
       " ('datum', 5604),\n",
       " ('parameter', 5389),\n",
       " ('request', 5365),\n",
       " ('returns', 5007),\n",
       " ('type', 4783),\n",
       " ('argument', 4486),\n",
       " ('args', 4392),\n",
       " ('a list', 4267),\n",
       " ('number', 4175),\n",
       " ('default', 4133),\n",
       " ('error', 3939),\n",
       " ('message', 3698),\n",
       " ('class', 3547),\n",
       " ('path', 3527),\n",
       " ('api', 3477),\n",
       " ('field', 3371),\n",
       " ('response', 3201),\n",
       " ('dictionary', 3140),\n",
       " ('result', 3122),\n",
       " ('dict', 3094),\n",
       " ('information', 3084),\n",
       " ('rtype', 3079),\n",
       " ('key', 2986),\n",
       " ('attribute', 2978),\n",
       " ('version', 2920),\n",
       " ('exception', 2795),\n",
       " ('command', 2780),\n",
       " ('state', 2743),\n",
       " ('tests', 2727),\n",
       " ('server', 2672),\n",
       " ('model', 2532),\n",
       " ('connection', 2504),\n",
       " ('module', 2476),\n",
       " ('line', 2456),\n",
       " ('resource', 2449),\n",
       " ('page', 2433),\n",
       " ('time', 2428),\n",
       " ('this method', 2415)]"
      ]
     },
     "execution_count": 40,
     "metadata": {},
     "output_type": "execute_result"
    }
   ],
   "source": [
    "ecnts.most_common(50)"
   ]
  },
  {
   "cell_type": "code",
   "execution_count": 38,
   "metadata": {},
   "outputs": [
    {
     "name": "stderr",
     "output_type": "stream",
     "text": [
      "/home/s_belyaev/miniconda3/lib/python3.6/site-packages/matplotlib/axes/_axes.py:6448: UserWarning: The 'normed' kwarg is deprecated, and has been replaced by the 'density' kwarg.\n",
      "  warnings.warn(\"The 'normed' kwarg is deprecated, and has been \"\n"
     ]
    },
    {
     "data": {
      "image/png": "[encoded data removed]",
      "text/plain": [
       "<Figure size 432x288 with 1 Axes>"
      ]
     },
     "metadata": {},
     "output_type": "display_data"
    }
   ],
   "source": [
    "sns.distplot([len(entity) for entity in entities], hist=True, kde=False);"
   ]
  },
  {
   "cell_type": "code",
   "execution_count": 52,
   "metadata": {},
   "outputs": [
    {
     "data": {
      "application/vnd.jupyter.widget-view+json": {
       "model_id": "effb2d3c8cbf48ce9231a96b1df272d1",
       "version_major": 2,
       "version_minor": 0
      },
      "text/html": [
       "<p>Failed to display Jupyter Widget of type <code>HBox</code>.</p>\n",
       "<p>\n",
       "  If you're reading this message in the Jupyter Notebook or JupyterLab Notebook, it may mean\n",
       "  that the widgets JavaScript is still loading. If this message persists, it\n",
       "  likely means that the widgets JavaScript library is either not installed or\n",
       "  not enabled. See the <a href=\"https://ipywidgets.readthedocs.io/en/stable/user_install.html\">Jupyter\n",
       "  Widgets Documentation</a> for setup instructions.\n",
       "</p>\n",
       "<p>\n",
       "  If you're reading this message in another frontend (for example, a static\n",
       "  rendering on GitHub or <a href=\"https://nbviewer.jupyter.org/\">NBViewer</a>),\n",
       "  it may mean that your frontend doesn't currently support widgets.\n",
       "</p>\n"
      ],
      "text/plain": [
       "HBox(children=(IntProgress(value=0, max=171161), HTML(value='')))"
      ]
     },
     "metadata": {},
     "output_type": "display_data"
    },
    {
     "name": "stdout",
     "output_type": "stream",
     "text": [
      "\n"
     ]
    },
    {
     "data": {
      "text/plain": [
       "171161"
      ]
     },
     "execution_count": 52,
     "metadata": {},
     "output_type": "execute_result"
    }
   ],
   "source": [
    "entities = [sorted(sorted(entity, key=lambda x: ecnts[x])[:5]) \n",
    "            for entity in tqdm_notebook(entities)]\n",
    "assert len(descs) == len(entities)\n",
    "len(entities)"
   ]
  },
  {
   "cell_type": "code",
   "execution_count": 53,
   "metadata": {},
   "outputs": [
    {
     "data": {
      "text/plain": [
       "171161"
      ]
     },
     "execution_count": 53,
     "metadata": {},
     "output_type": "execute_result"
    }
   ],
   "source": [
    "edescs = [', '.join(entity) + ' | ' + desc for desc, entity in zip(descs, entities)]\n",
    "assert len(descs) == len(edescs)\n",
    "len(edescs)"
   ]
  },
  {
   "cell_type": "code",
   "execution_count": 54,
   "metadata": {},
   "outputs": [
    {
     "data": {
      "text/plain": [
       "['an rds instance, index, inventory, rds, the inventory | Adds an RDS instance to the inventory and index, as long as it is DCNL addressable',\n",
       " 'a new accountsettings object, accountsettings, attribute, the given user, user | Creates a new AccountSettings object for the given user and populates it with the given DCNL attributes.',\n",
       " 'epoch, seconds, the current number, the unix epoch, unix | Return the current number of seconds since the Unix epoch, DCNL as a string.',\n",
       " 'ax, functionality, the zoom box button functionality, this axes, zoom | Return *True* if this axes supports the zoom box button functionality.',\n",
       " 'determine, determines, query, the query, use | Determines which method of getting the query object for use',\n",
       " 'arg, dataflowhook, test, test dataflowhook, the right args | Test DataFlowHook is created and the right args are passed to DCNL start_python_workflow.',\n",
       " '(activation) url, `none`, `request, the email confirmation, your system | Constructs the email confirmation (activation) url. DCNL Note that if you have architected your system such that email DCNL confirmations are sent outside of the request context `request` DCNL can be `None` here.',\n",
       " 'a few widgets, a small registry, registry, testing, widget | Return a small registry with a few widgets for testing.',\n",
       " \"a temporary directory, directory, it\\\\'s path, path, self.path | Create a temporary directory and store it\\\\'s path in self.path\",\n",
       " '`outs, compiled, compiled theano function, compiles a theano, theano compilation mode | Compiles a Theano function which returns `outs` and takes the variable DCNL ancestors of `outs` as inputs. DCNL Parameters DCNL outs : Theano variable or iterable of Theano variables DCNL mode : Theano compilation mode DCNL Returns DCNL Compiled Theano function']"
      ]
     },
     "execution_count": 54,
     "metadata": {},
     "output_type": "execute_result"
    }
   ],
   "source": [
    "random.sample(edescs, 10)"
   ]
  },
  {
   "cell_type": "code",
   "execution_count": 55,
   "metadata": {},
   "outputs": [
    {
     "name": "stdout",
     "output_type": "stream",
     "text": [
      "Stored 'edescs' (list)\n"
     ]
    }
   ],
   "source": [
    "%store edescs"
   ]
  }
 ],
 "metadata": {
  "kernelspec": {
   "display_name": "Python 3",
   "language": "python",
   "name": "python3"
  },
  "language_info": {
   "codemirror_mode": {
    "name": "ipython",
    "version": 3
   },
   "file_extension": ".py",
   "mimetype": "text/x-python",
   "name": "python",
   "nbconvert_exporter": "python",
   "pygments_lexer": "ipython3",
   "version": "3.6.4"
  }
 },
 "nbformat": 4,
 "nbformat_minor": 2
}
