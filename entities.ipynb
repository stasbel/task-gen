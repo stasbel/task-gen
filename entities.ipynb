{
 "cells": [
  {
   "cell_type": "markdown",
   "metadata": {
    "colab_type": "text",
    "id": "jNAhgAeM7VwN"
   },
   "source": [
    "# Entities"
   ]
  },
  {
   "cell_type": "code",
   "execution_count": 1,
   "metadata": {
    "colab": {
     "autoexec": {
      "startup": false,
      "wait_interval": 0
     }
    },
    "colab_type": "code",
    "id": "C8dCk8lr7VwO"
   },
   "outputs": [],
   "source": [
    "%matplotlib inline\n",
    "\n",
    "import spacy\n",
    "import random\n",
    "import pandas as pd\n",
    "import seaborn as sns\n",
    "\n",
    "from tqdm import tqdm\n",
    "from utils import monitor\n",
    "from spacy import displacy\n",
    "from itertools import chain\n",
    "from collections import Counter\n",
    "from sklearn.datasets.lfw import Bunch"
   ]
  },
  {
   "cell_type": "markdown",
   "metadata": {},
   "source": [
    "## Args"
   ]
  },
  {
   "cell_type": "code",
   "execution_count": 2,
   "metadata": {},
   "outputs": [],
   "source": [
    "args = Bunch()"
   ]
  },
  {
   "cell_type": "markdown",
   "metadata": {
    "colab_type": "text",
    "id": "a7ZCbmxL7VwS"
   },
   "source": [
    "## Spacy 101"
   ]
  },
  {
   "cell_type": "code",
   "execution_count": 3,
   "metadata": {
    "colab": {
     "autoexec": {
      "startup": false,
      "wait_interval": 0
     }
    },
    "colab_type": "code",
    "id": "UKWYjLVA7VwT"
   },
   "outputs": [
    {
     "data": {
      "text/plain": [
       "'But Google is starting from behind. The company made a late push into hardware, and Apple’s Siri, available on iPhones, and Amazon’s Alexa software, which runs on its Echo and Dot devices, have clear leads in consumer adoption.'"
      ]
     },
     "execution_count": 3,
     "metadata": {},
     "output_type": "execute_result"
    }
   ],
   "source": [
    "sample_text = '''But Google is starting from behind. The company made a late push \\\n",
    "into hardware, and Apple’s Siri, available on iPhones, and Amazon’s Alexa \\\n",
    "software, which runs on its Echo and Dot devices, have clear leads in \\\n",
    "consumer adoption.'''\n",
    "sample_text"
   ]
  },
  {
   "cell_type": "code",
   "execution_count": 4,
   "metadata": {
    "colab": {
     "autoexec": {
      "startup": false,
      "wait_interval": 0
     }
    },
    "colab_type": "code",
    "id": "J1Sl6vCI7VwX"
   },
   "outputs": [],
   "source": [
    "nlp = spacy.load('en')\n",
    "doc = nlp(sample_text)"
   ]
  },
  {
   "cell_type": "code",
   "execution_count": 5,
   "metadata": {
    "colab": {
     "autoexec": {
      "startup": false,
      "wait_interval": 0
     },
     "base_uri": "https://localhost:8080/",
     "height": 54,
     "output_extras": [
      {
       "item_id": 1
      }
     ]
    },
    "colab_type": "code",
    "executionInfo": {
     "elapsed": 744,
     "status": "ok",
     "timestamp": 1521430168390,
     "user": {
      "displayName": "Станислав Беляев",
      "photoUrl": "//lh6.googleusercontent.com/-IMqslmfxonk/AAAAAAAAAAI/AAAAAAAAAjc/2Qb3VobqpFY/s50-c-k-no/photo.jpg",
      "userId": "113506133464622129087"
     },
     "user_tz": -180
    },
    "id": "Gjl7EjpG7Vwa",
    "outputId": "71ea0a99-7eda-4947-905a-c7137ed08b4c"
   },
   "outputs": [
    {
     "name": "stdout",
     "output_type": "stream",
     "text": [
      "text=But lemma=but pos=CCONJ\n",
      "text=Google lemma=google pos=PROPN\n",
      "text=is lemma=be pos=VERB\n",
      "text=starting lemma=start pos=VERB\n",
      "text=from lemma=from pos=ADP\n",
      "text=behind lemma=behind pos=ADV\n",
      "text=. lemma=. pos=PUNCT\n",
      "text=The lemma=the pos=DET\n",
      "text=company lemma=company pos=NOUN\n",
      "text=made lemma=make pos=VERB\n"
     ]
    }
   ],
   "source": [
    "for token in doc[:10]:\n",
    "    print(f'text={token.text} lemma={token.lemma_} pos={token.pos_}')"
   ]
  },
  {
   "cell_type": "code",
   "execution_count": 6,
   "metadata": {
    "colab": {
     "autoexec": {
      "startup": false,
      "wait_interval": 0
     },
     "base_uri": "https://localhost:8080/",
     "height": 54,
     "output_extras": [
      {
       "item_id": 1
      }
     ]
    },
    "colab_type": "code",
    "executionInfo": {
     "elapsed": 560,
     "status": "ok",
     "timestamp": 1521430169295,
     "user": {
      "displayName": "Станислав Беляев",
      "photoUrl": "//lh6.googleusercontent.com/-IMqslmfxonk/AAAAAAAAAAI/AAAAAAAAAjc/2Qb3VobqpFY/s50-c-k-no/photo.jpg",
      "userId": "113506133464622129087"
     },
     "user_tz": -180
    },
    "id": "iSR-0Ftq7Vwg",
    "outputId": "50ee0a99-56f0-4acc-a5f2-584db90ee857"
   },
   "outputs": [
    {
     "name": "stdout",
     "output_type": "stream",
     "text": [
      "['Google', 'The company', 'a late push', 'hardware', 'Apple', 'Siri', 'iPhones', 'Amazon’s Alexa software', 'its Echo', 'Dot devices', 'clear leads', 'consumer adoption']\n"
     ]
    }
   ],
   "source": [
    "print([chunk.text for chunk in doc.noun_chunks])"
   ]
  },
  {
   "cell_type": "code",
   "execution_count": 7,
   "metadata": {},
   "outputs": [
    {
     "data": {
      "text/html": [
       "<svg xmlns=\"http://www.w3.org/2000/svg\" xmlns:xlink=\"http://www.w3.org/1999/xlink\" id=\"0\" class=\"displacy\" width=\"950\" height=\"362.0\" style=\"max-width: none; height: 362.0px; color: white; background: #09a3d5; font-family: Source Sans Pro\">\n",
       "<text class=\"displacy-token\" fill=\"currentColor\" text-anchor=\"middle\" y=\"272.0\">\n",
       "    <tspan class=\"displacy-word\" fill=\"currentColor\" x=\"50\">But</tspan>\n",
       "    <tspan class=\"displacy-tag\" dy=\"2em\" fill=\"currentColor\" x=\"50\">CCONJ</tspan>\n",
       "</text>\n",
       "\n",
       "<text class=\"displacy-token\" fill=\"currentColor\" text-anchor=\"middle\" y=\"272.0\">\n",
       "    <tspan class=\"displacy-word\" fill=\"currentColor\" x=\"200\">Google</tspan>\n",
       "    <tspan class=\"displacy-tag\" dy=\"2em\" fill=\"currentColor\" x=\"200\">PROPN</tspan>\n",
       "</text>\n",
       "\n",
       "<text class=\"displacy-token\" fill=\"currentColor\" text-anchor=\"middle\" y=\"272.0\">\n",
       "    <tspan class=\"displacy-word\" fill=\"currentColor\" x=\"350\">is</tspan>\n",
       "    <tspan class=\"displacy-tag\" dy=\"2em\" fill=\"currentColor\" x=\"350\">VERB</tspan>\n",
       "</text>\n",
       "\n",
       "<text class=\"displacy-token\" fill=\"currentColor\" text-anchor=\"middle\" y=\"272.0\">\n",
       "    <tspan class=\"displacy-word\" fill=\"currentColor\" x=\"500\">starting</tspan>\n",
       "    <tspan class=\"displacy-tag\" dy=\"2em\" fill=\"currentColor\" x=\"500\">VERB</tspan>\n",
       "</text>\n",
       "\n",
       "<text class=\"displacy-token\" fill=\"currentColor\" text-anchor=\"middle\" y=\"272.0\">\n",
       "    <tspan class=\"displacy-word\" fill=\"currentColor\" x=\"650\">from</tspan>\n",
       "    <tspan class=\"displacy-tag\" dy=\"2em\" fill=\"currentColor\" x=\"650\">ADP</tspan>\n",
       "</text>\n",
       "\n",
       "<text class=\"displacy-token\" fill=\"currentColor\" text-anchor=\"middle\" y=\"272.0\">\n",
       "    <tspan class=\"displacy-word\" fill=\"currentColor\" x=\"800\">behind.</tspan>\n",
       "    <tspan class=\"displacy-tag\" dy=\"2em\" fill=\"currentColor\" x=\"800\">ADV</tspan>\n",
       "</text>\n",
       "\n",
       "<g class=\"displacy-arrow\">\n",
       "    <path class=\"displacy-arc\" id=\"arrow-0-0\" stroke-width=\"2px\" d=\"M62,227.0 62,152.0 500.0,152.0 500.0,227.0\" fill=\"none\" stroke=\"currentColor\"/>\n",
       "    <text dy=\"1.25em\" style=\"font-size: 0.8em; letter-spacing: 1px\">\n",
       "        <textPath xlink:href=\"#arrow-0-0\" class=\"displacy-label\" startOffset=\"50%\" fill=\"currentColor\" text-anchor=\"middle\">cc</textPath>\n",
       "    </text>\n",
       "    <path class=\"displacy-arrowhead\" d=\"M62,229.0 L58,221.0 66,221.0\" fill=\"currentColor\"/>\n",
       "</g>\n",
       "\n",
       "<g class=\"displacy-arrow\">\n",
       "    <path class=\"displacy-arc\" id=\"arrow-0-1\" stroke-width=\"2px\" d=\"M212,227.0 212,177.0 497.0,177.0 497.0,227.0\" fill=\"none\" stroke=\"currentColor\"/>\n",
       "    <text dy=\"1.25em\" style=\"font-size: 0.8em; letter-spacing: 1px\">\n",
       "        <textPath xlink:href=\"#arrow-0-1\" class=\"displacy-label\" startOffset=\"50%\" fill=\"currentColor\" text-anchor=\"middle\">nsubj</textPath>\n",
       "    </text>\n",
       "    <path class=\"displacy-arrowhead\" d=\"M212,229.0 L208,221.0 216,221.0\" fill=\"currentColor\"/>\n",
       "</g>\n",
       "\n",
       "<g class=\"displacy-arrow\">\n",
       "    <path class=\"displacy-arc\" id=\"arrow-0-2\" stroke-width=\"2px\" d=\"M362,227.0 362,202.0 494.0,202.0 494.0,227.0\" fill=\"none\" stroke=\"currentColor\"/>\n",
       "    <text dy=\"1.25em\" style=\"font-size: 0.8em; letter-spacing: 1px\">\n",
       "        <textPath xlink:href=\"#arrow-0-2\" class=\"displacy-label\" startOffset=\"50%\" fill=\"currentColor\" text-anchor=\"middle\">aux</textPath>\n",
       "    </text>\n",
       "    <path class=\"displacy-arrowhead\" d=\"M362,229.0 L358,221.0 366,221.0\" fill=\"currentColor\"/>\n",
       "</g>\n",
       "\n",
       "<g class=\"displacy-arrow\">\n",
       "    <path class=\"displacy-arc\" id=\"arrow-0-3\" stroke-width=\"2px\" d=\"M512,227.0 512,202.0 644.0,202.0 644.0,227.0\" fill=\"none\" stroke=\"currentColor\"/>\n",
       "    <text dy=\"1.25em\" style=\"font-size: 0.8em; letter-spacing: 1px\">\n",
       "        <textPath xlink:href=\"#arrow-0-3\" class=\"displacy-label\" startOffset=\"50%\" fill=\"currentColor\" text-anchor=\"middle\">prep</textPath>\n",
       "    </text>\n",
       "    <path class=\"displacy-arrowhead\" d=\"M644.0,229.0 L648.0,221.0 640.0,221.0\" fill=\"currentColor\"/>\n",
       "</g>\n",
       "\n",
       "<g class=\"displacy-arrow\">\n",
       "    <path class=\"displacy-arc\" id=\"arrow-0-4\" stroke-width=\"2px\" d=\"M662,227.0 662,202.0 794.0,202.0 794.0,227.0\" fill=\"none\" stroke=\"currentColor\"/>\n",
       "    <text dy=\"1.25em\" style=\"font-size: 0.8em; letter-spacing: 1px\">\n",
       "        <textPath xlink:href=\"#arrow-0-4\" class=\"displacy-label\" startOffset=\"50%\" fill=\"currentColor\" text-anchor=\"middle\">pcomp</textPath>\n",
       "    </text>\n",
       "    <path class=\"displacy-arrowhead\" d=\"M794.0,229.0 L798.0,221.0 790.0,221.0\" fill=\"currentColor\"/>\n",
       "</g>\n",
       "</svg>"
      ],
      "text/plain": [
       "<IPython.core.display.HTML object>"
      ]
     },
     "metadata": {},
     "output_type": "display_data"
    }
   ],
   "source": [
    "options = {'compact': True, 'bg': '#09a3d5',\n",
    "           'color': 'white', 'font': 'Source Sans Pro'}\n",
    "displacy.render(nlp(next(doc.sents).text), style='dep', options=options, jupyter=True)"
   ]
  },
  {
   "cell_type": "code",
   "execution_count": 8,
   "metadata": {
    "colab": {
     "autoexec": {
      "startup": false,
      "wait_interval": 0
     },
     "base_uri": "https://localhost:8080/",
     "height": 113,
     "output_extras": [
      {
       "item_id": 1
      }
     ]
    },
    "colab_type": "code",
    "executionInfo": {
     "elapsed": 326,
     "status": "ok",
     "timestamp": 1521430169970,
     "user": {
      "displayName": "Станислав Беляев",
      "photoUrl": "//lh6.googleusercontent.com/-IMqslmfxonk/AAAAAAAAAAI/AAAAAAAAAjc/2Qb3VobqpFY/s50-c-k-no/photo.jpg",
      "userId": "113506133464622129087"
     },
     "user_tz": -180
    },
    "id": "l_J77G4t7Vwj",
    "outputId": "5eb69797-56c0-4764-88bc-6a17036cb2c0"
   },
   "outputs": [
    {
     "data": {
      "text/html": [
       "<h2 style=\"margin: 0\">Apple vs Google</h2>\n",
       "\n",
       "<div class=\"entities\" style=\"line-height: 2.5\">But \n",
       "<mark class=\"entity\" style=\"background: #7aecec; padding: 0.45em 0.6em; margin: 0 0.25em; line-height: 1; border-radius: 0.35em; box-decoration-break: clone; -webkit-box-decoration-break: clone\">\n",
       "    Google\n",
       "    <span style=\"font-size: 0.8em; font-weight: bold; line-height: 1; border-radius: 0.35em; text-transform: uppercase; vertical-align: middle; margin-left: 0.5rem\">ORG</span>\n",
       "</mark>\n",
       " is starting from behind. The company made a late push into hardware, and \n",
       "<mark class=\"entity\" style=\"background: #7aecec; padding: 0.45em 0.6em; margin: 0 0.25em; line-height: 1; border-radius: 0.35em; box-decoration-break: clone; -webkit-box-decoration-break: clone\">\n",
       "    Apple\n",
       "    <span style=\"font-size: 0.8em; font-weight: bold; line-height: 1; border-radius: 0.35em; text-transform: uppercase; vertical-align: middle; margin-left: 0.5rem\">ORG</span>\n",
       "</mark>\n",
       "’s Siri, available on \n",
       "<mark class=\"entity\" style=\"background: #bfeeb7; padding: 0.45em 0.6em; margin: 0 0.25em; line-height: 1; border-radius: 0.35em; box-decoration-break: clone; -webkit-box-decoration-break: clone\">\n",
       "    iPhones\n",
       "    <span style=\"font-size: 0.8em; font-weight: bold; line-height: 1; border-radius: 0.35em; text-transform: uppercase; vertical-align: middle; margin-left: 0.5rem\">PRODUCT</span>\n",
       "</mark>\n",
       ", and \n",
       "<mark class=\"entity\" style=\"background: #7aecec; padding: 0.45em 0.6em; margin: 0 0.25em; line-height: 1; border-radius: 0.35em; box-decoration-break: clone; -webkit-box-decoration-break: clone\">\n",
       "    Amazon\n",
       "    <span style=\"font-size: 0.8em; font-weight: bold; line-height: 1; border-radius: 0.35em; text-transform: uppercase; vertical-align: middle; margin-left: 0.5rem\">ORG</span>\n",
       "</mark>\n",
       "’s \n",
       "<mark class=\"entity\" style=\"background: #7aecec; padding: 0.45em 0.6em; margin: 0 0.25em; line-height: 1; border-radius: 0.35em; box-decoration-break: clone; -webkit-box-decoration-break: clone\">\n",
       "    Alexa\n",
       "    <span style=\"font-size: 0.8em; font-weight: bold; line-height: 1; border-radius: 0.35em; text-transform: uppercase; vertical-align: middle; margin-left: 0.5rem\">ORG</span>\n",
       "</mark>\n",
       " software, which runs on its \n",
       "<mark class=\"entity\" style=\"background: #feca74; padding: 0.45em 0.6em; margin: 0 0.25em; line-height: 1; border-radius: 0.35em; box-decoration-break: clone; -webkit-box-decoration-break: clone\">\n",
       "    Echo\n",
       "    <span style=\"font-size: 0.8em; font-weight: bold; line-height: 1; border-radius: 0.35em; text-transform: uppercase; vertical-align: middle; margin-left: 0.5rem\">GPE</span>\n",
       "</mark>\n",
       " and \n",
       "<mark class=\"entity\" style=\"background: #7aecec; padding: 0.45em 0.6em; margin: 0 0.25em; line-height: 1; border-radius: 0.35em; box-decoration-break: clone; -webkit-box-decoration-break: clone\">\n",
       "    Dot\n",
       "    <span style=\"font-size: 0.8em; font-weight: bold; line-height: 1; border-radius: 0.35em; text-transform: uppercase; vertical-align: middle; margin-left: 0.5rem\">ORG</span>\n",
       "</mark>\n",
       " devices, have clear leads in consumer adoption.</div>"
      ],
      "text/plain": [
       "<IPython.core.display.HTML object>"
      ]
     },
     "metadata": {},
     "output_type": "display_data"
    }
   ],
   "source": [
    "doc.user_data['title'] = 'Apple vs Google'\n",
    "displacy.render(doc, style='ent', jupyter=True)"
   ]
  },
  {
   "cell_type": "markdown",
   "metadata": {
    "colab_type": "text",
    "id": "xqkZobpE7Vwm"
   },
   "source": [
    "## Collect entities"
   ]
  },
  {
   "cell_type": "code",
   "execution_count": 9,
   "metadata": {},
   "outputs": [],
   "source": [
    "args.informative_poses = {'NOUN', 'PROPN'}\n",
    "args.stop_words = {\"doesn\\\\'t\", 'it\\\\', 'user\\\\', 'return', ':return'}\n",
    "args.log_step = 5000\n",
    "args.data_path = 'data.hdf5'"
   ]
  },
  {
   "cell_type": "markdown",
   "metadata": {},
   "source": [
    "### Fetch"
   ]
  },
  {
   "cell_type": "code",
   "execution_count": 10,
   "metadata": {
    "colab": {
     "autoexec": {
      "startup": false,
      "wait_interval": 0
     }
    },
    "colab_type": "code",
    "id": "p4N9MNNG7Vwr"
   },
   "outputs": [],
   "source": [
    "def fetch_entity(desc):\n",
    "    def norm(word):\n",
    "        return word.strip().lower()\n",
    "    \n",
    "    def is_valid(word):\n",
    "        return not nlp.vocab[word].is_stop and not 'dcnl' in word \\\n",
    "                    and not '_' in word and len(word) > 1 \\\n",
    "                    and not word in args.stop_words\n",
    "    \n",
    "    # Forming candidates\n",
    "    doc = nlp(desc)\n",
    "    ents = (ent.text for ent in doc.ents)\n",
    "    lemmas = (token.lemma_ for token in doc \\\n",
    "              if token.pos_ in args.informative_poses and not token.lemma_.startswith('-'))\n",
    "    noun_chunks = (chunk.text for chunk in doc.noun_chunks)\n",
    "    candidates = (norm(candidate) for candidate in chain(ents, lemmas, noun_chunks))\n",
    "    \n",
    "    return set(candidate for candidate in candidates if is_valid(candidate))\n",
    "\n",
    "\n",
    "def linearize(entity):\n",
    "    return ', '.join(sorted(list(entity)))"
   ]
  },
  {
   "cell_type": "code",
   "execution_count": 11,
   "metadata": {},
   "outputs": [
    {
     "data": {
      "text/plain": [
       "'a late push, adoption, alexa, amazon, amazon’s alexa software, apple, clear leads, company, consumer, consumer adoption, device, dot, dot devices, echo, google, hardware, iphones, its echo, lead, push, siri, software, the company'"
      ]
     },
     "execution_count": 11,
     "metadata": {},
     "output_type": "execute_result"
    }
   ],
   "source": [
    "linearize(fetch_entity(sample_text))"
   ]
  },
  {
   "cell_type": "markdown",
   "metadata": {},
   "source": [
    "### Collect"
   ]
  },
  {
   "cell_type": "code",
   "execution_count": 12,
   "metadata": {
    "colab": {
     "autoexec": {
      "startup": false,
      "wait_interval": 0
     }
    },
    "colab_type": "code",
    "id": "5n6ZUsff7Vwt"
   },
   "outputs": [],
   "source": [
    "@monitor('[1.3.1] Collect entities')\n",
    "def collect_entities(descs, *, exp):\n",
    "    entities = []\n",
    "    for i, desc in enumerate(tqdm(descs)):\n",
    "        entities.append(fetch_entity(desc))\n",
    "        if i % args.log_step == 0 or i == len(descs) - 1:\n",
    "            exp.metric('step', i)\n",
    "    return entities"
   ]
  },
  {
   "cell_type": "code",
   "execution_count": 13,
   "metadata": {},
   "outputs": [
    {
     "data": {
      "text/plain": [
       "149511"
      ]
     },
     "execution_count": 13,
     "metadata": {},
     "output_type": "execute_result"
    }
   ],
   "source": [
    "df = pd.read_hdf(args.data_path)\n",
    "len(df)"
   ]
  },
  {
   "cell_type": "code",
   "execution_count": 14,
   "metadata": {
    "colab": {
     "autoexec": {
      "startup": false,
      "wait_interval": 0
     },
     "base_uri": "https://localhost:8080/",
     "height": 734,
     "output_extras": [
      {
       "item_id": 1
      },
      {
       "item_id": 2
      },
      {
       "item_id": 204
      },
      {
       "item_id": 205
      },
      {
       "item_id": 305
      },
      {
       "item_id": 306
      },
      {
       "item_id": 408
      },
      {
       "item_id": 409
      },
      {
       "item_id": 509
      },
      {
       "item_id": 510
      },
      {
       "item_id": 610
      },
      {
       "item_id": 611
      },
      {
       "item_id": 712
      },
      {
       "item_id": 713
      },
      {
       "item_id": 814
      },
      {
       "item_id": 815
      },
      {
       "item_id": 943
      },
      {
       "item_id": 944
      },
      {
       "item_id": 1044
      },
      {
       "item_id": 1045
      },
      {
       "item_id": 1146
      },
      {
       "item_id": 1147
      },
      {
       "item_id": 1248
      },
      {
       "item_id": 1249
      },
      {
       "item_id": 1349
      },
      {
       "item_id": 1350
      },
      {
       "item_id": 1450
      },
      {
       "item_id": 1451
      },
      {
       "item_id": 1550
      },
      {
       "item_id": 1551
      },
      {
       "item_id": 1662
      },
      {
       "item_id": 1663
      },
      {
       "item_id": 1764
      },
      {
       "item_id": 1765
      },
      {
       "item_id": 1867
      },
      {
       "item_id": 1868
      },
      {
       "item_id": 1969
      },
      {
       "item_id": 1970
      },
      {
       "item_id": 2070
      },
      {
       "item_id": 2071
      },
      {
       "item_id": 2168
      },
      {
       "item_id": 2169
      },
      {
       "item_id": 2269
      },
      {
       "item_id": 2270
      },
      {
       "item_id": 2370
      },
      {
       "item_id": 2371
      },
      {
       "item_id": 2473
      },
      {
       "item_id": 2474
      },
      {
       "item_id": 2574
      },
      {
       "item_id": 2575
      },
      {
       "item_id": 2675
      },
      {
       "item_id": 2676
      },
      {
       "item_id": 2776
      },
      {
       "item_id": 2777
      },
      {
       "item_id": 2878
      },
      {
       "item_id": 2879
      },
      {
       "item_id": 2980
      },
      {
       "item_id": 2981
      },
      {
       "item_id": 3081
      },
      {
       "item_id": 3082
      },
      {
       "item_id": 3183
      },
      {
       "item_id": 3184
      },
      {
       "item_id": 3283
      },
      {
       "item_id": 3284
      },
      {
       "item_id": 3383
      },
      {
       "item_id": 3384
      },
      {
       "item_id": 3484
      },
      {
       "item_id": 3485
      },
      {
       "item_id": 3585
      },
      {
       "item_id": 3586
      },
      {
       "item_id": 3610
      },
      {
       "item_id": 3611
      },
      {
       "item_id": 3612
      },
      {
       "item_id": 3614
      },
      {
       "item_id": 3615
      }
     ]
    },
    "colab_type": "code",
    "executionInfo": {
     "elapsed": 3414540,
     "status": "ok",
     "timestamp": 1521433589382,
     "user": {
      "displayName": "Станислав Беляев",
      "photoUrl": "//lh6.googleusercontent.com/-IMqslmfxonk/AAAAAAAAAAI/AAAAAAAAAjc/2Qb3VobqpFY/s50-c-k-no/photo.jpg",
      "userId": "113506133464622129087"
     },
     "user_tz": -180
    },
    "id": "fggcQJah7Vww",
    "outputId": "fa65b11d-ae3c-40f3-8882-33f730685c6f"
   },
   "outputs": [
    {
     "name": "stderr",
     "output_type": "stream",
     "text": [
      "100%|██████████| 149511/149511 [2:16:19<00:00, 18.28it/s] \n"
     ]
    },
    {
     "name": "stdout",
     "output_type": "stream",
     "text": [
      "CPU times: user 20h 30min 43s, sys: 1h 46s, total: 21h 31min 29s\n",
      "Wall time: 2h 16min 21s\n"
     ]
    },
    {
     "ename": "NameError",
     "evalue": "name 'descs' is not defined",
     "output_type": "error",
     "traceback": [
      "\u001b[0;31m---------------------------------------------------------------------------\u001b[0m",
      "\u001b[0;31mNameError\u001b[0m                                 Traceback (most recent call last)",
      "\u001b[0;32m<ipython-input-14-293465e7eb85>\u001b[0m in \u001b[0;36m<module>\u001b[0;34m()\u001b[0m\n\u001b[1;32m      1\u001b[0m \u001b[0mget_ipython\u001b[0m\u001b[0;34m(\u001b[0m\u001b[0;34m)\u001b[0m\u001b[0;34m.\u001b[0m\u001b[0mrun_line_magic\u001b[0m\u001b[0;34m(\u001b[0m\u001b[0;34m'time'\u001b[0m\u001b[0;34m,\u001b[0m \u001b[0;34m'entities = collect_entities(df.desc)'\u001b[0m\u001b[0;34m)\u001b[0m\u001b[0;34m\u001b[0m\u001b[0m\n\u001b[0;32m----> 2\u001b[0;31m \u001b[0;32massert\u001b[0m \u001b[0mlen\u001b[0m\u001b[0;34m(\u001b[0m\u001b[0mdescs\u001b[0m\u001b[0;34m)\u001b[0m \u001b[0;34m==\u001b[0m \u001b[0mlen\u001b[0m\u001b[0;34m(\u001b[0m\u001b[0mentities\u001b[0m\u001b[0;34m)\u001b[0m\u001b[0;34m\u001b[0m\u001b[0m\n\u001b[0m\u001b[1;32m      3\u001b[0m \u001b[0mlen\u001b[0m\u001b[0;34m(\u001b[0m\u001b[0mentities\u001b[0m\u001b[0;34m)\u001b[0m\u001b[0;34m\u001b[0m\u001b[0m\n",
      "\u001b[0;31mNameError\u001b[0m: name 'descs' is not defined"
     ]
    }
   ],
   "source": [
    "%time entities = collect_entities(df.desc)\n",
    "assert len(descs) == len(entities)\n",
    "len(entities)"
   ]
  },
  {
   "cell_type": "code",
   "execution_count": null,
   "metadata": {
    "colab": {
     "autoexec": {
      "startup": false,
      "wait_interval": 0
     },
     "base_uri": "https://localhost:8080/",
     "height": 34,
     "output_extras": [
      {
       "item_id": 1
      }
     ]
    },
    "colab_type": "code",
    "executionInfo": {
     "elapsed": 2962,
     "status": "ok",
     "timestamp": 1521433592489,
     "user": {
      "displayName": "Станислав Беляев",
      "photoUrl": "//lh6.googleusercontent.com/-IMqslmfxonk/AAAAAAAAAAI/AAAAAAAAAjc/2Qb3VobqpFY/s50-c-k-no/photo.jpg",
      "userId": "113506133464622129087"
     },
     "user_tz": -180
    },
    "id": "r6frEl3-7Vwz",
    "outputId": "71ff1177-b46a-46ce-dbf4-27e46b97bcc1"
   },
   "outputs": [],
   "source": [
    "df['entity'] = [linearize(entity) for entity in entities]\n",
    "df.head()"
   ]
  },
  {
   "cell_type": "markdown",
   "metadata": {
    "colab_type": "text",
    "id": "3ZJxYJIX7Vw3"
   },
   "source": [
    "## Analysis"
   ]
  },
  {
   "cell_type": "code",
   "execution_count": 0,
   "metadata": {
    "colab": {
     "autoexec": {
      "startup": false,
      "wait_interval": 0
     }
    },
    "colab_type": "code",
    "id": "-vHMBztN7Vw4"
   },
   "outputs": [],
   "source": [
    "@hyperdash('[1.3.2] Join entities')\n",
    "def join_entities(entities, *, exp):\n",
    "    cum_cnt = Counter()\n",
    "    for i, entity in enumerate(tqdm(entities)):\n",
    "        cum_cnt += Counter(entity)\n",
    "        if i % LOG_STEP == 0 or i == len(descs) - 1:\n",
    "            exp.metric('step', i)\n",
    "    return cum_cnt"
   ]
  },
  {
   "cell_type": "code",
   "execution_count": 15,
   "metadata": {
    "colab": {
     "autoexec": {
      "startup": false,
      "wait_interval": 0
     },
     "base_uri": "https://localhost:8080/",
     "height": 734,
     "output_extras": [
      {
       "item_id": 1
      },
      {
       "item_id": 2
      },
      {
       "item_id": 5
      },
      {
       "item_id": 6
      },
      {
       "item_id": 13
      },
      {
       "item_id": 14
      },
      {
       "item_id": 25
      },
      {
       "item_id": 26
      },
      {
       "item_id": 45
      },
      {
       "item_id": 46
      },
      {
       "item_id": 71
      },
      {
       "item_id": 72
      },
      {
       "item_id": 103
      },
      {
       "item_id": 104
      },
      {
       "item_id": 139
      },
      {
       "item_id": 140
      },
      {
       "item_id": 180
      },
      {
       "item_id": 181
      },
      {
       "item_id": 224
      },
      {
       "item_id": 225
      },
      {
       "item_id": 273
      },
      {
       "item_id": 274
      },
      {
       "item_id": 326
      },
      {
       "item_id": 327
      },
      {
       "item_id": 383
      },
      {
       "item_id": 384
      },
      {
       "item_id": 442
      },
      {
       "item_id": 443
      },
      {
       "item_id": 507
      },
      {
       "item_id": 508
      },
      {
       "item_id": 574
      },
      {
       "item_id": 575
      },
      {
       "item_id": 646
      },
      {
       "item_id": 647
      },
      {
       "item_id": 722
      },
      {
       "item_id": 723
      },
      {
       "item_id": 801
      },
      {
       "item_id": 802
      },
      {
       "item_id": 882
      },
      {
       "item_id": 883
      },
      {
       "item_id": 966
      },
      {
       "item_id": 967
      },
      {
       "item_id": 1057
      },
      {
       "item_id": 1058
      },
      {
       "item_id": 1150
      },
      {
       "item_id": 1151
      },
      {
       "item_id": 1246
      },
      {
       "item_id": 1247
      },
      {
       "item_id": 1346
      },
      {
       "item_id": 1347
      },
      {
       "item_id": 1449
      },
      {
       "item_id": 1450
      },
      {
       "item_id": 1555
      },
      {
       "item_id": 1556
      },
      {
       "item_id": 1665
      },
      {
       "item_id": 1666
      },
      {
       "item_id": 1779
      },
      {
       "item_id": 1780
      },
      {
       "item_id": 1896
      },
      {
       "item_id": 1897
      },
      {
       "item_id": 2017
      },
      {
       "item_id": 2018
      },
      {
       "item_id": 2138
      },
      {
       "item_id": 2139
      },
      {
       "item_id": 2265
      },
      {
       "item_id": 2266
      },
      {
       "item_id": 2395
      },
      {
       "item_id": 2396
      },
      {
       "item_id": 2531
      },
      {
       "item_id": 2532
      },
      {
       "item_id": 2564
      },
      {
       "item_id": 2565
      },
      {
       "item_id": 2566
      },
      {
       "item_id": 2568
      },
      {
       "item_id": 2569
      }
     ]
    },
    "colab_type": "code",
    "executionInfo": {
     "elapsed": 2502539,
     "status": "ok",
     "timestamp": 1521436095891,
     "user": {
      "displayName": "Станислав Беляев",
      "photoUrl": "//lh6.googleusercontent.com/-IMqslmfxonk/AAAAAAAAAAI/AAAAAAAAAjc/2Qb3VobqpFY/s50-c-k-no/photo.jpg",
      "userId": "113506133464622129087"
     },
     "user_tz": -180
    },
    "id": "EhSJ2pyG7Vw8",
    "outputId": "bbc428e5-a7a6-4ea0-8b4f-df6f857ce0e4"
   },
   "outputs": [
    {
     "name": "stderr",
     "output_type": "stream",
     "text": [
      "\r",
      "  0%|          | 0/171148 [00:00<?, ?it/s]"
     ]
    },
    {
     "name": "stdout",
     "output_type": "stream",
     "text": [
      "| step:   0.000000 |\n"
     ]
    },
    {
     "name": "stderr",
     "output_type": "stream",
     "text": [
      "  3%|▎         | 4996/171148 [00:02<01:08, 2412.03it/s]"
     ]
    },
    {
     "name": "stdout",
     "output_type": "stream",
     "text": [
      "| step: 5000.000000 |\n"
     ]
    },
    {
     "name": "stderr",
     "output_type": "stream",
     "text": [
      "  6%|▌         | 9993/171148 [00:07<02:02, 1313.69it/s]"
     ]
    },
    {
     "name": "stdout",
     "output_type": "stream",
     "text": [
      "| step: 10000.000000 |\n"
     ]
    },
    {
     "name": "stderr",
     "output_type": "stream",
     "text": [
      "  9%|▉         | 14978/171148 [00:17<03:05, 843.50it/s]"
     ]
    },
    {
     "name": "stdout",
     "output_type": "stream",
     "text": [
      "| step: 15000.000000 |\n"
     ]
    },
    {
     "name": "stderr",
     "output_type": "stream",
     "text": [
      " 12%|█▏        | 19976/171148 [00:35<04:31, 557.08it/s]"
     ]
    },
    {
     "name": "stdout",
     "output_type": "stream",
     "text": [
      "| step: 20000.000000 |\n"
     ]
    },
    {
     "name": "stderr",
     "output_type": "stream",
     "text": [
      " 15%|█▍        | 24987/171148 [01:00<05:52, 415.08it/s]"
     ]
    },
    {
     "name": "stdout",
     "output_type": "stream",
     "text": [
      "| step: 25000.000000 |\n"
     ]
    },
    {
     "name": "stderr",
     "output_type": "stream",
     "text": [
      " 18%|█▊        | 29997/171148 [01:30<07:03, 333.04it/s]"
     ]
    },
    {
     "name": "stdout",
     "output_type": "stream",
     "text": [
      "| step: 30000.000000 |\n"
     ]
    },
    {
     "name": "stderr",
     "output_type": "stream",
     "text": [
      " 20%|██        | 34991/171148 [02:03<08:01, 282.55it/s]"
     ]
    },
    {
     "name": "stdout",
     "output_type": "stream",
     "text": [
      "| step: 35000.000000 |\n"
     ]
    },
    {
     "name": "stderr",
     "output_type": "stream",
     "text": [
      " 23%|██▎       | 39996/171148 [02:42<08:53, 245.89it/s]"
     ]
    },
    {
     "name": "stdout",
     "output_type": "stream",
     "text": [
      "| step: 40000.000000 |\n"
     ]
    },
    {
     "name": "stderr",
     "output_type": "stream",
     "text": [
      " 26%|██▋       | 44994/171148 [03:25<09:35, 219.30it/s]"
     ]
    },
    {
     "name": "stdout",
     "output_type": "stream",
     "text": [
      "| step: 45000.000000 |\n"
     ]
    },
    {
     "name": "stderr",
     "output_type": "stream",
     "text": [
      " 29%|██▉       | 49991/171148 [04:12<10:11, 198.18it/s]"
     ]
    },
    {
     "name": "stdout",
     "output_type": "stream",
     "text": [
      "| step: 50000.000000 |\n"
     ]
    },
    {
     "name": "stderr",
     "output_type": "stream",
     "text": [
      " 32%|███▏      | 54991/171148 [05:03<10:40, 181.41it/s]"
     ]
    },
    {
     "name": "stdout",
     "output_type": "stream",
     "text": [
      "| step: 55000.000000 |\n"
     ]
    },
    {
     "name": "stderr",
     "output_type": "stream",
     "text": [
      " 35%|███▌      | 59995/171148 [05:57<11:02, 167.68it/s]"
     ]
    },
    {
     "name": "stdout",
     "output_type": "stream",
     "text": [
      "| step: 60000.000000 |\n"
     ]
    },
    {
     "name": "stderr",
     "output_type": "stream",
     "text": [
      " 38%|███▊      | 64995/171148 [06:56<11:20, 156.06it/s]"
     ]
    },
    {
     "name": "stdout",
     "output_type": "stream",
     "text": [
      "| step: 65000.000000 |\n"
     ]
    },
    {
     "name": "stderr",
     "output_type": "stream",
     "text": [
      " 41%|████      | 69996/171148 [07:58<11:31, 146.21it/s]"
     ]
    },
    {
     "name": "stdout",
     "output_type": "stream",
     "text": [
      "| step: 70000.000000 |\n"
     ]
    },
    {
     "name": "stderr",
     "output_type": "stream",
     "text": [
      " 44%|████▍     | 74993/171148 [09:04<11:38, 137.73it/s]"
     ]
    },
    {
     "name": "stdout",
     "output_type": "stream",
     "text": [
      "| step: 75000.000000 |\n"
     ]
    },
    {
     "name": "stderr",
     "output_type": "stream",
     "text": [
      " 47%|████▋     | 79999/171148 [10:14<11:39, 130.28it/s]"
     ]
    },
    {
     "name": "stdout",
     "output_type": "stream",
     "text": [
      "| step: 80000.000000 |\n"
     ]
    },
    {
     "name": "stderr",
     "output_type": "stream",
     "text": [
      " 50%|████▉     | 84999/171148 [11:27<11:37, 123.58it/s]"
     ]
    },
    {
     "name": "stdout",
     "output_type": "stream",
     "text": [
      "| step: 85000.000000 |\n"
     ]
    },
    {
     "name": "stderr",
     "output_type": "stream",
     "text": [
      " 53%|█████▎    | 89998/171148 [12:45<11:30, 117.61it/s]"
     ]
    },
    {
     "name": "stdout",
     "output_type": "stream",
     "text": [
      "| step: 90000.000000 |\n"
     ]
    },
    {
     "name": "stderr",
     "output_type": "stream",
     "text": [
      " 56%|█████▌    | 95000/171148 [14:05<11:18, 112.30it/s]"
     ]
    },
    {
     "name": "stdout",
     "output_type": "stream",
     "text": [
      "| step: 95000.000000 |\n"
     ]
    },
    {
     "name": "stderr",
     "output_type": "stream",
     "text": [
      " 58%|█████▊    | 99996/171148 [15:29<11:01, 107.60it/s]"
     ]
    },
    {
     "name": "stdout",
     "output_type": "stream",
     "text": [
      "| step: 100000.000000 |\n"
     ]
    },
    {
     "name": "stderr",
     "output_type": "stream",
     "text": [
      " 61%|██████▏   | 104998/171148 [16:57<10:41, 103.17it/s]"
     ]
    },
    {
     "name": "stdout",
     "output_type": "stream",
     "text": [
      "| step: 105000.000000 |\n"
     ]
    },
    {
     "name": "stderr",
     "output_type": "stream",
     "text": [
      " 64%|██████▍   | 109996/171148 [18:28<10:16, 99.19it/s]"
     ]
    },
    {
     "name": "stdout",
     "output_type": "stream",
     "text": [
      "| step: 110000.000000 |\n"
     ]
    },
    {
     "name": "stderr",
     "output_type": "stream",
     "text": [
      " 67%|██████▋   | 115000/171148 [20:03<09:47, 95.56it/s]"
     ]
    },
    {
     "name": "stdout",
     "output_type": "stream",
     "text": [
      "| step: 115000.000000 |\n"
     ]
    },
    {
     "name": "stderr",
     "output_type": "stream",
     "text": [
      " 70%|███████   | 120000/171148 [21:40<09:14, 92.25it/s]"
     ]
    },
    {
     "name": "stdout",
     "output_type": "stream",
     "text": [
      "| step: 120000.000000 |\n"
     ]
    },
    {
     "name": "stderr",
     "output_type": "stream",
     "text": [
      " 73%|███████▎  | 124998/171148 [23:21<08:37, 89.17it/s]"
     ]
    },
    {
     "name": "stdout",
     "output_type": "stream",
     "text": [
      "| step: 125000.000000 |\n"
     ]
    },
    {
     "name": "stderr",
     "output_type": "stream",
     "text": [
      " 76%|███████▌  | 129999/171148 [25:07<07:57, 86.24it/s]"
     ]
    },
    {
     "name": "stdout",
     "output_type": "stream",
     "text": [
      "| step: 130000.000000 |\n"
     ]
    },
    {
     "name": "stderr",
     "output_type": "stream",
     "text": [
      " 79%|███████▉  | 134999/171148 [26:56<07:12, 83.52it/s]"
     ]
    },
    {
     "name": "stdout",
     "output_type": "stream",
     "text": [
      "| step: 135000.000000 |\n"
     ]
    },
    {
     "name": "stderr",
     "output_type": "stream",
     "text": [
      " 82%|████████▏ | 139999/171148 [28:48<06:24, 81.01it/s]"
     ]
    },
    {
     "name": "stdout",
     "output_type": "stream",
     "text": [
      "| step: 140000.000000 |\n"
     ]
    },
    {
     "name": "stderr",
     "output_type": "stream",
     "text": [
      " 85%|████████▍ | 144999/171148 [30:43<05:32, 78.66it/s]"
     ]
    },
    {
     "name": "stdout",
     "output_type": "stream",
     "text": [
      "| step: 145000.000000 |\n"
     ]
    },
    {
     "name": "stderr",
     "output_type": "stream",
     "text": [
      " 88%|████████▊ | 149999/171148 [32:41<04:36, 76.46it/s]"
     ]
    },
    {
     "name": "stdout",
     "output_type": "stream",
     "text": [
      "| step: 150000.000000 |\n"
     ]
    },
    {
     "name": "stderr",
     "output_type": "stream",
     "text": [
      " 91%|█████████ | 154998/171148 [34:42<03:36, 74.43it/s]"
     ]
    },
    {
     "name": "stdout",
     "output_type": "stream",
     "text": [
      "| step: 155000.000000 |\n"
     ]
    },
    {
     "name": "stderr",
     "output_type": "stream",
     "text": [
      " 93%|█████████▎| 159997/171148 [36:46<02:33, 72.50it/s]"
     ]
    },
    {
     "name": "stdout",
     "output_type": "stream",
     "text": [
      "| step: 160000.000000 |\n"
     ]
    },
    {
     "name": "stderr",
     "output_type": "stream",
     "text": [
      " 96%|█████████▋| 165000/171148 [38:55<01:27, 70.65it/s]"
     ]
    },
    {
     "name": "stdout",
     "output_type": "stream",
     "text": [
      "| step: 165000.000000 |\n"
     ]
    },
    {
     "name": "stderr",
     "output_type": "stream",
     "text": [
      " 99%|█████████▉| 169997/171148 [41:08<00:16, 68.86it/s]"
     ]
    },
    {
     "name": "stdout",
     "output_type": "stream",
     "text": [
      "| step: 170000.000000 |\n"
     ]
    },
    {
     "name": "stderr",
     "output_type": "stream",
     "text": [
      "100%|█████████▉| 171145/171148 [41:39<00:00, 68.46it/s]"
     ]
    },
    {
     "name": "stdout",
     "output_type": "stream",
     "text": [
      "| step: 171147.000000 |\n"
     ]
    },
    {
     "name": "stderr",
     "output_type": "stream",
     "text": [
      "\r",
      "100%|██████████| 171148/171148 [41:40<00:00, 68.46it/s]\n"
     ]
    },
    {
     "name": "stdout",
     "output_type": "stream",
     "text": [
      "This run of [1.3.2] Join entities ran for 0:41:40 and logs are available locally at: /content/.hyperdash/logs/1-3-2-join-entities/1-3-2-join-entities_2018-03-19t04-26-33-522404.log\n",
      "CPU times: user 41min 28s, sys: 24 s, total: 41min 52s\n",
      "Wall time: 41min 41s\n"
     ]
    },
    {
     "data": {
      "text/plain": [
       "229910"
      ]
     },
     "execution_count": 15,
     "metadata": {
      "tags": []
     },
     "output_type": "execute_result"
    }
   ],
   "source": [
    "%time ecnts = join_entities(entities)\n",
    "len(ecnts)"
   ]
  },
  {
   "cell_type": "code",
   "execution_count": 16,
   "metadata": {
    "colab": {
     "autoexec": {
      "startup": false,
      "wait_interval": 0
     },
     "base_uri": "https://localhost:8080/",
     "height": 34,
     "output_extras": [
      {
       "item_id": 1
      }
     ]
    },
    "colab_type": "code",
    "executionInfo": {
     "elapsed": 1312,
     "status": "ok",
     "timestamp": 1521436097261,
     "user": {
      "displayName": "Станислав Беляев",
      "photoUrl": "//lh6.googleusercontent.com/-IMqslmfxonk/AAAAAAAAAAI/AAAAAAAAAjc/2Qb3VobqpFY/s50-c-k-no/photo.jpg",
      "userId": "113506133464622129087"
     },
     "user_tz": -180
    },
    "id": "eke2g7zc7Vw_",
    "outputId": "b1eacb03-76b2-4251-a77f-8b19d46d33f9"
   },
   "outputs": [
    {
     "name": "stdout",
     "output_type": "stream",
     "text": [
      "Stored 'ecnts' (Counter)\n"
     ]
    }
   ],
   "source": [
    "%store ecnts"
   ]
  },
  {
   "cell_type": "code",
   "execution_count": 17,
   "metadata": {
    "colab": {
     "autoexec": {
      "startup": false,
      "wait_interval": 0
     },
     "base_uri": "https://localhost:8080/",
     "height": 867,
     "output_extras": [
      {
       "item_id": 1
      }
     ]
    },
    "colab_type": "code",
    "executionInfo": {
     "elapsed": 629,
     "status": "ok",
     "timestamp": 1521436098235,
     "user": {
      "displayName": "Станислав Беляев",
      "photoUrl": "//lh6.googleusercontent.com/-IMqslmfxonk/AAAAAAAAAAI/AAAAAAAAAjc/2Qb3VobqpFY/s50-c-k-no/photo.jpg",
      "userId": "113506133464622129087"
     },
     "user_tz": -180
    },
    "id": "S9U7vunm7VxC",
    "outputId": "592df4fd-3f4f-40ac-de3b-22d9207b6c6e"
   },
   "outputs": [
    {
     "data": {
      "text/plain": [
       "[('return', 18611),\n",
       " ('test', 17629),\n",
       " ('list', 10556),\n",
       " ('object', 10079),\n",
       " ('value', 8947),\n",
       " ('file', 8515),\n",
       " ('method', 8392),\n",
       " ('function', 7848),\n",
       " ('param', 7701),\n",
       " ('string', 7617),\n",
       " ('instance', 7296),\n",
       " ('user', 6737),\n",
       " ('datum', 5610),\n",
       " ('parameter', 5391),\n",
       " ('request', 5375),\n",
       " ('returns', 5009),\n",
       " ('type', 4780),\n",
       " ('argument', 4480),\n",
       " ('args', 4393),\n",
       " ('a list', 4271),\n",
       " ('number', 4176),\n",
       " ('default', 4125),\n",
       " ('error', 3943),\n",
       " ('message', 3702),\n",
       " ('class', 3554),\n",
       " ('path', 3528),\n",
       " ('api', 3483),\n",
       " ('field', 3368),\n",
       " ('response', 3207),\n",
       " ('dictionary', 3142),\n",
       " ('result', 3125),\n",
       " ('dict', 3104),\n",
       " ('rtype', 3086),\n",
       " ('information', 3084),\n",
       " ('key', 2991),\n",
       " ('attribute', 2980),\n",
       " ('version', 2922),\n",
       " ('exception', 2794),\n",
       " ('command', 2784),\n",
       " ('state', 2745),\n",
       " ('tests', 2728),\n",
       " ('server', 2677),\n",
       " ('model', 2529),\n",
       " ('connection', 2497),\n",
       " ('module', 2476),\n",
       " ('line', 2452),\n",
       " ('resource', 2448),\n",
       " ('page', 2438),\n",
       " ('time', 2430),\n",
       " ('this method', 2415)]"
      ]
     },
     "execution_count": 17,
     "metadata": {
      "tags": []
     },
     "output_type": "execute_result"
    }
   ],
   "source": [
    "ecnts.most_common(50)"
   ]
  },
  {
   "cell_type": "code",
   "execution_count": 18,
   "metadata": {
    "colab": {
     "autoexec": {
      "startup": false,
      "wait_interval": 0
     },
     "base_uri": "https://localhost:8080/",
     "height": 265,
     "output_extras": [
      {
       "item_id": 1
      }
     ]
    },
    "colab_type": "code",
    "executionInfo": {
     "elapsed": 788,
     "status": "ok",
     "timestamp": 1521436099390,
     "user": {
      "displayName": "Станислав Беляев",
      "photoUrl": "//lh6.googleusercontent.com/-IMqslmfxonk/AAAAAAAAAAI/AAAAAAAAAjc/2Qb3VobqpFY/s50-c-k-no/photo.jpg",
      "userId": "113506133464622129087"
     },
     "user_tz": -180
    },
    "id": "ZnKS89wY7VxG",
    "outputId": "b5169da4-a7cd-41d7-d023-468ae3797b4e"
   },
   "outputs": [
    {
     "data": {
      "image/png": "[encoded data removed]",
      "text/plain": [
       "<matplotlib.figure.Figure at 0x7ff30c54ac88>"
      ]
     },
     "metadata": {
      "tags": []
     },
     "output_type": "display_data"
    }
   ],
   "source": [
    "sns.distplot([len(entity) for entity in entities], hist=True, kde=False);"
   ]
  },
  {
   "cell_type": "code",
   "execution_count": 19,
   "metadata": {
    "colab": {
     "autoexec": {
      "startup": false,
      "wait_interval": 0
     },
     "base_uri": "https://localhost:8080/",
     "height": 51,
     "output_extras": [
      {
       "item_id": 3
      },
      {
       "item_id": 4
      }
     ]
    },
    "colab_type": "code",
    "executionInfo": {
     "elapsed": 1919,
     "status": "ok",
     "timestamp": 1521436101655,
     "user": {
      "displayName": "Станислав Беляев",
      "photoUrl": "//lh6.googleusercontent.com/-IMqslmfxonk/AAAAAAAAAAI/AAAAAAAAAjc/2Qb3VobqpFY/s50-c-k-no/photo.jpg",
      "userId": "113506133464622129087"
     },
     "user_tz": -180
    },
    "id": "N4qMBIm07VxK",
    "outputId": "4a09851c-d712-4e38-d4a4-bba501b86cf0"
   },
   "outputs": [
    {
     "name": "stderr",
     "output_type": "stream",
     "text": [
      "100%|██████████| 171148/171148 [00:01<00:00, 115321.10it/s]\n"
     ]
    },
    {
     "data": {
      "text/plain": [
       "171148"
      ]
     },
     "execution_count": 19,
     "metadata": {
      "tags": []
     },
     "output_type": "execute_result"
    }
   ],
   "source": [
    "entities = [sorted(sorted(entity, key=lambda x: ecnts[x])[:5]) \n",
    "            for entity in tqdm(entities)]\n",
    "assert len(descs) == len(entities)\n",
    "len(entities)"
   ]
  },
  {
   "cell_type": "code",
   "execution_count": 20,
   "metadata": {
    "colab": {
     "autoexec": {
      "startup": false,
      "wait_interval": 0
     },
     "base_uri": "https://localhost:8080/",
     "height": 34,
     "output_extras": [
      {
       "item_id": 1
      }
     ]
    },
    "colab_type": "code",
    "executionInfo": {
     "elapsed": 743,
     "status": "ok",
     "timestamp": 1521436102433,
     "user": {
      "displayName": "Станислав Беляев",
      "photoUrl": "//lh6.googleusercontent.com/-IMqslmfxonk/AAAAAAAAAAI/AAAAAAAAAjc/2Qb3VobqpFY/s50-c-k-no/photo.jpg",
      "userId": "113506133464622129087"
     },
     "user_tz": -180
    },
    "id": "fwhEWSvS7VxO",
    "outputId": "4378bac7-1164-431a-a8b0-01d25bb976fe"
   },
   "outputs": [
    {
     "data": {
      "text/plain": [
       "171148"
      ]
     },
     "execution_count": 20,
     "metadata": {
      "tags": []
     },
     "output_type": "execute_result"
    }
   ],
   "source": [
    "edescs = [', '.join(entity) + ' | ' + desc for desc, entity in zip(descs, entities)]\n",
    "assert len(descs) == len(edescs)\n",
    "len(edescs)"
   ]
  },
  {
   "cell_type": "code",
   "execution_count": 21,
   "metadata": {
    "colab": {
     "autoexec": {
      "startup": false,
      "wait_interval": 0
     },
     "base_uri": "https://localhost:8080/",
     "height": 207,
     "output_extras": [
      {
       "item_id": 1
      }
     ]
    },
    "colab_type": "code",
    "executionInfo": {
     "elapsed": 742,
     "status": "ok",
     "timestamp": 1521436103513,
     "user": {
      "displayName": "Станислав Беляев",
      "photoUrl": "//lh6.googleusercontent.com/-IMqslmfxonk/AAAAAAAAAAI/AAAAAAAAAjc/2Qb3VobqpFY/s50-c-k-no/photo.jpg",
      "userId": "113506133464622129087"
     },
     "user_tz": -180
    },
    "id": "Jylo_lPd7VxQ",
    "outputId": "15437447-da8a-423a-84c3-2f8a9a5309b8"
   },
   "outputs": [
    {
     "data": {
      "text/plain": [
       "['node kinds, param kinds, param limit, random content nodes, randomly selected content dictionaries | Convenience function for returning random content nodes for use in testing DCNL :param kinds: A list of node kinds to select from. DCNL :param limit: The maximum number of items to return. DCNL :return: A list of randomly selected content dictionaries.',\n",
       " 'char, chars, entity refs, ref, tag name | Add child with tag name and content. DCNL Convert replaces entity refs to chars.',\n",
       " 'permission, roleinstance, the permission, twilio.rest.chat.v1.service.role.roleinstance, unicode | Update the RoleInstance DCNL :param unicode permission: The permission DCNL :returns: Updated RoleInstance DCNL :rtype: twilio.rest.chat.v1.service.role.RoleInstance',\n",
       " 'callback, parameter, sensor, sensor test parameters, test | Callback for sensor test parameters',\n",
       " 'chromosome, segment, the current chromosome segment | Draw the current chromosome segment.',\n",
       " 'a ratemeasurer, rate, ratemeasurer, sample, the rate | A RateMeasurer correctly reports the rate when enough DCNL samples have been collected.',\n",
       " 'a list, list | Return the Z coordinates in a list.',\n",
       " 'record, their xmlid record, view, views | Check whether views know their xmlid record.',\n",
       " 'a sequentialdataset, indim, indim input dimension, scalar target, sequentialdataset | takes a SequentialDataSet with indim input dimension and scalar target',\n",
       " 'a flow, oauth2credential, oauth2credentials, the few types, the http user-agent | Create an instance of OAuth2Credentials DCNL This is one of the few types if Credentials that you should contrust, DCNL Credentials objects are usually instantiated by a Flow. DCNL Args: DCNL access_token: string, access token. DCNL user_agent: string, The HTTP User-Agent to provide for this application. DCNL Notes: DCNL store: callable, a callable that when passed a Credential DCNL will store the credential back to where it came from.']"
      ]
     },
     "execution_count": 21,
     "metadata": {
      "tags": []
     },
     "output_type": "execute_result"
    }
   ],
   "source": [
    "random.sample(edescs, 10)"
   ]
  },
  {
   "cell_type": "code",
   "execution_count": 22,
   "metadata": {
    "colab": {
     "autoexec": {
      "startup": false,
      "wait_interval": 0
     },
     "base_uri": "https://localhost:8080/",
     "height": 34,
     "output_extras": [
      {
       "item_id": 1
      }
     ]
    },
    "colab_type": "code",
    "executionInfo": {
     "elapsed": 842,
     "status": "ok",
     "timestamp": 1521436104647,
     "user": {
      "displayName": "Станислав Беляев",
      "photoUrl": "//lh6.googleusercontent.com/-IMqslmfxonk/AAAAAAAAAAI/AAAAAAAAAjc/2Qb3VobqpFY/s50-c-k-no/photo.jpg",
      "userId": "113506133464622129087"
     },
     "user_tz": -180
    },
    "id": "fehzwnj27VxT",
    "outputId": "175fa0f0-5c3a-4dff-99c7-e92f72d7211b"
   },
   "outputs": [
    {
     "name": "stdout",
     "output_type": "stream",
     "text": [
      "Stored 'edescs' (list)\n"
     ]
    }
   ],
   "source": [
    "%store edescs"
   ]
  },
  {
   "cell_type": "markdown",
   "metadata": {},
   "source": [
    "## End"
   ]
  },
  {
   "cell_type": "code",
   "execution_count": 55,
   "metadata": {},
   "outputs": [
    {
     "data": {
      "text/plain": [
       "{'informative_poses': {'NOUN', 'PROPN'},\n",
       " 'log_step': 5000,\n",
       " 'stop_words': {':return', \"doesn\\\\'t\", 'it\\\\', 'return', 'user\\\\'}}"
      ]
     },
     "execution_count": 55,
     "metadata": {},
     "output_type": "execute_result"
    }
   ],
   "source": [
    "args"
   ]
  }
 ],
 "metadata": {
  "colab": {
   "collapsed_sections": [],
   "default_view": {},
   "name": "entities.ipynb",
   "provenance": [],
   "version": "0.3.2",
   "views": {}
  },
  "kernelspec": {
   "display_name": "Python 3",
   "language": "python",
   "name": "python3"
  },
  "language_info": {
   "codemirror_mode": {
    "name": "ipython",
    "version": 3
   },
   "file_extension": ".py",
   "mimetype": "text/x-python",
   "name": "python",
   "nbconvert_exporter": "python",
   "pygments_lexer": "ipython3",
   "version": "3.6.4"
  }
 },
 "nbformat": 4,
 "nbformat_minor": 1
}
