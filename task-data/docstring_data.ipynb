{
 "cells": [
  {
   "cell_type": "markdown",
   "metadata": {
    "colab_type": "text",
    "id": "SXcHo4VN5eC5"
   },
   "source": [
    "# Preprocess"
   ]
  },
  {
   "cell_type": "markdown",
   "metadata": {},
   "source": [
    "## Init"
   ]
  },
  {
   "cell_type": "code",
   "execution_count": 1,
   "metadata": {},
   "outputs": [],
   "source": [
    "%reload_ext autoreload\n",
    "%autoreload 2"
   ]
  },
  {
   "cell_type": "code",
   "execution_count": 2,
   "metadata": {},
   "outputs": [],
   "source": [
    "import sys\n",
    "sys.path.append('..')"
   ]
  },
  {
   "cell_type": "code",
   "execution_count": 3,
   "metadata": {
    "colab": {
     "autoexec": {
      "startup": false,
      "wait_interval": 0.0
     }
    },
    "colab_type": "code",
    "id": "fosarMHB5eC8"
   },
   "outputs": [],
   "source": [
    "import os\n",
    "import random\n",
    "import numpy as np\n",
    "import pandas as pd\n",
    "import seaborn as sns\n",
    "\n",
    "from tqdm import tqdm\n",
    "from itertools import chain\n",
    "from string import ascii_lowercase\n",
    "from utils import examine_df, monitor\n",
    "from sklearn.datasets.lfw import Bunch\n",
    "from raw_preprocessor import RawPreprocessor\n",
    "from more_itertools import unique_everseen, take\n",
    "from langdetect import detect as detect_lang, detect_langs"
   ]
  },
  {
   "cell_type": "code",
   "execution_count": 4,
   "metadata": {},
   "outputs": [],
   "source": [
    "%matplotlib inline\n",
    "sns.set_style('darkgrid')"
   ]
  },
  {
   "cell_type": "code",
   "execution_count": 5,
   "metadata": {},
   "outputs": [],
   "source": [
    "args = Bunch()"
   ]
  },
  {
   "cell_type": "markdown",
   "metadata": {},
   "source": [
    "## Read"
   ]
  },
  {
   "cell_type": "code",
   "execution_count": 6,
   "metadata": {},
   "outputs": [],
   "source": [
    "_data_base_path = 'code-docstring-corpus/V2/parallel'\n",
    "args.toplevelfuncs_desc_path = os.path.join(_data_base_path, 'parallel_desc')\n",
    "args.methods_desc_path = os.path.join(_data_base_path, 'parallel_methods_desc')\n",
    "args.desc_paths = [args.toplevelfuncs_desc_path, args.methods_desc_path]\n",
    "args.max_descs = 1000000"
   ]
  },
  {
   "cell_type": "code",
   "execution_count": 7,
   "metadata": {},
   "outputs": [],
   "source": [
    "def read_desc_gen(file_path):\n",
    "    with open(file_path, 'r', errors='ignore') as f:\n",
    "        for line in f:\n",
    "            yield line.strip()[1:-1].strip()\n",
    "            \n",
    "            \n",
    "def read_all_descs():\n",
    "    all_gen = (read_desc_gen(desc_path) for desc_path in args.desc_paths)\n",
    "    return list(take(args.max_descs, unique_everseen(chain.from_iterable(all_gen))))"
   ]
  },
  {
   "cell_type": "code",
   "execution_count": 8,
   "metadata": {},
   "outputs": [
    {
     "name": "stdout",
     "output_type": "stream",
     "text": [
      "CPU times: user 800 ms, sys: 72 ms, total: 872 ms\n",
      "Wall time: 874 ms\n",
      "len=357220\n"
     ]
    },
    {
     "data": {
      "text/plain": [
       "['list profiles that are bundled with IPython.',\n",
       " ':param entry: a HostQueueEntry or a SpecialTask',\n",
       " 'Get the string representation of this EdgePair.']"
      ]
     },
     "execution_count": 8,
     "metadata": {},
     "output_type": "execute_result"
    }
   ],
   "source": [
    "%time descs = read_all_descs()\n",
    "print(f'len={len(descs)}')\n",
    "random.sample(descs, 3)"
   ]
  },
  {
   "cell_type": "markdown",
   "metadata": {},
   "source": [
    "## Preprocessing"
   ]
  },
  {
   "cell_type": "code",
   "execution_count": 9,
   "metadata": {},
   "outputs": [],
   "source": [
    "args.log_step = 5000"
   ]
  },
  {
   "cell_type": "code",
   "execution_count": 10,
   "metadata": {},
   "outputs": [
    {
     "data": {
      "text/plain": [
       "[{'text': 'Delete virtual network. This operation can take a while to complete. DCNL :param resource_group_name: The name of the resource group. DCNL :type resource_group_name: str DCNL :param lab_name: The name of the lab. DCNL :type lab_name: str DCNL :param name: The name of the virtual network. DCNL :type name: str DCNL :param dict custom_headers: headers that will be added to the request DCNL :param bool raw: returns the direct response alongside the DCNL deserialized response DCNL :rtype: DCNL :class:`AzureOperationPoller<msrestazure.azure_operation.AzureOperationPoller>` DCNL instance that returns None DCNL :rtype: :class:`ClientRawResponse<msrest.pipeline.ClientRawResponse>` DCNL if raw=true DCNL :raises: :class:`CloudError<msrestazure.azure_exceptions.CloudError>`'},\n",
       " {'text': 'Called when the given test has been run'},\n",
       " {'text': 'Verify the request for rendering a markdown document.'}]"
      ]
     },
     "execution_count": 10,
     "metadata": {},
     "output_type": "execute_result"
    }
   ],
   "source": [
    "raw = [{'text': desc} for desc in descs]\n",
    "random.sample(raw, 3)"
   ]
  },
  {
   "cell_type": "code",
   "execution_count": 11,
   "metadata": {},
   "outputs": [
    {
     "name": "stderr",
     "output_type": "stream",
     "text": [
      "100%|██████████| 357220/357220 [4:46:09<00:00, 20.81it/s]  \n"
     ]
    },
    {
     "name": "stdout",
     "output_type": "stream",
     "text": [
      "shape=(308571, 2)\n"
     ]
    },
    {
     "data": {
      "text/html": [
       "<div>\n",
       "<style scoped>\n",
       "    .dataframe tbody tr th:only-of-type {\n",
       "        vertical-align: middle;\n",
       "    }\n",
       "\n",
       "    .dataframe tbody tr th {\n",
       "        vertical-align: top;\n",
       "    }\n",
       "\n",
       "    .dataframe thead tr th {\n",
       "        text-align: left;\n",
       "    }\n",
       "</style>\n",
       "<table border=\"1\" class=\"dataframe\">\n",
       "  <thead>\n",
       "    <tr>\n",
       "      <th></th>\n",
       "      <th>name</th>\n",
       "      <th>text</th>\n",
       "      <th>tags</th>\n",
       "    </tr>\n",
       "    <tr>\n",
       "      <th></th>\n",
       "      <th>pos</th>\n",
       "      <th>0</th>\n",
       "      <th>1</th>\n",
       "    </tr>\n",
       "  </thead>\n",
       "  <tbody>\n",
       "    <tr>\n",
       "      <th rowspan=\"5\" valign=\"top\">head</th>\n",
       "      <th>0</th>\n",
       "      <td>load a Python source file and compile it to by...</td>\n",
       "      <td>NaN</td>\n",
       "    </tr>\n",
       "    <tr>\n",
       "      <th>1</th>\n",
       "      <td>load a module without importing it DCNL _load_...</td>\n",
       "      <td>NaN</td>\n",
       "    </tr>\n",
       "    <tr>\n",
       "      <th>2</th>\n",
       "      <td>Compare two code-objects. DCNL This is the mai...</td>\n",
       "      <td>NaN</td>\n",
       "    </tr>\n",
       "    <tr>\n",
       "      <th>3</th>\n",
       "      <td>Compare a .pyc with a source code file.</td>\n",
       "      <td>NaN</td>\n",
       "    </tr>\n",
       "    <tr>\n",
       "      <th>4</th>\n",
       "      <td>Find globals in this statement.</td>\n",
       "      <td>NaN</td>\n",
       "    </tr>\n",
       "    <tr>\n",
       "      <th rowspan=\"5\" valign=\"top\">tail</th>\n",
       "      <th>308566</th>\n",
       "      <td>Handle ``grant_type=authorization_code`` reque...</td>\n",
       "      <td>NaN</td>\n",
       "    </tr>\n",
       "    <tr>\n",
       "      <th>308567</th>\n",
       "      <td>Handle ``grant_type=refresh_token`` requests a...</td>\n",
       "      <td>NaN</td>\n",
       "    </tr>\n",
       "    <tr>\n",
       "      <th>308568</th>\n",
       "      <td>Return a function or method that is capable ha...</td>\n",
       "      <td>NaN</td>\n",
       "    </tr>\n",
       "    <tr>\n",
       "      <th>308569</th>\n",
       "      <td>As per :rfc:`3.2` the token endpoint *only* su...</td>\n",
       "      <td>NaN</td>\n",
       "    </tr>\n",
       "    <tr>\n",
       "      <th>308570</th>\n",
       "      <td>As per :rfc:`3.2` the token endpoint *only* su...</td>\n",
       "      <td>NaN</td>\n",
       "    </tr>\n",
       "    <tr>\n",
       "      <th rowspan=\"2\" valign=\"top\">meta</th>\n",
       "      <th>type</th>\n",
       "      <td>object</td>\n",
       "      <td>object</td>\n",
       "    </tr>\n",
       "    <tr>\n",
       "      <th>has_null</th>\n",
       "      <td>False</td>\n",
       "      <td>False</td>\n",
       "    </tr>\n",
       "    <tr>\n",
       "      <th rowspan=\"4\" valign=\"top\">math</th>\n",
       "      <th>count</th>\n",
       "      <td>308571</td>\n",
       "      <td>308571</td>\n",
       "    </tr>\n",
       "    <tr>\n",
       "      <th>unique</th>\n",
       "      <td>308566</td>\n",
       "      <td>1</td>\n",
       "    </tr>\n",
       "    <tr>\n",
       "      <th>top</th>\n",
       "      <td>KBEngine method. DCNL globalData NASC</td>\n",
       "      <td>NaN</td>\n",
       "    </tr>\n",
       "    <tr>\n",
       "      <th>freq</th>\n",
       "      <td>4</td>\n",
       "      <td>308571</td>\n",
       "    </tr>\n",
       "  </tbody>\n",
       "</table>\n",
       "</div>"
      ],
      "text/plain": [
       "name                                                        text    tags\n",
       "pos                                                            0       1\n",
       "head 0         load a Python source file and compile it to by...     NaN\n",
       "     1         load a module without importing it DCNL _load_...     NaN\n",
       "     2         Compare two code-objects. DCNL This is the mai...     NaN\n",
       "     3                   Compare a .pyc with a source code file.     NaN\n",
       "     4                           Find globals in this statement.     NaN\n",
       "tail 308566    Handle ``grant_type=authorization_code`` reque...     NaN\n",
       "     308567    Handle ``grant_type=refresh_token`` requests a...     NaN\n",
       "     308568    Return a function or method that is capable ha...     NaN\n",
       "     308569    As per :rfc:`3.2` the token endpoint *only* su...     NaN\n",
       "     308570    As per :rfc:`3.2` the token endpoint *only* su...     NaN\n",
       "meta type                                                 object  object\n",
       "     has_null                                              False   False\n",
       "math count                                                308571  308571\n",
       "     unique                                               308566       1\n",
       "     top                   KBEngine method. DCNL globalData NASC     NaN\n",
       "     freq                                                      4  308571"
      ]
     },
     "metadata": {},
     "output_type": "execute_result"
    }
   ],
   "source": [
    "preprocessor = RawPreprocessor(\n",
    "    monitor=monitor('[1.1.1] Docstring preprocessing', log_step=args.log_step),\n",
    "    do_tqdm=True\n",
    ")\n",
    "df = preprocessor.fit_transform(raw)\n",
    "examine_df(df)"
   ]
  },
  {
   "cell_type": "markdown",
   "metadata": {},
   "source": [
    "## Sanity check"
   ]
  },
  {
   "cell_type": "code",
   "execution_count": 12,
   "metadata": {},
   "outputs": [
    {
     "data": {
      "image/png": "[encoded data removed]",
      "text/plain": [
       "<matplotlib.figure.Figure at 0x2b573dde28d0>"
      ]
     },
     "metadata": {},
     "output_type": "display_data"
    }
   ],
   "source": [
    "df.text.map(len).hist(bins=75);"
   ]
  },
  {
   "cell_type": "code",
   "execution_count": 13,
   "metadata": {},
   "outputs": [
    {
     "data": {
      "text/plain": [
       "['test _makeInfoFiles() when open() fails and quiet flag is enabled',\n",
       " \"Helper method for constructing grammars of expressions made up of DCNL operators working in a precedence hierarchy.  Operators may be unary or DCNL binary, left- or right-associative.  Parse actions can also be attached DCNL to operator expressions. DCNL Parameters: DCNL - baseExpr - expression representing the most basic element for the nested DCNL - opList - list of tuples, one for each operator precedence level in the DCNL expression grammar; each tuple is of the form DCNL (opExpr, numTerms, rightLeftAssoc, parseAction), where: DCNL - opExpr is the pyparsing expression for the operator; DCNL may also be a string, which will be converted to a Literal; DCNL if numTerms is 3, opExpr is a tuple of two expressions, for the DCNL two operators separating the 3 terms DCNL - numTerms is the number of terms for this operator (must DCNL be 1, 2, or 3) DCNL - rightLeftAssoc is the indicator whether the operator is DCNL right or left associative, using the pyparsing-defined DCNL constants C{opAssoc.RIGHT} and C{opAssoc.LEFT}. DCNL - parseAction is the parse action to be associated with DCNL expressions matching this operator expression (the DCNL parse action tuple member may be omitted) DCNL - lpar - expression for matching left-parentheses (default=Suppress(\\\\'(\\\\')) DCNL - rpar - expression for matching right-parentheses (default=Suppress(\\\\')\\\\'))\",\n",
       " 'Requires: DCNL line -- line to parse DCNL Returns: DCNL nothing DCNL Logic: DCNL Look for the beginning of the first section. This can be \\\\sectd, DCNL but in older RTF it could mean the any paragraph or row definition',\n",
       " 'A short syllable in a word is either: DCNL - a vowel followed by a non-vowel other than w, x or Y and preceded by a non-vowel DCNL - a vowel at the beginning of the word followed by a non-vowel. DCNL Checks the three characters before the given index in the word (or entire word if None).',\n",
       " 'Verify that bandwidth is monotonically decreasing as # of hops increases',\n",
       " 'Return information for a moved line. DCNL This will return a tuple containing the line number on the other end DCNL of the move for a line, and whether this is the beginning of a move DCNL range. DCNL Args: DCNL line_num (int): DCNL The line number that was part of a move. DCNL moved_meta (dict): DCNL Information on the move. DCNL Returns: DCNL tuple: DCNL A tuple of ``(other_line, is_first_in_range)``.',\n",
       " 'Handles 404, page not found exceptions.',\n",
       " 'Return an imdb that uses the top k proposals from the selective search DCNL IJCV code.',\n",
       " \"Error case: Source LDEV\\\\'s properties do not exist(MSGID0707-E).\",\n",
       " 'given a course and comment id, flag comment for abuse DCNL ajax only']"
      ]
     },
     "execution_count": 13,
     "metadata": {},
     "output_type": "execute_result"
    }
   ],
   "source": [
    "df.text.sample(10).tolist()"
   ]
  },
  {
   "cell_type": "markdown",
   "metadata": {},
   "source": [
    "## Save"
   ]
  },
  {
   "cell_type": "code",
   "execution_count": 14,
   "metadata": {},
   "outputs": [],
   "source": [
    "args.save_path = 'docstring_data.hdf5'"
   ]
  },
  {
   "cell_type": "code",
   "execution_count": 15,
   "metadata": {},
   "outputs": [
    {
     "name": "stdout",
     "output_type": "stream",
     "text": [
      "CPU times: user 436 ms, sys: 184 ms, total: 620 ms\n",
      "Wall time: 1.85 s\n"
     ]
    }
   ],
   "source": [
    "%time df.to_hdf(args.save_path, 'df', mode='w', format='f', complevel=9)"
   ]
  },
  {
   "cell_type": "code",
   "execution_count": 16,
   "metadata": {},
   "outputs": [
    {
     "name": "stdout",
     "output_type": "stream",
     "text": [
      "66M\tdocstring_data.hdf5\r\n"
     ]
    }
   ],
   "source": [
    "!du -sh $args.save_path"
   ]
  },
  {
   "cell_type": "markdown",
   "metadata": {},
   "source": [
    "## End"
   ]
  },
  {
   "cell_type": "code",
   "execution_count": 17,
   "metadata": {},
   "outputs": [
    {
     "data": {
      "text/plain": [
       "{'desc_paths': ['../code-docstring-corpus/V2/parallel/parallel_desc',\n",
       "  '../code-docstring-corpus/V2/parallel/parallel_methods_desc'],\n",
       " 'log_step': 5000,\n",
       " 'max_descs': 1000000,\n",
       " 'methods_desc_path': '../code-docstring-corpus/V2/parallel/parallel_methods_desc',\n",
       " 'save_path': 'docstring_data.hdf5',\n",
       " 'toplevelfuncs_desc_path': '../code-docstring-corpus/V2/parallel/parallel_desc'}"
      ]
     },
     "execution_count": 17,
     "metadata": {},
     "output_type": "execute_result"
    }
   ],
   "source": [
    "args"
   ]
  }
 ],
 "metadata": {
  "accelerator": "GPU",
  "colab": {
   "collapsed_sections": [],
   "default_view": {},
   "name": "preprocess.ipynb",
   "provenance": [],
   "version": "0.3.2",
   "views": {}
  },
  "kernelspec": {
   "display_name": "Python 3",
   "language": "python",
   "name": "python3"
  },
  "language_info": {
   "codemirror_mode": {
    "name": "ipython",
    "version": 3
   },
   "file_extension": ".py",
   "mimetype": "text/x-python",
   "name": "python",
   "nbconvert_exporter": "python",
   "pygments_lexer": "ipython3",
   "version": "3.6.4"
  }
 },
 "nbformat": 4,
 "nbformat_minor": 1
}
