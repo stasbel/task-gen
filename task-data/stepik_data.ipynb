{
 "cells": [
  {
   "cell_type": "markdown",
   "metadata": {},
   "source": [
    "# Stepik data\n",
    "\n",
    "<font color='orange'> Still waiting for some good data... </font>"
   ]
  },
  {
   "cell_type": "markdown",
   "metadata": {},
   "source": [
    "## Init"
   ]
  },
  {
   "cell_type": "code",
   "execution_count": 1,
   "metadata": {},
   "outputs": [],
   "source": [
    "%reload_ext autoreload\n",
    "%autoreload 2"
   ]
  },
  {
   "cell_type": "code",
   "execution_count": 2,
   "metadata": {},
   "outputs": [],
   "source": [
    "import sys\n",
    "sys.path.append('..')"
   ]
  },
  {
   "cell_type": "code",
   "execution_count": 3,
   "metadata": {},
   "outputs": [],
   "source": [
    "import entity\n",
    "import seaborn as sns\n",
    "\n",
    "from utils import examine_df\n",
    "from sklearn.datasets.lfw import Bunch\n",
    "from raw_preprocessor import RawPreprocessor"
   ]
  },
  {
   "cell_type": "code",
   "execution_count": 4,
   "metadata": {},
   "outputs": [],
   "source": [
    "%matplotlib inline\n",
    "sns.set_style('darkgrid')"
   ]
  },
  {
   "cell_type": "code",
   "execution_count": 5,
   "metadata": {},
   "outputs": [],
   "source": [
    "args = Bunch()"
   ]
  },
  {
   "cell_type": "markdown",
   "metadata": {},
   "source": [
    "## Make a few samples"
   ]
  },
  {
   "cell_type": "code",
   "execution_count": 6,
   "metadata": {},
   "outputs": [],
   "source": [
    "raw_samples = [\n",
    "    {\n",
    "        'text': '''There are two horses on a chess board and four coordintes x1, y1, x2, y2 are typed in. Determine, whether they can hit each other or not. \n",
    "\n",
    "INPUT\n",
    "\n",
    "Four integer coordinates in the following sequence: x1,y1,x2,y2. The coordinates are not the same.\n",
    "\n",
    "OUTPUT\n",
    "\n",
    "\"YES\" (uppercase), if they hit each other and \"NO\" if they don't.''',\n",
    "        'tags': ['python', 'easy']\n",
    "    },\n",
    "    {\n",
    "        'text': '''Fizz Buzz is a classic programming problem. Here is its slightly modified version.\n",
    "\n",
    "Write a program that takes the input of two integers: the beginning and the end of the interval (both numbers belong to the interval).\n",
    "\n",
    "The program should output the numbers from this interval, but if the number is divisible by 3, you should output Fizz instead of it, if the number is divisible by 5 - output Buzz, and if it is divisible both by 3 and by 5 - output FizzBuzz.\n",
    "\n",
    "Output each number or the word on a separate line.''',\n",
    "        'tags': ['python', 'medium']\n",
    "    },\n",
    "    {\n",
    "        'text': '''Find the number of \"Ds\", \"Cs\", \"Bs\" and \"As\" for the last test on informatics in the class consisting of n students. The program gets number n as input, and then gets the grades themselves (one by one). The program should output four numbers in a single line - the number of \"D\", the number of \"C\", the number of \"B\" and the number of \"A\" grades.''',\n",
    "        'tags': ['python', 'hard']\n",
    "    },\n",
    "    {\n",
    "        'text': '''Sum all input numbers in one pass func.'''\n",
    "    },\n",
    "    {\n",
    "        'text': '''You are given a string s consisting of n lowercase Latin letters.\n",
    "\n",
    "Let's denote k-substring of s as a string subsk = sksk + 1..sn + 1 - k. Obviously, subs1 = s, and there are exactly  such substrings.\n",
    "\n",
    "Let's call some string t an odd proper suprefix of a string T iff the following conditions are met:\n",
    "\n",
    "|T| > |t|;\n",
    "|t| is an odd number;\n",
    "t is simultaneously a prefix and a suffix of T.\n",
    "For evey k-substring () of s you have to calculate the maximum length of its odd proper suprefix.\n",
    "\n",
    "Input\n",
    "The first line contains one integer n (2 ≤ n ≤ 106) — the length s.\n",
    "\n",
    "The second line contains the string s consisting of n lowercase Latin letters.\n",
    "\n",
    "Output\n",
    "Print  integers. i-th of them should be equal to maximum length of an odd proper suprefix of i-substring of s (or  - 1, if there is no such string that is an odd proper suprefix of i-substring).'''\n",
    "    }\n",
    "]"
   ]
  },
  {
   "cell_type": "code",
   "execution_count": 7,
   "metadata": {},
   "outputs": [
    {
     "name": "stdout",
     "output_type": "stream",
     "text": [
      "shape=(5, 2)\n"
     ]
    },
    {
     "data": {
      "text/html": [
       "<div>\n",
       "<style scoped>\n",
       "    .dataframe tbody tr th:only-of-type {\n",
       "        vertical-align: middle;\n",
       "    }\n",
       "\n",
       "    .dataframe tbody tr th {\n",
       "        vertical-align: top;\n",
       "    }\n",
       "\n",
       "    .dataframe thead tr th {\n",
       "        text-align: left;\n",
       "    }\n",
       "</style>\n",
       "<table border=\"1\" class=\"dataframe\">\n",
       "  <thead>\n",
       "    <tr>\n",
       "      <th></th>\n",
       "      <th>name</th>\n",
       "      <th>text</th>\n",
       "      <th>tags</th>\n",
       "    </tr>\n",
       "    <tr>\n",
       "      <th></th>\n",
       "      <th>pos</th>\n",
       "      <th>0</th>\n",
       "      <th>1</th>\n",
       "    </tr>\n",
       "  </thead>\n",
       "  <tbody>\n",
       "    <tr>\n",
       "      <th rowspan=\"5\" valign=\"top\">head</th>\n",
       "      <th>0</th>\n",
       "      <td>There are two horses on a chess board and four...</td>\n",
       "      <td>easy python</td>\n",
       "    </tr>\n",
       "    <tr>\n",
       "      <th>1</th>\n",
       "      <td>Fizz Buzz is a classic programming problem. He...</td>\n",
       "      <td>medium python</td>\n",
       "    </tr>\n",
       "    <tr>\n",
       "      <th>2</th>\n",
       "      <td>Find the number of \"Ds\", \"Cs\", \"Bs\" and \"As\" f...</td>\n",
       "      <td>hard python</td>\n",
       "    </tr>\n",
       "    <tr>\n",
       "      <th>3</th>\n",
       "      <td>Sum all input numbers in one pass func.</td>\n",
       "      <td>NaN</td>\n",
       "    </tr>\n",
       "    <tr>\n",
       "      <th>4</th>\n",
       "      <td>You are given a string s consisting of n lower...</td>\n",
       "      <td>NaN</td>\n",
       "    </tr>\n",
       "    <tr>\n",
       "      <th rowspan=\"2\" valign=\"top\">meta</th>\n",
       "      <th>type</th>\n",
       "      <td>object</td>\n",
       "      <td>object</td>\n",
       "    </tr>\n",
       "    <tr>\n",
       "      <th>has_null</th>\n",
       "      <td>False</td>\n",
       "      <td>False</td>\n",
       "    </tr>\n",
       "  </tbody>\n",
       "</table>\n",
       "</div>"
      ],
      "text/plain": [
       "name                                                        text  \\\n",
       "pos                                                            0   \n",
       "head 0         There are two horses on a chess board and four...   \n",
       "     1         Fizz Buzz is a classic programming problem. He...   \n",
       "     2         Find the number of \"Ds\", \"Cs\", \"Bs\" and \"As\" f...   \n",
       "     3                   Sum all input numbers in one pass func.   \n",
       "     4         You are given a string s consisting of n lower...   \n",
       "meta type                                                 object   \n",
       "     has_null                                              False   \n",
       "\n",
       "name                    tags  \n",
       "pos                        1  \n",
       "head 0           easy python  \n",
       "     1         medium python  \n",
       "     2           hard python  \n",
       "     3                   NaN  \n",
       "     4                   NaN  \n",
       "meta type             object  \n",
       "     has_null          False  "
      ]
     },
     "metadata": {},
     "output_type": "display_data"
    }
   ],
   "source": [
    "preprocessor = RawPreprocessor()\n",
    "df = preprocessor.fit_transform(raw_samples)\n",
    "examine_df(df, exclude='tail, math')"
   ]
  },
  {
   "cell_type": "markdown",
   "metadata": {},
   "source": [
    "## Sanity check"
   ]
  },
  {
   "cell_type": "code",
   "execution_count": 8,
   "metadata": {},
   "outputs": [
    {
     "data": {
      "image/png": "[encoded data removed]",
      "text/plain": [
       "<matplotlib.figure.Figure at 0x2aad60aa75f8>"
      ]
     },
     "metadata": {},
     "output_type": "display_data"
    }
   ],
   "source": [
    "df.text.map(len).hist(bins=len(raw_samples));"
   ]
  },
  {
   "cell_type": "code",
   "execution_count": 9,
   "metadata": {},
   "outputs": [
    {
     "data": {
      "text/plain": [
       "['Find the number of \"Ds\", \"Cs\", \"Bs\" and \"As\" for the last test on informatics in the class consisting of n students. The program gets number n as input, and then gets the grades themselves (one by one). The program should output four numbers in a single line - the number of \"D\", the number of \"C\", the number of \"B\" and the number of \"A\" grades.',\n",
       " 'There are two horses on a chess board and four coordintes x1, y1, x2, y2 are typed in. Determine, whether they can hit each other or not. DCNL INPUT DCNL Four integer coordinates in the following sequence: x1,y1,x2,y2. The coordinates are not the same. DCNL OUTPUT DCNL \"YES\" (uppercase), if they hit each other and \"NO\" if they don\\'t.',\n",
       " 'Sum all input numbers in one pass func.',\n",
       " \"You are given a string s consisting of n lowercase Latin letters. DCNL Let's denote k-substring of s as a string subsk NASC = NASC sksk NASC + NASC 1..sn NASC + NASC 1 NASC - NASC k. Obviously, subs1 NASC = NASC s, and there are exactly such substrings. DCNL Let's call some string t an odd proper suprefix of a string T iff the following conditions are met: DCNL |T| NASC > NASC |t|; DCNL |t| is an odd number; DCNL t is simultaneously a prefix and a suffix of T. DCNL For evey k-substring () of s you have to calculate the maximum length of its odd proper suprefix. DCNL Input DCNL The first line contains one integer n (2 NASC n NASC 106) NASC the length s. DCNL The second line contains the string s consisting of n lowercase Latin letters. DCNL Output DCNL Print integers. i-th of them should be equal to maximum length of an odd proper suprefix of i-substring of s (or NASC - NASC 1, if there is no such string that is an odd proper suprefix of i-substring).\",\n",
       " 'Fizz Buzz is a classic programming problem. Here is its slightly modified version. DCNL Write a program that takes the input of two integers: the beginning and the end of the interval (both numbers belong to the interval). DCNL The program should output the numbers from this interval, but if the number is divisible by 3, you should output Fizz instead of it, if the number is divisible by 5 - output Buzz, and if it is divisible both by 3 and by 5 - output FizzBuzz. DCNL Output each number or the word on a separate line.']"
      ]
     },
     "execution_count": 9,
     "metadata": {},
     "output_type": "execute_result"
    }
   ],
   "source": [
    "df.text.sample(len(raw_samples)).tolist()"
   ]
  },
  {
   "cell_type": "markdown",
   "metadata": {},
   "source": [
    "## Save"
   ]
  },
  {
   "cell_type": "code",
   "execution_count": 10,
   "metadata": {},
   "outputs": [],
   "source": [
    "args.save_path = 'stepik_data.hdf5'"
   ]
  },
  {
   "cell_type": "code",
   "execution_count": 11,
   "metadata": {},
   "outputs": [
    {
     "name": "stdout",
     "output_type": "stream",
     "text": [
      "CPU times: user 52 ms, sys: 24 ms, total: 76 ms\n",
      "Wall time: 86.5 ms\n"
     ]
    }
   ],
   "source": [
    "%time df.to_hdf(args.save_path, 'df', mode='w', format='f', complevel=9)"
   ]
  },
  {
   "cell_type": "code",
   "execution_count": 12,
   "metadata": {},
   "outputs": [
    {
     "name": "stdout",
     "output_type": "stream",
     "text": [
      "1.1M\tstepik_data.hdf5\r\n"
     ]
    }
   ],
   "source": [
    "!du -sh $args.save_path"
   ]
  },
  {
   "cell_type": "markdown",
   "metadata": {},
   "source": [
    "## End"
   ]
  },
  {
   "cell_type": "code",
   "execution_count": 13,
   "metadata": {},
   "outputs": [
    {
     "data": {
      "text/plain": [
       "{'save_path': 'stepik_data.hdf5'}"
      ]
     },
     "execution_count": 13,
     "metadata": {},
     "output_type": "execute_result"
    }
   ],
   "source": [
    "args"
   ]
  }
 ],
 "metadata": {
  "kernelspec": {
   "display_name": "Python 3",
   "language": "python",
   "name": "python3"
  },
  "language_info": {
   "codemirror_mode": {
    "name": "ipython",
    "version": 3
   },
   "file_extension": ".py",
   "mimetype": "text/x-python",
   "name": "python",
   "nbconvert_exporter": "python",
   "pygments_lexer": "ipython3",
   "version": "3.6.4"
  }
 },
 "nbformat": 4,
 "nbformat_minor": 2
}
