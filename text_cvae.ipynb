{
 "cells": [
  {
   "cell_type": "code",
   "execution_count": 1,
   "metadata": {},
   "outputs": [],
   "source": [
    "%reload_ext autoreload\n",
    "%autoreload 2\n",
    "%matplotlib inline"
   ]
  },
  {
   "cell_type": "code",
   "execution_count": 2,
   "metadata": {},
   "outputs": [],
   "source": [
    "import math\n",
    "import torch\n",
    "import numpy as np\n",
    "import torch.optim as optim\n",
    "import matplotlib.pyplot as plt\n",
    "\n",
    "from torch import nn\n",
    "from tqdm import tqdm_notebook\n",
    "import torch.nn.functional as F\n",
    "from text_vae.cvae import RnnVae\n",
    "from text_vae.corpus import SSTCorpus\n",
    "from text_vae.metrics import Evaluator\n",
    "from sklearn.datasets.lfw import Bunch\n",
    "from torch.nn.utils import clip_grad_norm_"
   ]
  },
  {
   "cell_type": "code",
   "execution_count": 3,
   "metadata": {},
   "outputs": [],
   "source": [
    "path = Bunch(\n",
    "    vae_save='vae.pt',\n",
    "    save='text_vae.pt'\n",
    ")"
   ]
  },
  {
   "cell_type": "code",
   "execution_count": 4,
   "metadata": {},
   "outputs": [
    {
     "name": "stdout",
     "output_type": "stream",
     "text": [
      "Thu May 24 20:26:52 2018       \n",
      "+-----------------------------------------------------------------------------+\n",
      "| NVIDIA-SMI 384.130                Driver Version: 384.130                   |\n",
      "|-------------------------------+----------------------+----------------------+\n",
      "| GPU  Name        Persistence-M| Bus-Id        Disp.A | Volatile Uncorr. ECC |\n",
      "| Fan  Temp  Perf  Pwr:Usage/Cap|         Memory-Usage | GPU-Util  Compute M. |\n",
      "|===============================+======================+======================|\n",
      "|   0  GeForce GTX 108...  Off  | 00000000:09:00.0 Off |                  N/A |\n",
      "| 16%   55C    P8    18W / 250W |    614MiB / 11172MiB |      0%      Default |\n",
      "+-------------------------------+----------------------+----------------------+\n",
      "|   1  GeForce GTX 108...  Off  | 00000000:0A:00.0 Off |                  N/A |\n",
      "| 35%   56C    P8    19W / 250W |     19MiB / 11172MiB |      0%      Default |\n",
      "+-------------------------------+----------------------+----------------------+\n",
      "|   2  GeForce GTX 108...  Off  | 00000000:42:00.0 Off |                  N/A |\n",
      "| 38%   58C    P8    20W / 250W |     19MiB / 11172MiB |      0%      Default |\n",
      "+-------------------------------+----------------------+----------------------+\n",
      "|   3  GeForce GTX 108...  Off  | 00000000:43:00.0 Off |                  N/A |\n",
      "| 36%   61C    P8    22W / 250W |    676MiB / 11170MiB |      0%      Default |\n",
      "+-------------------------------+----------------------+----------------------+\n",
      "                                                                               \n",
      "+-----------------------------------------------------------------------------+\n",
      "| Processes:                                                       GPU Memory |\n",
      "|  GPU       PID   Type   Process name                             Usage      |\n",
      "|=============================================================================|\n",
      "|    0      2417      G   /usr/lib/xorg/Xorg                             7MiB |\n",
      "|    0    126969      C   ...bel/miniconda3/envs/text_gen/bin/python   595MiB |\n",
      "|    1      2417      G   /usr/lib/xorg/Xorg                             7MiB |\n",
      "|    2      2417      G   /usr/lib/xorg/Xorg                             7MiB |\n",
      "|    3      2417      G   /usr/lib/xorg/Xorg                             7MiB |\n",
      "|    3    126969      C   ...bel/miniconda3/envs/text_gen/bin/python   657MiB |\n",
      "+-----------------------------------------------------------------------------+\n"
     ]
    }
   ],
   "source": [
    "!nvidia-smi"
   ]
  },
  {
   "cell_type": "code",
   "execution_count": 5,
   "metadata": {},
   "outputs": [
    {
     "data": {
      "text/plain": [
       "(device(type='cuda', index=3), RnnVae(\n",
       "   (x_emb): Embedding(5894, 50, padding_idx=0)\n",
       "   (encoder_rnn): GRU(50, 64)\n",
       "   (q_mu): Linear(in_features=64, out_features=64, bias=True)\n",
       "   (q_logvar): Linear(in_features=64, out_features=64, bias=True)\n",
       "   (decoder_rnn): GRU(116, 66)\n",
       "   (decoder_fc): Linear(in_features=66, out_features=5894, bias=True)\n",
       "   (conv3): Conv2d(1, 100, kernel_size=(3, 50), stride=(1, 1))\n",
       "   (conv4): Conv2d(1, 100, kernel_size=(4, 50), stride=(1, 1))\n",
       "   (conv5): Conv2d(1, 100, kernel_size=(5, 50), stride=(1, 1))\n",
       "   (disc_fc): Sequential(\n",
       "     (0): Dropout(p=0.5)\n",
       "     (1): Linear(in_features=300, out_features=2, bias=True)\n",
       "   )\n",
       "   (encoder): ModuleList(\n",
       "     (0): GRU(50, 64)\n",
       "     (1): Linear(in_features=64, out_features=64, bias=True)\n",
       "     (2): Linear(in_features=64, out_features=64, bias=True)\n",
       "   )\n",
       "   (decoder): ModuleList(\n",
       "     (0): GRU(116, 66)\n",
       "     (1): Linear(in_features=66, out_features=5894, bias=True)\n",
       "   )\n",
       "   (vae): ModuleList(\n",
       "     (0): Embedding(5894, 50, padding_idx=0)\n",
       "     (1): ModuleList(\n",
       "       (0): GRU(50, 64)\n",
       "       (1): Linear(in_features=64, out_features=64, bias=True)\n",
       "       (2): Linear(in_features=64, out_features=64, bias=True)\n",
       "     )\n",
       "     (2): ModuleList(\n",
       "       (0): GRU(116, 66)\n",
       "       (1): Linear(in_features=66, out_features=5894, bias=True)\n",
       "     )\n",
       "   )\n",
       "   (discriminator): ModuleList(\n",
       "     (0): Conv2d(1, 100, kernel_size=(3, 50), stride=(1, 1))\n",
       "     (1): Conv2d(1, 100, kernel_size=(4, 50), stride=(1, 1))\n",
       "     (2): Conv2d(1, 100, kernel_size=(5, 50), stride=(1, 1))\n",
       "     (3): Sequential(\n",
       "       (0): Dropout(p=0.5)\n",
       "       (1): Linear(in_features=300, out_features=2, bias=True)\n",
       "     )\n",
       "   )\n",
       " ))"
      ]
     },
     "execution_count": 5,
     "metadata": {},
     "output_type": "execute_result"
    }
   ],
   "source": [
    "device_code = 3\n",
    "device_s = f'cuda:{device_code}' if device_code >= 0 and torch.cuda.is_available() else 'cpu'\n",
    "device = torch.device(device_s)\n",
    "args, model = torch.load(path.vae_save, map_location=device_s)\n",
    "model.encoder_rnn.flatten_parameters()\n",
    "model.decoder_rnn.flatten_parameters()\n",
    "args.device_code = device_code\n",
    "assert model.x_emb.weight.device == device\n",
    "device, model"
   ]
  },
  {
   "cell_type": "code",
   "execution_count": 36,
   "metadata": {},
   "outputs": [
    {
     "data": {
      "text/plain": [
       "{'model': {'d_h': 64,\n",
       "  'd_z': 64,\n",
       "  'd_c': 2,\n",
       "  'n_len': 17,\n",
       "  'n_vocab': 10000,\n",
       "  'd_emb': 50,\n",
       "  'p_word_dropout': 0.3,\n",
       "  'freeze_embeddings': False},\n",
       " 'train': {'n_batch': 32,\n",
       "  'lr': 0.001,\n",
       "  'lr_decay': 1000,\n",
       "  'n_iter': 10000,\n",
       "  'lr_factor': 0.01,\n",
       "  'log_interval': 3000,\n",
       "  'grad_clipping': 5,\n",
       "  'kl': {'i_start': 3000, 'w_start': 0.01, 'w_max': 0.4},\n",
       "  'bleu_val_hypot': 200,\n",
       "  'bleu_test_hypot': 200,\n",
       "  'lambda_u': 0.1,\n",
       "  'lambda_z': 0.1,\n",
       "  'lambda_c': 0.1,\n",
       "  'beta': 0.1},\n",
       " 'device_code': 3}"
      ]
     },
     "execution_count": 36,
     "metadata": {},
     "output_type": "execute_result"
    }
   ],
   "source": [
    "args.train.lambda_u = 0.1\n",
    "args.train.lambda_z = 0.1\n",
    "args.train.lambda_c = 0.1\n",
    "args.train.beta = 0.1\n",
    "args.train.n_iter = 10000\n",
    "args"
   ]
  },
  {
   "cell_type": "code",
   "execution_count": 37,
   "metadata": {},
   "outputs": [],
   "source": [
    "corpus = SSTCorpus(**args.model, n_batch=args.train.n_batch, device=device)"
   ]
  },
  {
   "cell_type": "code",
   "execution_count": 38,
   "metadata": {},
   "outputs": [],
   "source": [
    "evaluator = Evaluator(corpus)"
   ]
  },
  {
   "cell_type": "code",
   "execution_count": 39,
   "metadata": {},
   "outputs": [],
   "source": [
    "class TempAnnealer:\n",
    "    def __init__(self, n_iter, eps=1e-5):\n",
    "        self.n_iter = n_iter\n",
    "        self.eps = eps\n",
    "    \n",
    "    def __call__(self, i):\n",
    "        kl_weight = (math.tanh((i - self.n_iter / 2) / (self.n_iter / 10)) + 1) / 2\n",
    "        return 1 - kl_weight + self.eps"
   ]
  },
  {
   "cell_type": "code",
   "execution_count": 40,
   "metadata": {},
   "outputs": [
    {
     "data": {
      "image/png": "[encoded data removed]",
      "text/plain": [
       "<Figure size 504x504 with 1 Axes>"
      ]
     },
     "metadata": {},
     "output_type": "display_data"
    }
   ],
   "source": [
    "temp_annealer = TempAnnealer(n_iter=args.train.n_iter)\n",
    "xs = np.linspace(0, args.train.n_iter, num=1000)\n",
    "ts = np.array([temp_annealer(i) for i in xs])\n",
    "plt.figure(figsize=(7, 7))\n",
    "plt.plot(xs, ts);"
   ]
  },
  {
   "cell_type": "code",
   "execution_count": 41,
   "metadata": {},
   "outputs": [],
   "source": [
    "get_params_E = lambda: (p for p in model.encoder.parameters() if p.requires_grad)\n",
    "get_params_G = lambda: (p for p in model.decoder.parameters() if p.requires_grad)\n",
    "get_params_D = lambda: (p for p in model.discriminator.parameters() if p.requires_grad)\n",
    "trainer_E = optim.Adam(get_params_E(), lr=args.train.lr)\n",
    "trainer_G = optim.Adam(get_params_G(), lr=args.train.lr)\n",
    "trainer_D = optim.Adam(get_params_D(), lr=args.train.lr)"
   ]
  },
  {
   "cell_type": "code",
   "execution_count": 45,
   "metadata": {},
   "outputs": [
    {
     "data": {
      "application/vnd.jupyter.widget-view+json": {
       "model_id": "8afcb8f0dd9f4070a9131f4f5f84a3c2",
       "version_major": 2,
       "version_minor": 0
      },
      "text/plain": [
       "HBox(children=(IntProgress(value=1, bar_style='info', max=1), HTML(value='')))"
      ]
     },
     "metadata": {},
     "output_type": "display_data"
    },
    {
     "ename": "KeyboardInterrupt",
     "evalue": "",
     "output_type": "error",
     "traceback": [
      "\u001b[0;31m---------------------------------------------------------------------------\u001b[0m",
      "\u001b[0;31mKeyboardInterrupt\u001b[0m                         Traceback (most recent call last)",
      "\u001b[0;32m<ipython-input-45-ca073742759b>\u001b[0m in \u001b[0;36m<module>\u001b[0;34m()\u001b[0m\n\u001b[1;32m     29\u001b[0m \u001b[0;34m\u001b[0m\u001b[0m\n\u001b[1;32m     30\u001b[0m     \u001b[0mtrainer_G\u001b[0m\u001b[0;34m.\u001b[0m\u001b[0mzero_grad\u001b[0m\u001b[0;34m(\u001b[0m\u001b[0;34m)\u001b[0m\u001b[0;34m\u001b[0m\u001b[0m\n\u001b[0;32m---> 31\u001b[0;31m     \u001b[0mloss_G\u001b[0m\u001b[0;34m.\u001b[0m\u001b[0mbackward\u001b[0m\u001b[0;34m(\u001b[0m\u001b[0;34m)\u001b[0m\u001b[0;34m\u001b[0m\u001b[0m\n\u001b[0m\u001b[1;32m     32\u001b[0m     \u001b[0mclip_grad_norm_\u001b[0m\u001b[0;34m(\u001b[0m\u001b[0mget_params_G\u001b[0m\u001b[0;34m(\u001b[0m\u001b[0;34m)\u001b[0m\u001b[0;34m,\u001b[0m \u001b[0margs\u001b[0m\u001b[0;34m.\u001b[0m\u001b[0mtrain\u001b[0m\u001b[0;34m.\u001b[0m\u001b[0mgrad_clipping\u001b[0m\u001b[0;34m)\u001b[0m\u001b[0;34m\u001b[0m\u001b[0m\n\u001b[1;32m     33\u001b[0m     \u001b[0mtrainer_G\u001b[0m\u001b[0;34m.\u001b[0m\u001b[0mstep\u001b[0m\u001b[0;34m(\u001b[0m\u001b[0;34m)\u001b[0m\u001b[0;34m\u001b[0m\u001b[0m\n",
      "\u001b[0;32m~/miniconda3/envs/text_gen/lib/python3.6/site-packages/torch/tensor.py\u001b[0m in \u001b[0;36mbackward\u001b[0;34m(self, gradient, retain_graph, create_graph)\u001b[0m\n\u001b[1;32m     91\u001b[0m                 \u001b[0mproducts\u001b[0m\u001b[0;34m.\u001b[0m \u001b[0mDefaults\u001b[0m \u001b[0mto\u001b[0m\u001b[0;31m \u001b[0m\u001b[0;31m`\u001b[0m\u001b[0;31m`\u001b[0m\u001b[0;32mFalse\u001b[0m\u001b[0;31m`\u001b[0m\u001b[0;31m`\u001b[0m\u001b[0;34m.\u001b[0m\u001b[0;34m\u001b[0m\u001b[0m\n\u001b[1;32m     92\u001b[0m         \"\"\"\n\u001b[0;32m---> 93\u001b[0;31m         \u001b[0mtorch\u001b[0m\u001b[0;34m.\u001b[0m\u001b[0mautograd\u001b[0m\u001b[0;34m.\u001b[0m\u001b[0mbackward\u001b[0m\u001b[0;34m(\u001b[0m\u001b[0mself\u001b[0m\u001b[0;34m,\u001b[0m \u001b[0mgradient\u001b[0m\u001b[0;34m,\u001b[0m \u001b[0mretain_graph\u001b[0m\u001b[0;34m,\u001b[0m \u001b[0mcreate_graph\u001b[0m\u001b[0;34m)\u001b[0m\u001b[0;34m\u001b[0m\u001b[0m\n\u001b[0m\u001b[1;32m     94\u001b[0m \u001b[0;34m\u001b[0m\u001b[0m\n\u001b[1;32m     95\u001b[0m     \u001b[0;32mdef\u001b[0m \u001b[0mregister_hook\u001b[0m\u001b[0;34m(\u001b[0m\u001b[0mself\u001b[0m\u001b[0;34m,\u001b[0m \u001b[0mhook\u001b[0m\u001b[0;34m)\u001b[0m\u001b[0;34m:\u001b[0m\u001b[0;34m\u001b[0m\u001b[0m\n",
      "\u001b[0;32m~/miniconda3/envs/text_gen/lib/python3.6/site-packages/torch/autograd/__init__.py\u001b[0m in \u001b[0;36mbackward\u001b[0;34m(tensors, grad_tensors, retain_graph, create_graph, grad_variables)\u001b[0m\n\u001b[1;32m     87\u001b[0m     Variable._execution_engine.run_backward(\n\u001b[1;32m     88\u001b[0m         \u001b[0mtensors\u001b[0m\u001b[0;34m,\u001b[0m \u001b[0mgrad_tensors\u001b[0m\u001b[0;34m,\u001b[0m \u001b[0mretain_graph\u001b[0m\u001b[0;34m,\u001b[0m \u001b[0mcreate_graph\u001b[0m\u001b[0;34m,\u001b[0m\u001b[0;34m\u001b[0m\u001b[0m\n\u001b[0;32m---> 89\u001b[0;31m         allow_unreachable=True)  # allow_unreachable flag\n\u001b[0m\u001b[1;32m     90\u001b[0m \u001b[0;34m\u001b[0m\u001b[0m\n\u001b[1;32m     91\u001b[0m \u001b[0;34m\u001b[0m\u001b[0m\n",
      "\u001b[0;31mKeyboardInterrupt\u001b[0m: "
     ]
    }
   ],
   "source": [
    "model.train()\n",
    "batcher = corpus.batcher('labeled', 'train', n_iter=args.train.n_iter)\n",
    "t = tqdm_notebook(enumerate(batcher))\n",
    "losses, log, epoch = [], [], 0\n",
    "for i, (x, y) in t:\n",
    "    # >Train the discriminator D by Eq.(11)\n",
    "    cw = model.forward_discriminator(x)\n",
    "    _, c_gen, x_gen = model.sample_sentence(x.size(0))\n",
    "    cw_gen = model.forward_discriminator(x_gen)\n",
    "    loss_s = F.cross_entropy(cw, y)\n",
    "    entropy_gen = -(F.log_softmax(cw_gen, dim=1)).mean()\n",
    "    loss_u = F.cross_entropy(cw_gen, c_gen.argmax(1)) + args.train.beta * entropy_gen\n",
    "    loss_D = loss_s + args.train.lambda_u * loss_u\n",
    "    \n",
    "    trainer_D.zero_grad()\n",
    "    loss_D.backward()\n",
    "    clip_grad_norm_(get_params_D(), args.train.grad_clipping)\n",
    "    trainer_D.step()\n",
    "\n",
    "    # >Train the generator G and the encoder E by Eq.(8)\n",
    "    kl_loss, recon_loss = model(x, use_c_prior=False)\n",
    "    z_gen, c_gen, x_gen = model.sample_soft_embed(x.size(0), temp=temp_annealer(i))\n",
    "    z_gen_pred, _ = model.forward_encoder(x_gen, do_emb=False)\n",
    "    cw_gen_pred = model.forward_discriminator(x_gen, do_emb=False)\n",
    "    loss_vae = args.train.kl.w_max * kl_loss + recon_loss\n",
    "    loss_z = F.mse_loss(z_gen_pred, z_gen)\n",
    "    loss_c = F.cross_entropy(cw_gen_pred, c_gen.argmax(1))\n",
    "    loss_G = loss_vae + args.train.lambda_z * loss_z + args.train.lambda_c + loss_c\n",
    "    \n",
    "    trainer_G.zero_grad()\n",
    "    loss_G.backward()\n",
    "    clip_grad_norm_(get_params_G(), args.train.grad_clipping)\n",
    "    trainer_G.step()\n",
    "    \n",
    "    # >and minimizing Eq.(4), respectively.\n",
    "    kl_loss, recon_loss = model(x, use_c_prior=False)\n",
    "    loss_E = args.train.kl.w_max * kl_loss + recon_loss\n",
    "    \n",
    "    trainer_E.zero_grad()\n",
    "    loss_E.backward()\n",
    "    clip_grad_norm_(get_params_E(), args.train.grad_clipping)\n",
    "    trainer_E.step()\n",
    "    \n",
    "    # Calc metrics and update t\n",
    "    \n",
    "    losses.append(loss_D.item() + loss_G.item() + loss_E.item())\n",
    "    cur_loss = np.mean(losses[-args.train.log_interval:])\n",
    "#     lr_D, lr_G, lr_E = (trainer.param_groups[0]['lr'] for trainer in (trainer_D, trainer_G, trainer_E))\n",
    "    t.set_postfix_str(f'loss={cur_loss:.5f} loss_D={loss_D.item():.5f} loss_G={loss_G.item():.5f} loss_E={loss_E.item():.5f}')\n",
    "    t.refresh()"
   ]
  },
  {
   "cell_type": "code",
   "execution_count": null,
   "metadata": {},
   "outputs": [],
   "source": []
  }
 ],
 "metadata": {
  "kernelspec": {
   "display_name": "Python 3",
   "language": "python",
   "name": "python3"
  },
  "language_info": {
   "codemirror_mode": {
    "name": "ipython",
    "version": 3
   },
   "file_extension": ".py",
   "mimetype": "text/x-python",
   "name": "python",
   "nbconvert_exporter": "python",
   "pygments_lexer": "ipython3",
   "version": "3.6.5"
  }
 },
 "nbformat": 4,
 "nbformat_minor": 2
}
