{
 "cells": [
  {
   "cell_type": "markdown",
   "metadata": {},
   "source": [
    "# Stackoverflow data"
   ]
  },
  {
   "cell_type": "markdown",
   "metadata": {},
   "source": [
    "## Init"
   ]
  },
  {
   "cell_type": "code",
   "execution_count": 1,
   "metadata": {},
   "outputs": [],
   "source": [
    "%reload_ext autoreload\n",
    "%autoreload 2"
   ]
  },
  {
   "cell_type": "code",
   "execution_count": 2,
   "metadata": {},
   "outputs": [],
   "source": [
    "import sys\n",
    "sys.path.append('..')"
   ]
  },
  {
   "cell_type": "code",
   "execution_count": 3,
   "metadata": {},
   "outputs": [],
   "source": [
    "import os\n",
    "import re\n",
    "import nltk\n",
    "import random\n",
    "import numpy as np\n",
    "import pandas as pd\n",
    "import seaborn as sns\n",
    "import matplotlib.pyplot as plt\n",
    "\n",
    "from tqdm import tqdm\n",
    "from nltk.corpus import stopwords\n",
    "from utils import monitor, examine_df\n",
    "from sklearn.datasets.lfw import Bunch\n",
    "from raw_preprocessor import RawPreprocessor\n",
    "from html_preprocessor import HTMLPreprocessor"
   ]
  },
  {
   "cell_type": "code",
   "execution_count": 4,
   "metadata": {},
   "outputs": [],
   "source": [
    "%matplotlib inline\n",
    "sns.set_style('darkgrid')"
   ]
  },
  {
   "cell_type": "code",
   "execution_count": 5,
   "metadata": {},
   "outputs": [],
   "source": [
    "args = Bunch()"
   ]
  },
  {
   "cell_type": "markdown",
   "metadata": {},
   "source": [
    "## Read"
   ]
  },
  {
   "cell_type": "code",
   "execution_count": 6,
   "metadata": {},
   "outputs": [],
   "source": [
    "args.data_kaggle_name = 'pythonquestions'"
   ]
  },
  {
   "cell_type": "code",
   "execution_count": 7,
   "metadata": {},
   "outputs": [
    {
     "name": "stdout",
     "output_type": "stream",
     "text": [
      "Requirement already satisfied: kaggle in /home/s_belyaev/miniconda3/lib/python3.6/site-packages\n",
      "Requirement already satisfied: python-dateutil in /home/s_belyaev/miniconda3/lib/python3.6/site-packages (from kaggle)\n",
      "Requirement already satisfied: certifi in /home/s_belyaev/miniconda3/lib/python3.6/site-packages (from kaggle)\n",
      "Requirement already satisfied: six>=1.10 in /home/s_belyaev/miniconda3/lib/python3.6/site-packages (from kaggle)\n",
      "Requirement already satisfied: urllib3>=1.15 in /home/s_belyaev/miniconda3/lib/python3.6/site-packages (from kaggle)\n",
      "pythonquestions.zip: Skipping, found more recently modified local copy (use --force to force download)\n"
     ]
    }
   ],
   "source": [
    "!pip install kaggle\n",
    "!kaggle datasets download -d stackoverflow/$args.data_kaggle_name"
   ]
  },
  {
   "cell_type": "code",
   "execution_count": 8,
   "metadata": {},
   "outputs": [],
   "source": [
    "_base_path = f'~/.kaggle/datasets/stackoverflow/{args.data_kaggle_name}'\n",
    "questions_path = os.path.join(_base_path, 'Questions.csv')\n",
    "tags_path = os.path.join(_base_path, 'Tags.csv')"
   ]
  },
  {
   "cell_type": "code",
   "execution_count": 9,
   "metadata": {},
   "outputs": [
    {
     "name": "stdout",
     "output_type": "stream",
     "text": [
      "CPU times: user 10.3 s, sys: 692 ms, total: 11 s\n",
      "Wall time: 11 s\n",
      "shape=(607282, 6)\n"
     ]
    },
    {
     "data": {
      "text/html": [
       "<div>\n",
       "<style scoped>\n",
       "    .dataframe tbody tr th:only-of-type {\n",
       "        vertical-align: middle;\n",
       "    }\n",
       "\n",
       "    .dataframe tbody tr th {\n",
       "        vertical-align: top;\n",
       "    }\n",
       "\n",
       "    .dataframe thead tr th {\n",
       "        text-align: left;\n",
       "    }\n",
       "</style>\n",
       "<table border=\"1\" class=\"dataframe\">\n",
       "  <thead>\n",
       "    <tr>\n",
       "      <th></th>\n",
       "      <th>name</th>\n",
       "      <th>Id</th>\n",
       "      <th>OwnerUserId</th>\n",
       "      <th>CreationDate</th>\n",
       "      <th>Score</th>\n",
       "      <th>Title</th>\n",
       "      <th>Body</th>\n",
       "    </tr>\n",
       "    <tr>\n",
       "      <th></th>\n",
       "      <th>pos</th>\n",
       "      <th>0</th>\n",
       "      <th>1</th>\n",
       "      <th>2</th>\n",
       "      <th>3</th>\n",
       "      <th>4</th>\n",
       "      <th>5</th>\n",
       "    </tr>\n",
       "  </thead>\n",
       "  <tbody>\n",
       "    <tr>\n",
       "      <th rowspan=\"5\" valign=\"top\">head</th>\n",
       "      <th>0</th>\n",
       "      <td>469</td>\n",
       "      <td>147</td>\n",
       "      <td>2008-08-02T15:11:16Z</td>\n",
       "      <td>21</td>\n",
       "      <td>How can I find the full path to a font from it...</td>\n",
       "      <td>&lt;p&gt;I am using the Photoshop's javascript API t...</td>\n",
       "    </tr>\n",
       "    <tr>\n",
       "      <th>1</th>\n",
       "      <td>502</td>\n",
       "      <td>147</td>\n",
       "      <td>2008-08-02T17:01:58Z</td>\n",
       "      <td>27</td>\n",
       "      <td>Get a preview JPEG of a PDF on Windows?</td>\n",
       "      <td>&lt;p&gt;I have a cross-platform (Python) applicatio...</td>\n",
       "    </tr>\n",
       "    <tr>\n",
       "      <th>2</th>\n",
       "      <td>535</td>\n",
       "      <td>154</td>\n",
       "      <td>2008-08-02T18:43:54Z</td>\n",
       "      <td>40</td>\n",
       "      <td>Continuous Integration System for a Python Cod...</td>\n",
       "      <td>&lt;p&gt;I'm starting work on a hobby project with a...</td>\n",
       "    </tr>\n",
       "    <tr>\n",
       "      <th>3</th>\n",
       "      <td>594</td>\n",
       "      <td>116</td>\n",
       "      <td>2008-08-03T01:15:08Z</td>\n",
       "      <td>25</td>\n",
       "      <td>cx_Oracle: How do I iterate over a result set?</td>\n",
       "      <td>&lt;p&gt;There are several ways to iterate over a re...</td>\n",
       "    </tr>\n",
       "    <tr>\n",
       "      <th>4</th>\n",
       "      <td>683</td>\n",
       "      <td>199</td>\n",
       "      <td>2008-08-03T13:19:16Z</td>\n",
       "      <td>28</td>\n",
       "      <td>Using 'in' to match an attribute of Python obj...</td>\n",
       "      <td>&lt;p&gt;I don't remember whether I was dreaming or ...</td>\n",
       "    </tr>\n",
       "    <tr>\n",
       "      <th rowspan=\"5\" valign=\"top\">tail</th>\n",
       "      <th>607277</th>\n",
       "      <td>40143190</td>\n",
       "      <td>333403</td>\n",
       "      <td>2016-10-19T23:36:01Z</td>\n",
       "      <td>1</td>\n",
       "      <td>How to execute multiline python code from a ba...</td>\n",
       "      <td>&lt;p&gt;I need to extend a shell script (bash). As ...</td>\n",
       "    </tr>\n",
       "    <tr>\n",
       "      <th>607278</th>\n",
       "      <td>40143228</td>\n",
       "      <td>6.66246e+06</td>\n",
       "      <td>2016-10-19T23:40:00Z</td>\n",
       "      <td>0</td>\n",
       "      <td>How to get google reCaptcha image source using...</td>\n",
       "      <td>&lt;p&gt;I understood that reCaptcha loads a new fra...</td>\n",
       "    </tr>\n",
       "    <tr>\n",
       "      <th>607279</th>\n",
       "      <td>40143267</td>\n",
       "      <td>4.06468e+06</td>\n",
       "      <td>2016-10-19T23:44:07Z</td>\n",
       "      <td>0</td>\n",
       "      <td>Updating an ManyToMany field with Django rest</td>\n",
       "      <td>&lt;p&gt;I'm trying to set up this API so I can use ...</td>\n",
       "    </tr>\n",
       "    <tr>\n",
       "      <th>607280</th>\n",
       "      <td>40143338</td>\n",
       "      <td>7.04498e+06</td>\n",
       "      <td>2016-10-19T23:52:27Z</td>\n",
       "      <td>2</td>\n",
       "      <td>Most possible pairs</td>\n",
       "      <td>&lt;p&gt;Given a list of values, and information on ...</td>\n",
       "    </tr>\n",
       "    <tr>\n",
       "      <th>607281</th>\n",
       "      <td>40143365</td>\n",
       "      <td>4.13313e+06</td>\n",
       "      <td>2016-10-19T23:55:49Z</td>\n",
       "      <td>0</td>\n",
       "      <td>Theano operations returning odd results</td>\n",
       "      <td>&lt;p&gt;So I'm trying to learn how to use Theano an...</td>\n",
       "    </tr>\n",
       "    <tr>\n",
       "      <th rowspan=\"2\" valign=\"top\">meta</th>\n",
       "      <th>type</th>\n",
       "      <td>int64</td>\n",
       "      <td>float64</td>\n",
       "      <td>object</td>\n",
       "      <td>int64</td>\n",
       "      <td>object</td>\n",
       "      <td>object</td>\n",
       "    </tr>\n",
       "    <tr>\n",
       "      <th>has_null</th>\n",
       "      <td>False</td>\n",
       "      <td>True</td>\n",
       "      <td>False</td>\n",
       "      <td>False</td>\n",
       "      <td>False</td>\n",
       "      <td>False</td>\n",
       "    </tr>\n",
       "    <tr>\n",
       "      <th rowspan=\"11\" valign=\"top\">math</th>\n",
       "      <th>count</th>\n",
       "      <td>607282</td>\n",
       "      <td>601070</td>\n",
       "      <td>607282</td>\n",
       "      <td>607282</td>\n",
       "      <td>607282</td>\n",
       "      <td>607282</td>\n",
       "    </tr>\n",
       "    <tr>\n",
       "      <th>unique</th>\n",
       "      <td>NaN</td>\n",
       "      <td>NaN</td>\n",
       "      <td>606068</td>\n",
       "      <td>NaN</td>\n",
       "      <td>606928</td>\n",
       "      <td>607243</td>\n",
       "    </tr>\n",
       "    <tr>\n",
       "      <th>top</th>\n",
       "      <td>NaN</td>\n",
       "      <td>NaN</td>\n",
       "      <td>2016-08-29T11:28:51Z</td>\n",
       "      <td>NaN</td>\n",
       "      <td>TypeError: 'str' object is not callable</td>\n",
       "      <td>&lt;p&gt;I am making an app in python, which is able...</td>\n",
       "    </tr>\n",
       "    <tr>\n",
       "      <th>freq</th>\n",
       "      <td>NaN</td>\n",
       "      <td>NaN</td>\n",
       "      <td>3</td>\n",
       "      <td>NaN</td>\n",
       "      <td>8</td>\n",
       "      <td>3</td>\n",
       "    </tr>\n",
       "    <tr>\n",
       "      <th>mean</th>\n",
       "      <td>2.37196e+07</td>\n",
       "      <td>2.51959e+06</td>\n",
       "      <td>NaN</td>\n",
       "      <td>2.28314</td>\n",
       "      <td>NaN</td>\n",
       "      <td>NaN</td>\n",
       "    </tr>\n",
       "    <tr>\n",
       "      <th>std</th>\n",
       "      <td>1.12472e+07</td>\n",
       "      <td>1.91038e+06</td>\n",
       "      <td>NaN</td>\n",
       "      <td>19.2856</td>\n",
       "      <td>NaN</td>\n",
       "      <td>NaN</td>\n",
       "    </tr>\n",
       "    <tr>\n",
       "      <th>min</th>\n",
       "      <td>469</td>\n",
       "      <td>25</td>\n",
       "      <td>NaN</td>\n",
       "      <td>-44</td>\n",
       "      <td>NaN</td>\n",
       "      <td>NaN</td>\n",
       "    </tr>\n",
       "    <tr>\n",
       "      <th>25%</th>\n",
       "      <td>1.48552e+07</td>\n",
       "      <td>853934</td>\n",
       "      <td>NaN</td>\n",
       "      <td>0</td>\n",
       "      <td>NaN</td>\n",
       "      <td>NaN</td>\n",
       "    </tr>\n",
       "    <tr>\n",
       "      <th>50%</th>\n",
       "      <td>2.5319e+07</td>\n",
       "      <td>2.10768e+06</td>\n",
       "      <td>NaN</td>\n",
       "      <td>1</td>\n",
       "      <td>NaN</td>\n",
       "      <td>NaN</td>\n",
       "    </tr>\n",
       "    <tr>\n",
       "      <th>75%</th>\n",
       "      <td>3.35882e+07</td>\n",
       "      <td>3.99116e+06</td>\n",
       "      <td>NaN</td>\n",
       "      <td>2</td>\n",
       "      <td>NaN</td>\n",
       "      <td>NaN</td>\n",
       "    </tr>\n",
       "    <tr>\n",
       "      <th>max</th>\n",
       "      <td>4.01434e+07</td>\n",
       "      <td>7.04499e+06</td>\n",
       "      <td>NaN</td>\n",
       "      <td>5524</td>\n",
       "      <td>NaN</td>\n",
       "      <td>NaN</td>\n",
       "    </tr>\n",
       "  </tbody>\n",
       "</table>\n",
       "</div>"
      ],
      "text/plain": [
       "name                    Id  OwnerUserId          CreationDate    Score  \\\n",
       "pos                      0            1                     2        3   \n",
       "head 0                 469          147  2008-08-02T15:11:16Z       21   \n",
       "     1                 502          147  2008-08-02T17:01:58Z       27   \n",
       "     2                 535          154  2008-08-02T18:43:54Z       40   \n",
       "     3                 594          116  2008-08-03T01:15:08Z       25   \n",
       "     4                 683          199  2008-08-03T13:19:16Z       28   \n",
       "tail 607277       40143190       333403  2016-10-19T23:36:01Z        1   \n",
       "     607278       40143228  6.66246e+06  2016-10-19T23:40:00Z        0   \n",
       "     607279       40143267  4.06468e+06  2016-10-19T23:44:07Z        0   \n",
       "     607280       40143338  7.04498e+06  2016-10-19T23:52:27Z        2   \n",
       "     607281       40143365  4.13313e+06  2016-10-19T23:55:49Z        0   \n",
       "meta type            int64      float64                object    int64   \n",
       "     has_null        False         True                 False    False   \n",
       "math count          607282       601070                607282   607282   \n",
       "     unique            NaN          NaN                606068      NaN   \n",
       "     top               NaN          NaN  2016-08-29T11:28:51Z      NaN   \n",
       "     freq              NaN          NaN                     3      NaN   \n",
       "     mean      2.37196e+07  2.51959e+06                   NaN  2.28314   \n",
       "     std       1.12472e+07  1.91038e+06                   NaN  19.2856   \n",
       "     min               469           25                   NaN      -44   \n",
       "     25%       1.48552e+07       853934                   NaN        0   \n",
       "     50%        2.5319e+07  2.10768e+06                   NaN        1   \n",
       "     75%       3.35882e+07  3.99116e+06                   NaN        2   \n",
       "     max       4.01434e+07  7.04499e+06                   NaN     5524   \n",
       "\n",
       "name                                                       Title  \\\n",
       "pos                                                            4   \n",
       "head 0         How can I find the full path to a font from it...   \n",
       "     1                   Get a preview JPEG of a PDF on Windows?   \n",
       "     2         Continuous Integration System for a Python Cod...   \n",
       "     3            cx_Oracle: How do I iterate over a result set?   \n",
       "     4         Using 'in' to match an attribute of Python obj...   \n",
       "tail 607277    How to execute multiline python code from a ba...   \n",
       "     607278    How to get google reCaptcha image source using...   \n",
       "     607279        Updating an ManyToMany field with Django rest   \n",
       "     607280                                  Most possible pairs   \n",
       "     607281              Theano operations returning odd results   \n",
       "meta type                                                 object   \n",
       "     has_null                                              False   \n",
       "math count                                                607282   \n",
       "     unique                                               606928   \n",
       "     top                 TypeError: 'str' object is not callable   \n",
       "     freq                                                      8   \n",
       "     mean                                                    NaN   \n",
       "     std                                                     NaN   \n",
       "     min                                                     NaN   \n",
       "     25%                                                     NaN   \n",
       "     50%                                                     NaN   \n",
       "     75%                                                     NaN   \n",
       "     max                                                     NaN   \n",
       "\n",
       "name                                                        Body  \n",
       "pos                                                            5  \n",
       "head 0         <p>I am using the Photoshop's javascript API t...  \n",
       "     1         <p>I have a cross-platform (Python) applicatio...  \n",
       "     2         <p>I'm starting work on a hobby project with a...  \n",
       "     3         <p>There are several ways to iterate over a re...  \n",
       "     4         <p>I don't remember whether I was dreaming or ...  \n",
       "tail 607277    <p>I need to extend a shell script (bash). As ...  \n",
       "     607278    <p>I understood that reCaptcha loads a new fra...  \n",
       "     607279    <p>I'm trying to set up this API so I can use ...  \n",
       "     607280    <p>Given a list of values, and information on ...  \n",
       "     607281    <p>So I'm trying to learn how to use Theano an...  \n",
       "meta type                                                 object  \n",
       "     has_null                                              False  \n",
       "math count                                                607282  \n",
       "     unique                                               607243  \n",
       "     top       <p>I am making an app in python, which is able...  \n",
       "     freq                                                      3  \n",
       "     mean                                                    NaN  \n",
       "     std                                                     NaN  \n",
       "     min                                                     NaN  \n",
       "     25%                                                     NaN  \n",
       "     50%                                                     NaN  \n",
       "     75%                                                     NaN  \n",
       "     max                                                     NaN  "
      ]
     },
     "metadata": {},
     "output_type": "display_data"
    }
   ],
   "source": [
    "%time qdf = pd.read_csv(questions_path, encoding='ISO-8859-1')\n",
    "examine_df(qdf)"
   ]
  },
  {
   "cell_type": "code",
   "execution_count": 10,
   "metadata": {},
   "outputs": [
    {
     "name": "stdout",
     "output_type": "stream",
     "text": [
      "shape=(607282, 3)\n"
     ]
    },
    {
     "data": {
      "text/html": [
       "<div>\n",
       "<style scoped>\n",
       "    .dataframe tbody tr th:only-of-type {\n",
       "        vertical-align: middle;\n",
       "    }\n",
       "\n",
       "    .dataframe tbody tr th {\n",
       "        vertical-align: top;\n",
       "    }\n",
       "\n",
       "    .dataframe thead tr th {\n",
       "        text-align: left;\n",
       "    }\n",
       "</style>\n",
       "<table border=\"1\" class=\"dataframe\">\n",
       "  <thead>\n",
       "    <tr>\n",
       "      <th></th>\n",
       "      <th>name</th>\n",
       "      <th>id</th>\n",
       "      <th>title</th>\n",
       "      <th>body</th>\n",
       "    </tr>\n",
       "    <tr>\n",
       "      <th></th>\n",
       "      <th>pos</th>\n",
       "      <th>0</th>\n",
       "      <th>1</th>\n",
       "      <th>2</th>\n",
       "    </tr>\n",
       "  </thead>\n",
       "  <tbody>\n",
       "    <tr>\n",
       "      <th rowspan=\"5\" valign=\"top\">head</th>\n",
       "      <th>0</th>\n",
       "      <td>469</td>\n",
       "      <td>How can I find the full path to a font from it...</td>\n",
       "      <td>&lt;p&gt;I am using the Photoshop's javascript API t...</td>\n",
       "    </tr>\n",
       "    <tr>\n",
       "      <th>1</th>\n",
       "      <td>502</td>\n",
       "      <td>Get a preview JPEG of a PDF on Windows?</td>\n",
       "      <td>&lt;p&gt;I have a cross-platform (Python) applicatio...</td>\n",
       "    </tr>\n",
       "    <tr>\n",
       "      <th>2</th>\n",
       "      <td>535</td>\n",
       "      <td>Continuous Integration System for a Python Cod...</td>\n",
       "      <td>&lt;p&gt;I'm starting work on a hobby project with a...</td>\n",
       "    </tr>\n",
       "    <tr>\n",
       "      <th>3</th>\n",
       "      <td>594</td>\n",
       "      <td>cx_Oracle: How do I iterate over a result set?</td>\n",
       "      <td>&lt;p&gt;There are several ways to iterate over a re...</td>\n",
       "    </tr>\n",
       "    <tr>\n",
       "      <th>4</th>\n",
       "      <td>683</td>\n",
       "      <td>Using 'in' to match an attribute of Python obj...</td>\n",
       "      <td>&lt;p&gt;I don't remember whether I was dreaming or ...</td>\n",
       "    </tr>\n",
       "    <tr>\n",
       "      <th rowspan=\"2\" valign=\"top\">meta</th>\n",
       "      <th>type</th>\n",
       "      <td>int64</td>\n",
       "      <td>object</td>\n",
       "      <td>object</td>\n",
       "    </tr>\n",
       "    <tr>\n",
       "      <th>has_null</th>\n",
       "      <td>False</td>\n",
       "      <td>False</td>\n",
       "      <td>False</td>\n",
       "    </tr>\n",
       "  </tbody>\n",
       "</table>\n",
       "</div>"
      ],
      "text/plain": [
       "name              id                                              title  \\\n",
       "pos                0                                                  1   \n",
       "head 0           469  How can I find the full path to a font from it...   \n",
       "     1           502            Get a preview JPEG of a PDF on Windows?   \n",
       "     2           535  Continuous Integration System for a Python Cod...   \n",
       "     3           594     cx_Oracle: How do I iterate over a result set?   \n",
       "     4           683  Using 'in' to match an attribute of Python obj...   \n",
       "meta type      int64                                             object   \n",
       "     has_null  False                                              False   \n",
       "\n",
       "name                                                        body  \n",
       "pos                                                            2  \n",
       "head 0         <p>I am using the Photoshop's javascript API t...  \n",
       "     1         <p>I have a cross-platform (Python) applicatio...  \n",
       "     2         <p>I'm starting work on a hobby project with a...  \n",
       "     3         <p>There are several ways to iterate over a re...  \n",
       "     4         <p>I don't remember whether I was dreaming or ...  \n",
       "meta type                                                 object  \n",
       "     has_null                                              False  "
      ]
     },
     "metadata": {},
     "output_type": "display_data"
    }
   ],
   "source": [
    "qdf.drop(['OwnerUserId', 'CreationDate', 'Score'], axis=1, inplace=True)\n",
    "qdf.rename({c: c.lower() for c in qdf.columns}, axis=1, inplace=True)\n",
    "examine_df(qdf, exclude='tail, math')"
   ]
  },
  {
   "cell_type": "code",
   "execution_count": 11,
   "metadata": {},
   "outputs": [
    {
     "data": {
      "image/png": "[encoded data removed]",
      "text/plain": [
       "<matplotlib.figure.Figure at 0x2af726f0d208>"
      ]
     },
     "metadata": {},
     "output_type": "display_data"
    }
   ],
   "source": [
    "qdf.title.map(len).hist(bins=75);"
   ]
  },
  {
   "cell_type": "code",
   "execution_count": 12,
   "metadata": {},
   "outputs": [
    {
     "data": {
      "image/png": "[encoded data removed]",
      "text/plain": [
       "<matplotlib.figure.Figure at 0x2af72b353e48>"
      ]
     },
     "metadata": {},
     "output_type": "display_data"
    }
   ],
   "source": [
    "body_lens = qdf.body.map(len)\n",
    "body_lens = body_lens[body_lens <= 5000]\n",
    "body_lens.hist(bins=75);"
   ]
  },
  {
   "cell_type": "markdown",
   "metadata": {},
   "source": [
    "## Text"
   ]
  },
  {
   "cell_type": "code",
   "execution_count": 13,
   "metadata": {},
   "outputs": [],
   "source": [
    "args.log_step = 5000"
   ]
  },
  {
   "cell_type": "code",
   "execution_count": 14,
   "metadata": {},
   "outputs": [
    {
     "data": {
      "text/plain": [
       "('<p>I have to call a MS SQLServer stored procedure with a table variable parameter.</p>\\n\\n<pre><code>/* Declare a variable that references the type. */\\nDECLARE @TableVariable AS [AList];\\n\\n/* Add data to the table variable. */\\nINSERT INTO @TableVariable (val) VALUES (\\'value-1\\');\\nINSERT INTO @TableVariable (val) VALUES (\\'value-2\\');\\n\\n\\nEXEC  [dbo].[sp_MyProc]\\n            @param = @TableVariable\\n</code></pre>\\n\\n<p>Works well in the SQL Sv Management studio. I tried the following in python using PyOdbc:</p>\\n\\n<pre><code>cursor.execute(\"declare @TableVariable AS [AList]\")\\nfor a in mylist:\\n    cursor.execute(\"INSERT INTO @TableVariable (val) VALUES (?)\", a)\\ncursor.execute(\"{call dbo.sp_MyProc(@TableVariable)}\")\\n</code></pre>\\n\\n<p>With the following error: error 42000 : the table variable must be declared. THe variable does not survive the different execute steps. \\nI also tried:</p>\\n\\n<pre><code>sql = \"DECLARE @TableVariable AS [AList]; \"\\nfor a in mylist:\\n    sql = sql + \"INSERT INTO @TableVariable (val) VALUES (\\'{}\\'); \".format(a)\\nsql = sql + \"EXEC  [dbo].[sp_MyProc]   @param = @TableVariable\"\\ncursor.execute(sql)\\n</code></pre>\\n\\n<p>With the following error: No results. Previous SQL was not a query.\\nNo more chance with </p>\\n\\n<pre><code>sql = sql + \"{call dbo.sp_MyProc(@TableVariable)}\"\\n</code></pre>\\n\\n<p>does somebody knows how to handle this using Pyodbc?</p>\\n',\n",
       " 'I have to call a MS SQLServer stored procedure with a table variable parameter.\\n CODE \\nWorks well in the SQL Sv Management studio. I tried the following in python using PyOdbc:\\n CODE \\nWith the following error: error 42000 : the table variable must be declared. THe variable does not survive the different execute steps. \\nI also tried:\\n CODE \\nWith the following error: No results. Previous SQL was not a query.\\nNo more chance with \\n CODE \\ndoes somebody knows how to handle this using Pyodbc?\\n')"
      ]
     },
     "execution_count": 14,
     "metadata": {},
     "output_type": "execute_result"
    }
   ],
   "source": [
    "sample = qdf.body.sample().iloc[0]\n",
    "sample, HTMLPreprocessor().fit_transform([sample])[0]"
   ]
  },
  {
   "cell_type": "code",
   "execution_count": 15,
   "metadata": {},
   "outputs": [
    {
     "name": "stderr",
     "output_type": "stream",
     "text": [
      "100%|██████████| 607282/607282 [19:00<00:00, 532.58it/s]\n"
     ]
    }
   ],
   "source": [
    "preprocessor = HTMLPreprocessor(\n",
    "    monitor=monitor('[1.6.1] Bodies filtering', log_step=args.log_step),\n",
    "    do_tqdm=True\n",
    ")\n",
    "bodies = preprocessor.fit_transform(qdf.body)"
   ]
  },
  {
   "cell_type": "code",
   "execution_count": 16,
   "metadata": {},
   "outputs": [
    {
     "name": "stdout",
     "output_type": "stream",
     "text": [
      "CPU times: user 332 ms, sys: 136 ms, total: 468 ms\n",
      "Wall time: 467 ms\n"
     ]
    },
    {
     "data": {
      "text/plain": [
       "['Python test failed even after installing successfully\\nI installed  Python on windows 7. The installation process finished fine. I was trying to test Python by typing  CODE , which did not work as shown in the figure. Did I miss any step?\\n\\n',\n",
       " 'python networkx- save disconnected graphs from single figure into separate files\\nI have following program that generates my graph and displays it on a single figure.\\n\\nEdges2 = [(1, 2), (1, 3), (1, 4), (4, 5), (6, 7), (6,8)]\\nG = nx.DiGraph()\\n\\nThe function that generates the graph is as follows:\\n CODE \\nTo the above function I am passing the list of edges (Edges2). \\nThe function generates two disconnected graphs on a single figure. However, I would like to save these two graphs separately.\\nSo basically, is there a way of saving two disconnected graphs into two files? So, I can get graph1.png and graph2.png.\\n',\n",
       " 'Use dictwriter and write unstructured data into csv file using python\\nOutput CSv fileI am currently trying to put the data from a file into csv file using python.\\nMy data looks as follows:\\n CODE \\nMy output should look like this :\\n CODE \\nFirst comes header and then values underneath them. I was succesfull in getting the header part and the row parts for all except for elems and wave0.\\npython code:  \\n CODE \\n']"
      ]
     },
     "execution_count": 16,
     "metadata": {},
     "output_type": "execute_result"
    }
   ],
   "source": [
    "%time texts = [f'{t}\\n{b}' for t, b in zip(qdf.title, bodies)]\n",
    "random.sample(texts, 3)"
   ]
  },
  {
   "cell_type": "markdown",
   "metadata": {},
   "source": [
    "## Tags"
   ]
  },
  {
   "cell_type": "code",
   "execution_count": 17,
   "metadata": {},
   "outputs": [
    {
     "name": "stdout",
     "output_type": "stream",
     "text": [
      "shape=(1885078, 2)\n"
     ]
    },
    {
     "data": {
      "text/html": [
       "<div>\n",
       "<style scoped>\n",
       "    .dataframe tbody tr th:only-of-type {\n",
       "        vertical-align: middle;\n",
       "    }\n",
       "\n",
       "    .dataframe tbody tr th {\n",
       "        vertical-align: top;\n",
       "    }\n",
       "\n",
       "    .dataframe thead tr th {\n",
       "        text-align: left;\n",
       "    }\n",
       "</style>\n",
       "<table border=\"1\" class=\"dataframe\">\n",
       "  <thead>\n",
       "    <tr>\n",
       "      <th></th>\n",
       "      <th>name</th>\n",
       "      <th>Id</th>\n",
       "      <th>Tag</th>\n",
       "    </tr>\n",
       "    <tr>\n",
       "      <th></th>\n",
       "      <th>pos</th>\n",
       "      <th>0</th>\n",
       "      <th>1</th>\n",
       "    </tr>\n",
       "  </thead>\n",
       "  <tbody>\n",
       "    <tr>\n",
       "      <th rowspan=\"5\" valign=\"top\">head</th>\n",
       "      <th>0</th>\n",
       "      <td>469</td>\n",
       "      <td>python</td>\n",
       "    </tr>\n",
       "    <tr>\n",
       "      <th>1</th>\n",
       "      <td>469</td>\n",
       "      <td>osx</td>\n",
       "    </tr>\n",
       "    <tr>\n",
       "      <th>2</th>\n",
       "      <td>469</td>\n",
       "      <td>fonts</td>\n",
       "    </tr>\n",
       "    <tr>\n",
       "      <th>3</th>\n",
       "      <td>469</td>\n",
       "      <td>photoshop</td>\n",
       "    </tr>\n",
       "    <tr>\n",
       "      <th>4</th>\n",
       "      <td>502</td>\n",
       "      <td>python</td>\n",
       "    </tr>\n",
       "    <tr>\n",
       "      <th rowspan=\"5\" valign=\"top\">tail</th>\n",
       "      <th>1885073</th>\n",
       "      <td>40143338</td>\n",
       "      <td>python</td>\n",
       "    </tr>\n",
       "    <tr>\n",
       "      <th>1885074</th>\n",
       "      <td>40143365</td>\n",
       "      <td>python</td>\n",
       "    </tr>\n",
       "    <tr>\n",
       "      <th>1885075</th>\n",
       "      <td>40143365</td>\n",
       "      <td>numpy</td>\n",
       "    </tr>\n",
       "    <tr>\n",
       "      <th>1885076</th>\n",
       "      <td>40143365</td>\n",
       "      <td>theano</td>\n",
       "    </tr>\n",
       "    <tr>\n",
       "      <th>1885077</th>\n",
       "      <td>40143365</td>\n",
       "      <td>nnet</td>\n",
       "    </tr>\n",
       "    <tr>\n",
       "      <th rowspan=\"2\" valign=\"top\">meta</th>\n",
       "      <th>type</th>\n",
       "      <td>int64</td>\n",
       "      <td>object</td>\n",
       "    </tr>\n",
       "    <tr>\n",
       "      <th>has_null</th>\n",
       "      <td>False</td>\n",
       "      <td>True</td>\n",
       "    </tr>\n",
       "  </tbody>\n",
       "</table>\n",
       "</div>"
      ],
      "text/plain": [
       "name                 Id        Tag\n",
       "pos                   0          1\n",
       "head 0              469     python\n",
       "     1              469        osx\n",
       "     2              469      fonts\n",
       "     3              469  photoshop\n",
       "     4              502     python\n",
       "tail 1885073   40143338     python\n",
       "     1885074   40143365     python\n",
       "     1885075   40143365      numpy\n",
       "     1885076   40143365     theano\n",
       "     1885077   40143365       nnet\n",
       "meta type         int64     object\n",
       "     has_null     False       True"
      ]
     },
     "metadata": {},
     "output_type": "display_data"
    }
   ],
   "source": [
    "tdf = pd.read_csv(tags_path, encoding='latin1')\n",
    "examine_df(tdf, exclude='math')"
   ]
  },
  {
   "cell_type": "code",
   "execution_count": 18,
   "metadata": {},
   "outputs": [
    {
     "name": "stdout",
     "output_type": "stream",
     "text": [
      "shape=(1884635, 2)\n"
     ]
    },
    {
     "data": {
      "text/html": [
       "<div>\n",
       "<style scoped>\n",
       "    .dataframe tbody tr th:only-of-type {\n",
       "        vertical-align: middle;\n",
       "    }\n",
       "\n",
       "    .dataframe tbody tr th {\n",
       "        vertical-align: top;\n",
       "    }\n",
       "\n",
       "    .dataframe thead tr th {\n",
       "        text-align: left;\n",
       "    }\n",
       "</style>\n",
       "<table border=\"1\" class=\"dataframe\">\n",
       "  <thead>\n",
       "    <tr>\n",
       "      <th></th>\n",
       "      <th>name</th>\n",
       "      <th>id</th>\n",
       "      <th>tag</th>\n",
       "    </tr>\n",
       "    <tr>\n",
       "      <th></th>\n",
       "      <th>pos</th>\n",
       "      <th>0</th>\n",
       "      <th>1</th>\n",
       "    </tr>\n",
       "  </thead>\n",
       "  <tbody>\n",
       "    <tr>\n",
       "      <th rowspan=\"5\" valign=\"top\">head</th>\n",
       "      <th>0</th>\n",
       "      <td>469</td>\n",
       "      <td>python</td>\n",
       "    </tr>\n",
       "    <tr>\n",
       "      <th>1</th>\n",
       "      <td>469</td>\n",
       "      <td>osx</td>\n",
       "    </tr>\n",
       "    <tr>\n",
       "      <th>2</th>\n",
       "      <td>469</td>\n",
       "      <td>fonts</td>\n",
       "    </tr>\n",
       "    <tr>\n",
       "      <th>3</th>\n",
       "      <td>469</td>\n",
       "      <td>photoshop</td>\n",
       "    </tr>\n",
       "    <tr>\n",
       "      <th>4</th>\n",
       "      <td>502</td>\n",
       "      <td>python</td>\n",
       "    </tr>\n",
       "    <tr>\n",
       "      <th rowspan=\"2\" valign=\"top\">meta</th>\n",
       "      <th>type</th>\n",
       "      <td>int64</td>\n",
       "      <td>object</td>\n",
       "    </tr>\n",
       "    <tr>\n",
       "      <th>has_null</th>\n",
       "      <td>False</td>\n",
       "      <td>False</td>\n",
       "    </tr>\n",
       "  </tbody>\n",
       "</table>\n",
       "</div>"
      ],
      "text/plain": [
       "name              id        tag\n",
       "pos                0          1\n",
       "head 0           469     python\n",
       "     1           469        osx\n",
       "     2           469      fonts\n",
       "     3           469  photoshop\n",
       "     4           502     python\n",
       "meta type      int64     object\n",
       "     has_null  False      False"
      ]
     },
     "metadata": {},
     "output_type": "display_data"
    }
   ],
   "source": [
    "tdf.rename({c: c.lower() for c in tdf.columns}, axis=1, inplace=True)\n",
    "tdf = tdf.dropna()\n",
    "tdf.reset_index(drop=True, inplace=True)\n",
    "examine_df(tdf, exclude='tail, math')"
   ]
  },
  {
   "cell_type": "code",
   "execution_count": 19,
   "metadata": {},
   "outputs": [
    {
     "name": "stdout",
     "output_type": "stream",
     "text": [
      "total=16895\n"
     ]
    },
    {
     "data": {
      "text/plain": [
       "python               607283\n",
       "django                62818\n",
       "python-2.7            34616\n",
       "pandas                26854\n",
       "python-3.x            26814\n",
       "numpy                 25848\n",
       "list                  18951\n",
       "matplotlib            16521\n",
       "regex                 14047\n",
       "dictionary            13413\n",
       "tkinter               10766\n",
       "string                10616\n",
       "flask                 10488\n",
       "google-app-engine     10286\n",
       "csv                    9323\n",
       "arrays                 9170\n",
       "json                   8023\n",
       "mysql                  7529\n",
       "linux                  7121\n",
       "html                   7118\n",
       "Name: tag, dtype: int64"
      ]
     },
     "execution_count": 19,
     "metadata": {},
     "output_type": "execute_result"
    }
   ],
   "source": [
    "print(f'total={len(tdf.tag.unique())}')\n",
    "tdf.tag.value_counts()[:20]"
   ]
  },
  {
   "cell_type": "code",
   "execution_count": 20,
   "metadata": {},
   "outputs": [],
   "source": [
    "@monitor('[1.6.2] Join tags', log_step=args.log_step, log_total=len(tdf))\n",
    "def join_tags(*, log):\n",
    "    tags = [[] for _ in range(len(qdf))]\n",
    "    id2i = dict(zip(qdf.id, qdf.index))\n",
    "    for i, (_, (id_, tag)) in enumerate(tqdm(tdf.iterrows(), total=len(tdf))):\n",
    "        if id_ in id2i:\n",
    "            tags[id2i[id_]].append(tag)\n",
    "        log.istep(i)\n",
    "    return tags"
   ]
  },
  {
   "cell_type": "code",
   "execution_count": 21,
   "metadata": {},
   "outputs": [
    {
     "name": "stderr",
     "output_type": "stream",
     "text": [
      "100%|██████████| 1884635/1884635 [03:21<00:00, 9370.92it/s]\n"
     ]
    },
    {
     "data": {
      "text/plain": [
       "[['python', 'dictionary', 'numbers'],\n",
       " ['python', 'rest', 'raspberry-pi', 'restful-url', 'webiopi'],\n",
       " ['python', 'pattern-matching', 'tuples']]"
      ]
     },
     "execution_count": 21,
     "metadata": {},
     "output_type": "execute_result"
    }
   ],
   "source": [
    "tags = join_tags()\n",
    "random.sample(tags, 3)"
   ]
  },
  {
   "cell_type": "code",
   "execution_count": 22,
   "metadata": {},
   "outputs": [
    {
     "data": {
      "text/plain": [
       "[{'tags': ['python', 'google-app-engine', 'logging'],\n",
       "  'text': 'GAE Logs API (Python) - Requests to Static Handler Do Not Show Up\\nI have a python Google App Engine app and I wish to query my server logs to get some insight about requests handled by the static file handler. \\nThat is, I have a static handler serving images from a folder called /static:\\nfrom my app.yaml:\\n CODE \\nfor this purpose I am trying to get the logs using logservice class (Logs API), which is documented nicely here.\\nlong story short, this is my bit of code that fetches the logs:\\n CODE \\nThe thing is, I am only getting logs for requests generated by the dynamic content handler. So while I am able to see logs for static requests in the GAE logs dashboard, and these requests are also accounted for when I download the logs using appcfg, they are not returned by the logservice.fetch metohd.\\nIs there a way around this bug/weird design decision? I do not want to download the file using appcfg, I want to access the logs programatically without having to deal with file download (this is what the Logs API is made for...).\\n'},\n",
       " {'tags': ['python', 'optimization', 'scipy'],\n",
       "  'text': 'Scipy.Optimize Python\\nI am trying to optimize the parameters of a model I have built. Its a very simple model based predicting water runoff of a mountain. Part of a university coursework:\\n CODE \\nI was told to use scipy.optimize.fmin_cg;\\nso I presume I do something along the lines of:\\n CODE \\nI keep getting errors along the lines of:\\n CODE \\nSo then I presumed I needed them to be in lists - but i got the same problem:\\n CODE \\nI want to get better estimates of the params. SnowProportion and temperature are of the shape (365,)\\nRMSE:\\nimport numpy as np\\nimport scipy.optimize\\n CODE \\n'},\n",
       " {'tags': ['python', 'graphics', 'scipy', 'fft', 'complex-numbers'],\n",
       "  'text': \"How do I graphically represent FFT output?\\nIn the Python IDLE:\\n CODE \\nIn the above code, I have used one of scipy's FFT functions. The output is an array of complex numbers. How do I represent these complex numbers graphically?\\n\"}]"
      ]
     },
     "execution_count": 22,
     "metadata": {},
     "output_type": "execute_result"
    }
   ],
   "source": [
    "raw = [{'text': text, 'tags': i_tags} for text, i_tags in zip(texts, tags)]\n",
    "random.sample(raw, 3)"
   ]
  },
  {
   "cell_type": "code",
   "execution_count": 23,
   "metadata": {},
   "outputs": [
    {
     "name": "stderr",
     "output_type": "stream",
     "text": [
      "100%|██████████| 607282/607282 [1:01:54<00:00, 163.48it/s]\n"
     ]
    },
    {
     "name": "stdout",
     "output_type": "stream",
     "text": [
      "shape=(517331, 2)\n"
     ]
    },
    {
     "data": {
      "text/html": [
       "<div>\n",
       "<style scoped>\n",
       "    .dataframe tbody tr th:only-of-type {\n",
       "        vertical-align: middle;\n",
       "    }\n",
       "\n",
       "    .dataframe tbody tr th {\n",
       "        vertical-align: top;\n",
       "    }\n",
       "\n",
       "    .dataframe thead tr th {\n",
       "        text-align: left;\n",
       "    }\n",
       "</style>\n",
       "<table border=\"1\" class=\"dataframe\">\n",
       "  <thead>\n",
       "    <tr>\n",
       "      <th></th>\n",
       "      <th>name</th>\n",
       "      <th>text</th>\n",
       "      <th>tags</th>\n",
       "    </tr>\n",
       "    <tr>\n",
       "      <th></th>\n",
       "      <th>pos</th>\n",
       "      <th>0</th>\n",
       "      <th>1</th>\n",
       "    </tr>\n",
       "  </thead>\n",
       "  <tbody>\n",
       "    <tr>\n",
       "      <th rowspan=\"5\" valign=\"top\">head</th>\n",
       "      <th>0</th>\n",
       "      <td>How can I find the full path to a font from it...</td>\n",
       "      <td>fonts osx photoshop python</td>\n",
       "    </tr>\n",
       "    <tr>\n",
       "      <th>1</th>\n",
       "      <td>Get a preview JPEG of a PDF on Windows? DCNL I...</td>\n",
       "      <td>image pdf python windows</td>\n",
       "    </tr>\n",
       "    <tr>\n",
       "      <th>2</th>\n",
       "      <td>Continuous Integration System for a Python Cod...</td>\n",
       "      <td>python</td>\n",
       "    </tr>\n",
       "    <tr>\n",
       "      <th>3</th>\n",
       "      <td>cx_Oracle: How do I iterate over a result set?...</td>\n",
       "      <td>database oracle python sql</td>\n",
       "    </tr>\n",
       "    <tr>\n",
       "      <th>4</th>\n",
       "      <td>Using 'in' to match an attribute of Python obj...</td>\n",
       "      <td>arrays iteration python</td>\n",
       "    </tr>\n",
       "    <tr>\n",
       "      <th rowspan=\"5\" valign=\"top\">tail</th>\n",
       "      <th>517326</th>\n",
       "      <td>Trouble installing pillow for Windows 10 DCNL ...</td>\n",
       "      <td>django pillow pip python</td>\n",
       "    </tr>\n",
       "    <tr>\n",
       "      <th>517327</th>\n",
       "      <td>How to execute multiline python code from a ba...</td>\n",
       "      <td>bash multiline python</td>\n",
       "    </tr>\n",
       "    <tr>\n",
       "      <th>517328</th>\n",
       "      <td>Updating an ManyToMany field with Django rest ...</td>\n",
       "      <td>django python</td>\n",
       "    </tr>\n",
       "    <tr>\n",
       "      <th>517329</th>\n",
       "      <td>Most possible pairs DCNL Given a list of value...</td>\n",
       "      <td>python</td>\n",
       "    </tr>\n",
       "    <tr>\n",
       "      <th>517330</th>\n",
       "      <td>Theano operations returning odd results DCNL S...</td>\n",
       "      <td>nnet numpy python theano</td>\n",
       "    </tr>\n",
       "    <tr>\n",
       "      <th rowspan=\"2\" valign=\"top\">meta</th>\n",
       "      <th>type</th>\n",
       "      <td>object</td>\n",
       "      <td>object</td>\n",
       "    </tr>\n",
       "    <tr>\n",
       "      <th>has_null</th>\n",
       "      <td>False</td>\n",
       "      <td>False</td>\n",
       "    </tr>\n",
       "  </tbody>\n",
       "</table>\n",
       "</div>"
      ],
      "text/plain": [
       "name                                                        text  \\\n",
       "pos                                                            0   \n",
       "head 0         How can I find the full path to a font from it...   \n",
       "     1         Get a preview JPEG of a PDF on Windows? DCNL I...   \n",
       "     2         Continuous Integration System for a Python Cod...   \n",
       "     3         cx_Oracle: How do I iterate over a result set?...   \n",
       "     4         Using 'in' to match an attribute of Python obj...   \n",
       "tail 517326    Trouble installing pillow for Windows 10 DCNL ...   \n",
       "     517327    How to execute multiline python code from a ba...   \n",
       "     517328    Updating an ManyToMany field with Django rest ...   \n",
       "     517329    Most possible pairs DCNL Given a list of value...   \n",
       "     517330    Theano operations returning odd results DCNL S...   \n",
       "meta type                                                 object   \n",
       "     has_null                                              False   \n",
       "\n",
       "name                                 tags  \n",
       "pos                                     1  \n",
       "head 0         fonts osx photoshop python  \n",
       "     1           image pdf python windows  \n",
       "     2                             python  \n",
       "     3         database oracle python sql  \n",
       "     4            arrays iteration python  \n",
       "tail 517326      django pillow pip python  \n",
       "     517327         bash multiline python  \n",
       "     517328                 django python  \n",
       "     517329                        python  \n",
       "     517330      nnet numpy python theano  \n",
       "meta type                          object  \n",
       "     has_null                       False  "
      ]
     },
     "metadata": {},
     "output_type": "display_data"
    }
   ],
   "source": [
    "preprocessor = RawPreprocessor(\n",
    "    monitor=monitor('[1.6.3] Stackoverflow preprocessing', log_step=args.log_step),\n",
    "    do_tqdm=True\n",
    ")\n",
    "df = preprocessor.fit_transform(raw)\n",
    "examine_df(df, exclude='math')"
   ]
  },
  {
   "cell_type": "markdown",
   "metadata": {},
   "source": [
    "## Sanity check"
   ]
  },
  {
   "cell_type": "code",
   "execution_count": 24,
   "metadata": {},
   "outputs": [
    {
     "data": {
      "image/png": "[encoded data removed]",
      "text/plain": [
       "<matplotlib.figure.Figure at 0x2af735317c88>"
      ]
     },
     "metadata": {},
     "output_type": "display_data"
    }
   ],
   "source": [
    "df.text.map(len).hist(bins=75);"
   ]
  },
  {
   "cell_type": "code",
   "execution_count": 25,
   "metadata": {},
   "outputs": [
    {
     "data": {
      "text/plain": [
       "[\"Improve speed when reading very large files in Python DCNL So I'm running multiple functions, each function takes a section out of the million line .txt file. Each function has a for loop that runs through every line in that section of million line file. DCNL It takes info from those lines to see if it matches info in 2 other files, one about 50,000-100,000 lines long, the other about 500-1000 lines long. I checked if the lines match by running for loops through the other 2 files. Once the info matches I write the output to a new file, all functions write to the same file. The program will produce about 2,500 lines a minute, but will slow down the longer it runs. Also, when I run one of the function, it does in about 500 a minute, but when I do it with 23 other processes it only makes 2500 a minute, why is that? DCNL Does anyone know why that would happen? Anyway, I could import something to make the program run/read through files faster, I am already using the CODE method. DCNL Can the multi-processes be redone to run faster?\",\n",
       " \"Python : How to optimize comparison between two large sets? DCNL I salute you ! I'm new here, and I've got a little problem trying to optimize this part of code. DCNL I'm reading from two files : DCNL Corpus.txt -----> Contains my text (of 1.000.000 words) DCNL Stop_words.txt -----> Contains my stop_list (of 4000 words) DCNL I must compare each word from my corpus with every word in the stop_list, because I want to have a text without stop words, so I've : DCNL 1.000.000*4000 comparisons to do with the code below : DCNL CODE DCNL My question is : Is there anything to do it differently ? Any structure to optimize it ?\",\n",
       " \"Can I overload the {} operators for creating dictionaries? DCNL I am making a derived variant of the dict class such that a dictionary value can be accessed through attribute access syntax (so instead of doing dictionary['foo'] you could do dictionary.foo.) This is what I have so far: DCNL CODE DCNL However, this snippet of my code gives it problems: DCNL CODE DCNL This is because the { } operators for dictionary creation have not been overloaded. Is it possible to make the dictName = { } syntax create an instance of my derived class instead of an ordinary dictionary?\",\n",
       " 'Write multifeature text classifier in sklearn DCNL I am new to sklearn. I wrote a text classifier with the help of following link http://nbviewer.ipython.org/gist/rjweiss/7158866 DCNL In this link there is only one feature. Following example is working properly - DCNL CODE DCNL Now I want to have two features per training data entry. So I wrote following code - DCNL CODE DCNL It gives me following error - DCNL CODE DCNL Is my method of including two features (here add_data and add_data_2) is wrong ?? DCNL I could not find proper example online !!',\n",
       " 'Finding and comparing the minimum timedelta of 2 datetime lists python DCNL I have 2 lists containing datetime.timedelta values. DCNL Need help finding the minimum of both lists and comparing them to find out which is greater. DCNL Note: I am fairly new to Python DCNL This is the first list, extracting datetime values from dicts v,w: DCNL CODE DCNL And this is the second list, calculating intervals within dict values: DCNL CODE DCNL I want to be able to do this: DCNL CODE',\n",
       " \"OperationalError: (sqlite3.OperationalError) no such table: user DCNL I'm completely new to flask and web development in general. And what I need is to login to a website using steam id. I'm doing it as it said here, but get the following error: DCNL OperationalError: (sqlite3.OperationalError) no such table: user DCNL It seems to open up steam website correctly but it breaks when I press Log In. So, what's my mistake ? Any help is appreciated. DCNL The code: DCNL CODE\",\n",
       " \"Using binary indexers on a multi-index DCNL I have a DataFrame of the form: DCNL DCNL CODE DCNL DCNL When I do CODE , I get 'False' for all the values, but when I do a subset: DCNL CODE , it returns some values, with NaN's for the column entries. What logic is Pandas following?\",\n",
       " 'Asterisk + Starpy : Failed to originate call DCNL I\\'m using Starpy to automate Asterisk. Everything works except sometimes I get one call out of 150 where Asterisk fails to originate call. DCNL CODE DCNL Based on my research, this error occurs when the callee does not answer the call. However, I\\'m not convinced and looking for more details about why \"origiate failed\". I thought about monitoring the channel before we start dialing, but it doesn\\'t work. Channel monitor needs to be called after the callee answers the call. DCNL Please let me know if you have any suggestions. DCNL Thanks.',\n",
       " \"creating class instances from a text file in python DCNL I have a polynomial class: DCNL CODE DCNL To add an instance to this class, you enter the following: DCNL CODE DCNL Now I'm trying to create a function that reads information from a text file, and from that text file, it creates an instance of the Polynomial class. The information is stored in the text file like this: DCNL CODE DCNL So far, the function looks like this: DCNL CODE DCNL It only creates a Polynomial instance for the first pair in the text file, how can I make a Polynomial instance for all of the pairings in the text file? DCNL EDIT: DCNL I now have this as my function: DCNL CODE DCNL It gives me the answer I'm looking for, however, the length of these text files can vary, so typing poly[1], poly[2] won't work. Is there a way I can go through each index no matter what the length is?\",\n",
       " \"PyQt yocto without x11 DCNL i build an embedded linux image which hasn't an x11 server. The QtDemo application (c++) runs well with QWS. DCNL For fast prototyping I build an an PyQT application and I tried to add python-pyqt package to my yocto image DCNL The problem is that this packages depends on x11 DCNL It is possible to configure this package that it will use QWS ? Or is this not possible? DCNL Thank you for your help DCNL regards Hunk\"]"
      ]
     },
     "execution_count": 25,
     "metadata": {},
     "output_type": "execute_result"
    }
   ],
   "source": [
    "df.text.sample(10).tolist()"
   ]
  },
  {
   "cell_type": "markdown",
   "metadata": {},
   "source": [
    "## Save"
   ]
  },
  {
   "cell_type": "code",
   "execution_count": 26,
   "metadata": {},
   "outputs": [],
   "source": [
    "args.save_path = 'stackoverflow_data.hdf5'"
   ]
  },
  {
   "cell_type": "code",
   "execution_count": 27,
   "metadata": {},
   "outputs": [
    {
     "name": "stdout",
     "output_type": "stream",
     "text": [
      "CPU times: user 692 ms, sys: 716 ms, total: 1.41 s\n",
      "Wall time: 1.76 s\n"
     ]
    }
   ],
   "source": [
    "%time df.to_hdf(args.save_path, 'df', mode='w', format='f', complevel=9)"
   ]
  },
  {
   "cell_type": "code",
   "execution_count": 28,
   "metadata": {},
   "outputs": [
    {
     "name": "stdout",
     "output_type": "stream",
     "text": [
      "300M\tstackoverflow_data.hdf5\r\n"
     ]
    }
   ],
   "source": [
    "!du -sh $args.save_path"
   ]
  },
  {
   "cell_type": "markdown",
   "metadata": {},
   "source": [
    "## End"
   ]
  },
  {
   "cell_type": "code",
   "execution_count": 29,
   "metadata": {},
   "outputs": [
    {
     "data": {
      "text/plain": [
       "{'data_kaggle_name': 'pythonquestions',\n",
       " 'log_step': 5000,\n",
       " 'save_path': 'stackoverflow_data.hdf5'}"
      ]
     },
     "execution_count": 29,
     "metadata": {},
     "output_type": "execute_result"
    }
   ],
   "source": [
    "args"
   ]
  }
 ],
 "metadata": {
  "kernelspec": {
   "display_name": "Python 3",
   "language": "python",
   "name": "python3"
  },
  "language_info": {
   "codemirror_mode": {
    "name": "ipython",
    "version": 3
   },
   "file_extension": ".py",
   "mimetype": "text/x-python",
   "name": "python",
   "nbconvert_exporter": "python",
   "pygments_lexer": "ipython3",
   "version": "3.6.4"
  }
 },
 "nbformat": 4,
 "nbformat_minor": 2
}
